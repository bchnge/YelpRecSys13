{
 "metadata": {
  "name": "dataProcess-rev2"
 },
 "nbformat": 3,
 "nbformat_minor": 0,
 "worksheets": [
  {
   "cells": [
    {
     "cell_type": "code",
     "collapsed": false,
     "input": [
      "import json\n",
      "import YelpRecSys13.src.data_util as du\n",
      "import YelpRecSys13.src.regression_methods as rm\n",
      "import sklearn.linear_model as linear\n",
      "import sklearn.cross_validation as cv\n",
      "import sklearn.ensemble as ensemble\n",
      "import pandas as pd\n",
      "import numpy as np\n",
      "import string\n",
      "import sklearn.mixture as mix"
     ],
     "language": "python",
     "metadata": {},
     "outputs": [],
     "prompt_number": 1
    },
    {
     "cell_type": "code",
     "collapsed": false,
     "input": [
      "TRAININGPATH = \"../data/raw/yelp_training_set/\"\n",
      "TESTPATH = \"../data/raw/yelp_test_set/\""
     ],
     "language": "python",
     "metadata": {},
     "outputs": [],
     "prompt_number": 2
    },
    {
     "cell_type": "heading",
     "level": 1,
     "metadata": {},
     "source": [
      "Read and process data"
     ]
    },
    {
     "cell_type": "code",
     "collapsed": false,
     "input": [
      "train_users = du.json2dataframe(TRAININGPATH + \"yelp_training_set_user.json\")\n",
      "train_businesses = du.json2dataframe(TRAININGPATH + \"yelp_training_set_business.json\")\n",
      "train_reviews = du.json2dataframe(TRAININGPATH + \"yelp_training_set_review.json\")\n",
      "train_checkins = du.checkin2dataframe(TRAININGPATH + \"yelp_training_set_checkin.json\")\n",
      "\n",
      "test_users = du.json2dataframe(TESTPATH + \"yelp_test_set_user.json\")\n",
      "test_businesses = du.json2dataframe(TESTPATH + \"yelp_test_set_business.json\")\n",
      "test_reviews = du.json2dataframe(TESTPATH + \"yelp_test_set_review.json\")\n",
      "test_checkins = du.checkin2dataframe(TESTPATH + \"yelp_test_set_checkin.json\")\n"
     ],
     "language": "python",
     "metadata": {},
     "outputs": [],
     "prompt_number": 3
    },
    {
     "cell_type": "code",
     "collapsed": false,
     "input": [
      "for hour in range(0,24):\n",
      "    for week in range(0,7):\n",
      "        train_checkins.rename(columns = {str(hour) + '-' + str(week) : 'chk_' + str(hour) + '-' + str(week)}, inplace = True)   \n",
      "        test_checkins.rename(columns = {str(hour) + '-' + str(week) : 'chk_' + str(hour) + '-' + str(week)}, inplace = True)   "
     ],
     "language": "python",
     "metadata": {},
     "outputs": [],
     "prompt_number": 4
    },
    {
     "cell_type": "code",
     "collapsed": false,
     "input": [
      "latenight = [23,0,1,2,3,4]\n",
      "morning = [5,6,7,8,9,10]\n",
      "afternoon = [11, 12, 13, 14, 15]\n",
      "evening = [16, 17, 18]\n",
      "night = [19, 20, 21, 22]\n"
     ],
     "language": "python",
     "metadata": {},
     "outputs": [],
     "prompt_number": 5
    },
    {
     "cell_type": "code",
     "collapsed": false,
     "input": [
      "train_checkins.fillna(value = 0, inplace = True)\n",
      "for h in latenight:\n",
      "    train_checkins['ln'] = train_checkins['chk_'+str(h)+'-0']\n",
      "    for d in arange(1,7):\n",
      "        train_checkins['ln'] = train_checkins['ln'] + train_checkins['chk_'+str(h)+'-'+str(d)]      \n",
      "for h in morning:\n",
      "    train_checkins['m'] = train_checkins['chk_'+str(h)+'-0']\n",
      "    for d in arange(1,7):\n",
      "        train_checkins['m'] = train_checkins['m'] + train_checkins['chk_'+str(h)+'-'+str(d)]\n",
      "for h in afternoon:\n",
      "    train_checkins['a'] = train_checkins['chk_'+str(h)+'-0']\n",
      "    for d in arange(1,7):\n",
      "        train_checkins['a'] = train_checkins['a'] + train_checkins['chk_'+str(h)+'-'+str(d)]\n",
      "for h in evening:\n",
      "    train_checkins['e'] = train_checkins['chk_'+str(h)+'-0']\n",
      "    for d in arange(1,7):\n",
      "        train_checkins['e'] = train_checkins['e'] + train_checkins['chk_'+str(h)+'-'+str(d)]\n",
      "for h in night:\n",
      "    train_checkins['n'] = train_checkins['chk_'+str(h)+'-0']\n",
      "    for d in arange(1,7):\n",
      "        train_checkins['n'] = train_checkins['n'] + train_checkins['chk_'+str(h)+'-'+str(d)]\n",
      "        \n",
      "for t in ['ln', 'm', 'a', 'e', 'n']:\n",
      "    train_checkins[t + '_rel'] = train_checkins[t] / (train_checkins.m + train_checkins.a + train_checkins.e + train_checkins.n + train_checkins.ln)\n",
      "train_checkins['total'] =   train_checkins.m + train_checkins.a + train_checkins.e + train_checkins.n + train_checkins.ln  \n",
      "\n",
      "\n",
      "test_checkins.fillna(value = 0, inplace = True)\n",
      "for h in latenight:\n",
      "    test_checkins['ln'] = test_checkins['chk_'+str(h)+'-0']\n",
      "    for d in arange(1,7):\n",
      "        test_checkins['ln'] = test_checkins['ln'] + test_checkins['chk_'+str(h)+'-'+str(d)]      \n",
      "for h in morning:\n",
      "    test_checkins['m'] = test_checkins['chk_'+str(h)+'-0']\n",
      "    for d in arange(1,7):\n",
      "        test_checkins['m'] = test_checkins['m'] + test_checkins['chk_'+str(h)+'-'+str(d)]\n",
      "for h in afternoon:\n",
      "    test_checkins['a'] = test_checkins['chk_'+str(h)+'-0']\n",
      "    for d in arange(1,7):\n",
      "        test_checkins['a'] = test_checkins['a'] + test_checkins['chk_'+str(h)+'-'+str(d)]\n",
      "for h in evening:\n",
      "    test_checkins['e'] = test_checkins['chk_'+str(h)+'-0']\n",
      "    for d in arange(1,7):\n",
      "        test_checkins['e'] = test_checkins['e'] + test_checkins['chk_'+str(h)+'-'+str(d)]\n",
      "for h in night:\n",
      "    test_checkins['n'] = test_checkins['chk_'+str(h)+'-0']\n",
      "    for d in arange(1,7):\n",
      "        test_checkins['n'] = test_checkins['n'] + test_checkins['chk_'+str(h)+'-'+str(d)]\n",
      "        \n",
      "for t in ['ln', 'm', 'a', 'e', 'n']:\n",
      "    test_checkins[t + '_rel'] = test_checkins[t] / (test_checkins.m + test_checkins.a + test_checkins.e + test_checkins.n + test_checkins.ln)\n",
      "test_checkins['total'] =   test_checkins.m + test_checkins.a + test_checkins.e + test_checkins.n + test_checkins.ln  \n",
      "\n"
     ],
     "language": "python",
     "metadata": {},
     "outputs": [],
     "prompt_number": 6
    },
    {
     "cell_type": "code",
     "collapsed": false,
     "input": [
      "train_users['user_in_training'] = pd.Series(ones(len(train_users)), index = train_users.index)\n",
      "train_businesses['business_in_training'] = pd.Series(ones(len(train_businesses)), index = train_businesses.index)\n",
      "\n",
      "train_businesses.rename(columns = {'stars':'average_stars_b'}, inplace = True)\n",
      "train_users.rename(columns = {'average_stars':'average_stars_u'}, inplace = True)\n",
      "\n",
      "for d in [train_users, test_users]:\n",
      "    d.rename(columns = {'review_count':'review_count_u'}, inplace = True)\n",
      "    d.rename(columns = {'name':'name_u'}, inplace = True)\n",
      "    \n",
      "for d in [train_businesses, test_businesses]:\n",
      "    d.rename(columns = {'review_count':'review_count_b'}, inplace = True)\n",
      "    \n"
     ],
     "language": "python",
     "metadata": {},
     "outputs": [],
     "prompt_number": 7
    },
    {
     "cell_type": "code",
     "collapsed": false,
     "input": [
      "TrainData = pd.merge(left = train_reviews, right = train_users, how = 'left', on = ['user_id'], suffixes = ['_rev','_u'])\n",
      "TrainData = pd.merge(left = TrainData, right = train_businesses, how = 'left', on = ['business_id'], suffixes = ['_rev', '_b'])\n",
      "TrainData = pd.merge(left = TrainData, right = train_checkins, how = 'left', on = ['business_id'])"
     ],
     "language": "python",
     "metadata": {},
     "outputs": [],
     "prompt_number": 8
    },
    {
     "cell_type": "code",
     "collapsed": false,
     "input": [
      "train_users = train_users.append(test_users)\n",
      "train_businesses = train_businesses.append(test_businesses)\n",
      "train_checkins = train_checkins.append(test_checkins)\n"
     ],
     "language": "python",
     "metadata": {},
     "outputs": [],
     "prompt_number": 9
    },
    {
     "cell_type": "code",
     "collapsed": false,
     "input": [
      "TestData = pd.merge(left = test_reviews, right = train_users, how = 'left', on = ['user_id'], suffixes = ['_rev','_u'])\n",
      "TestData = pd.merge(left = TestData, right = train_businesses, how = 'left', on = ['business_id'], suffixes = ['_rev', '_b'])\n",
      "TestData = pd.merge(left = TestData, right = train_checkins, how = 'left', on = ['business_id'])"
     ],
     "language": "python",
     "metadata": {},
     "outputs": [],
     "prompt_number": 10
    },
    {
     "cell_type": "code",
     "collapsed": false,
     "input": [
      "sex = pd.read_csv('../data/raw/TrainingMethods - Sex CSV.csv')\n",
      "sex.fillna('NA', inplace = True)\n",
      "sex['name_u'] = [string.capitalize(item) for item in sex.name_u]\n",
      "\n",
      "TrainData = pd.merge(left = TrainData, right = sex, how = 'left', on = ['name_u'])\n",
      "TestData = pd.merge(left = TestData, right = sex, how = 'left', on = ['name_u'])\n",
      "\n",
      "TrainData['sex'].fillna('DK', inplace = True)\n",
      "TestData['sex'].fillna('DK', inplace = True)\n"
     ],
     "language": "python",
     "metadata": {},
     "outputs": [],
     "prompt_number": 11
    },
    {
     "cell_type": "code",
     "collapsed": false,
     "input": [
      "TrainData.fillna(value = 0, inplace = True)\n",
      "\n",
      "TrainData['cool_rel'] = TrainData.cool_u / (TrainData.cool_u + TrainData.funny_u + TrainData.useful_u)\n",
      "TrainData['funny_rel'] = TrainData.funny_u / (TrainData.cool_u + TrainData.funny_u + TrainData.useful_u)\n",
      "TrainData['useful_rel'] = TrainData.useful_u / (TrainData.cool_u + TrainData.funny_u + TrainData.useful_u)"
     ],
     "language": "python",
     "metadata": {},
     "outputs": [],
     "prompt_number": 12
    },
    {
     "cell_type": "code",
     "collapsed": false,
     "input": [
      "TestData['datatype'] = pd.Series(index = TestData.index, dtype = unicode)"
     ],
     "language": "python",
     "metadata": {},
     "outputs": [],
     "prompt_number": 13
    },
    {
     "cell_type": "code",
     "collapsed": false,
     "input": [
      "user_yes = TestData.user_in_training == 1\n",
      "bus_yes = TestData.business_in_training == 1"
     ],
     "language": "python",
     "metadata": {},
     "outputs": [],
     "prompt_number": 14
    },
    {
     "cell_type": "code",
     "collapsed": false,
     "input": [
      "TestData['datatype'][user_yes &  ~bus_yes] = 'user only'\n",
      "TestData['datatype'][~user_yes &  ~bus_yes] = 'none'\n",
      "TestData['datatype'][~user_yes &  bus_yes] = 'business only'\n",
      "TestData['datatype'][user_yes &  bus_yes] = 'both'"
     ],
     "language": "python",
     "metadata": {},
     "outputs": [],
     "prompt_number": 15
    },
    {
     "cell_type": "code",
     "collapsed": false,
     "input": [
      "TestData.datatype.value_counts()"
     ],
     "language": "python",
     "metadata": {},
     "outputs": [
      {
       "output_type": "pyout",
       "prompt_number": 16,
       "text": [
        "user only        7679\n",
        "both             6168\n",
        "business only    6086\n",
        "none             3023\n",
        "dtype: int64"
       ]
      }
     ],
     "prompt_number": 16
    },
    {
     "cell_type": "code",
     "collapsed": false,
     "input": [
      "category =  []\n",
      "for i in TrainData.categories:\n",
      "    if len(i)!= 0:\n",
      "        category.append(i[-1])\n",
      "    else:\n",
      "        category.append(nan)\n",
      "TrainData['Primary_Category'] = pd.Series(category, index = TrainData.index)"
     ],
     "language": "python",
     "metadata": {},
     "outputs": [],
     "prompt_number": 17
    },
    {
     "cell_type": "code",
     "collapsed": false,
     "input": [
      "category =  []\n",
      "for i in TestData.categories:\n",
      "    if len(i)!= 0:\n",
      "        category.append(i[-1])\n",
      "    else:\n",
      "        category.append(nan)\n",
      "TestData['Primary_Category'] = pd.Series(category, index = TestData.index)"
     ],
     "language": "python",
     "metadata": {},
     "outputs": [],
     "prompt_number": 18
    },
    {
     "cell_type": "heading",
     "level": 2,
     "metadata": {},
     "source": [
      "Model testing"
     ]
    },
    {
     "cell_type": "code",
     "collapsed": false,
     "input": [
      "cl = mix.GMM(n_components = 4, random_state = 1)\n",
      "\n",
      "y_list = ['stars']\n",
      "x_list = ['total', 'ln_rel', 'm_rel', 'a_rel', 'e_rel', 'n_rel', 'sex', 'cool_u', 'useful_u', 'funny_u']\n",
      "\n",
      "\n",
      "y_train = du.constructData(TrainData, include_list = y_list)\n",
      "x_train = du.constructData(TrainData, include_list = x_list)\n",
      "x_train, y_train = du.combineIntersectXY(x_train, y_train)\n",
      "\n",
      "trained_cl = cl.fit(x_train)\n",
      "\n",
      "TrainData['class'] = pd.Series(trained_cl.predict(x_train), index = TrainData.index)\n"
     ],
     "language": "python",
     "metadata": {},
     "outputs": [],
     "prompt_number": 27
    },
    {
     "cell_type": "code",
     "collapsed": false,
     "input": [
      "cl."
     ],
     "language": "python",
     "metadata": {},
     "outputs": [
      {
       "ename": "TypeError",
       "evalue": "combine() takes at least 3 arguments (2 given)",
       "output_type": "pyerr",
       "traceback": [
        "\u001b[1;31m---------------------------------------------------------------------------\u001b[0m\n\u001b[1;31mTypeError\u001b[0m                                 Traceback (most recent call last)",
        "\u001b[1;32m<ipython-input-32-a54f023de62d>\u001b[0m in \u001b[0;36m<module>\u001b[1;34m()\u001b[0m\n\u001b[1;32m----> 1\u001b[1;33m \u001b[0mTrainData\u001b[0m\u001b[1;33m.\u001b[0m\u001b[0mcombine\u001b[0m\u001b[1;33m(\u001b[0m\u001b[0mpd\u001b[0m\u001b[1;33m.\u001b[0m\u001b[0mget_dummies\u001b[0m\u001b[1;33m(\u001b[0m\u001b[0mTrainData\u001b[0m\u001b[1;33m[\u001b[0m\u001b[1;34m'class'\u001b[0m\u001b[1;33m]\u001b[0m\u001b[1;33m)\u001b[0m\u001b[1;33m)\u001b[0m\u001b[1;33m\u001b[0m\u001b[0m\n\u001b[0m",
        "\u001b[1;31mTypeError\u001b[0m: combine() takes at least 3 arguments (2 given)"
       ]
      }
     ],
     "prompt_number": 32
    },
    {
     "cell_type": "code",
     "collapsed": false,
     "input": [
      "TrainData['class'].hist()"
     ],
     "language": "python",
     "metadata": {},
     "outputs": [
      {
       "output_type": "pyout",
       "prompt_number": 28,
       "text": [
        "<matplotlib.axes.AxesSubplot at 0x3e498c10>"
       ]
      },
      {
       "output_type": "display_data",
       "png": "[encoded data removed]"
      }
     ],
     "prompt_number": 28
    },
    {
     "cell_type": "code",
     "collapsed": false,
     "input": [
      "classifier = ensemble.GradientBoostingRegressor(n_estimators=1050, random_state=1, learning_rate = 0.1)"
     ],
     "language": "python",
     "metadata": {},
     "outputs": [],
     "prompt_number": 29
    },
    {
     "cell_type": "code",
     "collapsed": false,
     "input": [
      "y_train = du.constructData(TrainData, include_list = ['stars'])\n",
      "x_train = du.constructData(TrainData, include_list = ['review_count_u', 'review_count_b', 'average_stars_u', 'average_stars_b','total', 'ln_rel', 'm_rel', 'a_rel', 'e_rel', 'n_rel'])\n",
      "x_train, y_train = du.combineIntersectXY(x_train, y_train)\n",
      "\n",
      "print rm.evaluateModel(x_train, y_train, classifier)\n",
      "\n",
      "\n",
      "y_train = du.constructData(TrainData, include_list = ['stars'])\n",
      "x_train = du.constructData(TrainData, include_list = ['review_count_u', 'review_count_b', 'average_stars_u', 'average_stars_b','total', 'ln_rel', 'm_rel', 'a_rel', 'e_rel', 'n_rel', 'sex'])\n",
      "x_train, y_train = du.combineIntersectXY(x_train, y_train)\n",
      "\n",
      "print rm.evaluateModel(x_train, y_train, classifier)\n",
      "\n",
      "\n",
      "y_train = du.constructData(TrainData, include_list = ['stars'])\n",
      "x_train = du.constructData(TrainData, include_list = ['review_count_u', 'review_count_b', 'average_stars_u', 'average_stars_b','total', 'ln_rel', 'm_rel', 'a_rel', 'e_rel', 'n_rel', 'sex', 'cool_u', 'useful_u', 'funny_u'])\n",
      "x_train, y_train = du.combineIntersectXY(x_train, y_train)\n",
      "\n",
      "print rm.evaluateModel(x_train, y_train, classifier)\n",
      "\n",
      "y_train = du.constructData(TrainData, include_list = ['stars'])\n",
      "x_train = du.constructData(TrainData, include_list = ['review_count_u', 'review_count_b', 'average_stars_u', 'average_stars_b','total', 'ln_rel', 'm_rel', 'a_rel', 'e_rel', 'n_rel', 'sex', 'cool_u', 'useful_u', 'funny_u', 'class'])\n",
      "x_train, y_train = du.combineIntersectXY(x_train, y_train)\n",
      "\n",
      "print rm.evaluateModel(x_train, y_train, classifier)\n",
      "\n",
      "\n",
      "y_train = du.constructData(TrainData, include_list = ['stars'])\n",
      "x_train = du.constructData(TrainData, include_list = ['review_count_u', 'review_count_b', 'average_stars_u', 'average_stars_b', 'class'])\n",
      "x_train, y_train = du.combineIntersectXY(x_train, y_train)\n",
      "\n",
      "print rm.evaluateModel(x_train, y_train, classifier)\n"
     ],
     "language": "python",
     "metadata": {},
     "outputs": [
      {
       "ename": "KeyboardInterrupt",
       "evalue": "",
       "output_type": "pyerr",
       "traceback": [
        "\u001b[1;31m---------------------------------------------------------------------------\u001b[0m\n\u001b[1;31mKeyboardInterrupt\u001b[0m                         Traceback (most recent call last)",
        "\u001b[1;32m<ipython-input-30-91687b3dc037>\u001b[0m in \u001b[0;36m<module>\u001b[1;34m()\u001b[0m\n\u001b[0;32m      3\u001b[0m \u001b[0mx_train\u001b[0m\u001b[1;33m,\u001b[0m \u001b[0my_train\u001b[0m \u001b[1;33m=\u001b[0m \u001b[0mdu\u001b[0m\u001b[1;33m.\u001b[0m\u001b[0mcombineIntersectXY\u001b[0m\u001b[1;33m(\u001b[0m\u001b[0mx_train\u001b[0m\u001b[1;33m,\u001b[0m \u001b[0my_train\u001b[0m\u001b[1;33m)\u001b[0m\u001b[1;33m\u001b[0m\u001b[0m\n\u001b[0;32m      4\u001b[0m \u001b[1;33m\u001b[0m\u001b[0m\n\u001b[1;32m----> 5\u001b[1;33m \u001b[1;32mprint\u001b[0m \u001b[0mrm\u001b[0m\u001b[1;33m.\u001b[0m\u001b[0mevaluateModel\u001b[0m\u001b[1;33m(\u001b[0m\u001b[0mx_train\u001b[0m\u001b[1;33m,\u001b[0m \u001b[0my_train\u001b[0m\u001b[1;33m,\u001b[0m \u001b[0mclassifier\u001b[0m\u001b[1;33m)\u001b[0m\u001b[1;33m\u001b[0m\u001b[0m\n\u001b[0m\u001b[0;32m      6\u001b[0m \u001b[1;33m\u001b[0m\u001b[0m\n\u001b[0;32m      7\u001b[0m \u001b[1;33m\u001b[0m\u001b[0m\n",
        "\u001b[1;32m/home/ben/projects/YelpRecSys13/src/regression_methods.pyc\u001b[0m in \u001b[0;36mevaluateModel\u001b[1;34m(x, y, model, training_pct, randomstate)\u001b[0m\n\u001b[0;32m      8\u001b[0m \u001b[1;33m\u001b[0m\u001b[0m\n\u001b[0;32m      9\u001b[0m     \u001b[0mx_train\u001b[0m\u001b[1;33m,\u001b[0m \u001b[0mx_test\u001b[0m\u001b[1;33m,\u001b[0m \u001b[0my_train\u001b[0m\u001b[1;33m,\u001b[0m \u001b[0my_test\u001b[0m\u001b[1;33m=\u001b[0m \u001b[0mcv\u001b[0m\u001b[1;33m.\u001b[0m\u001b[0mtrain_test_split\u001b[0m\u001b[1;33m(\u001b[0m\u001b[0mx\u001b[0m\u001b[1;33m,\u001b[0m\u001b[0my\u001b[0m\u001b[1;33m,\u001b[0m \u001b[0mtrain_size\u001b[0m\u001b[1;33m=\u001b[0m\u001b[0mtraining_pct\u001b[0m\u001b[1;33m,\u001b[0m \u001b[0mrandom_state\u001b[0m \u001b[1;33m=\u001b[0m \u001b[0mrandomstate\u001b[0m\u001b[1;33m)\u001b[0m\u001b[1;33m\u001b[0m\u001b[0m\n\u001b[1;32m---> 10\u001b[1;33m     \u001b[0mfitted_model\u001b[0m \u001b[1;33m=\u001b[0m \u001b[0mmodel\u001b[0m\u001b[1;33m.\u001b[0m\u001b[0mfit\u001b[0m\u001b[1;33m(\u001b[0m\u001b[0mx_train\u001b[0m\u001b[1;33m,\u001b[0m \u001b[0my_train\u001b[0m\u001b[1;33m)\u001b[0m\u001b[1;33m\u001b[0m\u001b[0m\n\u001b[0m\u001b[0;32m     11\u001b[0m     \u001b[0my_fitted\u001b[0m \u001b[1;33m=\u001b[0m \u001b[0mmodel\u001b[0m\u001b[1;33m.\u001b[0m\u001b[0mpredict\u001b[0m\u001b[1;33m(\u001b[0m\u001b[0mx_test\u001b[0m\u001b[1;33m)\u001b[0m\u001b[1;33m\u001b[0m\u001b[0m\n\u001b[0;32m     12\u001b[0m     \u001b[0mrmse\u001b[0m \u001b[1;33m=\u001b[0m \u001b[1;33m(\u001b[0m\u001b[0mmetrics\u001b[0m\u001b[1;33m.\u001b[0m\u001b[0mmean_squared_error\u001b[0m\u001b[1;33m(\u001b[0m\u001b[0my_test\u001b[0m\u001b[1;33m,\u001b[0m \u001b[0my_fitted\u001b[0m\u001b[1;33m)\u001b[0m\u001b[1;33m)\u001b[0m\u001b[1;33m**\u001b[0m\u001b[1;36m0.5\u001b[0m\u001b[1;33m\u001b[0m\u001b[0m\n",
        "\u001b[1;32m/home/ben/anaconda/lib/python2.7/site-packages/sklearn/ensemble/gradient_boosting.pyc\u001b[0m in \u001b[0;36mfit\u001b[1;34m(self, X, y)\u001b[0m\n\u001b[0;32m   1092\u001b[0m         \"\"\"\n\u001b[0;32m   1093\u001b[0m         \u001b[0mself\u001b[0m\u001b[1;33m.\u001b[0m\u001b[0mn_classes_\u001b[0m \u001b[1;33m=\u001b[0m \u001b[1;36m1\u001b[0m\u001b[1;33m\u001b[0m\u001b[0m\n\u001b[1;32m-> 1094\u001b[1;33m         \u001b[1;32mreturn\u001b[0m \u001b[0msuper\u001b[0m\u001b[1;33m(\u001b[0m\u001b[0mGradientBoostingRegressor\u001b[0m\u001b[1;33m,\u001b[0m \u001b[0mself\u001b[0m\u001b[1;33m)\u001b[0m\u001b[1;33m.\u001b[0m\u001b[0mfit\u001b[0m\u001b[1;33m(\u001b[0m\u001b[0mX\u001b[0m\u001b[1;33m,\u001b[0m \u001b[0my\u001b[0m\u001b[1;33m)\u001b[0m\u001b[1;33m\u001b[0m\u001b[0m\n\u001b[0m\u001b[0;32m   1095\u001b[0m \u001b[1;33m\u001b[0m\u001b[0m\n\u001b[0;32m   1096\u001b[0m     \u001b[1;32mdef\u001b[0m \u001b[0mpredict\u001b[0m\u001b[1;33m(\u001b[0m\u001b[0mself\u001b[0m\u001b[1;33m,\u001b[0m \u001b[0mX\u001b[0m\u001b[1;33m)\u001b[0m\u001b[1;33m:\u001b[0m\u001b[1;33m\u001b[0m\u001b[0m\n",
        "\u001b[1;32m/home/ben/anaconda/lib/python2.7/site-packages/sklearn/ensemble/gradient_boosting.pyc\u001b[0m in \u001b[0;36mfit\u001b[1;34m(self, X, y)\u001b[0m\n\u001b[0;32m    612\u001b[0m             \u001b[1;31m# fit next stage of trees\u001b[0m\u001b[1;33m\u001b[0m\u001b[1;33m\u001b[0m\u001b[0m\n\u001b[0;32m    613\u001b[0m             y_pred = self._fit_stage(i, X, X_argsorted, y, y_pred, sample_mask,\n\u001b[1;32m--> 614\u001b[1;33m                                      random_state)\n\u001b[0m\u001b[0;32m    615\u001b[0m \u001b[1;33m\u001b[0m\u001b[0m\n\u001b[0;32m    616\u001b[0m             \u001b[1;31m# track deviance (= loss)\u001b[0m\u001b[1;33m\u001b[0m\u001b[1;33m\u001b[0m\u001b[0m\n",
        "\u001b[1;32m/home/ben/anaconda/lib/python2.7/site-packages/sklearn/ensemble/gradient_boosting.pyc\u001b[0m in \u001b[0;36m_fit_stage\u001b[1;34m(self, i, X, X_argsorted, y, y_pred, sample_mask, random_state)\u001b[0m\n\u001b[0;32m    486\u001b[0m                 random_state=random_state)\n\u001b[0;32m    487\u001b[0m \u001b[1;33m\u001b[0m\u001b[0m\n\u001b[1;32m--> 488\u001b[1;33m             \u001b[0mtree\u001b[0m\u001b[1;33m.\u001b[0m\u001b[0mfit\u001b[0m\u001b[1;33m(\u001b[0m\u001b[0mX\u001b[0m\u001b[1;33m,\u001b[0m \u001b[0mresidual\u001b[0m\u001b[1;33m,\u001b[0m \u001b[0msample_mask\u001b[0m\u001b[1;33m,\u001b[0m \u001b[0mX_argsorted\u001b[0m\u001b[1;33m,\u001b[0m \u001b[0mcheck_input\u001b[0m\u001b[1;33m=\u001b[0m\u001b[0mFalse\u001b[0m\u001b[1;33m)\u001b[0m\u001b[1;33m\u001b[0m\u001b[0m\n\u001b[0m\u001b[0;32m    489\u001b[0m \u001b[1;33m\u001b[0m\u001b[0m\n\u001b[0;32m    490\u001b[0m             \u001b[1;31m# update tree leaves\u001b[0m\u001b[1;33m\u001b[0m\u001b[1;33m\u001b[0m\u001b[0m\n",
        "\u001b[1;32m/home/ben/anaconda/lib/python2.7/site-packages/sklearn/tree/tree.pyc\u001b[0m in \u001b[0;36mfit\u001b[1;34m(self, X, y, sample_mask, X_argsorted, check_input, sample_weight)\u001b[0m\n\u001b[0;32m    350\u001b[0m                          \u001b[0msample_weight\u001b[0m\u001b[1;33m=\u001b[0m\u001b[0msample_weight\u001b[0m\u001b[1;33m,\u001b[0m\u001b[1;33m\u001b[0m\u001b[0m\n\u001b[0;32m    351\u001b[0m                          \u001b[0msample_mask\u001b[0m\u001b[1;33m=\u001b[0m\u001b[0msample_mask\u001b[0m\u001b[1;33m,\u001b[0m\u001b[1;33m\u001b[0m\u001b[0m\n\u001b[1;32m--> 352\u001b[1;33m                          X_argsorted=X_argsorted)\n\u001b[0m\u001b[0;32m    353\u001b[0m \u001b[1;33m\u001b[0m\u001b[0m\n\u001b[0;32m    354\u001b[0m         \u001b[1;32mif\u001b[0m \u001b[0mself\u001b[0m\u001b[1;33m.\u001b[0m\u001b[0mn_outputs_\u001b[0m \u001b[1;33m==\u001b[0m \u001b[1;36m1\u001b[0m\u001b[1;33m:\u001b[0m\u001b[1;33m\u001b[0m\u001b[0m\n",
        "\u001b[1;31mKeyboardInterrupt\u001b[0m: "
       ]
      }
     ],
     "prompt_number": 30
    },
    {
     "cell_type": "code",
     "collapsed": false,
     "input": [
      "y_train = du.constructData(TrainData, include_list = ['stars'])\n",
      "x_train = du.constructData(TrainData, include_list = ['review_count_u', 'review_count_b', 'average_stars_u', 'average_stars_b','cool_u', 'useful_u', 'funny_u'])\n",
      "x_train, y_train = du.combineIntersectXY(x_train, y_train)\n",
      "\n",
      "print rm.evaluateModel(x_train, y_train, classifier)\n"
     ],
     "language": "python",
     "metadata": {},
     "outputs": [
      {
       "output_type": "stream",
       "stream": "stdout",
       "text": [
        "0.967439538611\n"
       ]
      }
     ],
     "prompt_number": 57
    },
    {
     "cell_type": "code",
     "collapsed": false,
     "input": [
      "y_train = du.constructData(TrainData, include_list = ['stars'])\n",
      "x_train = du.constructData(TrainData, include_list = ['review_count_u', 'review_count_b', 'average_stars_u', 'average_stars_b','cool_u', 'useful_u', 'funny_u', 'city'])\n",
      "x_train, y_train = du.combineIntersectXY(x_train, y_train)\n",
      "\n",
      "print rm.evaluateModel(x_train, y_train, classifier)\n"
     ],
     "language": "python",
     "metadata": {},
     "outputs": [
      {
       "output_type": "stream",
       "stream": "stdout",
       "text": [
        "0.968235157922\n"
       ]
      }
     ],
     "prompt_number": 59
    },
    {
     "cell_type": "heading",
     "level": 2,
     "metadata": {},
     "source": [
      "Final Trainer"
     ]
    },
    {
     "cell_type": "code",
     "collapsed": false,
     "input": [
      "x_list = ['review_count_b', 'review_count_u', 'average_stars_u', 'average_stars_b', 'total', 'ln_rel', 'm_rel', 'a_rel', 'e_rel', 'n_rel' ]\n",
      "y_list = ['stars']\n"
     ],
     "language": "python",
     "metadata": {},
     "outputs": []
    },
    {
     "cell_type": "code",
     "collapsed": false,
     "input": [
      "y_train = du.constructData(TrainData, include_list = y_list)\n",
      "x_train = du.constructData(TrainData, include_list = x_list)\n",
      "x_train, y_train = du.combineIntersectXY(x_train, y_train)\n",
      "        \n",
      "trained_classifier = classifier.fit(X = x_train, y = y_train)"
     ],
     "language": "python",
     "metadata": {},
     "outputs": [],
     "prompt_number": 28
    },
    {
     "cell_type": "heading",
     "level": 2,
     "metadata": {},
     "source": [
      "Final Testing and submission"
     ]
    },
    {
     "cell_type": "code",
     "collapsed": false,
     "input": [
      "TestData_imp = du.imputer(TrainData, TestData, impute_vars = x_list.extend(y_list), by_var = 'Primary_Category',  mean = False)\n",
      "                       "
     ],
     "language": "python",
     "metadata": {},
     "outputs": [],
     "prompt_number": 18
    },
    {
     "cell_type": "code",
     "collapsed": false,
     "input": [
      "for var in xlist:\n",
      "    TestData_imp[var].fillna(TestData_imp['imp_' + var], inplace = True)"
     ],
     "language": "python",
     "metadata": {},
     "outputs": [],
     "prompt_number": 26
    },
    {
     "cell_type": "code",
     "collapsed": false,
     "input": [
      "x_test = du.constructData(TestData_imp, include_list = x_list)"
     ],
     "language": "python",
     "metadata": {},
     "outputs": [],
     "prompt_number": 29
    },
    {
     "cell_type": "code",
     "collapsed": false,
     "input": [
      "y_hat = du.rescale(trained_classifier.predict(x_test), 1, 5)"
     ],
     "language": "python",
     "metadata": {},
     "outputs": [],
     "prompt_number": 30
    },
    {
     "cell_type": "code",
     "collapsed": false,
     "input": [
      "submission = pd.DataFrame(index = TestData.index)\n",
      "submission['user_id'] = TestData['user_id']\n",
      "submission['business_id'] = TestData['business_id']\n",
      "submission['stars'] = pd.Series(y_hat)"
     ],
     "language": "python",
     "metadata": {},
     "outputs": [],
     "prompt_number": 31
    },
    {
     "cell_type": "code",
     "collapsed": false,
     "input": [
      "key = pd.read_csv('../data/raw/IdLookupTable.csv')"
     ],
     "language": "python",
     "metadata": {},
     "outputs": [],
     "prompt_number": 32
    },
    {
     "cell_type": "code",
     "collapsed": false,
     "input": [
      "submission = pd.merge(left = key, right = submission, on = ['business_id','user_id'], how = 'left')\n",
      "del submission['user_id']\n",
      "del submission['business_id']"
     ],
     "language": "python",
     "metadata": {},
     "outputs": [],
     "prompt_number": 33
    },
    {
     "cell_type": "code",
     "collapsed": false,
     "input": [
      "submission.sort('RecommendationId', inplace = True)"
     ],
     "language": "python",
     "metadata": {},
     "outputs": [],
     "prompt_number": 34
    },
    {
     "cell_type": "code",
     "collapsed": false,
     "input": [
      "submission.to_csv(\"../data/processed/submission_2013-07-05_b.csv\", index = False)"
     ],
     "language": "python",
     "metadata": {},
     "outputs": [],
     "prompt_number": 35
    }
   ],
   "metadata": {}
  }
 ]
}