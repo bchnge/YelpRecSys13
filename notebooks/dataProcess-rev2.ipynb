{
 "metadata": {
  "name": "dataProcess-rev2"
 },
 "nbformat": 3,
 "nbformat_minor": 0,
 "worksheets": [
  {
   "cells": [
    {
     "cell_type": "code",
     "collapsed": false,
     "input": [
      "import json\n",
      "import YelpRecSys13.src.data_util as du\n",
      "import YelpRecSys13.src.regression_methods as rm\n",
      "import sklearn.linear_model as linear\n",
      "import sklearn.cross_validation as cv\n",
      "import sklearn.ensemble as ensemble\n",
      "import pandas as pd\n",
      "import numpy as np\n",
      "import string"
     ],
     "language": "python",
     "metadata": {},
     "outputs": [],
     "prompt_number": 1
    },
    {
     "cell_type": "code",
     "collapsed": false,
     "input": [
      "TRAININGPATH = \"../data/raw/yelp_training_set/\"\n",
      "TESTPATH = \"../data/raw/yelp_test_set/\""
     ],
     "language": "python",
     "metadata": {},
     "outputs": [],
     "prompt_number": 2
    },
    {
     "cell_type": "heading",
     "level": 1,
     "metadata": {},
     "source": [
      "Read in data"
     ]
    },
    {
     "cell_type": "code",
     "collapsed": false,
     "input": [
      "train_users = du.json2dataframe(TRAININGPATH + \"yelp_training_set_user.json\")\n",
      "train_businesses = du.json2dataframe(TRAININGPATH + \"yelp_training_set_business.json\")\n",
      "train_reviews = du.json2dataframe(TRAININGPATH + \"yelp_training_set_review.json\")\n",
      "train_checkins = du.checkin2dataframe(TRAININGPATH + \"yelp_training_set_checkin.json\")\n",
      "\n",
      "test_users = du.json2dataframe(TESTPATH + \"yelp_test_set_user.json\")\n",
      "test_businesses = du.json2dataframe(TESTPATH + \"yelp_test_set_business.json\")\n",
      "test_reviews = du.json2dataframe(TESTPATH + \"yelp_test_set_review.json\")\n",
      "test_checkins = du.checkin2dataframe(TESTPATH + \"yelp_test_set_checkin.json\")\n"
     ],
     "language": "python",
     "metadata": {},
     "outputs": [],
     "prompt_number": 3
    },
    {
     "cell_type": "code",
     "collapsed": false,
     "input": [
      "for hour in range(0,24):\n",
      "    for week in range(0,7):\n",
      "        train_checkins.rename(columns = {str(hour) + '-' + str(week) : 'chk_' + str(hour) + '-' + str(week)}, inplace = True)   \n",
      "        test_checkins.rename(columns = {str(hour) + '-' + str(week) : 'chk_' + str(hour) + '-' + str(week)}, inplace = True)   "
     ],
     "language": "python",
     "metadata": {},
     "outputs": [],
     "prompt_number": 4
    },
    {
     "cell_type": "code",
     "collapsed": false,
     "input": [
      "latenight = [23,0,1,2,3,4]\n",
      "morning = [5,6,7,8,9,10]\n",
      "afternoon = [11, 12, 13, 14, 15]\n",
      "evening = [16, 17, 18]\n",
      "night = [19, 20, 21, 22]\n",
      "\n",
      "\n"
     ],
     "language": "python",
     "metadata": {},
     "outputs": [],
     "prompt_number": 5
    },
    {
     "cell_type": "code",
     "collapsed": false,
     "input": [
      "train_checkins.fillna(value = 0, inplace = True)\n",
      "for h in latenight:\n",
      "    train_checkins['ln'] = train_checkins['chk_'+str(h)+'-0']\n",
      "    for d in arange(1,7):\n",
      "        train_checkins['ln'] = train_checkins['ln'] + train_checkins['chk_'+str(h)+'-'+str(d)]      \n",
      "for h in morning:\n",
      "    train_checkins['m'] = train_checkins['chk_'+str(h)+'-0']\n",
      "    for d in arange(1,7):\n",
      "        train_checkins['m'] = train_checkins['m'] + train_checkins['chk_'+str(h)+'-'+str(d)]\n",
      "for h in afternoon:\n",
      "    train_checkins['a'] = train_checkins['chk_'+str(h)+'-0']\n",
      "    for d in arange(1,7):\n",
      "        train_checkins['a'] = train_checkins['a'] + train_checkins['chk_'+str(h)+'-'+str(d)]\n",
      "for h in evening:\n",
      "    train_checkins['e'] = train_checkins['chk_'+str(h)+'-0']\n",
      "    for d in arange(1,7):\n",
      "        train_checkins['e'] = train_checkins['e'] + train_checkins['chk_'+str(h)+'-'+str(d)]\n",
      "for h in night:\n",
      "    train_checkins['n'] = train_checkins['chk_'+str(h)+'-0']\n",
      "    for d in arange(1,7):\n",
      "        train_checkins['n'] = train_checkins['n'] + train_checkins['chk_'+str(h)+'-'+str(d)]\n",
      "        \n",
      "for t in ['ln', 'm', 'a', 'e', 'n']:\n",
      "    train_checkins[t + '_rel'] = train_checkins[t] / (train_checkins.m + train_checkins.a + train_checkins.e + train_checkins.n + train_checkins.ln)\n",
      "train_checkins['total'] =   train_checkins.m + train_checkins.a + train_checkins.e + train_checkins.n + train_checkins.ln  \n",
      "\n",
      "\n",
      "test_checkins.fillna(value = 0, inplace = True)\n",
      "for h in latenight:\n",
      "    test_checkins['ln'] = test_checkins['chk_'+str(h)+'-0']\n",
      "    for d in arange(1,7):\n",
      "        test_checkins['ln'] = test_checkins['ln'] + test_checkins['chk_'+str(h)+'-'+str(d)]      \n",
      "for h in morning:\n",
      "    test_checkins['m'] = test_checkins['chk_'+str(h)+'-0']\n",
      "    for d in arange(1,7):\n",
      "        test_checkins['m'] = test_checkins['m'] + test_checkins['chk_'+str(h)+'-'+str(d)]\n",
      "for h in afternoon:\n",
      "    test_checkins['a'] = test_checkins['chk_'+str(h)+'-0']\n",
      "    for d in arange(1,7):\n",
      "        test_checkins['a'] = test_checkins['a'] + test_checkins['chk_'+str(h)+'-'+str(d)]\n",
      "for h in evening:\n",
      "    test_checkins['e'] = test_checkins['chk_'+str(h)+'-0']\n",
      "    for d in arange(1,7):\n",
      "        test_checkins['e'] = test_checkins['e'] + test_checkins['chk_'+str(h)+'-'+str(d)]\n",
      "for h in night:\n",
      "    test_checkins['n'] = test_checkins['chk_'+str(h)+'-0']\n",
      "    for d in arange(1,7):\n",
      "        test_checkins['n'] = test_checkins['n'] + test_checkins['chk_'+str(h)+'-'+str(d)]\n",
      "        \n",
      "for t in ['ln', 'm', 'a', 'e', 'n']:\n",
      "    test_checkins[t + '_rel'] = test_checkins[t] / (test_checkins.m + test_checkins.a + test_checkins.e + test_checkins.n + test_checkins.ln)\n",
      "test_checkins['total'] =   test_checkins.m + test_checkins.a + test_checkins.e + test_checkins.n + test_checkins.ln  \n",
      "\n"
     ],
     "language": "python",
     "metadata": {},
     "outputs": [],
     "prompt_number": 6
    },
    {
     "cell_type": "code",
     "collapsed": false,
     "input": [
      "train_users['user_in_training'] = pd.Series(ones(len(train_users)), index = train_users.index)\n",
      "train_businesses['business_in_training'] = pd.Series(ones(len(train_businesses)), index = train_businesses.index)\n",
      "\n",
      "train_businesses.rename(columns = {'stars':'average_stars_b'}, inplace = True)\n",
      "train_users.rename(columns = {'average_stars':'average_stars_u'}, inplace = True)\n",
      "\n",
      "for d in [train_users, test_users]:\n",
      "    d.rename(columns = {'review_count':'review_count_u'}, inplace = True)\n",
      "    d.rename(columns = {'name':'name_u'}, inplace = True)\n",
      "    \n",
      "for d in [train_businesses, test_businesses]:\n",
      "    d.rename(columns = {'review_count':'review_count_b'}, inplace = True)\n",
      "    \n"
     ],
     "language": "python",
     "metadata": {},
     "outputs": [],
     "prompt_number": 7
    },
    {
     "cell_type": "code",
     "collapsed": false,
     "input": [
      "TrainData = pd.merge(left = train_reviews, right = train_users, how = 'left', on = ['user_id'], suffixes = ['_rev','_u'])\n",
      "TrainData = pd.merge(left = TrainData, right = train_businesses, how = 'left', on = ['business_id'], suffixes = ['_rev', '_b'])\n",
      "TrainData = pd.merge(left = TrainData, right = train_checkins, how = 'left', on = ['business_id'])"
     ],
     "language": "python",
     "metadata": {},
     "outputs": [],
     "prompt_number": 8
    },
    {
     "cell_type": "code",
     "collapsed": false,
     "input": [
      "train_users = train_users.append(test_users)\n",
      "train_businesses = train_businesses.append(test_businesses)\n",
      "train_checkins = train_checkins.append(test_checkins)\n"
     ],
     "language": "python",
     "metadata": {},
     "outputs": [],
     "prompt_number": 9
    },
    {
     "cell_type": "code",
     "collapsed": false,
     "input": [
      "TestData = pd.merge(left = test_reviews, right = train_users, how = 'left', on = ['user_id'], suffixes = ['_rev','_u'])\n",
      "TestData = pd.merge(left = TestData, right = train_businesses, how = 'left', on = ['business_id'], suffixes = ['_rev', '_b'])\n",
      "TestData = pd.merge(left = TestData, right = train_checkins, how = 'left', on = ['business_id'])"
     ],
     "language": "python",
     "metadata": {},
     "outputs": [],
     "prompt_number": 10
    },
    {
     "cell_type": "code",
     "collapsed": false,
     "input": [
      "sex = pd.read_csv('../data/raw/TrainingMethods - Sex CSV.csv')\n",
      "sex.fillna('NA', inplace = True)\n",
      "sex['name_u'] = [string.capitalize(item) for item in sex.name_u]\n",
      "\n",
      "TrainData = pd.merge(left = TrainData, right = sex, how = 'left', on = ['name_u'])\n",
      "TestData = pd.merge(left = TestData, right = sex, how = 'left', on = ['name_u'])\n",
      "\n",
      "TrainData['sex'].fillna('DK', inplace = True)\n",
      "TestData['sex'].fillna('DK', inplace = True)\n"
     ],
     "language": "python",
     "metadata": {},
     "outputs": [],
     "prompt_number": 11
    },
    {
     "cell_type": "code",
     "collapsed": false,
     "input": [
      "TestData['datatype'] = pd.Series(index = TestData.index, dtype = unicode)"
     ],
     "language": "python",
     "metadata": {},
     "outputs": [],
     "prompt_number": 12
    },
    {
     "cell_type": "code",
     "collapsed": false,
     "input": [
      "user_yes = TestData.user_in_training == 1\n",
      "bus_yes = TestData.business_in_training == 1"
     ],
     "language": "python",
     "metadata": {},
     "outputs": [],
     "prompt_number": 13
    },
    {
     "cell_type": "code",
     "collapsed": false,
     "input": [
      "TestData['datatype'][user_yes &  ~bus_yes] = 'user only'\n",
      "TestData['datatype'][~user_yes &  ~bus_yes] = 'none'\n",
      "TestData['datatype'][~user_yes &  bus_yes] = 'business only'\n",
      "TestData['datatype'][user_yes &  bus_yes] = 'both'"
     ],
     "language": "python",
     "metadata": {},
     "outputs": [],
     "prompt_number": 14
    },
    {
     "cell_type": "code",
     "collapsed": false,
     "input": [
      "TestData.datatype.value_counts()"
     ],
     "language": "python",
     "metadata": {},
     "outputs": [
      {
       "output_type": "pyout",
       "prompt_number": 15,
       "text": [
        "user only        7679\n",
        "both             6168\n",
        "business only    6086\n",
        "none             3023\n",
        "dtype: int64"
       ]
      }
     ],
     "prompt_number": 15
    },
    {
     "cell_type": "code",
     "collapsed": false,
     "input": [
      "category =  []\n",
      "for i in TrainData.categories:\n",
      "    if len(i)!= 0:\n",
      "        category.append(i[-1])\n",
      "    else:\n",
      "        category.append(nan)\n",
      "TrainData['Primary_Category'] = pd.Series(category, index = TrainData.index)"
     ],
     "language": "python",
     "metadata": {},
     "outputs": [],
     "prompt_number": 16
    },
    {
     "cell_type": "code",
     "collapsed": false,
     "input": [
      "category =  []\n",
      "for i in TestData.categories:\n",
      "    if len(i)!= 0:\n",
      "        category.append(i[-1])\n",
      "    else:\n",
      "        category.append(nan)\n",
      "TestData['Primary_Category'] = pd.Series(category, index = TestData.index)"
     ],
     "language": "python",
     "metadata": {},
     "outputs": [],
     "prompt_number": 17
    },
    {
     "cell_type": "code",
     "collapsed": false,
     "input": [
      "TestData_imp = du.imputer(TrainData, TestData, impute_vars = ['review_count_b', 'review_count_u', 'average_stars_u', 'average_stars_b', 'stars'], by_var = 'Primary_Category',  mean = False)\n",
      "TestData_imp = du.imputer(TrainData, TestData_imp, impute_vars = ['total', 'ln_rel', 'm_rel', 'a_rel', 'e_rel', 'n_rel'], by_var = 'Primary_Category', mean = True)\n",
      "                          "
     ],
     "language": "python",
     "metadata": {},
     "outputs": [],
     "prompt_number": 18
    },
    {
     "cell_type": "code",
     "collapsed": false,
     "input": [
      "def optimizeK(dataframe, ylist, xlist, minval = 200, maxval = 1000, ticksize=100 ):\n",
      "    \"\"\" choose the optimal number of estimators for a Gradient boosting Regressor classifier\n",
      "dataframe: dataset we are working with\n",
      "ylist: list of dep var\n",
      "xlist: list of indep vars\n",
      "\n",
      "minval: minimum number of estimators to test for\n",
      "maxval: maximum number of estimators to test for\n",
      "ticksize: step size for testing\n",
      "\n",
      "\"\"\"\n",
      "    \n",
      "    K_vals = arange(minval, maxval + ticksize, step = ticksize)\n",
      "    y = du.constructData(dataframe, include_list = ylist)\n",
      "    x = du.constructData(dataframe, include_list = xlist)\n",
      "    x,y = du.combineIntersectXY(x,y)\n",
      "\n",
      "    optimal_K = 0\n",
      "    optimal_rmse = 99999\n",
      "    \n",
      "    resulttable = []\n",
      "    run = 0\n",
      "    for val in K_vals:\n",
      "        run+=1\n",
      "        classifier = ensemble.GradientBoostingRegressor(random_state = 1, n_estimators=val, learning_rate = 0.05)\n",
      "        rmse = rm.evaluateModel(x,y,classifier)\n",
      "        resulttable.append([run,val,rmse])\n",
      "        if rmse < optimal_rmse:\n",
      "            optimal_K = val\n",
      "            optimal_rmse = rmse\n",
      "    print resulttable        \n",
      "    return optimal_K, resulttable\n",
      "        "
     ],
     "language": "python",
     "metadata": {},
     "outputs": [],
     "prompt_number": 19
    },
    {
     "cell_type": "code",
     "collapsed": false,
     "input": [
      "def optimizeLearn(dataframe, ylist, xlist, minval = 0.05, maxval = 0.5, ticksize=0.05 ):\n",
      "    \"\"\" choose the optimal number of estimators for a Gradient boosting Regressor classifier\n",
      "dataframe: dataset we are working with\n",
      "ylist: list of dep var\n",
      "xlist: list of indep vars\n",
      "\n",
      "minval: minimum number of estimators to test for\n",
      "maxval: maximum number of estimators to test for\n",
      "ticksize: step size for testing\n",
      "\n",
      "\"\"\"\n",
      "    \n",
      "    K_vals = arange(minval, maxval + ticksize, step = ticksize)\n",
      "    y = du.constructData(dataframe, include_list = ylist)\n",
      "    x = du.constructData(dataframe, include_list = xlist)\n",
      "    x,y = du.combineIntersectXY(x,y)\n",
      "\n",
      "    optimal_K = 0\n",
      "    optimal_rmse = 99999\n",
      "    \n",
      "    resulttable = []\n",
      "    run = 0\n",
      "    for val in K_vals:\n",
      "        run+=1\n",
      "        classifier = ensemble.GradientBoostingRegressor(random_state = 1, n_estimators=810, learning_rate=val)\n",
      "        rmse = rm.evaluateModel(x,y,classifier)\n",
      "        resulttable.append([run,val,rmse])\n",
      "        if rmse < optimal_rmse:\n",
      "            optimal_K = val\n",
      "            optimal_rmse = rmse\n",
      "    print resulttable        \n",
      "    return optimal_K, resulttable"
     ],
     "language": "python",
     "metadata": {},
     "outputs": [],
     "prompt_number": 20
    },
    {
     "cell_type": "code",
     "collapsed": false,
     "input": [
      "TrainData.fillna(value = 0, inplace = True)\n",
      "\n",
      "TrainData['cool_rel'] = TrainData.cool_u / (TrainData.cool_u + TrainData.funny_u + TrainData.useful_u)\n",
      "TrainData['funny_rel'] = TrainData.funny_u / (TrainData.cool_u + TrainData.funny_u + TrainData.useful_u)\n",
      "TrainData['useful_rel'] = TrainData.useful_u / (TrainData.cool_u + TrainData.funny_u + TrainData.useful_u)"
     ],
     "language": "python",
     "metadata": {},
     "outputs": [],
     "prompt_number": 51
    },
    {
     "cell_type": "code",
     "collapsed": false,
     "input": [
      "TrainData['funny_rel'].hist()"
     ],
     "language": "python",
     "metadata": {},
     "outputs": [
      {
       "output_type": "pyout",
       "prompt_number": 62,
       "text": [
        "<matplotlib.axes.AxesSubplot at 0x5193a910>"
       ]
      },
      {
       "output_type": "display_data",
       "png": "[encoded data removed]"
      }
     ],
     "prompt_number": 62
    },
    {
     "cell_type": "code",
     "collapsed": false,
     "input": [
      "k, result = optimizeK(TrainData, ['stars'], ['review_count_b', 'review_count_u', 'average_stars_u', 'average_stars_b', 'total', 'ln_rel', 'm_rel', 'a_rel', 'e_rel', 'n_rel' ], minval = 1000, maxval = 1100, ticksize = 10)"
     ],
     "language": "python",
     "metadata": {},
     "outputs": [
      {
       "output_type": "stream",
       "stream": "stdout",
       "text": [
        "[[1, 1000, 0.95709136391000305], [2, 1010, 0.9570847116247474], [3, 1020, 0.95709819801136109], [4, 1030, 0.95712403761239095], [5, 1040, 0.95710201963971608], [6, 1050, 0.95707889091574017], [7, 1060, 0.95710138750185247], [8, 1070, 0.95710552763264267], [9, 1080, 0.95712201895676885], [10, 1090, 0.95713093509962499], [11, 1100, 0.9571281960648621]]\n"
       ]
      }
     ],
     "prompt_number": 23
    },
    {
     "cell_type": "code",
     "collapsed": false,
     "input": [
      "TestData_imp.funny.value_counts()"
     ],
     "language": "python",
     "metadata": {},
     "outputs": [
      {
       "output_type": "pyout",
       "prompt_number": 44,
       "text": [
        "0     1786\n",
        "1     1207\n",
        "2      838\n",
        "3      689\n",
        "4      504\n",
        "6      432\n",
        "5      394\n",
        "8      330\n",
        "9      268\n",
        "7      264\n",
        "10     238\n",
        "11     210\n",
        "17     176\n",
        "13     158\n",
        "14     155\n",
        "...\n",
        "1035    1\n",
        "1002    1\n",
        "188     1\n",
        "186     1\n",
        "815     1\n",
        "383     1\n",
        "182     1\n",
        "904     1\n",
        "895     1\n",
        "388     1\n",
        "888     1\n",
        "390     1\n",
        "172     1\n",
        "824     1\n",
        "304     1\n",
        "Length: 446, dtype: int64"
       ]
      }
     ],
     "prompt_number": 44
    },
    {
     "cell_type": "code",
     "collapsed": false,
     "input": [
      "k"
     ],
     "language": "python",
     "metadata": {},
     "outputs": [
      {
       "output_type": "pyout",
       "prompt_number": 25,
       "text": [
        "1050"
       ]
      }
     ],
     "prompt_number": 25
    },
    {
     "cell_type": "code",
     "collapsed": false,
     "input": [
      "for var in ['review_count_b', 'review_count_u', 'average_stars_u', 'average_stars_b', 'total', 'ln_rel', 'm_rel', 'a_rel', 'e_rel', 'n_rel' ]:\n",
      "    TestData_imp[var].fillna(TestData_imp['imp_' + var], inplace = True)"
     ],
     "language": "python",
     "metadata": {},
     "outputs": [],
     "prompt_number": 26
    },
    {
     "cell_type": "code",
     "collapsed": false,
     "input": [
      "classifier = ensemble.GradientBoostingRegressor(n_estimators=1050, random_state=1, learning_rate = 0.1)"
     ],
     "language": "python",
     "metadata": {},
     "outputs": [],
     "prompt_number": 47
    },
    {
     "cell_type": "code",
     "collapsed": false,
     "input": [
      "TrainData.columns"
     ],
     "language": "python",
     "metadata": {},
     "outputs": [
      {
       "output_type": "pyout",
       "prompt_number": 49,
       "text": [
        "Index([user_id, review_id, text, business_id, stars, date, type_rev, funny_rev, useful_rev, cool_rev, review_count_u, name_u, average_stars_u, type_u, funny_u, useful_u, cool_u, user_in_training, city, review_count_b, name, neighborhoods, type_x, full_address, state, longitude, average_stars_b, latitude, open, categories, business_in_training, chk_0-0, chk_0-1, chk_0-2, chk_0-3, chk_0-4, chk_0-5, chk_0-6, chk_1-0, chk_1-1, chk_1-2, chk_1-3, chk_1-4, chk_1-5, chk_1-6, chk_2-0, chk_2-1, chk_2-2, chk_2-3, chk_2-4, chk_2-5, chk_2-6, chk_3-0, chk_3-1, chk_3-2, chk_3-3, chk_3-4, chk_3-5, chk_3-6, chk_4-0, chk_4-1, chk_4-2, chk_4-3, chk_4-4, chk_4-5, chk_4-6, chk_5-0, chk_5-1, chk_5-2, chk_5-3, chk_5-4, chk_5-5, chk_5-6, chk_6-0, chk_6-1, chk_6-2, chk_6-3, chk_6-4, chk_6-5, chk_6-6, chk_7-0, chk_7-1, chk_7-2, chk_7-3, chk_7-4, chk_7-5, chk_7-6, chk_8-0, chk_8-1, chk_8-2, chk_8-3, chk_8-4, chk_8-5, chk_8-6, chk_9-0, chk_9-1, chk_9-2, chk_9-3, chk_9-4, chk_9-5, chk_9-6, chk_10-0, chk_10-1, chk_10-2, chk_10-3, chk_10-4, chk_10-5, chk_10-6, chk_11-0, chk_11-1, chk_11-2, chk_11-3, chk_11-4, chk_11-5, chk_11-6, chk_12-0, chk_12-1, chk_12-2, chk_12-3, chk_12-4, chk_12-5, chk_12-6, chk_13-0, chk_13-1, chk_13-2, chk_13-3, chk_13-4, chk_13-5, chk_13-6, chk_14-0, chk_14-1, chk_14-2, chk_14-3, chk_14-4, chk_14-5, chk_14-6, chk_15-0, chk_15-1, chk_15-2, chk_15-3, chk_15-4, chk_15-5, chk_15-6, chk_16-0, chk_16-1, chk_16-2, chk_16-3, chk_16-4, chk_16-5, chk_16-6, chk_17-0, chk_17-1, chk_17-2, chk_17-3, chk_17-4, chk_17-5, chk_17-6, chk_18-0, chk_18-1, chk_18-2, chk_18-3, chk_18-4, chk_18-5, chk_18-6, chk_19-0, chk_19-1, chk_19-2, chk_19-3, chk_19-4, chk_19-5, chk_19-6, chk_20-0, chk_20-1, chk_20-2, chk_20-3, chk_20-4, chk_20-5, chk_20-6, chk_21-0, chk_21-1, chk_21-2, chk_21-3, chk_21-4, chk_21-5, chk_21-6, chk_22-0, chk_22-1, chk_22-2, chk_22-3, chk_22-4, chk_22-5, chk_22-6, chk_23-0, chk_23-1, chk_23-2, chk_23-3, chk_23-4, chk_23-5, chk_23-6, type_y, ln, m, a, e, n, ln_rel, m_rel, a_rel, e_rel, n_rel, total, sex, Primary_Category], dtype=object)"
       ]
      }
     ],
     "prompt_number": 49
    },
    {
     "cell_type": "code",
     "collapsed": false,
     "input": [
      "y_train = du.constructData(TrainData, include_list = ['stars'])\n",
      "x_train = du.constructData(TrainData, include_list = ['review_count_u', 'review_count_b', 'average_stars_u', 'average_stars_b','total', 'ln_rel', 'm_rel', 'a_rel', 'e_rel', 'n_rel'])\n",
      "x_train, y_train = du.combineIntersectXY(x_train, y_train)\n",
      "\n",
      "print rm.evaluateModel(x_train, y_train, classifier)\n",
      "\n",
      "\n",
      "y_train = du.constructData(TrainData, include_list = ['stars'])\n",
      "x_train = du.constructData(TrainData, include_list = ['review_count_u', 'review_count_b', 'average_stars_u', 'average_stars_b','total', 'ln_rel', 'm_rel', 'a_rel', 'e_rel', 'n_rel', 'sex'])\n",
      "x_train, y_train = du.combineIntersectXY(x_train, y_train)\n",
      "\n",
      "print rm.evaluateModel(x_train, y_train, classifier)\n",
      "\n",
      "\n",
      "y_train = du.constructData(TrainData, include_list = ['stars'])\n",
      "x_train = du.constructData(TrainData, include_list = ['review_count_u', 'review_count_b', 'average_stars_u', 'average_stars_b','total', 'ln_rel', 'm_rel', 'a_rel', 'e_rel', 'n_rel', 'sex', 'cool_u', 'useful_u', 'funny_u'])\n",
      "x_train, y_train = du.combineIntersectXY(x_train, y_train)\n",
      "\n",
      "print rm.evaluateModel(x_train, y_train, classifier)\n"
     ],
     "language": "python",
     "metadata": {},
     "outputs": [
      {
       "output_type": "stream",
       "stream": "stdout",
       "text": [
        "0.957914416222\n",
        "0.957727147553"
       ]
      },
      {
       "output_type": "stream",
       "stream": "stdout",
       "text": [
        "\n",
        "0.956969136145"
       ]
      },
      {
       "output_type": "stream",
       "stream": "stdout",
       "text": [
        "\n"
       ]
      }
     ],
     "prompt_number": 50
    },
    {
     "cell_type": "code",
     "collapsed": false,
     "input": [
      "y_train = du.constructData(TrainData, include_list = ['stars'])\n",
      "x_train = du.constructData(TrainData, include_list = ['review_count_u', 'review_count_b', 'average_stars_u', 'average_stars_b','cool_u', 'useful_u', 'funny_u'])\n",
      "x_train, y_train = du.combineIntersectXY(x_train, y_train)\n",
      "\n",
      "print rm.evaluateModel(x_train, y_train, classifier)\n"
     ],
     "language": "python",
     "metadata": {},
     "outputs": [
      {
       "output_type": "stream",
       "stream": "stdout",
       "text": [
        "0.967439538611\n"
       ]
      }
     ],
     "prompt_number": 57
    },
    {
     "cell_type": "code",
     "collapsed": false,
     "input": [
      "y_train = du.constructData(TrainData, include_list = ['stars'])\n",
      "x_train = du.constructData(TrainData, include_list = ['review_count_u', 'review_count_b', 'average_stars_u', 'average_stars_b','cool_u', 'useful_u', 'funny_u', 'city'])\n",
      "x_train, y_train = du.combineIntersectXY(x_train, y_train)\n",
      "\n",
      "print rm.evaluateModel(x_train, y_train, classifier)\n"
     ],
     "language": "python",
     "metadata": {},
     "outputs": [
      {
       "output_type": "stream",
       "stream": "stdout",
       "text": [
        "0.968235157922\n"
       ]
      }
     ],
     "prompt_number": 59
    },
    {
     "cell_type": "code",
     "collapsed": false,
     "input": [
      "y_train = du.constructData(TrainData, include_list = ['stars'])\n",
      "x_train = du.constructData(TrainData, include_list = ['review_count_u', 'review_count_b', 'average_stars_u', 'average_stars_b','total', 'ln_rel', 'm_rel', 'a_rel', 'e_rel', 'n_rel'])\n",
      "x_train, y_train = du.combineIntersectXY(x_train, y_train)\n",
      "        \n",
      "trained_classifier = classifier.fit(X = x_train, y = y_train)"
     ],
     "language": "python",
     "metadata": {},
     "outputs": [],
     "prompt_number": 28
    },
    {
     "cell_type": "code",
     "collapsed": false,
     "input": [],
     "language": "python",
     "metadata": {},
     "outputs": []
    },
    {
     "cell_type": "code",
     "collapsed": false,
     "input": [
      "x_test = du.constructData(TestData_imp, include_list = ['review_count_u', 'review_count_b', 'average_stars_u', 'average_stars_b', 'total', 'ln_rel', 'm_rel', 'a_rel', 'e_rel', 'n_rel'])"
     ],
     "language": "python",
     "metadata": {},
     "outputs": [],
     "prompt_number": 29
    },
    {
     "cell_type": "code",
     "collapsed": false,
     "input": [
      "y_hat = du.rescale(trained_classifier.predict(x_test), 1, 5)"
     ],
     "language": "python",
     "metadata": {},
     "outputs": [],
     "prompt_number": 30
    },
    {
     "cell_type": "code",
     "collapsed": false,
     "input": [
      "submission = pd.DataFrame(index = TestData.index)\n",
      "submission['user_id'] = TestData['user_id']\n",
      "submission['business_id'] = TestData['business_id']\n",
      "submission['stars'] = pd.Series(y_hat)"
     ],
     "language": "python",
     "metadata": {},
     "outputs": [],
     "prompt_number": 31
    },
    {
     "cell_type": "code",
     "collapsed": false,
     "input": [
      "key = pd.read_csv('../data/raw/IdLookupTable.csv')"
     ],
     "language": "python",
     "metadata": {},
     "outputs": [],
     "prompt_number": 32
    },
    {
     "cell_type": "code",
     "collapsed": false,
     "input": [
      "submission = pd.merge(left = key, right = submission, on = ['business_id','user_id'], how = 'left')\n",
      "del submission['user_id']\n",
      "del submission['business_id']"
     ],
     "language": "python",
     "metadata": {},
     "outputs": [],
     "prompt_number": 33
    },
    {
     "cell_type": "code",
     "collapsed": false,
     "input": [
      "submission.sort('RecommendationId', inplace = True)"
     ],
     "language": "python",
     "metadata": {},
     "outputs": [],
     "prompt_number": 34
    },
    {
     "cell_type": "code",
     "collapsed": false,
     "input": [
      "submission.to_csv(\"../data/processed/submission_2013-07-05_b.csv\", index = False)"
     ],
     "language": "python",
     "metadata": {},
     "outputs": [],
     "prompt_number": 35
    },
    {
     "cell_type": "code",
     "collapsed": false,
     "input": [],
     "language": "python",
     "metadata": {},
     "outputs": []
    },
    {
     "cell_type": "code",
     "collapsed": false,
     "input": [],
     "language": "python",
     "metadata": {},
     "outputs": []
    }
   ],
   "metadata": {}
  }
 ]
}