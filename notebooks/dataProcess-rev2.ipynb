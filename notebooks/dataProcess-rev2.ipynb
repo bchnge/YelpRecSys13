{
 "metadata": {
  "name": "dataProcess-rev2"
 },
 "nbformat": 3,
 "nbformat_minor": 0,
 "worksheets": [
  {
   "cells": [
    {
     "cell_type": "code",
     "collapsed": false,
     "input": [
      "import json\n",
      "import YelpRecSys13.src.data_util as du\n",
      "import YelpRecSys13.src.regression_methods as rm\n",
      "import sklearn.linear_model as linear\n",
      "import sklearn.cross_validation as cv\n",
      "import sklearn.ensemble as ensemble\n",
      "import pandas as pd\n",
      "import numpy as np\n",
      "import string"
     ],
     "language": "python",
     "metadata": {},
     "outputs": [],
     "prompt_number": 1
    },
    {
     "cell_type": "code",
     "collapsed": false,
     "input": [
      "TRAININGPATH = \"../data/raw/yelp_training_set/\"\n",
      "TESTPATH = \"../data/raw/yelp_test_set/\""
     ],
     "language": "python",
     "metadata": {},
     "outputs": [],
     "prompt_number": 2
    },
    {
     "cell_type": "heading",
     "level": 1,
     "metadata": {},
     "source": [
      "Read in data"
     ]
    },
    {
     "cell_type": "code",
     "collapsed": false,
     "input": [
      "train_users = du.json2dataframe(TRAININGPATH + \"yelp_training_set_user.json\")\n",
      "train_businesses = du.json2dataframe(TRAININGPATH + \"yelp_training_set_business.json\")\n",
      "train_reviews = du.json2dataframe(TRAININGPATH + \"yelp_training_set_review.json\")\n",
      "train_checkins = du.checkin2dataframe(TRAININGPATH + \"yelp_training_set_checkin.json\")\n",
      "\n",
      "test_users = du.json2dataframe(TESTPATH + \"yelp_test_set_user.json\")\n",
      "test_businesses = du.json2dataframe(TESTPATH + \"yelp_test_set_business.json\")\n",
      "test_reviews = du.json2dataframe(TESTPATH + \"yelp_test_set_review.json\")\n",
      "test_checkins = du.checkin2dataframe(TESTPATH + \"yelp_test_set_checkin.json\")\n"
     ],
     "language": "python",
     "metadata": {},
     "outputs": [],
     "prompt_number": 3
    },
    {
     "cell_type": "code",
     "collapsed": false,
     "input": [
      "for hour in range(0,24):\n",
      "    for week in range(0,7):\n",
      "        train_checkins.rename(columns = {str(hour) + '-' + str(week) : 'chk_' + str(hour) + '-' + str(week)}, inplace = True)   \n",
      "        test_checkins.rename(columns = {str(hour) + '-' + str(week) : 'chk_' + str(hour) + '-' + str(week)}, inplace = True)   "
     ],
     "language": "python",
     "metadata": {},
     "outputs": [],
     "prompt_number": 4
    },
    {
     "cell_type": "code",
     "collapsed": false,
     "input": [
      "train_users['user_in_training'] = pd.Series(ones(len(train_users)), index = train_users.index)\n",
      "train_businesses['business_in_training'] = pd.Series(ones(len(train_businesses)), index = train_businesses.index)\n",
      "\n",
      "train_businesses.rename(columns = {'stars':'average_stars_b'}, inplace = True)\n",
      "train_users.rename(columns = {'average_stars':'average_stars_u'}, inplace = True)\n",
      "\n",
      "for d in [train_users, test_users]:\n",
      "    d.rename(columns = {'review_count':'review_count_u'}, inplace = True)\n",
      "    d.rename(columns = {'name':'name_u'}, inplace = True)\n",
      "    \n",
      "for d in [train_businesses, test_businesses]:\n",
      "    d.rename(columns = {'review_count':'review_count_b'}, inplace = True)\n",
      "    \n"
     ],
     "language": "python",
     "metadata": {},
     "outputs": [],
     "prompt_number": 5
    },
    {
     "cell_type": "code",
     "collapsed": false,
     "input": [
      "TrainData = pd.merge(left = train_reviews, right = train_users, how = 'left', on = ['user_id'], suffixes = ['_rev','_u'])\n",
      "TrainData = pd.merge(left = TrainData, right = train_businesses, how = 'left', on = ['business_id'], suffixes = ['_rev', '_b'])\n",
      "TrainData = pd.merge(left = TrainData, right = train_checkins, how = 'left', on = ['business_id'])"
     ],
     "language": "python",
     "metadata": {},
     "outputs": [],
     "prompt_number": 6
    },
    {
     "cell_type": "code",
     "collapsed": false,
     "input": [
      "train_users = train_users.append(test_users)\n",
      "train_businesses = train_businesses.append(test_businesses)\n",
      "train_checkins = train_checkins.append(test_checkins)\n"
     ],
     "language": "python",
     "metadata": {},
     "outputs": [],
     "prompt_number": 7
    },
    {
     "cell_type": "code",
     "collapsed": false,
     "input": [
      "TestData = pd.merge(left = test_reviews, right = train_users, how = 'left', on = ['user_id'], suffixes = ['_rev','_u'])\n",
      "TestData = pd.merge(left = TestData, right = train_businesses, how = 'left', on = ['business_id'], suffixes = ['_rev', '_b'])\n",
      "TestData = pd.merge(left = TestData, right = train_checkins, how = 'left', on = ['business_id'])"
     ],
     "language": "python",
     "metadata": {},
     "outputs": [],
     "prompt_number": 8
    },
    {
     "cell_type": "code",
     "collapsed": false,
     "input": [
      "sex = pd.read_csv('../data/raw/TrainingMethods - Sex CSV.csv')\n",
      "sex.fillna('NA', inplace = True)\n",
      "sex['name_u'] = [string.capitalize(item) for item in sex.name_u]\n",
      "\n",
      "TrainData = pd.merge(left = TrainData, right = sex, how = 'left', on = ['name_u'])\n",
      "TestData = pd.merge(left = TestData, right = sex, how = 'left', on = ['name_u'])\n",
      "\n",
      "TrainData['sex'].fillna('DK', inplace = True)\n",
      "TestData['sex'].fillna('DK', inplace = True)\n"
     ],
     "language": "python",
     "metadata": {},
     "outputs": [],
     "prompt_number": 9
    },
    {
     "cell_type": "code",
     "collapsed": false,
     "input": [
      "TestData['datatype'] = pd.Series(index = TestData.index, dtype = unicode)"
     ],
     "language": "python",
     "metadata": {},
     "outputs": [],
     "prompt_number": 10
    },
    {
     "cell_type": "code",
     "collapsed": false,
     "input": [
      "user_yes = TestData.user_in_training == 1\n",
      "bus_yes = TestData.business_in_training == 1"
     ],
     "language": "python",
     "metadata": {},
     "outputs": [],
     "prompt_number": 11
    },
    {
     "cell_type": "code",
     "collapsed": false,
     "input": [
      "TestData['datatype'][user_yes &  ~bus_yes] = 'user only'\n",
      "TestData['datatype'][~user_yes &  ~bus_yes] = 'none'\n",
      "TestData['datatype'][~user_yes &  bus_yes] = 'business only'\n",
      "TestData['datatype'][user_yes &  bus_yes] = 'both'"
     ],
     "language": "python",
     "metadata": {},
     "outputs": [],
     "prompt_number": 12
    },
    {
     "cell_type": "code",
     "collapsed": false,
     "input": [
      "TestData.datatype.value_counts()"
     ],
     "language": "python",
     "metadata": {},
     "outputs": [
      {
       "output_type": "pyout",
       "prompt_number": 13,
       "text": [
        "user only        7679\n",
        "both             6168\n",
        "business only    6086\n",
        "none             3023\n",
        "dtype: int64"
       ]
      }
     ],
     "prompt_number": 13
    },
    {
     "cell_type": "code",
     "collapsed": false,
     "input": [
      "category =  []\n",
      "for i in TrainData.categories:\n",
      "    if len(i)!= 0:\n",
      "        category.append(i[-1])\n",
      "    else:\n",
      "        category.append(nan)\n",
      "TrainData['Primary_Category'] = pd.Series(category, index = TrainData.index)"
     ],
     "language": "python",
     "metadata": {},
     "outputs": [],
     "prompt_number": 14
    },
    {
     "cell_type": "code",
     "collapsed": false,
     "input": [
      "category =  []\n",
      "for i in TestData.categories:\n",
      "    if len(i)!= 0:\n",
      "        category.append(i[-1])\n",
      "    else:\n",
      "        category.append(nan)\n",
      "TestData['Primary_Category'] = pd.Series(category, index = TestData.index)"
     ],
     "language": "python",
     "metadata": {},
     "outputs": [],
     "prompt_number": 15
    },
    {
     "cell_type": "code",
     "collapsed": false,
     "input": [
      "TestData_imp = du.imputer(TrainData, TestData, impute_vars = ['review_count_b', 'review_count_u', 'average_stars_u', 'average_stars_b', 'stars'], by_var = 'Primary_Category',  mean = False)"
     ],
     "language": "python",
     "metadata": {},
     "outputs": [],
     "prompt_number": 16
    },
    {
     "cell_type": "code",
     "collapsed": false,
     "input": [
      "def optimizeK(dataframe, ylist, xlist, minval = 200, maxval = 1000, ticksize=100 ):\n",
      "    \"\"\" choose the optimal number of estimators for a Gradient boosting Regressor classifier\n",
      "dataframe: dataset we are working with\n",
      "ylist: list of dep var\n",
      "xlist: list of indep vars\n",
      "\n",
      "minval: minimum number of estimators to test for\n",
      "maxval: maximum number of estimators to test for\n",
      "ticksize: step size for testing\n",
      "\n",
      "\"\"\"\n",
      "    \n",
      "    K_vals = arange(minval, maxval + ticksize, step = ticksize)\n",
      "    y = du.constructData(dataframe, include_list = ylist)\n",
      "    x = du.constructData(dataframe, include_list = xlist)\n",
      "    x,y = du.combineIntersectXY(x,y)\n",
      "\n",
      "    optimal_K = 0\n",
      "    optimal_rmse = 99999\n",
      "    \n",
      "    resulttable = []\n",
      "    run = 0\n",
      "    for val in K_vals:\n",
      "        run+=1\n",
      "        classifier = ensemble.GradientBoostingRegressor(random_state = 1, n_estimators=val)\n",
      "        rmse = rm.evaluateModel(x,y,classifier)\n",
      "        resulttable.append([run,val,rmse])\n",
      "        if rmse < optimal_rmse:\n",
      "            optimal_K = val\n",
      "            optimal_rmse = rmse\n",
      "    print resulttable        \n",
      "    return optimal_K, resulttable\n",
      "        "
     ],
     "language": "python",
     "metadata": {},
     "outputs": [],
     "prompt_number": 17
    },
    {
     "cell_type": "code",
     "collapsed": false,
     "input": [
      "k, results = optimizeK(TrainData, ['stars'], ['review_count_u', 'review_count_b', 'average_stars_u', 'average_stars_b', 'sex'], minval = 400, maxval = 1000, ticksize = 25)"
     ],
     "language": "python",
     "metadata": {},
     "outputs": [
      {
       "output_type": "stream",
       "stream": "stdout",
       "text": [
        "[[1, 400, 0.9593235860835494], [2, 425, 0.95931321558349336], [3, 450, 0.9592688786545237], [4, 475, 0.95925515370657699], [5, 500, 0.95924294692681156], [6, 525, 0.95921277158508444], [7, 550, 0.95918384612040797], [8, 575, 0.95918126573000573], [9, 600, 0.95920803003818444], [10, 625, 0.95919520155997307], [11, 650, 0.95919882051358996], [12, 675, 0.95917753439529041], [13, 700, 0.95917343537832667], [14, 725, 0.95920954265434], [15, 750, 0.95921486294585423], [16, 775, 0.9592060379186691], [17, 800, 0.95924459989138056], [18, 825, 0.95929704870515453], [19, 850, 0.95932823640505815], [20, 875, 0.9593130575349591], [21, 900, 0.95932649971189787], [22, 925, 0.95937197655049256], [23, 950, 0.95939908147983366], [24, 975, 0.95943365802138336], [25, 1000, 0.95944603501997971]]\n"
       ]
      }
     ],
     "prompt_number": 28
    },
    {
     "cell_type": "code",
     "collapsed": false,
     "input": [
      "k"
     ],
     "language": "python",
     "metadata": {},
     "outputs": [
      {
       "output_type": "pyout",
       "prompt_number": 29,
       "text": [
        "700"
       ]
      }
     ],
     "prompt_number": 29
    },
    {
     "cell_type": "code",
     "collapsed": false,
     "input": [
      "for var in ['review_count_b', 'review_count_u', 'average_stars_u', 'average_stars_b']:\n",
      "    TestData_imp[var].fillna(TestData_imp['imp_' + var], inplace = True)"
     ],
     "language": "python",
     "metadata": {},
     "outputs": [],
     "prompt_number": 30
    },
    {
     "cell_type": "code",
     "collapsed": false,
     "input": [
      "classifier = ensemble.GradientBoostingRegressor(n_estimators=810, random_state=1)"
     ],
     "language": "python",
     "metadata": {},
     "outputs": [],
     "prompt_number": 31
    },
    {
     "cell_type": "code",
     "collapsed": false,
     "input": [
      "y_train = du.constructData(TrainData, include_list = ['stars'])\n",
      "x_train = du.constructData(TrainData, include_list = ['review_count_u', 'review_count_b', 'average_stars_u', 'average_stars_b'])\n",
      "x_train, y_train = du.combineIntersectXY(x_train, y_train)\n",
      "trained_classifier = classifier.fit(X = x_train, y = y_train)"
     ],
     "language": "python",
     "metadata": {},
     "outputs": [],
     "prompt_number": 32
    },
    {
     "cell_type": "code",
     "collapsed": false,
     "input": [
      "x_test = du.constructData(TestData_imp, include_list = ['review_count_u', 'review_count_b', 'average_stars_u', 'average_stars_b'])"
     ],
     "language": "python",
     "metadata": {},
     "outputs": [],
     "prompt_number": 35
    },
    {
     "cell_type": "code",
     "collapsed": false,
     "input": [
      "y_hat = du.rescale(trained_classifier.predict(x_test), 1, 5)"
     ],
     "language": "python",
     "metadata": {},
     "outputs": [],
     "prompt_number": 36
    },
    {
     "cell_type": "code",
     "collapsed": false,
     "input": [
      "submission = pd.DataFrame(index = TestData.index)\n",
      "submission['user_id'] = TestData['user_id']\n",
      "submission['business_id'] = TestData['business_id']\n",
      "submission['stars'] = pd.Series(y_hat)"
     ],
     "language": "python",
     "metadata": {},
     "outputs": [],
     "prompt_number": 37
    },
    {
     "cell_type": "code",
     "collapsed": false,
     "input": [
      "key = pd.read_csv('../data/raw/IdLookupTable.csv')"
     ],
     "language": "python",
     "metadata": {},
     "outputs": [],
     "prompt_number": 38
    },
    {
     "cell_type": "code",
     "collapsed": false,
     "input": [
      "submission = pd.merge(left = key, right = submission, on = ['business_id','user_id'], how = 'left')\n",
      "del submission['user_id']\n",
      "del submission['business_id']"
     ],
     "language": "python",
     "metadata": {},
     "outputs": [],
     "prompt_number": 39
    },
    {
     "cell_type": "code",
     "collapsed": false,
     "input": [
      "submission.sort('RecommendationId', inplace = True)"
     ],
     "language": "python",
     "metadata": {},
     "outputs": [],
     "prompt_number": 40
    },
    {
     "cell_type": "code",
     "collapsed": false,
     "input": [
      "submission.to_csv(\"../data/processed/submission_2013-06-30_b.csv\", index = False)"
     ],
     "language": "python",
     "metadata": {},
     "outputs": [],
     "prompt_number": 41
    },
    {
     "cell_type": "code",
     "collapsed": false,
     "input": [],
     "language": "python",
     "metadata": {},
     "outputs": []
    }
   ],
   "metadata": {}
  }
 ]
}