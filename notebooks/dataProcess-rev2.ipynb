{
 "metadata": {
  "name": "dataProcess-rev2"
 },
 "nbformat": 3,
 "nbformat_minor": 0,
 "worksheets": [
  {
   "cells": [
    {
     "cell_type": "code",
     "collapsed": false,
     "input": [
      "import json\n",
      "import YelpRecSys13.src.data_util as du\n",
      "import YelpRecSys13.src.regression_methods as rm\n",
      "import sklearn.linear_model as linear\n",
      "import sklearn.cross_validation as cv\n",
      "import sklearn.ensemble as ensemble\n",
      "import pandas as pd\n",
      "import numpy as np\n",
      "import string\n",
      "import sklearn.mixture as mix"
     ],
     "language": "python",
     "metadata": {},
     "outputs": [],
     "prompt_number": 3
    },
    {
     "cell_type": "code",
     "collapsed": false,
     "input": [
      "TRAININGPATH = \"../data/raw/yelp_training_set/\"\n",
      "TESTPATH = \"../data/raw/yelp_test_set/\""
     ],
     "language": "python",
     "metadata": {},
     "outputs": [],
     "prompt_number": 2
    },
    {
     "cell_type": "heading",
     "level": 1,
     "metadata": {},
     "source": [
      "Read and process data"
     ]
    },
    {
     "cell_type": "code",
     "collapsed": false,
     "input": [
      "train_users = du.json2dataframe(TRAININGPATH + \"yelp_training_set_user.json\")\n",
      "train_businesses = du.json2dataframe(TRAININGPATH + \"yelp_training_set_business.json\")\n",
      "train_reviews = du.json2dataframe(TRAININGPATH + \"yelp_training_set_review.json\")\n",
      "train_checkins = du.checkin2dataframe(TRAININGPATH + \"yelp_training_set_checkin.json\")\n",
      "\n",
      "test_users = du.json2dataframe(TESTPATH + \"yelp_test_set_user.json\")\n",
      "test_businesses = du.json2dataframe(TESTPATH + \"yelp_test_set_business.json\")\n",
      "test_reviews = du.json2dataframe(TESTPATH + \"yelp_test_set_review.json\")\n",
      "test_checkins = du.checkin2dataframe(TESTPATH + \"yelp_test_set_checkin.json\")\n"
     ],
     "language": "python",
     "metadata": {},
     "outputs": [],
     "prompt_number": 3
    },
    {
     "cell_type": "code",
     "collapsed": false,
     "input": [
      "for hour in range(0,24):\n",
      "    for week in range(0,7):\n",
      "        train_checkins.rename(columns = {str(hour) + '-' + str(week) : 'chk_' + str(hour) + '-' + str(week)}, inplace = True)   \n",
      "        test_checkins.rename(columns = {str(hour) + '-' + str(week) : 'chk_' + str(hour) + '-' + str(week)}, inplace = True)   "
     ],
     "language": "python",
     "metadata": {},
     "outputs": [],
     "prompt_number": 4
    },
    {
     "cell_type": "code",
     "collapsed": false,
     "input": [
      "latenight = [23,0,1,2,3,4]\n",
      "morning = [5,6,7,8,9,10]\n",
      "afternoon = [11, 12, 13, 14, 15]\n",
      "evening = [16, 17, 18]\n",
      "night = [19, 20, 21, 22]\n"
     ],
     "language": "python",
     "metadata": {},
     "outputs": [],
     "prompt_number": 5
    },
    {
     "cell_type": "code",
     "collapsed": false,
     "input": [
      "train_checkins.fillna(value = 0, inplace = True)\n",
      "for h in latenight:\n",
      "    train_checkins['ln'] = train_checkins['chk_'+str(h)+'-0']\n",
      "    for d in arange(1,7):\n",
      "        train_checkins['ln'] = train_checkins['ln'] + train_checkins['chk_'+str(h)+'-'+str(d)]      \n",
      "for h in morning:\n",
      "    train_checkins['m'] = train_checkins['chk_'+str(h)+'-0']\n",
      "    for d in arange(1,7):\n",
      "        train_checkins['m'] = train_checkins['m'] + train_checkins['chk_'+str(h)+'-'+str(d)]\n",
      "for h in afternoon:\n",
      "    train_checkins['a'] = train_checkins['chk_'+str(h)+'-0']\n",
      "    for d in arange(1,7):\n",
      "        train_checkins['a'] = train_checkins['a'] + train_checkins['chk_'+str(h)+'-'+str(d)]\n",
      "for h in evening:\n",
      "    train_checkins['e'] = train_checkins['chk_'+str(h)+'-0']\n",
      "    for d in arange(1,7):\n",
      "        train_checkins['e'] = train_checkins['e'] + train_checkins['chk_'+str(h)+'-'+str(d)]\n",
      "for h in night:\n",
      "    train_checkins['n'] = train_checkins['chk_'+str(h)+'-0']\n",
      "    for d in arange(1,7):\n",
      "        train_checkins['n'] = train_checkins['n'] + train_checkins['chk_'+str(h)+'-'+str(d)]\n",
      "        \n",
      "for t in ['ln', 'm', 'a', 'e', 'n']:\n",
      "    train_checkins[t + '_rel'] = train_checkins[t] / (train_checkins.m + train_checkins.a + train_checkins.e + train_checkins.n + train_checkins.ln)\n",
      "train_checkins['total'] =   train_checkins.m + train_checkins.a + train_checkins.e + train_checkins.n + train_checkins.ln  \n",
      "\n",
      "\n",
      "test_checkins.fillna(value = 0, inplace = True)\n",
      "for h in latenight:\n",
      "    test_checkins['ln'] = test_checkins['chk_'+str(h)+'-0']\n",
      "    for d in arange(1,7):\n",
      "        test_checkins['ln'] = test_checkins['ln'] + test_checkins['chk_'+str(h)+'-'+str(d)]      \n",
      "for h in morning:\n",
      "    test_checkins['m'] = test_checkins['chk_'+str(h)+'-0']\n",
      "    for d in arange(1,7):\n",
      "        test_checkins['m'] = test_checkins['m'] + test_checkins['chk_'+str(h)+'-'+str(d)]\n",
      "for h in afternoon:\n",
      "    test_checkins['a'] = test_checkins['chk_'+str(h)+'-0']\n",
      "    for d in arange(1,7):\n",
      "        test_checkins['a'] = test_checkins['a'] + test_checkins['chk_'+str(h)+'-'+str(d)]\n",
      "for h in evening:\n",
      "    test_checkins['e'] = test_checkins['chk_'+str(h)+'-0']\n",
      "    for d in arange(1,7):\n",
      "        test_checkins['e'] = test_checkins['e'] + test_checkins['chk_'+str(h)+'-'+str(d)]\n",
      "for h in night:\n",
      "    test_checkins['n'] = test_checkins['chk_'+str(h)+'-0']\n",
      "    for d in arange(1,7):\n",
      "        test_checkins['n'] = test_checkins['n'] + test_checkins['chk_'+str(h)+'-'+str(d)]\n",
      "        \n",
      "for t in ['ln', 'm', 'a', 'e', 'n']:\n",
      "    test_checkins[t + '_rel'] = test_checkins[t] / (test_checkins.m + test_checkins.a + test_checkins.e + test_checkins.n + test_checkins.ln)\n",
      "test_checkins['total'] =   test_checkins.m + test_checkins.a + test_checkins.e + test_checkins.n + test_checkins.ln  \n",
      "\n"
     ],
     "language": "python",
     "metadata": {},
     "outputs": [],
     "prompt_number": 6
    },
    {
     "cell_type": "code",
     "collapsed": false,
     "input": [
      "train_users['user_in_training'] = pd.Series(ones(len(train_users)), index = train_users.index)\n",
      "train_businesses['business_in_training'] = pd.Series(ones(len(train_businesses)), index = train_businesses.index)\n",
      "\n",
      "train_businesses.rename(columns = {'stars':'average_stars_b'}, inplace = True)\n",
      "train_users.rename(columns = {'average_stars':'average_stars_u'}, inplace = True)\n",
      "\n",
      "for d in [train_users, test_users]:\n",
      "    d.rename(columns = {'review_count':'review_count_u'}, inplace = True)\n",
      "    d.rename(columns = {'name':'name_u'}, inplace = True)\n",
      "    \n",
      "for d in [train_businesses, test_businesses]:\n",
      "    d.rename(columns = {'review_count':'review_count_b'}, inplace = True)\n",
      "    \n"
     ],
     "language": "python",
     "metadata": {},
     "outputs": [],
     "prompt_number": 7
    },
    {
     "cell_type": "code",
     "collapsed": false,
     "input": [
      "TrainData = pd.merge(left = train_reviews, right = train_users, how = 'left', on = ['user_id'], suffixes = ['_rev','_u'])\n",
      "TrainData = pd.merge(left = TrainData, right = train_businesses, how = 'left', on = ['business_id'], suffixes = ['_rev', '_b'])\n",
      "TrainData = pd.merge(left = TrainData, right = train_checkins, how = 'left', on = ['business_id'])"
     ],
     "language": "python",
     "metadata": {},
     "outputs": [],
     "prompt_number": 8
    },
    {
     "cell_type": "code",
     "collapsed": false,
     "input": [
      "train_users = train_users.append(test_users)\n",
      "train_businesses = train_businesses.append(test_businesses)\n",
      "train_checkins = train_checkins.append(test_checkins)\n"
     ],
     "language": "python",
     "metadata": {},
     "outputs": [],
     "prompt_number": 9
    },
    {
     "cell_type": "code",
     "collapsed": false,
     "input": [
      "TestData = pd.merge(left = test_reviews, right = train_users, how = 'left', on = ['user_id'], suffixes = ['_rev','_u'])\n",
      "TestData = pd.merge(left = TestData, right = train_businesses, how = 'left', on = ['business_id'], suffixes = ['_rev', '_b'])\n",
      "TestData = pd.merge(left = TestData, right = train_checkins, how = 'left', on = ['business_id'])"
     ],
     "language": "python",
     "metadata": {},
     "outputs": [],
     "prompt_number": 10
    },
    {
     "cell_type": "code",
     "collapsed": false,
     "input": [
      "sex = pd.read_csv('../data/raw/TrainingMethods - Sex CSV.csv')\n",
      "sex.fillna('NA', inplace = True)\n",
      "sex['name_u'] = [string.capitalize(item) for item in sex.name_u]\n",
      "\n",
      "TrainData = pd.merge(left = TrainData, right = sex, how = 'left', on = ['name_u'])\n",
      "TestData = pd.merge(left = TestData, right = sex, how = 'left', on = ['name_u'])\n",
      "\n",
      "TrainData['sex'].fillna('DK', inplace = True)\n",
      "TestData['sex'].fillna('DK', inplace = True)\n"
     ],
     "language": "python",
     "metadata": {},
     "outputs": [],
     "prompt_number": 11
    },
    {
     "cell_type": "code",
     "collapsed": false,
     "input": [
      "TestData['datatype'] = pd.Series(index = TestData.index, dtype = unicode)"
     ],
     "language": "python",
     "metadata": {},
     "outputs": [],
     "prompt_number": 12
    },
    {
     "cell_type": "code",
     "collapsed": false,
     "input": [
      "user_yes = TestData.user_in_training == 1\n",
      "bus_yes = TestData.business_in_training == 1"
     ],
     "language": "python",
     "metadata": {},
     "outputs": [],
     "prompt_number": 13
    },
    {
     "cell_type": "code",
     "collapsed": false,
     "input": [
      "TestData['datatype'][user_yes &  ~bus_yes] = 'user only'\n",
      "TestData['datatype'][~user_yes &  ~bus_yes] = 'none'\n",
      "TestData['datatype'][~user_yes &  bus_yes] = 'business only'\n",
      "TestData['datatype'][user_yes &  bus_yes] = 'both'"
     ],
     "language": "python",
     "metadata": {},
     "outputs": [],
     "prompt_number": 14
    },
    {
     "cell_type": "code",
     "collapsed": false,
     "input": [
      "TestData.datatype.value_counts()"
     ],
     "language": "python",
     "metadata": {},
     "outputs": [
      {
       "output_type": "pyout",
       "prompt_number": 15,
       "text": [
        "user only        7679\n",
        "both             6168\n",
        "business only    6086\n",
        "none             3023\n",
        "dtype: int64"
       ]
      }
     ],
     "prompt_number": 15
    },
    {
     "cell_type": "code",
     "collapsed": false,
     "input": [
      "category =  []\n",
      "for i in TrainData.categories:\n",
      "    if len(i)!= 0:\n",
      "        category.append(i[-1])\n",
      "    else:\n",
      "        category.append(nan)\n",
      "TrainData['Primary_Category'] = pd.Series(category, index = TrainData.index)"
     ],
     "language": "python",
     "metadata": {},
     "outputs": [],
     "prompt_number": 16
    },
    {
     "cell_type": "code",
     "collapsed": false,
     "input": [
      "category =  []\n",
      "for i in TestData.categories:\n",
      "    if len(i)!= 0:\n",
      "        category.append(i[-1])\n",
      "    else:\n",
      "        category.append(nan)\n",
      "TestData['Primary_Category'] = pd.Series(category, index = TestData.index)"
     ],
     "language": "python",
     "metadata": {},
     "outputs": [],
     "prompt_number": 17
    },
    {
     "cell_type": "code",
     "collapsed": false,
     "input": [
      "TrainData.fillna(value = 0, inplace = True)\n",
      "\n",
      "TrainData['cool_rel'] = TrainData.cool_u / (TrainData.cool_u + TrainData.funny_u + TrainData.useful_u)\n",
      "TrainData['funny_rel'] = TrainData.funny_u / (TrainData.cool_u + TrainData.funny_u + TrainData.useful_u)\n",
      "TrainData['useful_rel'] = TrainData.useful_u / (TrainData.cool_u + TrainData.funny_u + TrainData.useful_u)"
     ],
     "language": "python",
     "metadata": {},
     "outputs": [],
     "prompt_number": 51
    },
    {
     "cell_type": "heading",
     "level": 2,
     "metadata": {},
     "source": [
      "Model testing"
     ]
    },
    {
     "cell_type": "code",
     "collapsed": false,
     "input": [
      "cl = mix.GMM(n_components = 2, random_state = 1)\n",
      "\n",
      "y_train = du.constructData(TrainData, include_list = ['stars'])\n",
      "x_train = du.constructData(TrainData, include_list = ['review_count_u', 'average_stars_u' ])\n",
      "x_train, y_train = du.combineIntersectXY(x_train, y_train)\n",
      "\n",
      "trained_cl = cl.fit(x_train)\n"
     ],
     "language": "python",
     "metadata": {},
     "outputs": [
      {
       "ename": "NameError",
       "evalue": "name 'TrainData' is not defined",
       "output_type": "pyerr",
       "traceback": [
        "\u001b[1;31m---------------------------------------------------------------------------\u001b[0m\n\u001b[1;31mNameError\u001b[0m                                 Traceback (most recent call last)",
        "\u001b[1;32m<ipython-input-6-f10d7b50608b>\u001b[0m in \u001b[0;36m<module>\u001b[1;34m()\u001b[0m\n\u001b[0;32m      1\u001b[0m \u001b[0mcl\u001b[0m \u001b[1;33m=\u001b[0m \u001b[0mmix\u001b[0m\u001b[1;33m.\u001b[0m\u001b[0mGMM\u001b[0m\u001b[1;33m(\u001b[0m\u001b[0mn_components\u001b[0m \u001b[1;33m=\u001b[0m \u001b[1;36m2\u001b[0m\u001b[1;33m,\u001b[0m \u001b[0mrandom_state\u001b[0m \u001b[1;33m=\u001b[0m \u001b[1;36m1\u001b[0m\u001b[1;33m)\u001b[0m\u001b[1;33m\u001b[0m\u001b[0m\n\u001b[0;32m      2\u001b[0m \u001b[1;33m\u001b[0m\u001b[0m\n\u001b[1;32m----> 3\u001b[1;33m \u001b[0my_train\u001b[0m \u001b[1;33m=\u001b[0m \u001b[0mdu\u001b[0m\u001b[1;33m.\u001b[0m\u001b[0mconstructData\u001b[0m\u001b[1;33m(\u001b[0m\u001b[0mTrainData\u001b[0m\u001b[1;33m,\u001b[0m \u001b[0minclude_list\u001b[0m \u001b[1;33m=\u001b[0m \u001b[1;33m[\u001b[0m\u001b[1;34m'stars'\u001b[0m\u001b[1;33m]\u001b[0m\u001b[1;33m)\u001b[0m\u001b[1;33m\u001b[0m\u001b[0m\n\u001b[0m\u001b[0;32m      4\u001b[0m \u001b[0mx_train\u001b[0m \u001b[1;33m=\u001b[0m \u001b[0mdu\u001b[0m\u001b[1;33m.\u001b[0m\u001b[0mconstructData\u001b[0m\u001b[1;33m(\u001b[0m\u001b[0mTrainData\u001b[0m\u001b[1;33m,\u001b[0m \u001b[0minclude_list\u001b[0m \u001b[1;33m=\u001b[0m \u001b[1;33m[\u001b[0m\u001b[1;34m'review_count_u'\u001b[0m\u001b[1;33m,\u001b[0m \u001b[1;34m'average_stars_u'\u001b[0m \u001b[1;33m]\u001b[0m\u001b[1;33m)\u001b[0m\u001b[1;33m\u001b[0m\u001b[0m\n\u001b[0;32m      5\u001b[0m \u001b[0mx_train\u001b[0m\u001b[1;33m,\u001b[0m \u001b[0my_train\u001b[0m \u001b[1;33m=\u001b[0m \u001b[0mdu\u001b[0m\u001b[1;33m.\u001b[0m\u001b[0mcombineIntersectXY\u001b[0m\u001b[1;33m(\u001b[0m\u001b[0mx_train\u001b[0m\u001b[1;33m,\u001b[0m \u001b[0my_train\u001b[0m\u001b[1;33m)\u001b[0m\u001b[1;33m\u001b[0m\u001b[0m\n",
        "\u001b[1;31mNameError\u001b[0m: name 'TrainData' is not defined"
       ]
      }
     ],
     "prompt_number": 6
    },
    {
     "cell_type": "code",
     "collapsed": false,
     "input": [
      "classifier = ensemble.GradientBoostingRegressor(n_estimators=1050, random_state=1, learning_rate = 0.1)"
     ],
     "language": "python",
     "metadata": {},
     "outputs": [],
     "prompt_number": 47
    },
    {
     "cell_type": "code",
     "collapsed": false,
     "input": [
      "y_train = du.constructData(TrainData, include_list = ['stars'])\n",
      "x_train = du.constructData(TrainData, include_list = ['review_count_u', 'review_count_b', 'average_stars_u', 'average_stars_b','total', 'ln_rel', 'm_rel', 'a_rel', 'e_rel', 'n_rel'])\n",
      "x_train, y_train = du.combineIntersectXY(x_train, y_train)\n",
      "\n",
      "print rm.evaluateModel(x_train, y_train, classifier)\n",
      "\n",
      "\n",
      "y_train = du.constructData(TrainData, include_list = ['stars'])\n",
      "x_train = du.constructData(TrainData, include_list = ['review_count_u', 'review_count_b', 'average_stars_u', 'average_stars_b','total', 'ln_rel', 'm_rel', 'a_rel', 'e_rel', 'n_rel', 'sex'])\n",
      "x_train, y_train = du.combineIntersectXY(x_train, y_train)\n",
      "\n",
      "print rm.evaluateModel(x_train, y_train, classifier)\n",
      "\n",
      "\n",
      "y_train = du.constructData(TrainData, include_list = ['stars'])\n",
      "x_train = du.constructData(TrainData, include_list = ['review_count_u', 'review_count_b', 'average_stars_u', 'average_stars_b','total', 'ln_rel', 'm_rel', 'a_rel', 'e_rel', 'n_rel', 'sex', 'cool_u', 'useful_u', 'funny_u'])\n",
      "x_train, y_train = du.combineIntersectXY(x_train, y_train)\n",
      "\n",
      "print rm.evaluateModel(x_train, y_train, classifier)\n"
     ],
     "language": "python",
     "metadata": {},
     "outputs": [
      {
       "output_type": "stream",
       "stream": "stdout",
       "text": [
        "0.957914416222\n",
        "0.957727147553"
       ]
      },
      {
       "output_type": "stream",
       "stream": "stdout",
       "text": [
        "\n",
        "0.956969136145"
       ]
      },
      {
       "output_type": "stream",
       "stream": "stdout",
       "text": [
        "\n"
       ]
      }
     ],
     "prompt_number": 50
    },
    {
     "cell_type": "code",
     "collapsed": false,
     "input": [
      "y_train = du.constructData(TrainData, include_list = ['stars'])\n",
      "x_train = du.constructData(TrainData, include_list = ['review_count_u', 'review_count_b', 'average_stars_u', 'average_stars_b','cool_u', 'useful_u', 'funny_u'])\n",
      "x_train, y_train = du.combineIntersectXY(x_train, y_train)\n",
      "\n",
      "print rm.evaluateModel(x_train, y_train, classifier)\n"
     ],
     "language": "python",
     "metadata": {},
     "outputs": [
      {
       "output_type": "stream",
       "stream": "stdout",
       "text": [
        "0.967439538611\n"
       ]
      }
     ],
     "prompt_number": 57
    },
    {
     "cell_type": "code",
     "collapsed": false,
     "input": [
      "y_train = du.constructData(TrainData, include_list = ['stars'])\n",
      "x_train = du.constructData(TrainData, include_list = ['review_count_u', 'review_count_b', 'average_stars_u', 'average_stars_b','cool_u', 'useful_u', 'funny_u', 'city'])\n",
      "x_train, y_train = du.combineIntersectXY(x_train, y_train)\n",
      "\n",
      "print rm.evaluateModel(x_train, y_train, classifier)\n"
     ],
     "language": "python",
     "metadata": {},
     "outputs": [
      {
       "output_type": "stream",
       "stream": "stdout",
       "text": [
        "0.968235157922\n"
       ]
      }
     ],
     "prompt_number": 59
    },
    {
     "cell_type": "heading",
     "level": 2,
     "metadata": {},
     "source": [
      "Final Trainer"
     ]
    },
    {
     "cell_type": "code",
     "collapsed": false,
     "input": [
      "x_list = ['review_count_b', 'review_count_u', 'average_stars_u', 'average_stars_b', 'total', 'ln_rel', 'm_rel', 'a_rel', 'e_rel', 'n_rel' ]\n",
      "y_list = ['stars']\n"
     ],
     "language": "python",
     "metadata": {},
     "outputs": []
    },
    {
     "cell_type": "code",
     "collapsed": false,
     "input": [
      "y_train = du.constructData(TrainData, include_list = y_list)\n",
      "x_train = du.constructData(TrainData, include_list = x_list)\n",
      "x_train, y_train = du.combineIntersectXY(x_train, y_train)\n",
      "        \n",
      "trained_classifier = classifier.fit(X = x_train, y = y_train)"
     ],
     "language": "python",
     "metadata": {},
     "outputs": [],
     "prompt_number": 28
    },
    {
     "cell_type": "heading",
     "level": 2,
     "metadata": {},
     "source": [
      "Final Testing and submission"
     ]
    },
    {
     "cell_type": "code",
     "collapsed": false,
     "input": [
      "TestData_imp = du.imputer(TrainData, TestData, impute_vars = x_list.extend(y_list), by_var = 'Primary_Category',  mean = False)\n",
      "                       "
     ],
     "language": "python",
     "metadata": {},
     "outputs": [],
     "prompt_number": 18
    },
    {
     "cell_type": "code",
     "collapsed": false,
     "input": [
      "for var in xlist:\n",
      "    TestData_imp[var].fillna(TestData_imp['imp_' + var], inplace = True)"
     ],
     "language": "python",
     "metadata": {},
     "outputs": [],
     "prompt_number": 26
    },
    {
     "cell_type": "code",
     "collapsed": false,
     "input": [
      "x_test = du.constructData(TestData_imp, include_list = x_list)"
     ],
     "language": "python",
     "metadata": {},
     "outputs": [],
     "prompt_number": 29
    },
    {
     "cell_type": "code",
     "collapsed": false,
     "input": [
      "y_hat = du.rescale(trained_classifier.predict(x_test), 1, 5)"
     ],
     "language": "python",
     "metadata": {},
     "outputs": [],
     "prompt_number": 30
    },
    {
     "cell_type": "code",
     "collapsed": false,
     "input": [
      "submission = pd.DataFrame(index = TestData.index)\n",
      "submission['user_id'] = TestData['user_id']\n",
      "submission['business_id'] = TestData['business_id']\n",
      "submission['stars'] = pd.Series(y_hat)"
     ],
     "language": "python",
     "metadata": {},
     "outputs": [],
     "prompt_number": 31
    },
    {
     "cell_type": "code",
     "collapsed": false,
     "input": [
      "key = pd.read_csv('../data/raw/IdLookupTable.csv')"
     ],
     "language": "python",
     "metadata": {},
     "outputs": [],
     "prompt_number": 32
    },
    {
     "cell_type": "code",
     "collapsed": false,
     "input": [
      "submission = pd.merge(left = key, right = submission, on = ['business_id','user_id'], how = 'left')\n",
      "del submission['user_id']\n",
      "del submission['business_id']"
     ],
     "language": "python",
     "metadata": {},
     "outputs": [],
     "prompt_number": 33
    },
    {
     "cell_type": "code",
     "collapsed": false,
     "input": [
      "submission.sort('RecommendationId', inplace = True)"
     ],
     "language": "python",
     "metadata": {},
     "outputs": [],
     "prompt_number": 34
    },
    {
     "cell_type": "code",
     "collapsed": false,
     "input": [
      "submission.to_csv(\"../data/processed/submission_2013-07-05_b.csv\", index = False)"
     ],
     "language": "python",
     "metadata": {},
     "outputs": [],
     "prompt_number": 35
    }
   ],
   "metadata": {}
  }
 ]
}