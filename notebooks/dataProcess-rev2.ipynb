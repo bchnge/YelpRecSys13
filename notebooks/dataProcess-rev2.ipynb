{
 "metadata": {
  "name": "dataProcess-rev2"
 },
 "nbformat": 3,
 "nbformat_minor": 0,
 "worksheets": [
  {
   "cells": [
    {
     "cell_type": "code",
     "collapsed": false,
     "input": [
      "import json\n",
      "import YelpRecSys13.src.data_util as du\n",
      "import YelpRecSys13.src.regression_methods as rm\n",
      "import sklearn.linear_model as linear\n",
      "import sklearn.cross_validation as cv\n",
      "import sklearn.ensemble as ensemble\n",
      "import pandas as pd\n",
      "import numpy as np\n",
      "import sklearn.svm as svm\n"
     ],
     "language": "python",
     "metadata": {},
     "outputs": [],
     "prompt_number": 1
    },
    {
     "cell_type": "code",
     "collapsed": false,
     "input": [
      "TRAININGPATH = \"../data/raw/yelp_training_set/\"\n",
      "TESTPATH = \"../data/raw/yelp_test_set/\""
     ],
     "language": "python",
     "metadata": {},
     "outputs": [],
     "prompt_number": 2
    },
    {
     "cell_type": "heading",
     "level": 1,
     "metadata": {},
     "source": [
      "Read in data"
     ]
    },
    {
     "cell_type": "code",
     "collapsed": false,
     "input": [
      "train_users = du.json2dataframe(TRAININGPATH + \"yelp_training_set_user.json\")\n",
      "train_businesses = du.json2dataframe(TRAININGPATH + \"yelp_training_set_business.json\")\n",
      "train_reviews = du.json2dataframe(TRAININGPATH + \"yelp_training_set_review.json\")\n",
      "train_checkins = du.checkin2dataframe(TRAININGPATH + \"yelp_training_set_checkin.json\")\n",
      "\n",
      "test_users = du.json2dataframe(TESTPATH + \"yelp_test_set_user.json\")\n",
      "test_businesses = du.json2dataframe(TESTPATH + \"yelp_test_set_business.json\")\n",
      "test_reviews = du.json2dataframe(TESTPATH + \"yelp_test_set_review.json\")\n",
      "test_checkins = du.checkin2dataframe(TESTPATH + \"yelp_test_set_checkin.json\")\n"
     ],
     "language": "python",
     "metadata": {},
     "outputs": [],
     "prompt_number": 3
    },
    {
     "cell_type": "code",
     "collapsed": false,
     "input": [
      "test_reviews['key'] = pd.Series(arange(0,len(test_reviews)), index = test_reviews.index)\n",
      "train_users['user_in_training'] = pd.Series(ones(len(train_users)), index = train_users.index)\n",
      "train_businesses['business_in_training'] = pd.Series(ones(len(train_businesses)), index = train_businesses.index)\n",
      "\n",
      "train_businesses.rename(columns = {'stars':'average_stars_b'}, inplace = True)\n",
      "train_users.rename(columns = {'average_stars':'average_stars_u'}, inplace = True)\n",
      "\n",
      "for d in [train_users, test_users]:\n",
      "    d.rename(columns = {'review_count':'review_count_u'}, inplace = True)\n",
      "\n",
      "for d in [train_businesses, test_businesses]:\n",
      "    d.rename(columns = {'review_count':'review_count_b'}, inplace = True)"
     ],
     "language": "python",
     "metadata": {},
     "outputs": [],
     "prompt_number": 4
    },
    {
     "cell_type": "code",
     "collapsed": false,
     "input": [
      "TrainData = pd.merge(left = train_reviews, right = train_users, how = 'left', on = ['user_id'], suffixes = ['_rev','_u'])\n",
      "TrainData = pd.merge(left = TrainData, right = train_businesses, how = 'left', on = ['business_id'], suffixes = ['_rev', '_b'])\n",
      "TrainData = pd.merge(left = TrainData, right = train_checkins, how = 'left', on = ['business_id'])"
     ],
     "language": "python",
     "metadata": {},
     "outputs": [],
     "prompt_number": 5
    },
    {
     "cell_type": "code",
     "collapsed": false,
     "input": [
      "train_users = train_users.append(test_users)\n",
      "train_businesses = train_businesses.append(test_businesses)\n",
      "train_checkins = train_checkins.append(test_checkins)\n"
     ],
     "language": "python",
     "metadata": {},
     "outputs": [],
     "prompt_number": 6
    },
    {
     "cell_type": "code",
     "collapsed": false,
     "input": [
      "TestData = pd.merge(left = test_reviews, right = train_users, how = 'left', on = ['user_id'], suffixes = ['_rev','_u'])\n",
      "TestData = pd.merge(left = TestData, right = train_businesses, how = 'left', on = ['business_id'], suffixes = ['_rev', '_b'])\n",
      "TestData = pd.merge(left = TestData, right = train_checkins, how = 'left', on = ['business_id'])"
     ],
     "language": "python",
     "metadata": {},
     "outputs": [],
     "prompt_number": 7
    },
    {
     "cell_type": "code",
     "collapsed": false,
     "input": [
      "TestData['datatype'] = pd.Series(index = TestData.index, dtype = unicode)"
     ],
     "language": "python",
     "metadata": {},
     "outputs": [],
     "prompt_number": 8
    },
    {
     "cell_type": "code",
     "collapsed": false,
     "input": [
      "user_yes = TestData.user_in_training == 1\n",
      "bus_yes = TestData.business_in_training == 1"
     ],
     "language": "python",
     "metadata": {},
     "outputs": [],
     "prompt_number": 9
    },
    {
     "cell_type": "code",
     "collapsed": false,
     "input": [
      "TestData['datatype'][user_yes &  ~bus_yes] = 'user only'\n",
      "TestData['datatype'][~user_yes &  ~bus_yes] = 'none'\n",
      "TestData['datatype'][~user_yes &  bus_yes] = 'business only'\n",
      "TestData['datatype'][user_yes &  bus_yes] = 'both'"
     ],
     "language": "python",
     "metadata": {},
     "outputs": [],
     "prompt_number": 10
    },
    {
     "cell_type": "code",
     "collapsed": false,
     "input": [
      "TestData.datatype.value_counts()"
     ],
     "language": "python",
     "metadata": {},
     "outputs": [
      {
       "output_type": "pyout",
       "prompt_number": 11,
       "text": [
        "user only        7679\n",
        "both             6168\n",
        "business only    6086\n",
        "none             3023\n",
        "dtype: int64"
       ]
      }
     ],
     "prompt_number": 11
    },
    {
     "cell_type": "code",
     "collapsed": false,
     "input": [
      "category =  []\n",
      "for i in TrainData.categories:\n",
      "    if len(i)!= 0:\n",
      "        category.append(i[-1])\n",
      "    else:\n",
      "        category.append(nan)\n",
      "TrainData['Primary_Category'] = pd.Series(category, index = TrainData.index)"
     ],
     "language": "python",
     "metadata": {},
     "outputs": [],
     "prompt_number": 12
    },
    {
     "cell_type": "code",
     "collapsed": false,
     "input": [
      "category =  []\n",
      "for i in TestData.categories:\n",
      "    if len(i)!= 0:\n",
      "        category.append(i[-1])\n",
      "    else:\n",
      "        category.append(nan)\n",
      "TestData['Primary_Category'] = pd.Series(category, index = TestData.index)"
     ],
     "language": "python",
     "metadata": {},
     "outputs": [],
     "prompt_number": 13
    },
    {
     "cell_type": "code",
     "collapsed": false,
     "input": [
      "TestData_imp = du.imputer(TrainData, TestData, impute_vars = ['review_count_b', 'review_count_u', 'average_stars_u', 'average_stars_b', 'stars'], by_var = 'Primary_Category',  mean = False)"
     ],
     "language": "python",
     "metadata": {},
     "outputs": [],
     "prompt_number": 14
    },
    {
     "cell_type": "code",
     "collapsed": false,
     "input": [
      "classifier = ensemble.GradientBoostingRegressor(random_state = 1)"
     ],
     "language": "python",
     "metadata": {},
     "outputs": [],
     "prompt_number": 15
    },
    {
     "cell_type": "code",
     "collapsed": false,
     "input": [
      "y = du.constructData(TrainData, include_list = ['stars'])\n",
      "x = du.constructData(TrainData, include_list = ['review_count_u', 'review_count_b', 'average_stars_u', 'average_stars_b'])\n",
      "x,y = du.combineIntersectXY(x,y)\n",
      "rm.evaluateModel(x,y,classifier)"
     ],
     "language": "python",
     "metadata": {},
     "outputs": [
      {
       "output_type": "pyout",
       "prompt_number": 16,
       "text": [
        "0.96078229164794615"
       ]
      }
     ],
     "prompt_number": 16
    },
    {
     "cell_type": "code",
     "collapsed": false,
     "input": [
      "TrainData2, vectorizer = du.text2featureArray(TrainData, 'text', 'stars', 25)\n",
      "\n",
      "indep_vars = ['review_count_u', 'review_count_b', 'average_stars_u', 'average_stars_b']\n",
      "indep_vars.extend(du.get_features(TrainData2))"
     ],
     "language": "python",
     "metadata": {},
     "outputs": [],
     "prompt_number": 17
    },
    {
     "cell_type": "code",
     "collapsed": false,
     "input": [
      "y = du.constructData(TrainData2, include_list = ['stars'])\n",
      "x = du.constructData(TrainData2, include_list = indep_vars)\n",
      "x,y = du.combineIntersectXY(x,y)\n",
      "rm.evaluateModel(x,y,classifier)"
     ],
     "language": "python",
     "metadata": {},
     "outputs": [
      {
       "output_type": "pyout",
       "prompt_number": 18,
       "text": [
        "0.9125634801445861"
       ]
      }
     ],
     "prompt_number": 18
    },
    {
     "cell_type": "code",
     "collapsed": false,
     "input": [
      "for var in ['review_count_b', 'review_count_u', 'average_stars_u', 'average_stars_b']:\n",
      "    TestData_imp[var].fillna(TestData_imp['imp_' + var], inplace = True)"
     ],
     "language": "python",
     "metadata": {},
     "outputs": [],
     "prompt_number": 19
    },
    {
     "cell_type": "code",
     "collapsed": false,
     "input": [
      "y_train = du.constructData(TrainData, include_list = ['stars'])\n",
      "x_train = du.constructData(TrainData, include_list = ['review_count_u', 'review_count_b', 'average_stars_u', 'average_stars_b'])\n",
      "x_train, y_train = du.combineIntersectXY(x_train, y_train)\n",
      "trained_classifier = classifier.fit(X = x_train, y = y_train)"
     ],
     "language": "python",
     "metadata": {},
     "outputs": [],
     "prompt_number": 20
    },
    {
     "cell_type": "code",
     "collapsed": false,
     "input": [
      "x_test = du.constructData(TestData_imp, include_list = ['review_count_u', 'review_count_b', 'average_stars_u', 'average_stars_b'])"
     ],
     "language": "python",
     "metadata": {},
     "outputs": [],
     "prompt_number": 21
    },
    {
     "cell_type": "code",
     "collapsed": false,
     "input": [
      "y_hat = du.rescale(trained_classifier.predict(x_test), 1, 5)"
     ],
     "language": "python",
     "metadata": {},
     "outputs": [],
     "prompt_number": 47
    },
    {
     "cell_type": "code",
     "collapsed": false,
     "input": [
      "submission = pd.DataFrame(index = TestData.index)\n",
      "submission['user_id'] = TestData['user_id']\n",
      "submission['business_id'] = TestData['business_id']\n",
      "submission['key'] = TestData['key']\n",
      "submission['stars'] = pd.Series(y_hat)"
     ],
     "language": "python",
     "metadata": {},
     "outputs": [],
     "prompt_number": 48
    },
    {
     "cell_type": "code",
     "collapsed": false,
     "input": [
      "submission.sort(columns = 'key', inplace = True)"
     ],
     "language": "python",
     "metadata": {},
     "outputs": [],
     "prompt_number": 49
    },
    {
     "cell_type": "code",
     "collapsed": false,
     "input": [
      "key = pd.read_csv('../data/raw/IdLookupTable.csv')"
     ],
     "language": "python",
     "metadata": {},
     "outputs": [],
     "prompt_number": 50
    },
    {
     "cell_type": "code",
     "collapsed": false,
     "input": [
      "submission = pd.merge(left = key, right = submission, on = ['business_id','user_id'], how = 'left')\n",
      "del submission['user_id']\n",
      "del submission['business_id']\n",
      "del submission['key']"
     ],
     "language": "python",
     "metadata": {},
     "outputs": [],
     "prompt_number": 51
    },
    {
     "cell_type": "code",
     "collapsed": false,
     "input": [
      "submission.sort('RecommendationId', inplace = True)"
     ],
     "language": "python",
     "metadata": {},
     "outputs": [],
     "prompt_number": 52
    },
    {
     "cell_type": "code",
     "collapsed": false,
     "input": [
      "submission.to_csv(\"../data/processed/submission_2013-06-29_b.csv\", index = False)\n"
     ],
     "language": "python",
     "metadata": {},
     "outputs": [],
     "prompt_number": 53
    }
   ],
   "metadata": {}
  }
 ]
}