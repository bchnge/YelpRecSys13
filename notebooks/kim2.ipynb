{
 "metadata": {
  "name": "kim2"
 },
 "nbformat": 3,
 "nbformat_minor": 0,
 "worksheets": [
  {
   "cells": [
    {
     "cell_type": "code",
     "collapsed": false,
     "input": [
      "import json\n",
      "import pandas as pd\n",
      "import YelpRecSys13.src.data_util as du\n",
      "import numpy\n",
      "userraw = '/home/aise/Downloads/yelp_training_set/yelp_training_set_user.json'\n",
      "reviewraw = '/home/aise/Downloads/yelp_training_set/yelp_training_set_review.json'\n",
      "businessraw = '/home/aise/Downloads/yelp_training_set/yelp_training_set_business.json'\n",
      "checkinraw = '/home/aise/Downloads/yelp_training_set/yelp_training_set_checkin.json'"
     ],
     "language": "python",
     "metadata": {},
     "outputs": [],
     "prompt_number": 1
    },
    {
     "cell_type": "code",
     "collapsed": false,
     "input": [
      "usersdu = du.json2dataframe(userraw,['review_count', 'type'])\n",
      "reviewsdu = du.json2dataframe(reviewraw,['text','type','review_id'])\n",
      "reviewsdu2 = du.json2dataframe(reviewraw,['text','type','review_id','user_id'])\n",
      "businessesdu = du.json2dataframe(businessraw)"
     ],
     "language": "python",
     "metadata": {},
     "outputs": [],
     "prompt_number": 2
    },
    {
     "cell_type": "code",
     "collapsed": false,
     "input": [
      "checkinsdu = du.json2dataframe(checkinraw)"
     ],
     "language": "python",
     "metadata": {},
     "outputs": [
      {
       "ename": "KeyError",
       "evalue": "u'0-5'",
       "output_type": "pyerr",
       "traceback": [
        "\u001b[1;31m---------------------------------------------------------------------------\u001b[0m\n\u001b[1;31mKeyError\u001b[0m                                  Traceback (most recent call last)",
        "\u001b[1;32m<ipython-input-7-dbe7175a17e9>\u001b[0m in \u001b[0;36m<module>\u001b[1;34m()\u001b[0m\n\u001b[1;32m----> 1\u001b[1;33m \u001b[0mcheckinsdu\u001b[0m \u001b[1;33m=\u001b[0m \u001b[0mdu\u001b[0m\u001b[1;33m.\u001b[0m\u001b[0mjson2dataframe\u001b[0m\u001b[1;33m(\u001b[0m\u001b[0mcheckinraw\u001b[0m\u001b[1;33m)\u001b[0m\u001b[1;33m\u001b[0m\u001b[0m\n\u001b[0m",
        "\u001b[1;32m/home/aise/YelpRecSys13/src/data_util.pyc\u001b[0m in \u001b[0;36mjson2dataframe\u001b[1;34m(file, exclude)\u001b[0m\n\u001b[0;32m     29\u001b[0m         \u001b[1;32mif\u001b[0m \u001b[0mcoltype\u001b[0m \u001b[1;33m==\u001b[0m \u001b[0mdict\u001b[0m\u001b[1;33m:\u001b[0m\u001b[1;33m\u001b[0m\u001b[0m\n\u001b[0;32m     30\u001b[0m             \u001b[1;32mfor\u001b[0m \u001b[0mcol2\u001b[0m \u001b[1;32min\u001b[0m \u001b[0mdata\u001b[0m\u001b[1;33m[\u001b[0m\u001b[1;36m1\u001b[0m\u001b[1;33m]\u001b[0m\u001b[1;33m[\u001b[0m\u001b[0mcol\u001b[0m\u001b[1;33m]\u001b[0m\u001b[1;33m.\u001b[0m\u001b[0mkeys\u001b[0m\u001b[1;33m(\u001b[0m\u001b[1;33m)\u001b[0m\u001b[1;33m:\u001b[0m\u001b[1;33m\u001b[0m\u001b[0m\n\u001b[1;32m---> 31\u001b[1;33m                 \u001b[0mfinaldata\u001b[0m\u001b[1;33m[\u001b[0m\u001b[0mcol2\u001b[0m\u001b[1;33m]\u001b[0m \u001b[1;33m=\u001b[0m \u001b[1;33m[\u001b[0m\u001b[0mv\u001b[0m\u001b[1;33m[\u001b[0m\u001b[0mcol\u001b[0m\u001b[1;33m]\u001b[0m\u001b[1;33m[\u001b[0m\u001b[0mcol2\u001b[0m\u001b[1;33m]\u001b[0m \u001b[1;32mfor\u001b[0m \u001b[0mv\u001b[0m \u001b[1;32min\u001b[0m \u001b[0mdata\u001b[0m\u001b[1;33m]\u001b[0m\u001b[1;33m\u001b[0m\u001b[0m\n\u001b[0m\u001b[0;32m     32\u001b[0m \u001b[1;33m\u001b[0m\u001b[0m\n\u001b[0;32m     33\u001b[0m     \u001b[1;31m# Delete variables to be excluded\u001b[0m\u001b[1;33m\u001b[0m\u001b[1;33m\u001b[0m\u001b[0m\n",
        "\u001b[1;31mKeyError\u001b[0m: u'0-5'"
       ]
      }
     ],
     "prompt_number": 7
    },
    {
     "cell_type": "code",
     "collapsed": false,
     "input": [
      "ReviewsPerUser = pd.DataFrame(columns=reviewsdu.columns)\n",
      "end = len(reviewsdu)\n",
      "count = 0\n",
      "total = 0\n",
      "user = 0\n",
      "\n",
      "while count != end:\n",
      "    if usersdu['user_id'][user] == reviewsdu['user_id'][count]:        \n",
      "        ReviewsPerUser = ReviewsPerUser.append(reviewsdu.ix[count],ignore_index=True)        \n",
      "        total +=1\n",
      "    count += 1\n",
      "print total,\"reviews found from user_id\",usersdu['user_id'][user]"
     ],
     "language": "python",
     "metadata": {},
     "outputs": [
      {
       "output_type": "stream",
       "stream": "stdout",
       "text": [
        "3 reviews found from user_id CR2y7yEm4X035ZMzrTtN9Q\n"
       ]
      }
     ],
     "prompt_number": 3
    },
    {
     "cell_type": "code",
     "collapsed": false,
     "input": [
      "ReviewsPerUser = pd.DataFrame(columns=['user_id','review_count','reviews'])\n",
      "reviewend = len(reviewsdu)\n",
      "\n",
      "\n",
      "user = 0\n",
      "usertotal = len(usersdu)\n",
      "\n",
      "while user != usertotal:\n",
      "    \n",
      "    curuser = usersdu['user_id'][user]\n",
      "    ReviewsPerUser = ReviewsPerUser.append({'user_id' : curuser}, ignore_index = True)\n",
      "    tempdf = pd.DataFrame(columns=reviewsdu2.columns)\n",
      "    \n",
      "    reviewtotal = 0\n",
      "    reviewcount = 0\n",
      "    \n",
      "    print 'collecting reviews for user',curuser,', item',user+1,'of',usertotal+1\n",
      "    \n",
      "    while reviewcount != reviewend:        \n",
      "        if curuser == reviewsdu['user_id'][reviewcount]:\n",
      "            tempdf = tempdf.append(reviewsdu2.ix[reviewcount], ignore_index = True)\n",
      "            reviewtotal +=1\n",
      "        reviewcount += 1\n",
      "        \n",
      "    ReviewsPerUser['reviews'][user] = tempdf    \n",
      "    ReviewsPerUser['review_count'][user] = reviewtotal    \n",
      "    \n",
      "    user +=1\n"
     ],
     "language": "python",
     "metadata": {},
     "outputs": [
      {
       "output_type": "stream",
       "stream": "stdout",
       "text": [
        "collecting reviews for user CR2y7yEm4X035ZMzrTtN9Q\n",
        "item 1 of 43874\n",
        "collecting reviews for user"
       ]
      },
      {
       "output_type": "stream",
       "stream": "stdout",
       "text": [
        " _9GXoHhdxc30ujPaQwh6Ew\n",
        "item 2 of 43874\n",
        "collecting reviews for user"
       ]
      },
      {
       "output_type": "stream",
       "stream": "stdout",
       "text": [
        " 8mM-nqxjg6pT04kwcjMbsw\n",
        "item 3 of 43874\n",
        "collecting reviews for user"
       ]
      },
      {
       "output_type": "stream",
       "stream": "stdout",
       "text": [
        " Ch6CdTR2IVaVANr-RglMOg\n",
        "item 4 of 43874\n",
        "collecting reviews for user"
       ]
      },
      {
       "output_type": "stream",
       "stream": "stdout",
       "text": [
        " NZrLmHRyiHmyT1JrfzkCOA\n",
        "item 5 of 43874\n",
        "collecting reviews for user"
       ]
      },
      {
       "output_type": "stream",
       "stream": "stdout",
       "text": [
        " mWx5Sxt_dx-sYBZg6RgJHQ\n",
        "item 6 of 43874\n",
        "collecting reviews for user"
       ]
      },
      {
       "output_type": "stream",
       "stream": "stdout",
       "text": [
        " hryUDaRk7FLuDAYui2oldw\n",
        "item 7 of 43874\n",
        "collecting reviews for user"
       ]
      },
      {
       "output_type": "stream",
       "stream": "stdout",
       "text": [
        " 2t6fZNLtiqsihVmeO7zggg\n",
        "item 8 of 43874\n",
        "collecting reviews for user"
       ]
      },
      {
       "output_type": "stream",
       "stream": "stdout",
       "text": [
        " mn6F-eP5WU37b-iLTop2mQ\n",
        "item 9 of 43874\n",
        "collecting reviews for user"
       ]
      },
      {
       "output_type": "stream",
       "stream": "stdout",
       "text": [
        " myXq7PFXkD_yfXT580SXMw\n",
        "item 10 of 43874\n",
        "collecting reviews for user"
       ]
      },
      {
       "output_type": "stream",
       "stream": "stdout",
       "text": [
        " EMpFiVyiaMS58XsLZdS6vA\n",
        "item 11 of 43874\n",
        "collecting reviews for user"
       ]
      },
      {
       "output_type": "stream",
       "stream": "stdout",
       "text": [
        " 74Y-B-8MJhshV7aYSQ93lQ\n",
        "item 12 of 43874\n",
        "collecting reviews for user"
       ]
      },
      {
       "output_type": "stream",
       "stream": "stdout",
       "text": [
        " 34ir_XnUsrqserEuSZdGQA\n",
        "item 13 of 43874\n",
        "collecting reviews for user"
       ]
      },
      {
       "output_type": "stream",
       "stream": "stdout",
       "text": [
        " 1Aq2NzZGREMRdAkw55V7dg\n",
        "item 14 of 43874\n",
        "collecting reviews for user"
       ]
      },
      {
       "output_type": "stream",
       "stream": "stdout",
       "text": [
        " B7XCvzvcriFc8xfIA-Wg4A\n",
        "item 15 of 43874\n",
        "collecting reviews for user"
       ]
      },
      {
       "output_type": "stream",
       "stream": "stdout",
       "text": [
        " 1aoDw1jVm5UQrVacWg0vnw\n",
        "item 16 of 43874\n",
        "collecting reviews for user"
       ]
      },
      {
       "output_type": "stream",
       "stream": "stdout",
       "text": [
        " iH6y1T5AZZxaKpSNmvjGWw\n",
        "item 17 of 43874\n",
        "collecting reviews for user"
       ]
      },
      {
       "output_type": "stream",
       "stream": "stdout",
       "text": [
        " 2tyadgcxcaEu5LWgLdwLAQ\n",
        "item 18 of 43874\n",
        "collecting reviews for user"
       ]
      },
      {
       "output_type": "stream",
       "stream": "stdout",
       "text": [
        " mc2glxrNAZuPnCudIaoK4Q\n",
        "item 19 of 43874\n",
        "collecting reviews for user"
       ]
      },
      {
       "output_type": "stream",
       "stream": "stdout",
       "text": [
        " LKFo-Z93fhHHF-CkXoXvLw\n",
        "item 20 of 43874\n",
        "collecting reviews for user"
       ]
      },
      {
       "output_type": "stream",
       "stream": "stdout",
       "text": [
        " 09ZCt5inrt35zuJVtxBB5A\n",
        "item 21 of 43874\n",
        "collecting reviews for user"
       ]
      },
      {
       "output_type": "stream",
       "stream": "stdout",
       "text": [
        " aSwY5VAO1S0uZASZlZgB3A\n",
        "item 22 of 43874\n",
        "collecting reviews for user"
       ]
      },
      {
       "output_type": "stream",
       "stream": "stdout",
       "text": [
        " oh3BckWd5WXSANfGlnjErQ\n",
        "item 23 of 43874\n",
        "collecting reviews for user"
       ]
      },
      {
       "output_type": "stream",
       "stream": "stdout",
       "text": [
        " y5YxcvgbQX_uVW0UtHWKxA\n",
        "item 24 of 43874\n",
        "collecting reviews for user"
       ]
      },
      {
       "output_type": "stream",
       "stream": "stdout",
       "text": [
        " Vu29H1sy1poRld4LIL2Jqw\n",
        "item 25 of 43874\n",
        "collecting reviews for user"
       ]
      },
      {
       "output_type": "stream",
       "stream": "stdout",
       "text": [
        " iK7I2HQ8kiyms_XuENr55w\n",
        "item 26 of 43874\n",
        "collecting reviews for user"
       ]
      },
      {
       "output_type": "stream",
       "stream": "stdout",
       "text": [
        " QlSVps_q61IThBo489_Zyw\n",
        "item 27 of 43874\n",
        "collecting reviews for user"
       ]
      },
      {
       "output_type": "stream",
       "stream": "stdout",
       "text": [
        " mzenirXt-7sZR2RhkhvLDQ\n",
        "item 28 of 43874\n",
        "collecting reviews for user"
       ]
      },
      {
       "output_type": "stream",
       "stream": "stdout",
       "text": [
        " qMCT8OblN3finTvXcba-oA\n",
        "item 29 of 43874\n",
        "collecting reviews for user"
       ]
      },
      {
       "output_type": "stream",
       "stream": "stdout",
       "text": [
        " jy94hgtLcuD0BbZ7o8KCYQ\n",
        "item 30 of 43874\n",
        "collecting reviews for user"
       ]
      },
      {
       "output_type": "stream",
       "stream": "stdout",
       "text": [
        " 8lrTKMjIJ9kt7rfVtjq3qg\n",
        "item 31 of 43874\n",
        "collecting reviews for user"
       ]
      },
      {
       "output_type": "stream",
       "stream": "stdout",
       "text": [
        " IcSsf2QCA7T-KpdraDxTew\n",
        "item 32 of 43874\n",
        "collecting reviews for user"
       ]
      },
      {
       "output_type": "stream",
       "stream": "stdout",
       "text": [
        " d09KNIq4YPYq1u5nVyqIUg\n",
        "item 33 of 43874\n",
        "collecting reviews for user"
       ]
      },
      {
       "output_type": "stream",
       "stream": "stdout",
       "text": [
        " vxxNafFH_OMD5B1l231toA\n",
        "item 34 of 43874\n",
        "collecting reviews for user"
       ]
      },
      {
       "output_type": "stream",
       "stream": "stdout",
       "text": [
        " bwPaqC08ddUoq-zminI3bw\n",
        "item 35 of 43874\n",
        "collecting reviews for user"
       ]
      },
      {
       "output_type": "stream",
       "stream": "stdout",
       "text": [
        " LzT8mSfliJHhs68RTwQW5w\n",
        "item 36 of 43874\n",
        "collecting reviews for user"
       ]
      },
      {
       "output_type": "stream",
       "stream": "stdout",
       "text": [
        " vAAeeV-kqabpuVr-DmtdFA\n",
        "item 37 of 43874\n",
        "collecting reviews for user"
       ]
      },
      {
       "output_type": "stream",
       "stream": "stdout",
       "text": [
        " R75rQfzSeXzO9LVh0MFjJg\n",
        "item 38 of 43874\n",
        "collecting reviews for user"
       ]
      },
      {
       "output_type": "stream",
       "stream": "stdout",
       "text": [
        " D_nff52rbs-OCZbVXeCqzg\n",
        "item 39 of 43874\n",
        "collecting reviews for user"
       ]
      },
      {
       "output_type": "stream",
       "stream": "stdout",
       "text": [
        " 6lyD0ZdmmYZsOMFFwOWsog\n",
        "item 40 of 43874\n",
        "collecting reviews for user"
       ]
      },
      {
       "output_type": "stream",
       "stream": "stdout",
       "text": [
        " hqjDAPapGKJ3U4wUN1dGMA\n",
        "item 41 of 43874\n",
        "collecting reviews for user"
       ]
      },
      {
       "output_type": "stream",
       "stream": "stdout",
       "text": [
        " iR8iTaCOjQCM-JG4qf23NQ\n",
        "item 42 of 43874\n",
        "collecting reviews for user"
       ]
      },
      {
       "output_type": "stream",
       "stream": "stdout",
       "text": [
        " 1Md7FNu_GujIwxbb9TqSqQ\n",
        "item 43 of 43874\n",
        "collecting reviews for user"
       ]
      },
      {
       "output_type": "stream",
       "stream": "stdout",
       "text": [
        " -LmTXrlHEfLpDi34FVXNAg\n",
        "item 44 of 43874\n",
        "collecting reviews for user"
       ]
      },
      {
       "output_type": "stream",
       "stream": "stdout",
       "text": [
        " ysZSP646Ikjb9pPKxuBurw\n",
        "item 45 of 43874\n",
        "collecting reviews for user"
       ]
      },
      {
       "output_type": "stream",
       "stream": "stdout",
       "text": [
        " gXQ3peDz-H8mFZO_U4ys3w\n",
        "item 46 of 43874\n",
        "collecting reviews for user"
       ]
      },
      {
       "output_type": "stream",
       "stream": "stdout",
       "text": [
        " 8gIp7Emu7xBDnBjRKgkSOg\n",
        "item 47 of 43874\n",
        "collecting reviews for user"
       ]
      },
      {
       "output_type": "stream",
       "stream": "stdout",
       "text": [
        " 44302NAooinHOKKIWHDKXA\n",
        "item 48 of 43874\n",
        "collecting reviews for user"
       ]
      },
      {
       "output_type": "stream",
       "stream": "stdout",
       "text": [
        " BDa9RGFZv9TV2lGAiuqjxQ\n",
        "item 49 of 43874\n",
        "collecting reviews for user"
       ]
      },
      {
       "output_type": "stream",
       "stream": "stdout",
       "text": [
        " qw8n1PUrt4qBh-4eMjfv0Q\n",
        "item 50 of 43874\n",
        "collecting reviews for user"
       ]
      },
      {
       "output_type": "stream",
       "stream": "stdout",
       "text": [
        " F2M53He6gzMb1vp3m7cKJg\n",
        "item 51 of 43874\n",
        "collecting reviews for user"
       ]
      },
      {
       "output_type": "stream",
       "stream": "stdout",
       "text": [
        " Mcdt7tUA7jqiqCtyxXgq4g\n",
        "item 52 of 43874\n",
        "collecting reviews for user"
       ]
      },
      {
       "output_type": "stream",
       "stream": "stdout",
       "text": [
        " q10h5nL1LnbaKMlNOfahfQ\n",
        "item 53 of 43874\n",
        "collecting reviews for user"
       ]
      },
      {
       "output_type": "stream",
       "stream": "stdout",
       "text": [
        " CUUpi7gtqx1zojEGJ6Z5ew\n",
        "item 54 of 43874\n",
        "collecting reviews for user"
       ]
      },
      {
       "output_type": "stream",
       "stream": "stdout",
       "text": [
        " 6hvcowqr8NYug9u-Bzw8Jg\n",
        "item 55 of 43874\n",
        "collecting reviews for user"
       ]
      },
      {
       "output_type": "stream",
       "stream": "stdout",
       "text": [
        " pjfwk6ZnCAcJAsX4V6QhpA\n",
        "item 56 of 43874\n",
        "collecting reviews for user"
       ]
      },
      {
       "output_type": "stream",
       "stream": "stdout",
       "text": [
        " BqmMeZQD03LHJ_vibTOp2g\n",
        "item 57 of 43874\n",
        "collecting reviews for user"
       ]
      },
      {
       "output_type": "stream",
       "stream": "stdout",
       "text": [
        " lodglSjhVGXzRUTDMoyOCg\n",
        "item 58 of 43874\n",
        "collecting reviews for user"
       ]
      },
      {
       "output_type": "stream",
       "stream": "stdout",
       "text": [
        " vSxaLh9RCl1BJDbIt0hxww\n",
        "item 59 of 43874\n",
        "collecting reviews for user"
       ]
      },
      {
       "output_type": "stream",
       "stream": "stdout",
       "text": [
        " yBMGCKvNXnb9Gr6VVRTHGw\n",
        "item 60 of 43874\n",
        "collecting reviews for user"
       ]
      },
      {
       "output_type": "stream",
       "stream": "stdout",
       "text": [
        " 1zKpgs-JZixiWiS8PWdj2w\n",
        "item 61 of 43874\n",
        "collecting reviews for user"
       ]
      },
      {
       "output_type": "stream",
       "stream": "stdout",
       "text": [
        " lzHNLEvRNFN-RQFmczYNBw\n",
        "item 62 of 43874\n",
        "collecting reviews for user"
       ]
      },
      {
       "output_type": "stream",
       "stream": "stdout",
       "text": [
        " HplYk367S1EV6uywIIK5-w\n",
        "item 63 of 43874\n",
        "collecting reviews for user"
       ]
      },
      {
       "output_type": "stream",
       "stream": "stdout",
       "text": [
        " IwDii1N3yCTXsgs4Nm2OEQ\n",
        "item 64 of 43874\n",
        "collecting reviews for user"
       ]
      },
      {
       "output_type": "stream",
       "stream": "stdout",
       "text": [
        " sGL10Y44CVzzKNkLVeHOEQ\n",
        "item 65 of 43874\n",
        "collecting reviews for user"
       ]
      },
      {
       "output_type": "stream",
       "stream": "stdout",
       "text": [
        " UF4IY9O6EaVo-hS5FqMsiA\n",
        "item 66 of 43874\n",
        "collecting reviews for user"
       ]
      },
      {
       "output_type": "stream",
       "stream": "stdout",
       "text": [
        " mmLIP0mFRbDgRjlKvJSAQw\n",
        "item 67 of 43874\n",
        "collecting reviews for user"
       ]
      },
      {
       "output_type": "stream",
       "stream": "stdout",
       "text": [
        " j9CYALELapJci8kQ61_7Cg\n",
        "item 68 of 43874\n",
        "collecting reviews for user"
       ]
      },
      {
       "output_type": "stream",
       "stream": "stdout",
       "text": [
        " Q9YX5k3ICwUYGkMjADSokQ\n",
        "item 69 of 43874\n",
        "collecting reviews for user"
       ]
      },
      {
       "output_type": "stream",
       "stream": "stdout",
       "text": [
        " PyOkV3pQ1aw__O4VAWmvcw\n",
        "item 70 of 43874\n",
        "collecting reviews for user"
       ]
      },
      {
       "output_type": "stream",
       "stream": "stdout",
       "text": [
        " F6uG2OxXVNkAhuM24n3ZGg\n",
        "item 71 of 43874\n",
        "collecting reviews for user"
       ]
      },
      {
       "output_type": "stream",
       "stream": "stdout",
       "text": [
        " Acl3hg7RPM6tj4zkPvdz1Q\n",
        "item 72 of 43874\n",
        "collecting reviews for user"
       ]
      },
      {
       "output_type": "stream",
       "stream": "stdout",
       "text": [
        " dYtkphUrU7S2_bjif6k2uA\n",
        "item 73 of 43874\n",
        "collecting reviews for user"
       ]
      },
      {
       "output_type": "stream",
       "stream": "stdout",
       "text": [
        " jgOtDM_CSVHoWhlf3JxUzQ\n",
        "item 74 of 43874\n",
        "collecting reviews for user"
       ]
      },
      {
       "output_type": "stream",
       "stream": "stdout",
       "text": [
        " rbcbqdr8hV0iv8ISMheE3A\n",
        "item 75 of 43874\n",
        "collecting reviews for user"
       ]
      },
      {
       "output_type": "stream",
       "stream": "stdout",
       "text": [
        " ZAbccZRkyprv9jA5JIqEAw\n",
        "item 76 of 43874\n",
        "collecting reviews for user"
       ]
      },
      {
       "output_type": "stream",
       "stream": "stdout",
       "text": [
        " 1NppMyL-2RXQvHUExIjxdA\n",
        "item 77 of 43874\n",
        "collecting reviews for user"
       ]
      },
      {
       "output_type": "stream",
       "stream": "stdout",
       "text": [
        " cMmQsFyrYBv6hIE6NffqZQ\n",
        "item 78 of 43874\n",
        "collecting reviews for user"
       ]
      },
      {
       "output_type": "stream",
       "stream": "stdout",
       "text": [
        " eSAmN-5RAu8y1igSvz_yJw\n",
        "item 79 of 43874\n",
        "collecting reviews for user"
       ]
      },
      {
       "output_type": "stream",
       "stream": "stdout",
       "text": [
        " VKOREbYBDBK5oaorb6j6mQ\n",
        "item 80 of 43874\n",
        "collecting reviews for user"
       ]
      },
      {
       "output_type": "stream",
       "stream": "stdout",
       "text": [
        " LRsJbMmLXcMpZ3Fqcys0vA\n",
        "item 81 of 43874\n",
        "collecting reviews for user"
       ]
      },
      {
       "output_type": "stream",
       "stream": "stdout",
       "text": [
        " n4RPA0Cuem4ygQxPIdLBLQ\n",
        "item 82 of 43874\n",
        "collecting reviews for user"
       ]
      },
      {
       "output_type": "stream",
       "stream": "stdout",
       "text": [
        " qQxDnjMexrsfltQV7I1mJw\n",
        "item 83 of 43874\n",
        "collecting reviews for user"
       ]
      },
      {
       "output_type": "stream",
       "stream": "stdout",
       "text": [
        " pYfB2Asdqg5ampdmqEjdzA\n",
        "item 84 of 43874\n",
        "collecting reviews for user"
       ]
      },
      {
       "output_type": "stream",
       "stream": "stdout",
       "text": [
        " -aCl04VaJ4FWzo7y2diKZg\n",
        "item 85 of 43874\n",
        "collecting reviews for user"
       ]
      },
      {
       "output_type": "stream",
       "stream": "stdout",
       "text": [
        " TGQRbUuikgzO2ARVicH1cQ\n",
        "item 86 of 43874\n",
        "collecting reviews for user"
       ]
      },
      {
       "output_type": "stream",
       "stream": "stdout",
       "text": [
        " akmkd_2iLRrbOyPBfYLN0A\n",
        "item 87 of 43874\n",
        "collecting reviews for user"
       ]
      },
      {
       "output_type": "stream",
       "stream": "stdout",
       "text": [
        " f72UJVOllcjgpZdOi7-gkA\n",
        "item 88 of 43874\n",
        "collecting reviews for user"
       ]
      },
      {
       "output_type": "stream",
       "stream": "stdout",
       "text": [
        " EJeBInfAGoBiVWqXX2YTQg\n",
        "item 89 of 43874\n",
        "collecting reviews for user"
       ]
      },
      {
       "output_type": "stream",
       "stream": "stdout",
       "text": [
        " rpMb-wEYPevvuaKLIbqrvQ\n",
        "item 90 of 43874\n",
        "collecting reviews for user"
       ]
      },
      {
       "output_type": "stream",
       "stream": "stdout",
       "text": [
        " iIfuhtK9Pu7tLSNbxxoJfg\n",
        "item 91 of 43874\n",
        "collecting reviews for user"
       ]
      },
      {
       "output_type": "stream",
       "stream": "stdout",
       "text": [
        " BE27SDgLqJTEjVq2p9yZDg\n",
        "item 92 of 43874\n",
        "collecting reviews for user"
       ]
      },
      {
       "output_type": "stream",
       "stream": "stdout",
       "text": [
        " RqWIxCYG4a42mUCChgMQvA\n",
        "item 93 of 43874\n",
        "collecting reviews for user"
       ]
      },
      {
       "output_type": "stream",
       "stream": "stdout",
       "text": [
        " IFKDDiyY-ap8DNaSCIwbZQ\n",
        "item 94 of 43874\n",
        "collecting reviews for user"
       ]
      },
      {
       "output_type": "stream",
       "stream": "stdout",
       "text": [
        " sowwcc9gasFhwsdMgsMzrg\n",
        "item 95 of 43874\n",
        "collecting reviews for user"
       ]
      },
      {
       "output_type": "stream",
       "stream": "stdout",
       "text": [
        " XYx6ZiTSIpbC3qm_xEm-KA\n",
        "item 96 of 43874\n",
        "collecting reviews for user"
       ]
      },
      {
       "output_type": "stream",
       "stream": "stdout",
       "text": [
        " f_rpabHGZ4SgFZp5_jQ8KA\n",
        "item 97 of 43874\n",
        "collecting reviews for user"
       ]
      },
      {
       "output_type": "stream",
       "stream": "stdout",
       "text": [
        " zKyJDKJwAfWGB4HKXp9snw\n",
        "item 98 of 43874\n",
        "collecting reviews for user"
       ]
      },
      {
       "output_type": "stream",
       "stream": "stdout",
       "text": [
        " owCSYaRJEiV-kk2L2HP00A\n",
        "item 99 of 43874\n",
        "collecting reviews for user"
       ]
      },
      {
       "output_type": "stream",
       "stream": "stdout",
       "text": [
        " uBAMd01ZtGXaHrRD6THNzg\n",
        "item 100 of 43874\n",
        "collecting reviews for user"
       ]
      },
      {
       "output_type": "stream",
       "stream": "stdout",
       "text": [
        " JopzNRMvBxIc_M5pZfoK7Q\n",
        "item 101 of 43874\n",
        "collecting reviews for user"
       ]
      },
      {
       "output_type": "stream",
       "stream": "stdout",
       "text": [
        " IBgAJmUpRFt7oxz0A7l80A\n",
        "item 102 of 43874\n",
        "collecting reviews for user"
       ]
      },
      {
       "output_type": "stream",
       "stream": "stdout",
       "text": [
        " FxEau0b8pC_N7QeZNHZZtw\n",
        "item 103 of 43874\n",
        "collecting reviews for user"
       ]
      },
      {
       "output_type": "stream",
       "stream": "stdout",
       "text": [
        " u74AsCsDA4gSOGHySJTm3w\n",
        "item 104 of 43874\n",
        "collecting reviews for user"
       ]
      },
      {
       "output_type": "stream",
       "stream": "stdout",
       "text": [
        " 2QzrMw_uWZuhPFvqie0cmg\n",
        "item 105 of 43874\n",
        "collecting reviews for user"
       ]
      },
      {
       "output_type": "stream",
       "stream": "stdout",
       "text": [
        " 6LDJDgd3bllzpeo1JzJSIw\n",
        "item 106 of 43874\n",
        "collecting reviews for user"
       ]
      },
      {
       "output_type": "stream",
       "stream": "stdout",
       "text": [
        " z-TD7Mf07w8jdS2xbYp0Dw\n",
        "item 107 of 43874\n",
        "collecting reviews for user"
       ]
      },
      {
       "output_type": "stream",
       "stream": "stdout",
       "text": [
        " _j70DLAT_Unc8uR_PNkp_Q\n",
        "item 108 of 43874\n",
        "collecting reviews for user"
       ]
      },
      {
       "output_type": "stream",
       "stream": "stdout",
       "text": [
        " S7Zlol5qxWrRGX21Uqs4_A\n",
        "item 109 of 43874\n",
        "collecting reviews for user"
       ]
      },
      {
       "output_type": "stream",
       "stream": "stdout",
       "text": [
        " ZpRbqGdmhgiENWtw_XQ4OA\n",
        "item 110 of 43874\n",
        "collecting reviews for user"
       ]
      },
      {
       "output_type": "stream",
       "stream": "stdout",
       "text": [
        " 4expbzCvfg4ZEWh8MOD9Cw\n",
        "item 111 of 43874\n",
        "collecting reviews for user"
       ]
      },
      {
       "output_type": "stream",
       "stream": "stdout",
       "text": [
        " PXLb9RnpfSPRG4nNa1F05Q\n",
        "item 112 of 43874\n",
        "collecting reviews for user"
       ]
      },
      {
       "output_type": "stream",
       "stream": "stdout",
       "text": [
        " J0jywlzX6xwjDqPewyv7MA\n",
        "item 113 of 43874\n",
        "collecting reviews for user"
       ]
      },
      {
       "output_type": "stream",
       "stream": "stdout",
       "text": [
        " fM6zztYtf9W5DsXUhy941Q\n",
        "item 114 of 43874\n",
        "collecting reviews for user"
       ]
      },
      {
       "output_type": "stream",
       "stream": "stdout",
       "text": [
        " F3kzrZd3R_z60p5mPeAT-Q\n",
        "item 115 of 43874\n",
        "collecting reviews for user"
       ]
      },
      {
       "output_type": "stream",
       "stream": "stdout",
       "text": [
        " Lw2JfTJSlGLJa_qjoeYnbg\n",
        "item 116 of 43874\n",
        "collecting reviews for user"
       ]
      },
      {
       "output_type": "stream",
       "stream": "stdout",
       "text": [
        " TSmeNkbRpG_8REsLeTIwnA\n",
        "item 117 of 43874\n",
        "collecting reviews for user"
       ]
      },
      {
       "output_type": "stream",
       "stream": "stdout",
       "text": [
        " rxLztfrLaSOhwl5LTqbqzw\n",
        "item 118 of 43874\n",
        "collecting reviews for user"
       ]
      },
      {
       "output_type": "stream",
       "stream": "stdout",
       "text": [
        " GDs9jnBBln3KhU0teNsHDQ\n",
        "item 119 of 43874\n",
        "collecting reviews for user"
       ]
      },
      {
       "output_type": "stream",
       "stream": "stdout",
       "text": [
        " UlF9QddRCygQrmmXuwIFjg\n",
        "item 120 of 43874\n",
        "collecting reviews for user"
       ]
      },
      {
       "output_type": "stream",
       "stream": "stdout",
       "text": [
        " K-N_hbnmYNt35J35ocjbww\n",
        "item 121 of 43874\n",
        "collecting reviews for user"
       ]
      },
      {
       "output_type": "stream",
       "stream": "stdout",
       "text": [
        " i2srUvYyu0rX8ODt_RKG3w\n",
        "item 122 of 43874\n",
        "collecting reviews for user"
       ]
      },
      {
       "output_type": "stream",
       "stream": "stdout",
       "text": [
        " GN-4LStZtWdAqNjwUUEvNQ\n",
        "item 123 of 43874\n",
        "collecting reviews for user"
       ]
      },
      {
       "output_type": "stream",
       "stream": "stdout",
       "text": [
        " jv9monaBCfX84LIW5gFs2w\n",
        "item 124 of 43874\n",
        "collecting reviews for user"
       ]
      },
      {
       "output_type": "stream",
       "stream": "stdout",
       "text": [
        " 3ouCNuKrN3cw3bBZHXdcyQ\n",
        "item 125 of 43874\n",
        "collecting reviews for user"
       ]
      },
      {
       "output_type": "stream",
       "stream": "stdout",
       "text": [
        " SfXcp7C6lzRgYBiNL6zX7w\n",
        "item 126 of 43874\n",
        "collecting reviews for user"
       ]
      },
      {
       "output_type": "stream",
       "stream": "stdout",
       "text": [
        " kfvcQcMouoxlw4bmQebxww\n",
        "item 127 of 43874\n",
        "collecting reviews for user"
       ]
      },
      {
       "output_type": "stream",
       "stream": "stdout",
       "text": [
        " 2mQpxWifARjbp7H1rehVrQ\n",
        "item 128 of 43874\n",
        "collecting reviews for user"
       ]
      },
      {
       "output_type": "stream",
       "stream": "stdout",
       "text": [
        " gkLF4m_BlvFRhOuh1OGgyw\n",
        "item 129 of 43874\n",
        "collecting reviews for user"
       ]
      },
      {
       "ename": "KeyboardInterrupt",
       "evalue": "",
       "output_type": "pyerr",
       "traceback": [
        "\u001b[1;31m---------------------------------------------------------------------------\u001b[0m\n\u001b[1;31mKeyboardInterrupt\u001b[0m                         Traceback (most recent call last)",
        "\u001b[1;32m<ipython-input-7-20e7007f5b0f>\u001b[0m in \u001b[0;36m<module>\u001b[1;34m()\u001b[0m\n\u001b[0;32m     19\u001b[0m \u001b[1;33m\u001b[0m\u001b[0m\n\u001b[0;32m     20\u001b[0m     \u001b[1;32mwhile\u001b[0m \u001b[0mreviewcount\u001b[0m \u001b[1;33m!=\u001b[0m \u001b[0mreviewend\u001b[0m\u001b[1;33m:\u001b[0m\u001b[1;33m\u001b[0m\u001b[0m\n\u001b[1;32m---> 21\u001b[1;33m         \u001b[1;32mif\u001b[0m \u001b[0mcuruser\u001b[0m \u001b[1;33m==\u001b[0m \u001b[0mreviewsdu\u001b[0m\u001b[1;33m[\u001b[0m\u001b[1;34m'user_id'\u001b[0m\u001b[1;33m]\u001b[0m\u001b[1;33m[\u001b[0m\u001b[0mreviewcount\u001b[0m\u001b[1;33m]\u001b[0m\u001b[1;33m:\u001b[0m\u001b[1;33m\u001b[0m\u001b[0m\n\u001b[0m\u001b[0;32m     22\u001b[0m             \u001b[0mtempdf\u001b[0m \u001b[1;33m=\u001b[0m \u001b[0mtempdf\u001b[0m\u001b[1;33m.\u001b[0m\u001b[0mappend\u001b[0m\u001b[1;33m(\u001b[0m\u001b[0mreviewsdu2\u001b[0m\u001b[1;33m.\u001b[0m\u001b[0mix\u001b[0m\u001b[1;33m[\u001b[0m\u001b[0mreviewcount\u001b[0m\u001b[1;33m]\u001b[0m\u001b[1;33m,\u001b[0m \u001b[0mignore_index\u001b[0m \u001b[1;33m=\u001b[0m \u001b[0mTrue\u001b[0m\u001b[1;33m)\u001b[0m\u001b[1;33m\u001b[0m\u001b[0m\n\u001b[0;32m     23\u001b[0m             \u001b[0mreviewtotal\u001b[0m \u001b[1;33m+=\u001b[0m\u001b[1;36m1\u001b[0m\u001b[1;33m\u001b[0m\u001b[0m\n",
        "\u001b[1;32m/usr/lib64/python2.7/site-packages/pandas/core/frame.pyc\u001b[0m in \u001b[0;36m__getitem__\u001b[1;34m(self, key)\u001b[0m\n\u001b[0;32m   1925\u001b[0m             \u001b[1;32mreturn\u001b[0m \u001b[0mself\u001b[0m\u001b[1;33m.\u001b[0m\u001b[0m_constructor\u001b[0m\u001b[1;33m(\u001b[0m\u001b[0mnew_data\u001b[0m\u001b[1;33m)\u001b[0m\u001b[1;33m\u001b[0m\u001b[0m\n\u001b[0;32m   1926\u001b[0m         \u001b[1;31m# either boolean or fancy integer index\u001b[0m\u001b[1;33m\u001b[0m\u001b[1;33m\u001b[0m\u001b[0m\n\u001b[1;32m-> 1927\u001b[1;33m         \u001b[1;32melif\u001b[0m \u001b[0misinstance\u001b[0m\u001b[1;33m(\u001b[0m\u001b[0mkey\u001b[0m\u001b[1;33m,\u001b[0m \u001b[1;33m(\u001b[0m\u001b[0mnp\u001b[0m\u001b[1;33m.\u001b[0m\u001b[0mndarray\u001b[0m\u001b[1;33m,\u001b[0m \u001b[0mlist\u001b[0m\u001b[1;33m)\u001b[0m\u001b[1;33m)\u001b[0m\u001b[1;33m:\u001b[0m\u001b[1;33m\u001b[0m\u001b[0m\n\u001b[0m\u001b[0;32m   1928\u001b[0m             \u001b[1;32mif\u001b[0m \u001b[0misinstance\u001b[0m\u001b[1;33m(\u001b[0m\u001b[0mkey\u001b[0m\u001b[1;33m,\u001b[0m \u001b[0mlist\u001b[0m\u001b[1;33m)\u001b[0m\u001b[1;33m:\u001b[0m\u001b[1;33m\u001b[0m\u001b[0m\n\u001b[0;32m   1929\u001b[0m                 \u001b[0mkey\u001b[0m \u001b[1;33m=\u001b[0m \u001b[0mlib\u001b[0m\u001b[1;33m.\u001b[0m\u001b[0mlist_to_object_array\u001b[0m\u001b[1;33m(\u001b[0m\u001b[0mkey\u001b[0m\u001b[1;33m)\u001b[0m\u001b[1;33m\u001b[0m\u001b[0m\n",
        "\u001b[1;31mKeyboardInterrupt\u001b[0m: "
       ]
      },
      {
       "output_type": "stream",
       "stream": "stdout",
       "text": [
        " 7xp8QB-6APuFbiSdEI3-4Q\n",
        "item 130 of 43874\n"
       ]
      }
     ],
     "prompt_number": 7
    },
    {
     "cell_type": "code",
     "collapsed": false,
     "input": [
      "ReviewsPerUser[0:100]"
     ],
     "language": "python",
     "metadata": {},
     "outputs": [
      {
       "html": [
        "<div style=\"max-height:1000px;max-width:1500px;overflow:auto;\">\n",
        "<table border=\"1\" class=\"dataframe\">\n",
        "  <thead>\n",
        "    <tr style=\"text-align: right;\">\n",
        "      <th></th>\n",
        "      <th>user_id</th>\n",
        "      <th>review_count</th>\n",
        "      <th>reviews</th>\n",
        "    </tr>\n",
        "  </thead>\n",
        "  <tbody>\n",
        "    <tr>\n",
        "      <td><strong>0 </strong></td>\n",
        "      <td> CR2y7yEm4X035ZMzrTtN9Q</td>\n",
        "      <td>  3</td>\n",
        "      <td> [business_id, stars, date, funny, useful, cool]</td>\n",
        "    </tr>\n",
        "    <tr>\n",
        "      <td><strong>1 </strong></td>\n",
        "      <td> _9GXoHhdxc30ujPaQwh6Ew</td>\n",
        "      <td>  2</td>\n",
        "      <td> [business_id, stars, date, funny, useful, cool]</td>\n",
        "    </tr>\n",
        "    <tr>\n",
        "      <td><strong>2 </strong></td>\n",
        "      <td> 8mM-nqxjg6pT04kwcjMbsw</td>\n",
        "      <td>  1</td>\n",
        "      <td> [business_id, stars, date, funny, useful, cool]</td>\n",
        "    </tr>\n",
        "    <tr>\n",
        "      <td><strong>3 </strong></td>\n",
        "      <td> Ch6CdTR2IVaVANr-RglMOg</td>\n",
        "      <td>  1</td>\n",
        "      <td> [business_id, stars, date, funny, useful, cool]</td>\n",
        "    </tr>\n",
        "    <tr>\n",
        "      <td><strong>4 </strong></td>\n",
        "      <td> NZrLmHRyiHmyT1JrfzkCOA</td>\n",
        "      <td>  1</td>\n",
        "      <td> [business_id, stars, date, funny, useful, cool]</td>\n",
        "    </tr>\n",
        "    <tr>\n",
        "      <td><strong>5 </strong></td>\n",
        "      <td> mWx5Sxt_dx-sYBZg6RgJHQ</td>\n",
        "      <td> 14</td>\n",
        "      <td> [business_id, stars, date, funny, useful, cool]</td>\n",
        "    </tr>\n",
        "    <tr>\n",
        "      <td><strong>6 </strong></td>\n",
        "      <td> hryUDaRk7FLuDAYui2oldw</td>\n",
        "      <td>  2</td>\n",
        "      <td> [business_id, stars, date, funny, useful, cool]</td>\n",
        "    </tr>\n",
        "    <tr>\n",
        "      <td><strong>7 </strong></td>\n",
        "      <td> 2t6fZNLtiqsihVmeO7zggg</td>\n",
        "      <td>  1</td>\n",
        "      <td> [business_id, stars, date, funny, useful, cool]</td>\n",
        "    </tr>\n",
        "    <tr>\n",
        "      <td><strong>8 </strong></td>\n",
        "      <td> mn6F-eP5WU37b-iLTop2mQ</td>\n",
        "      <td>  3</td>\n",
        "      <td> [business_id, stars, date, funny, useful, cool]</td>\n",
        "    </tr>\n",
        "    <tr>\n",
        "      <td><strong>9 </strong></td>\n",
        "      <td> myXq7PFXkD_yfXT580SXMw</td>\n",
        "      <td>  7</td>\n",
        "      <td> [business_id, stars, date, funny, useful, cool]</td>\n",
        "    </tr>\n",
        "    <tr>\n",
        "      <td><strong>10</strong></td>\n",
        "      <td> EMpFiVyiaMS58XsLZdS6vA</td>\n",
        "      <td>  4</td>\n",
        "      <td> [business_id, stars, date, funny, useful, cool]</td>\n",
        "    </tr>\n",
        "    <tr>\n",
        "      <td><strong>11</strong></td>\n",
        "      <td> 74Y-B-8MJhshV7aYSQ93lQ</td>\n",
        "      <td>  1</td>\n",
        "      <td> [business_id, stars, date, funny, useful, cool]</td>\n",
        "    </tr>\n",
        "    <tr>\n",
        "      <td><strong>12</strong></td>\n",
        "      <td> 34ir_XnUsrqserEuSZdGQA</td>\n",
        "      <td>  1</td>\n",
        "      <td> [business_id, stars, date, funny, useful, cool]</td>\n",
        "    </tr>\n",
        "    <tr>\n",
        "      <td><strong>13</strong></td>\n",
        "      <td> 1Aq2NzZGREMRdAkw55V7dg</td>\n",
        "      <td>  1</td>\n",
        "      <td> [business_id, stars, date, funny, useful, cool]</td>\n",
        "    </tr>\n",
        "    <tr>\n",
        "      <td><strong>14</strong></td>\n",
        "      <td> B7XCvzvcriFc8xfIA-Wg4A</td>\n",
        "      <td>  1</td>\n",
        "      <td> [business_id, stars, date, funny, useful, cool]</td>\n",
        "    </tr>\n",
        "    <tr>\n",
        "      <td><strong>15</strong></td>\n",
        "      <td> 1aoDw1jVm5UQrVacWg0vnw</td>\n",
        "      <td>  3</td>\n",
        "      <td> [business_id, stars, date, funny, useful, cool]</td>\n",
        "    </tr>\n",
        "    <tr>\n",
        "      <td><strong>16</strong></td>\n",
        "      <td> iH6y1T5AZZxaKpSNmvjGWw</td>\n",
        "      <td>  3</td>\n",
        "      <td> [business_id, stars, date, funny, useful, cool]</td>\n",
        "    </tr>\n",
        "    <tr>\n",
        "      <td><strong>17</strong></td>\n",
        "      <td> 2tyadgcxcaEu5LWgLdwLAQ</td>\n",
        "      <td> 18</td>\n",
        "      <td> [business_id, stars, date, funny, useful, cool]</td>\n",
        "    </tr>\n",
        "    <tr>\n",
        "      <td><strong>18</strong></td>\n",
        "      <td> mc2glxrNAZuPnCudIaoK4Q</td>\n",
        "      <td>  2</td>\n",
        "      <td> [business_id, stars, date, funny, useful, cool]</td>\n",
        "    </tr>\n",
        "    <tr>\n",
        "      <td><strong>19</strong></td>\n",
        "      <td> LKFo-Z93fhHHF-CkXoXvLw</td>\n",
        "      <td>  1</td>\n",
        "      <td> [business_id, stars, date, funny, useful, cool]</td>\n",
        "    </tr>\n",
        "    <tr>\n",
        "      <td><strong>20</strong></td>\n",
        "      <td> 09ZCt5inrt35zuJVtxBB5A</td>\n",
        "      <td>  1</td>\n",
        "      <td> [business_id, stars, date, funny, useful, cool]</td>\n",
        "    </tr>\n",
        "    <tr>\n",
        "      <td><strong>21</strong></td>\n",
        "      <td> aSwY5VAO1S0uZASZlZgB3A</td>\n",
        "      <td>  1</td>\n",
        "      <td> [business_id, stars, date, funny, useful, cool]</td>\n",
        "    </tr>\n",
        "    <tr>\n",
        "      <td><strong>22</strong></td>\n",
        "      <td> oh3BckWd5WXSANfGlnjErQ</td>\n",
        "      <td>  1</td>\n",
        "      <td> [business_id, stars, date, funny, useful, cool]</td>\n",
        "    </tr>\n",
        "    <tr>\n",
        "      <td><strong>23</strong></td>\n",
        "      <td> y5YxcvgbQX_uVW0UtHWKxA</td>\n",
        "      <td>  8</td>\n",
        "      <td> [business_id, stars, date, funny, useful, cool]</td>\n",
        "    </tr>\n",
        "    <tr>\n",
        "      <td><strong>24</strong></td>\n",
        "      <td> Vu29H1sy1poRld4LIL2Jqw</td>\n",
        "      <td>  1</td>\n",
        "      <td> [business_id, stars, date, funny, useful, cool]</td>\n",
        "    </tr>\n",
        "    <tr>\n",
        "      <td><strong>25</strong></td>\n",
        "      <td> iK7I2HQ8kiyms_XuENr55w</td>\n",
        "      <td>  1</td>\n",
        "      <td> [business_id, stars, date, funny, useful, cool]</td>\n",
        "    </tr>\n",
        "    <tr>\n",
        "      <td><strong>26</strong></td>\n",
        "      <td> QlSVps_q61IThBo489_Zyw</td>\n",
        "      <td>  1</td>\n",
        "      <td> [business_id, stars, date, funny, useful, cool]</td>\n",
        "    </tr>\n",
        "    <tr>\n",
        "      <td><strong>27</strong></td>\n",
        "      <td> mzenirXt-7sZR2RhkhvLDQ</td>\n",
        "      <td>  1</td>\n",
        "      <td> [business_id, stars, date, funny, useful, cool]</td>\n",
        "    </tr>\n",
        "    <tr>\n",
        "      <td><strong>28</strong></td>\n",
        "      <td> qMCT8OblN3finTvXcba-oA</td>\n",
        "      <td> 11</td>\n",
        "      <td> [business_id, stars, date, funny, useful, cool]</td>\n",
        "    </tr>\n",
        "    <tr>\n",
        "      <td><strong>29</strong></td>\n",
        "      <td> jy94hgtLcuD0BbZ7o8KCYQ</td>\n",
        "      <td>  1</td>\n",
        "      <td> [business_id, stars, date, funny, useful, cool]</td>\n",
        "    </tr>\n",
        "    <tr>\n",
        "      <td><strong>30</strong></td>\n",
        "      <td> 8lrTKMjIJ9kt7rfVtjq3qg</td>\n",
        "      <td>  1</td>\n",
        "      <td> [business_id, stars, date, funny, useful, cool]</td>\n",
        "    </tr>\n",
        "    <tr>\n",
        "      <td><strong>31</strong></td>\n",
        "      <td> IcSsf2QCA7T-KpdraDxTew</td>\n",
        "      <td>  1</td>\n",
        "      <td> [business_id, stars, date, funny, useful, cool]</td>\n",
        "    </tr>\n",
        "    <tr>\n",
        "      <td><strong>32</strong></td>\n",
        "      <td> d09KNIq4YPYq1u5nVyqIUg</td>\n",
        "      <td>  1</td>\n",
        "      <td> [business_id, stars, date, funny, useful, cool]</td>\n",
        "    </tr>\n",
        "    <tr>\n",
        "      <td><strong>33</strong></td>\n",
        "      <td> vxxNafFH_OMD5B1l231toA</td>\n",
        "      <td>  1</td>\n",
        "      <td> [business_id, stars, date, funny, useful, cool]</td>\n",
        "    </tr>\n",
        "    <tr>\n",
        "      <td><strong>34</strong></td>\n",
        "      <td> bwPaqC08ddUoq-zminI3bw</td>\n",
        "      <td>  1</td>\n",
        "      <td> [business_id, stars, date, funny, useful, cool]</td>\n",
        "    </tr>\n",
        "    <tr>\n",
        "      <td><strong>35</strong></td>\n",
        "      <td> LzT8mSfliJHhs68RTwQW5w</td>\n",
        "      <td>  2</td>\n",
        "      <td> [business_id, stars, date, funny, useful, cool]</td>\n",
        "    </tr>\n",
        "    <tr>\n",
        "      <td><strong>36</strong></td>\n",
        "      <td> vAAeeV-kqabpuVr-DmtdFA</td>\n",
        "      <td>  1</td>\n",
        "      <td> [business_id, stars, date, funny, useful, cool]</td>\n",
        "    </tr>\n",
        "    <tr>\n",
        "      <td><strong>37</strong></td>\n",
        "      <td> R75rQfzSeXzO9LVh0MFjJg</td>\n",
        "      <td>  2</td>\n",
        "      <td> [business_id, stars, date, funny, useful, cool]</td>\n",
        "    </tr>\n",
        "    <tr>\n",
        "      <td><strong>38</strong></td>\n",
        "      <td> D_nff52rbs-OCZbVXeCqzg</td>\n",
        "      <td>  1</td>\n",
        "      <td> [business_id, stars, date, funny, useful, cool]</td>\n",
        "    </tr>\n",
        "    <tr>\n",
        "      <td><strong>39</strong></td>\n",
        "      <td> 6lyD0ZdmmYZsOMFFwOWsog</td>\n",
        "      <td>  3</td>\n",
        "      <td> [business_id, stars, date, funny, useful, cool]</td>\n",
        "    </tr>\n",
        "    <tr>\n",
        "      <td><strong>40</strong></td>\n",
        "      <td> hqjDAPapGKJ3U4wUN1dGMA</td>\n",
        "      <td>  3</td>\n",
        "      <td> [business_id, stars, date, funny, useful, cool]</td>\n",
        "    </tr>\n",
        "    <tr>\n",
        "      <td><strong>41</strong></td>\n",
        "      <td> iR8iTaCOjQCM-JG4qf23NQ</td>\n",
        "      <td> 10</td>\n",
        "      <td> [business_id, stars, date, funny, useful, cool]</td>\n",
        "    </tr>\n",
        "    <tr>\n",
        "      <td><strong>42</strong></td>\n",
        "      <td> 1Md7FNu_GujIwxbb9TqSqQ</td>\n",
        "      <td>  3</td>\n",
        "      <td> [business_id, stars, date, funny, useful, cool]</td>\n",
        "    </tr>\n",
        "    <tr>\n",
        "      <td><strong>43</strong></td>\n",
        "      <td> -LmTXrlHEfLpDi34FVXNAg</td>\n",
        "      <td>  7</td>\n",
        "      <td> [business_id, stars, date, funny, useful, cool]</td>\n",
        "    </tr>\n",
        "    <tr>\n",
        "      <td><strong>44</strong></td>\n",
        "      <td> ysZSP646Ikjb9pPKxuBurw</td>\n",
        "      <td>  5</td>\n",
        "      <td> [business_id, stars, date, funny, useful, cool]</td>\n",
        "    </tr>\n",
        "    <tr>\n",
        "      <td><strong>45</strong></td>\n",
        "      <td> gXQ3peDz-H8mFZO_U4ys3w</td>\n",
        "      <td> 23</td>\n",
        "      <td> [business_id, stars, date, funny, useful, cool]</td>\n",
        "    </tr>\n",
        "    <tr>\n",
        "      <td><strong>46</strong></td>\n",
        "      <td> 8gIp7Emu7xBDnBjRKgkSOg</td>\n",
        "      <td> 10</td>\n",
        "      <td> [business_id, stars, date, funny, useful, cool]</td>\n",
        "    </tr>\n",
        "    <tr>\n",
        "      <td><strong>47</strong></td>\n",
        "      <td> 44302NAooinHOKKIWHDKXA</td>\n",
        "      <td>  5</td>\n",
        "      <td> [business_id, stars, date, funny, useful, cool]</td>\n",
        "    </tr>\n",
        "    <tr>\n",
        "      <td><strong>48</strong></td>\n",
        "      <td> BDa9RGFZv9TV2lGAiuqjxQ</td>\n",
        "      <td>  1</td>\n",
        "      <td> [business_id, stars, date, funny, useful, cool]</td>\n",
        "    </tr>\n",
        "    <tr>\n",
        "      <td><strong>49</strong></td>\n",
        "      <td> qw8n1PUrt4qBh-4eMjfv0Q</td>\n",
        "      <td>  6</td>\n",
        "      <td> [business_id, stars, date, funny, useful, cool]</td>\n",
        "    </tr>\n",
        "    <tr>\n",
        "      <td><strong>50</strong></td>\n",
        "      <td> F2M53He6gzMb1vp3m7cKJg</td>\n",
        "      <td>  1</td>\n",
        "      <td> [business_id, stars, date, funny, useful, cool]</td>\n",
        "    </tr>\n",
        "    <tr>\n",
        "      <td><strong>51</strong></td>\n",
        "      <td> Mcdt7tUA7jqiqCtyxXgq4g</td>\n",
        "      <td>  1</td>\n",
        "      <td> [business_id, stars, date, funny, useful, cool]</td>\n",
        "    </tr>\n",
        "    <tr>\n",
        "      <td><strong>52</strong></td>\n",
        "      <td> q10h5nL1LnbaKMlNOfahfQ</td>\n",
        "      <td>  3</td>\n",
        "      <td> [business_id, stars, date, funny, useful, cool]</td>\n",
        "    </tr>\n",
        "    <tr>\n",
        "      <td><strong>53</strong></td>\n",
        "      <td> CUUpi7gtqx1zojEGJ6Z5ew</td>\n",
        "      <td>  4</td>\n",
        "      <td> [business_id, stars, date, funny, useful, cool]</td>\n",
        "    </tr>\n",
        "    <tr>\n",
        "      <td><strong>54</strong></td>\n",
        "      <td> 6hvcowqr8NYug9u-Bzw8Jg</td>\n",
        "      <td> 18</td>\n",
        "      <td> [business_id, stars, date, funny, useful, cool]</td>\n",
        "    </tr>\n",
        "    <tr>\n",
        "      <td><strong>55</strong></td>\n",
        "      <td> pjfwk6ZnCAcJAsX4V6QhpA</td>\n",
        "      <td>  1</td>\n",
        "      <td> [business_id, stars, date, funny, useful, cool]</td>\n",
        "    </tr>\n",
        "    <tr>\n",
        "      <td><strong>56</strong></td>\n",
        "      <td> BqmMeZQD03LHJ_vibTOp2g</td>\n",
        "      <td>  1</td>\n",
        "      <td> [business_id, stars, date, funny, useful, cool]</td>\n",
        "    </tr>\n",
        "    <tr>\n",
        "      <td><strong>57</strong></td>\n",
        "      <td> lodglSjhVGXzRUTDMoyOCg</td>\n",
        "      <td>  1</td>\n",
        "      <td> [business_id, stars, date, funny, useful, cool]</td>\n",
        "    </tr>\n",
        "    <tr>\n",
        "      <td><strong>58</strong></td>\n",
        "      <td> vSxaLh9RCl1BJDbIt0hxww</td>\n",
        "      <td>  4</td>\n",
        "      <td> [business_id, stars, date, funny, useful, cool]</td>\n",
        "    </tr>\n",
        "    <tr>\n",
        "      <td><strong>59</strong></td>\n",
        "      <td> yBMGCKvNXnb9Gr6VVRTHGw</td>\n",
        "      <td>  1</td>\n",
        "      <td> [business_id, stars, date, funny, useful, cool]</td>\n",
        "    </tr>\n",
        "    <tr>\n",
        "      <td><strong>60</strong></td>\n",
        "      <td> 1zKpgs-JZixiWiS8PWdj2w</td>\n",
        "      <td>  1</td>\n",
        "      <td> [business_id, stars, date, funny, useful, cool]</td>\n",
        "    </tr>\n",
        "    <tr>\n",
        "      <td><strong>61</strong></td>\n",
        "      <td> lzHNLEvRNFN-RQFmczYNBw</td>\n",
        "      <td> 11</td>\n",
        "      <td> [business_id, stars, date, funny, useful, cool]</td>\n",
        "    </tr>\n",
        "    <tr>\n",
        "      <td><strong>62</strong></td>\n",
        "      <td> HplYk367S1EV6uywIIK5-w</td>\n",
        "      <td>  2</td>\n",
        "      <td> [business_id, stars, date, funny, useful, cool]</td>\n",
        "    </tr>\n",
        "    <tr>\n",
        "      <td><strong>63</strong></td>\n",
        "      <td> IwDii1N3yCTXsgs4Nm2OEQ</td>\n",
        "      <td>  1</td>\n",
        "      <td> [business_id, stars, date, funny, useful, cool]</td>\n",
        "    </tr>\n",
        "    <tr>\n",
        "      <td><strong>64</strong></td>\n",
        "      <td> sGL10Y44CVzzKNkLVeHOEQ</td>\n",
        "      <td>  2</td>\n",
        "      <td> [business_id, stars, date, funny, useful, cool]</td>\n",
        "    </tr>\n",
        "    <tr>\n",
        "      <td><strong>65</strong></td>\n",
        "      <td> UF4IY9O6EaVo-hS5FqMsiA</td>\n",
        "      <td>  1</td>\n",
        "      <td> [business_id, stars, date, funny, useful, cool]</td>\n",
        "    </tr>\n",
        "    <tr>\n",
        "      <td><strong>66</strong></td>\n",
        "      <td> mmLIP0mFRbDgRjlKvJSAQw</td>\n",
        "      <td>  1</td>\n",
        "      <td> [business_id, stars, date, funny, useful, cool]</td>\n",
        "    </tr>\n",
        "    <tr>\n",
        "      <td><strong>67</strong></td>\n",
        "      <td> j9CYALELapJci8kQ61_7Cg</td>\n",
        "      <td>  4</td>\n",
        "      <td> [business_id, stars, date, funny, useful, cool]</td>\n",
        "    </tr>\n",
        "    <tr>\n",
        "      <td><strong>68</strong></td>\n",
        "      <td> Q9YX5k3ICwUYGkMjADSokQ</td>\n",
        "      <td>  2</td>\n",
        "      <td> [business_id, stars, date, funny, useful, cool]</td>\n",
        "    </tr>\n",
        "    <tr>\n",
        "      <td><strong>69</strong></td>\n",
        "      <td> PyOkV3pQ1aw__O4VAWmvcw</td>\n",
        "      <td>  1</td>\n",
        "      <td> [business_id, stars, date, funny, useful, cool]</td>\n",
        "    </tr>\n",
        "    <tr>\n",
        "      <td><strong>70</strong></td>\n",
        "      <td> F6uG2OxXVNkAhuM24n3ZGg</td>\n",
        "      <td>  1</td>\n",
        "      <td> [business_id, stars, date, funny, useful, cool]</td>\n",
        "    </tr>\n",
        "    <tr>\n",
        "      <td><strong>71</strong></td>\n",
        "      <td> Acl3hg7RPM6tj4zkPvdz1Q</td>\n",
        "      <td>  1</td>\n",
        "      <td> [business_id, stars, date, funny, useful, cool]</td>\n",
        "    </tr>\n",
        "    <tr>\n",
        "      <td><strong>72</strong></td>\n",
        "      <td> dYtkphUrU7S2_bjif6k2uA</td>\n",
        "      <td> 11</td>\n",
        "      <td> [business_id, stars, date, funny, useful, cool]</td>\n",
        "    </tr>\n",
        "    <tr>\n",
        "      <td><strong>73</strong></td>\n",
        "      <td> jgOtDM_CSVHoWhlf3JxUzQ</td>\n",
        "      <td>  1</td>\n",
        "      <td> [business_id, stars, date, funny, useful, cool]</td>\n",
        "    </tr>\n",
        "    <tr>\n",
        "      <td><strong>74</strong></td>\n",
        "      <td> rbcbqdr8hV0iv8ISMheE3A</td>\n",
        "      <td>  3</td>\n",
        "      <td> [business_id, stars, date, funny, useful, cool]</td>\n",
        "    </tr>\n",
        "    <tr>\n",
        "      <td><strong>75</strong></td>\n",
        "      <td> ZAbccZRkyprv9jA5JIqEAw</td>\n",
        "      <td>  1</td>\n",
        "      <td> [business_id, stars, date, funny, useful, cool]</td>\n",
        "    </tr>\n",
        "    <tr>\n",
        "      <td><strong>76</strong></td>\n",
        "      <td> 1NppMyL-2RXQvHUExIjxdA</td>\n",
        "      <td>  3</td>\n",
        "      <td> [business_id, stars, date, funny, useful, cool]</td>\n",
        "    </tr>\n",
        "    <tr>\n",
        "      <td><strong>77</strong></td>\n",
        "      <td> cMmQsFyrYBv6hIE6NffqZQ</td>\n",
        "      <td> 43</td>\n",
        "      <td> [business_id, stars, date, funny, useful, cool]</td>\n",
        "    </tr>\n",
        "    <tr>\n",
        "      <td><strong>78</strong></td>\n",
        "      <td> eSAmN-5RAu8y1igSvz_yJw</td>\n",
        "      <td>  3</td>\n",
        "      <td> [business_id, stars, date, funny, useful, cool]</td>\n",
        "    </tr>\n",
        "    <tr>\n",
        "      <td><strong>79</strong></td>\n",
        "      <td> VKOREbYBDBK5oaorb6j6mQ</td>\n",
        "      <td>  1</td>\n",
        "      <td> [business_id, stars, date, funny, useful, cool]</td>\n",
        "    </tr>\n",
        "    <tr>\n",
        "      <td><strong>80</strong></td>\n",
        "      <td> LRsJbMmLXcMpZ3Fqcys0vA</td>\n",
        "      <td>  1</td>\n",
        "      <td> [business_id, stars, date, funny, useful, cool]</td>\n",
        "    </tr>\n",
        "    <tr>\n",
        "      <td><strong>81</strong></td>\n",
        "      <td> n4RPA0Cuem4ygQxPIdLBLQ</td>\n",
        "      <td>  1</td>\n",
        "      <td> [business_id, stars, date, funny, useful, cool]</td>\n",
        "    </tr>\n",
        "    <tr>\n",
        "      <td><strong>82</strong></td>\n",
        "      <td> qQxDnjMexrsfltQV7I1mJw</td>\n",
        "      <td>  9</td>\n",
        "      <td> [business_id, stars, date, funny, useful, cool]</td>\n",
        "    </tr>\n",
        "    <tr>\n",
        "      <td><strong>83</strong></td>\n",
        "      <td> pYfB2Asdqg5ampdmqEjdzA</td>\n",
        "      <td>  1</td>\n",
        "      <td> [business_id, stars, date, funny, useful, cool]</td>\n",
        "    </tr>\n",
        "    <tr>\n",
        "      <td><strong>84</strong></td>\n",
        "      <td> -aCl04VaJ4FWzo7y2diKZg</td>\n",
        "      <td>  1</td>\n",
        "      <td> [business_id, stars, date, funny, useful, cool]</td>\n",
        "    </tr>\n",
        "    <tr>\n",
        "      <td><strong>85</strong></td>\n",
        "      <td> TGQRbUuikgzO2ARVicH1cQ</td>\n",
        "      <td>  3</td>\n",
        "      <td> [business_id, stars, date, funny, useful, cool]</td>\n",
        "    </tr>\n",
        "    <tr>\n",
        "      <td><strong>86</strong></td>\n",
        "      <td> akmkd_2iLRrbOyPBfYLN0A</td>\n",
        "      <td>  2</td>\n",
        "      <td> [business_id, stars, date, funny, useful, cool]</td>\n",
        "    </tr>\n",
        "    <tr>\n",
        "      <td><strong>87</strong></td>\n",
        "      <td> f72UJVOllcjgpZdOi7-gkA</td>\n",
        "      <td>  4</td>\n",
        "      <td> [business_id, stars, date, funny, useful, cool]</td>\n",
        "    </tr>\n",
        "    <tr>\n",
        "      <td><strong>88</strong></td>\n",
        "      <td> EJeBInfAGoBiVWqXX2YTQg</td>\n",
        "      <td>  1</td>\n",
        "      <td> [business_id, stars, date, funny, useful, cool]</td>\n",
        "    </tr>\n",
        "    <tr>\n",
        "      <td><strong>89</strong></td>\n",
        "      <td> rpMb-wEYPevvuaKLIbqrvQ</td>\n",
        "      <td>  1</td>\n",
        "      <td> [business_id, stars, date, funny, useful, cool]</td>\n",
        "    </tr>\n",
        "    <tr>\n",
        "      <td><strong>90</strong></td>\n",
        "      <td> iIfuhtK9Pu7tLSNbxxoJfg</td>\n",
        "      <td>  1</td>\n",
        "      <td> [business_id, stars, date, funny, useful, cool]</td>\n",
        "    </tr>\n",
        "    <tr>\n",
        "      <td><strong>91</strong></td>\n",
        "      <td> BE27SDgLqJTEjVq2p9yZDg</td>\n",
        "      <td>  1</td>\n",
        "      <td> [business_id, stars, date, funny, useful, cool]</td>\n",
        "    </tr>\n",
        "    <tr>\n",
        "      <td><strong>92</strong></td>\n",
        "      <td> RqWIxCYG4a42mUCChgMQvA</td>\n",
        "      <td>  1</td>\n",
        "      <td> [business_id, stars, date, funny, useful, cool]</td>\n",
        "    </tr>\n",
        "    <tr>\n",
        "      <td><strong>93</strong></td>\n",
        "      <td> IFKDDiyY-ap8DNaSCIwbZQ</td>\n",
        "      <td>  1</td>\n",
        "      <td> [business_id, stars, date, funny, useful, cool]</td>\n",
        "    </tr>\n",
        "    <tr>\n",
        "      <td><strong>94</strong></td>\n",
        "      <td> sowwcc9gasFhwsdMgsMzrg</td>\n",
        "      <td>  2</td>\n",
        "      <td> [business_id, stars, date, funny, useful, cool]</td>\n",
        "    </tr>\n",
        "    <tr>\n",
        "      <td><strong>95</strong></td>\n",
        "      <td> XYx6ZiTSIpbC3qm_xEm-KA</td>\n",
        "      <td>  2</td>\n",
        "      <td> [business_id, stars, date, funny, useful, cool]</td>\n",
        "    </tr>\n",
        "    <tr>\n",
        "      <td><strong>96</strong></td>\n",
        "      <td> f_rpabHGZ4SgFZp5_jQ8KA</td>\n",
        "      <td>  1</td>\n",
        "      <td> [business_id, stars, date, funny, useful, cool]</td>\n",
        "    </tr>\n",
        "    <tr>\n",
        "      <td><strong>97</strong></td>\n",
        "      <td> zKyJDKJwAfWGB4HKXp9snw</td>\n",
        "      <td> 13</td>\n",
        "      <td> [business_id, stars, date, funny, useful, cool]</td>\n",
        "    </tr>\n",
        "    <tr>\n",
        "      <td><strong>98</strong></td>\n",
        "      <td> owCSYaRJEiV-kk2L2HP00A</td>\n",
        "      <td>  2</td>\n",
        "      <td> [business_id, stars, date, funny, useful, cool]</td>\n",
        "    </tr>\n",
        "    <tr>\n",
        "      <td><strong>99</strong></td>\n",
        "      <td> uBAMd01ZtGXaHrRD6THNzg</td>\n",
        "      <td>  2</td>\n",
        "      <td> [business_id, stars, date, funny, useful, cool]</td>\n",
        "    </tr>\n",
        "  </tbody>\n",
        "</table>\n",
        "</div>"
       ],
       "output_type": "pyout",
       "prompt_number": 118,
       "text": [
        "                   user_id review_count  \\\n",
        "0   CR2y7yEm4X035ZMzrTtN9Q            3   \n",
        "1   _9GXoHhdxc30ujPaQwh6Ew            2   \n",
        "2   8mM-nqxjg6pT04kwcjMbsw            1   \n",
        "3   Ch6CdTR2IVaVANr-RglMOg            1   \n",
        "4   NZrLmHRyiHmyT1JrfzkCOA            1   \n",
        "5   mWx5Sxt_dx-sYBZg6RgJHQ           14   \n",
        "6   hryUDaRk7FLuDAYui2oldw            2   \n",
        "7   2t6fZNLtiqsihVmeO7zggg            1   \n",
        "8   mn6F-eP5WU37b-iLTop2mQ            3   \n",
        "9   myXq7PFXkD_yfXT580SXMw            7   \n",
        "10  EMpFiVyiaMS58XsLZdS6vA            4   \n",
        "11  74Y-B-8MJhshV7aYSQ93lQ            1   \n",
        "12  34ir_XnUsrqserEuSZdGQA            1   \n",
        "13  1Aq2NzZGREMRdAkw55V7dg            1   \n",
        "14  B7XCvzvcriFc8xfIA-Wg4A            1   \n",
        "15  1aoDw1jVm5UQrVacWg0vnw            3   \n",
        "16  iH6y1T5AZZxaKpSNmvjGWw            3   \n",
        "17  2tyadgcxcaEu5LWgLdwLAQ           18   \n",
        "18  mc2glxrNAZuPnCudIaoK4Q            2   \n",
        "19  LKFo-Z93fhHHF-CkXoXvLw            1   \n",
        "20  09ZCt5inrt35zuJVtxBB5A            1   \n",
        "21  aSwY5VAO1S0uZASZlZgB3A            1   \n",
        "22  oh3BckWd5WXSANfGlnjErQ            1   \n",
        "23  y5YxcvgbQX_uVW0UtHWKxA            8   \n",
        "24  Vu29H1sy1poRld4LIL2Jqw            1   \n",
        "25  iK7I2HQ8kiyms_XuENr55w            1   \n",
        "26  QlSVps_q61IThBo489_Zyw            1   \n",
        "27  mzenirXt-7sZR2RhkhvLDQ            1   \n",
        "28  qMCT8OblN3finTvXcba-oA           11   \n",
        "29  jy94hgtLcuD0BbZ7o8KCYQ            1   \n",
        "30  8lrTKMjIJ9kt7rfVtjq3qg            1   \n",
        "31  IcSsf2QCA7T-KpdraDxTew            1   \n",
        "32  d09KNIq4YPYq1u5nVyqIUg            1   \n",
        "33  vxxNafFH_OMD5B1l231toA            1   \n",
        "34  bwPaqC08ddUoq-zminI3bw            1   \n",
        "35  LzT8mSfliJHhs68RTwQW5w            2   \n",
        "36  vAAeeV-kqabpuVr-DmtdFA            1   \n",
        "37  R75rQfzSeXzO9LVh0MFjJg            2   \n",
        "38  D_nff52rbs-OCZbVXeCqzg            1   \n",
        "39  6lyD0ZdmmYZsOMFFwOWsog            3   \n",
        "40  hqjDAPapGKJ3U4wUN1dGMA            3   \n",
        "41  iR8iTaCOjQCM-JG4qf23NQ           10   \n",
        "42  1Md7FNu_GujIwxbb9TqSqQ            3   \n",
        "43  -LmTXrlHEfLpDi34FVXNAg            7   \n",
        "44  ysZSP646Ikjb9pPKxuBurw            5   \n",
        "45  gXQ3peDz-H8mFZO_U4ys3w           23   \n",
        "46  8gIp7Emu7xBDnBjRKgkSOg           10   \n",
        "47  44302NAooinHOKKIWHDKXA            5   \n",
        "48  BDa9RGFZv9TV2lGAiuqjxQ            1   \n",
        "49  qw8n1PUrt4qBh-4eMjfv0Q            6   \n",
        "50  F2M53He6gzMb1vp3m7cKJg            1   \n",
        "51  Mcdt7tUA7jqiqCtyxXgq4g            1   \n",
        "52  q10h5nL1LnbaKMlNOfahfQ            3   \n",
        "53  CUUpi7gtqx1zojEGJ6Z5ew            4   \n",
        "54  6hvcowqr8NYug9u-Bzw8Jg           18   \n",
        "55  pjfwk6ZnCAcJAsX4V6QhpA            1   \n",
        "56  BqmMeZQD03LHJ_vibTOp2g            1   \n",
        "57  lodglSjhVGXzRUTDMoyOCg            1   \n",
        "58  vSxaLh9RCl1BJDbIt0hxww            4   \n",
        "59  yBMGCKvNXnb9Gr6VVRTHGw            1   \n",
        "60  1zKpgs-JZixiWiS8PWdj2w            1   \n",
        "61  lzHNLEvRNFN-RQFmczYNBw           11   \n",
        "62  HplYk367S1EV6uywIIK5-w            2   \n",
        "63  IwDii1N3yCTXsgs4Nm2OEQ            1   \n",
        "64  sGL10Y44CVzzKNkLVeHOEQ            2   \n",
        "65  UF4IY9O6EaVo-hS5FqMsiA            1   \n",
        "66  mmLIP0mFRbDgRjlKvJSAQw            1   \n",
        "67  j9CYALELapJci8kQ61_7Cg            4   \n",
        "68  Q9YX5k3ICwUYGkMjADSokQ            2   \n",
        "69  PyOkV3pQ1aw__O4VAWmvcw            1   \n",
        "70  F6uG2OxXVNkAhuM24n3ZGg            1   \n",
        "71  Acl3hg7RPM6tj4zkPvdz1Q            1   \n",
        "72  dYtkphUrU7S2_bjif6k2uA           11   \n",
        "73  jgOtDM_CSVHoWhlf3JxUzQ            1   \n",
        "74  rbcbqdr8hV0iv8ISMheE3A            3   \n",
        "75  ZAbccZRkyprv9jA5JIqEAw            1   \n",
        "76  1NppMyL-2RXQvHUExIjxdA            3   \n",
        "77  cMmQsFyrYBv6hIE6NffqZQ           43   \n",
        "78  eSAmN-5RAu8y1igSvz_yJw            3   \n",
        "79  VKOREbYBDBK5oaorb6j6mQ            1   \n",
        "80  LRsJbMmLXcMpZ3Fqcys0vA            1   \n",
        "81  n4RPA0Cuem4ygQxPIdLBLQ            1   \n",
        "82  qQxDnjMexrsfltQV7I1mJw            9   \n",
        "83  pYfB2Asdqg5ampdmqEjdzA            1   \n",
        "84  -aCl04VaJ4FWzo7y2diKZg            1   \n",
        "85  TGQRbUuikgzO2ARVicH1cQ            3   \n",
        "86  akmkd_2iLRrbOyPBfYLN0A            2   \n",
        "87  f72UJVOllcjgpZdOi7-gkA            4   \n",
        "88  EJeBInfAGoBiVWqXX2YTQg            1   \n",
        "89  rpMb-wEYPevvuaKLIbqrvQ            1   \n",
        "90  iIfuhtK9Pu7tLSNbxxoJfg            1   \n",
        "91  BE27SDgLqJTEjVq2p9yZDg            1   \n",
        "92  RqWIxCYG4a42mUCChgMQvA            1   \n",
        "93  IFKDDiyY-ap8DNaSCIwbZQ            1   \n",
        "94  sowwcc9gasFhwsdMgsMzrg            2   \n",
        "95  XYx6ZiTSIpbC3qm_xEm-KA            2   \n",
        "96  f_rpabHGZ4SgFZp5_jQ8KA            1   \n",
        "97  zKyJDKJwAfWGB4HKXp9snw           13   \n",
        "98  owCSYaRJEiV-kk2L2HP00A            2   \n",
        "99  uBAMd01ZtGXaHrRD6THNzg            2   \n",
        "\n",
        "                                            reviews  \n",
        "0   [business_id, stars, date, funny, useful, cool]  \n",
        "1   [business_id, stars, date, funny, useful, cool]  \n",
        "2   [business_id, stars, date, funny, useful, cool]  \n",
        "3   [business_id, stars, date, funny, useful, cool]  \n",
        "4   [business_id, stars, date, funny, useful, cool]  \n",
        "5   [business_id, stars, date, funny, useful, cool]  \n",
        "6   [business_id, stars, date, funny, useful, cool]  \n",
        "7   [business_id, stars, date, funny, useful, cool]  \n",
        "8   [business_id, stars, date, funny, useful, cool]  \n",
        "9   [business_id, stars, date, funny, useful, cool]  \n",
        "10  [business_id, stars, date, funny, useful, cool]  \n",
        "11  [business_id, stars, date, funny, useful, cool]  \n",
        "12  [business_id, stars, date, funny, useful, cool]  \n",
        "13  [business_id, stars, date, funny, useful, cool]  \n",
        "14  [business_id, stars, date, funny, useful, cool]  \n",
        "15  [business_id, stars, date, funny, useful, cool]  \n",
        "16  [business_id, stars, date, funny, useful, cool]  \n",
        "17  [business_id, stars, date, funny, useful, cool]  \n",
        "18  [business_id, stars, date, funny, useful, cool]  \n",
        "19  [business_id, stars, date, funny, useful, cool]  \n",
        "20  [business_id, stars, date, funny, useful, cool]  \n",
        "21  [business_id, stars, date, funny, useful, cool]  \n",
        "22  [business_id, stars, date, funny, useful, cool]  \n",
        "23  [business_id, stars, date, funny, useful, cool]  \n",
        "24  [business_id, stars, date, funny, useful, cool]  \n",
        "25  [business_id, stars, date, funny, useful, cool]  \n",
        "26  [business_id, stars, date, funny, useful, cool]  \n",
        "27  [business_id, stars, date, funny, useful, cool]  \n",
        "28  [business_id, stars, date, funny, useful, cool]  \n",
        "29  [business_id, stars, date, funny, useful, cool]  \n",
        "30  [business_id, stars, date, funny, useful, cool]  \n",
        "31  [business_id, stars, date, funny, useful, cool]  \n",
        "32  [business_id, stars, date, funny, useful, cool]  \n",
        "33  [business_id, stars, date, funny, useful, cool]  \n",
        "34  [business_id, stars, date, funny, useful, cool]  \n",
        "35  [business_id, stars, date, funny, useful, cool]  \n",
        "36  [business_id, stars, date, funny, useful, cool]  \n",
        "37  [business_id, stars, date, funny, useful, cool]  \n",
        "38  [business_id, stars, date, funny, useful, cool]  \n",
        "39  [business_id, stars, date, funny, useful, cool]  \n",
        "40  [business_id, stars, date, funny, useful, cool]  \n",
        "41  [business_id, stars, date, funny, useful, cool]  \n",
        "42  [business_id, stars, date, funny, useful, cool]  \n",
        "43  [business_id, stars, date, funny, useful, cool]  \n",
        "44  [business_id, stars, date, funny, useful, cool]  \n",
        "45  [business_id, stars, date, funny, useful, cool]  \n",
        "46  [business_id, stars, date, funny, useful, cool]  \n",
        "47  [business_id, stars, date, funny, useful, cool]  \n",
        "48  [business_id, stars, date, funny, useful, cool]  \n",
        "49  [business_id, stars, date, funny, useful, cool]  \n",
        "50  [business_id, stars, date, funny, useful, cool]  \n",
        "51  [business_id, stars, date, funny, useful, cool]  \n",
        "52  [business_id, stars, date, funny, useful, cool]  \n",
        "53  [business_id, stars, date, funny, useful, cool]  \n",
        "54  [business_id, stars, date, funny, useful, cool]  \n",
        "55  [business_id, stars, date, funny, useful, cool]  \n",
        "56  [business_id, stars, date, funny, useful, cool]  \n",
        "57  [business_id, stars, date, funny, useful, cool]  \n",
        "58  [business_id, stars, date, funny, useful, cool]  \n",
        "59  [business_id, stars, date, funny, useful, cool]  \n",
        "60  [business_id, stars, date, funny, useful, cool]  \n",
        "61  [business_id, stars, date, funny, useful, cool]  \n",
        "62  [business_id, stars, date, funny, useful, cool]  \n",
        "63  [business_id, stars, date, funny, useful, cool]  \n",
        "64  [business_id, stars, date, funny, useful, cool]  \n",
        "65  [business_id, stars, date, funny, useful, cool]  \n",
        "66  [business_id, stars, date, funny, useful, cool]  \n",
        "67  [business_id, stars, date, funny, useful, cool]  \n",
        "68  [business_id, stars, date, funny, useful, cool]  \n",
        "69  [business_id, stars, date, funny, useful, cool]  \n",
        "70  [business_id, stars, date, funny, useful, cool]  \n",
        "71  [business_id, stars, date, funny, useful, cool]  \n",
        "72  [business_id, stars, date, funny, useful, cool]  \n",
        "73  [business_id, stars, date, funny, useful, cool]  \n",
        "74  [business_id, stars, date, funny, useful, cool]  \n",
        "75  [business_id, stars, date, funny, useful, cool]  \n",
        "76  [business_id, stars, date, funny, useful, cool]  \n",
        "77  [business_id, stars, date, funny, useful, cool]  \n",
        "78  [business_id, stars, date, funny, useful, cool]  \n",
        "79  [business_id, stars, date, funny, useful, cool]  \n",
        "80  [business_id, stars, date, funny, useful, cool]  \n",
        "81  [business_id, stars, date, funny, useful, cool]  \n",
        "82  [business_id, stars, date, funny, useful, cool]  \n",
        "83  [business_id, stars, date, funny, useful, cool]  \n",
        "84  [business_id, stars, date, funny, useful, cool]  \n",
        "85  [business_id, stars, date, funny, useful, cool]  \n",
        "86  [business_id, stars, date, funny, useful, cool]  \n",
        "87  [business_id, stars, date, funny, useful, cool]  \n",
        "88  [business_id, stars, date, funny, useful, cool]  \n",
        "89  [business_id, stars, date, funny, useful, cool]  \n",
        "90  [business_id, stars, date, funny, useful, cool]  \n",
        "91  [business_id, stars, date, funny, useful, cool]  \n",
        "92  [business_id, stars, date, funny, useful, cool]  \n",
        "93  [business_id, stars, date, funny, useful, cool]  \n",
        "94  [business_id, stars, date, funny, useful, cool]  \n",
        "95  [business_id, stars, date, funny, useful, cool]  \n",
        "96  [business_id, stars, date, funny, useful, cool]  \n",
        "97  [business_id, stars, date, funny, useful, cool]  \n",
        "98  [business_id, stars, date, funny, useful, cool]  \n",
        "99  [business_id, stars, date, funny, useful, cool]  "
       ]
      }
     ],
     "prompt_number": 118
    },
    {
     "cell_type": "code",
     "collapsed": false,
     "input": [
      "ReviewsPerUser['reviews'][0]"
     ],
     "language": "python",
     "metadata": {},
     "outputs": [
      {
       "html": [
        "<div style=\"max-height:1000px;max-width:1500px;overflow:auto;\">\n",
        "<table border=\"1\" class=\"dataframe\">\n",
        "  <thead>\n",
        "    <tr style=\"text-align: right;\">\n",
        "      <th></th>\n",
        "      <th>business_id</th>\n",
        "      <th>stars</th>\n",
        "      <th>date</th>\n",
        "      <th>funny</th>\n",
        "      <th>useful</th>\n",
        "      <th>cool</th>\n",
        "    </tr>\n",
        "  </thead>\n",
        "  <tbody>\n",
        "    <tr>\n",
        "      <td><strong>0</strong></td>\n",
        "      <td> AvuWSAwTGWtW5zoD-pJLUQ</td>\n",
        "      <td> 5</td>\n",
        "      <td> 2012-06-15</td>\n",
        "      <td> 0</td>\n",
        "      <td> 0</td>\n",
        "      <td> 0</td>\n",
        "    </tr>\n",
        "    <tr>\n",
        "      <td><strong>1</strong></td>\n",
        "      <td> KJXi3s3rcKb1EcZUApL0Vg</td>\n",
        "      <td> 5</td>\n",
        "      <td> 2012-12-20</td>\n",
        "      <td> 0</td>\n",
        "      <td> 0</td>\n",
        "      <td> 0</td>\n",
        "    </tr>\n",
        "    <tr>\n",
        "      <td><strong>2</strong></td>\n",
        "      <td> KGX7O-_WqOIy9o7u9NOa9A</td>\n",
        "      <td> 5</td>\n",
        "      <td> 2012-05-22</td>\n",
        "      <td> 0</td>\n",
        "      <td> 2</td>\n",
        "      <td> 0</td>\n",
        "    </tr>\n",
        "  </tbody>\n",
        "</table>\n",
        "</div>"
       ],
       "output_type": "pyout",
       "prompt_number": 114,
       "text": [
        "              business_id stars        date funny useful cool\n",
        "0  AvuWSAwTGWtW5zoD-pJLUQ     5  2012-06-15     0      0    0\n",
        "1  KJXi3s3rcKb1EcZUApL0Vg     5  2012-12-20     0      0    0\n",
        "2  KGX7O-_WqOIy9o7u9NOa9A     5  2012-05-22     0      2    0"
       ]
      }
     ],
     "prompt_number": 114
    },
    {
     "cell_type": "code",
     "collapsed": false,
     "input": [],
     "language": "python",
     "metadata": {},
     "outputs": []
    }
   ],
   "metadata": {}
  }
 ]
}