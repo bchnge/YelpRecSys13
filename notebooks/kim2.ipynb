{
 "metadata": {
  "name": "kim2"
 },
 "nbformat": 3,
 "nbformat_minor": 0,
 "worksheets": [
  {
   "cells": [
    {
     "cell_type": "code",
     "collapsed": false,
     "input": [
      "import json\n",
      "import pandas as pd\n",
      "import YelpRecSys13.src.data_util as du\n",
      "import numpy\n",
      "userraw = '/home/aise/Downloads/yelp_training_set/yelp_training_set_user.json'\n",
      "reviewraw = '/home/aise/Downloads/yelp_training_set/yelp_training_set_review.json'\n",
      "businessraw = '/home/aise/Downloads/yelp_training_set/yelp_training_set_business.json'\n",
      "checkinraw = '/home/aise/Downloads/yelp_training_set/yelp_training_set_checkin.json'"
     ],
     "language": "python",
     "metadata": {},
     "outputs": [],
     "prompt_number": 1
    },
    {
     "cell_type": "code",
     "collapsed": false,
     "input": [
      "usersdu = du.json2dataframe(userraw,['review_count', 'type'])"
     ],
     "language": "python",
     "metadata": {},
     "outputs": [],
     "prompt_number": 2
    },
    {
     "cell_type": "code",
     "collapsed": false,
     "input": [
      "reviewsdu = du.json2dataframe(reviewraw)"
     ],
     "language": "python",
     "metadata": {},
     "outputs": [],
     "prompt_number": 3
    },
    {
     "cell_type": "code",
     "collapsed": false,
     "input": [
      "businessesdu = du.json2dataframe(businessraw)"
     ],
     "language": "python",
     "metadata": {},
     "outputs": [],
     "prompt_number": 4
    },
    {
     "cell_type": "code",
     "collapsed": false,
     "input": [
      "checkinsdu = du.json2dataframe(checkinraw,['type'])"
     ],
     "language": "python",
     "metadata": {},
     "outputs": [
      {
       "ename": "KeyError",
       "evalue": "u'0-5'",
       "output_type": "pyerr",
       "traceback": [
        "\u001b[1;31m---------------------------------------------------------------------------\u001b[0m\n\u001b[1;31mKeyError\u001b[0m                                  Traceback (most recent call last)",
        "\u001b[1;32m<ipython-input-8-e1d6f99039c0>\u001b[0m in \u001b[0;36m<module>\u001b[1;34m()\u001b[0m\n\u001b[0;32m      1\u001b[0m \u001b[0mf4\u001b[0m \u001b[1;33m=\u001b[0m \u001b[1;34m'/home/aise/Downloads/yelp_training_set/yelp_training_set_checkin.json'\u001b[0m\u001b[1;33m\u001b[0m\u001b[0m\n\u001b[1;32m----> 2\u001b[1;33m \u001b[0mcheckinsdu\u001b[0m \u001b[1;33m=\u001b[0m \u001b[0mdu\u001b[0m\u001b[1;33m.\u001b[0m\u001b[0mjson2dataframe\u001b[0m\u001b[1;33m(\u001b[0m\u001b[0mf4\u001b[0m\u001b[1;33m,\u001b[0m\u001b[1;33m[\u001b[0m\u001b[1;34m'type'\u001b[0m\u001b[1;33m]\u001b[0m\u001b[1;33m)\u001b[0m\u001b[1;33m\u001b[0m\u001b[0m\n\u001b[0m",
        "\u001b[1;32m/home/aise/YelpRecSys13/src/data_util.pyc\u001b[0m in \u001b[0;36mjson2dataframe\u001b[1;34m(file, exclude)\u001b[0m\n\u001b[0;32m     29\u001b[0m         \u001b[1;32mif\u001b[0m \u001b[0mcoltype\u001b[0m \u001b[1;33m==\u001b[0m \u001b[0mdict\u001b[0m\u001b[1;33m:\u001b[0m\u001b[1;33m\u001b[0m\u001b[0m\n\u001b[0;32m     30\u001b[0m             \u001b[1;32mfor\u001b[0m \u001b[0mcol2\u001b[0m \u001b[1;32min\u001b[0m \u001b[0mdata\u001b[0m\u001b[1;33m[\u001b[0m\u001b[1;36m1\u001b[0m\u001b[1;33m]\u001b[0m\u001b[1;33m[\u001b[0m\u001b[0mcol\u001b[0m\u001b[1;33m]\u001b[0m\u001b[1;33m.\u001b[0m\u001b[0mkeys\u001b[0m\u001b[1;33m(\u001b[0m\u001b[1;33m)\u001b[0m\u001b[1;33m:\u001b[0m\u001b[1;33m\u001b[0m\u001b[0m\n\u001b[1;32m---> 31\u001b[1;33m                 \u001b[0mfinaldata\u001b[0m\u001b[1;33m[\u001b[0m\u001b[0mcol2\u001b[0m\u001b[1;33m]\u001b[0m \u001b[1;33m=\u001b[0m \u001b[1;33m[\u001b[0m\u001b[0mv\u001b[0m\u001b[1;33m[\u001b[0m\u001b[0mcol\u001b[0m\u001b[1;33m]\u001b[0m\u001b[1;33m[\u001b[0m\u001b[0mcol2\u001b[0m\u001b[1;33m]\u001b[0m \u001b[1;32mfor\u001b[0m \u001b[0mv\u001b[0m \u001b[1;32min\u001b[0m \u001b[0mdata\u001b[0m\u001b[1;33m]\u001b[0m\u001b[1;33m\u001b[0m\u001b[0m\n\u001b[0m\u001b[0;32m     32\u001b[0m \u001b[1;33m\u001b[0m\u001b[0m\n\u001b[0;32m     33\u001b[0m     \u001b[1;31m# Delete variables to be excluded\u001b[0m\u001b[1;33m\u001b[0m\u001b[1;33m\u001b[0m\u001b[0m\n",
        "\u001b[1;31mKeyError\u001b[0m: u'0-5'"
       ]
      }
     ],
     "prompt_number": 8
    },
    {
     "cell_type": "code",
     "collapsed": false,
     "input": [
      "print usersdu[0:10]"
     ],
     "language": "python",
     "metadata": {},
     "outputs": [
      {
       "output_type": "stream",
       "stream": "stdout",
       "text": [
        "   review_count       name  average_stars                 user_id  type  funny  \\\n",
        "0             6        Jim           5.00  CR2y7yEm4X035ZMzrTtN9Q  user      0   \n",
        "1             2      Kelle           1.00  _9GXoHhdxc30ujPaQwh6Ew  user      0   \n",
        "2             2  Stephanie           5.00  8mM-nqxjg6pT04kwcjMbsw  user      0   \n",
        "3             2          T           5.00  Ch6CdTR2IVaVANr-RglMOg  user      0   \n",
        "4             1       Beth           1.00  NZrLmHRyiHmyT1JrfzkCOA  user      0   \n",
        "5            19        Amy           3.79  mWx5Sxt_dx-sYBZg6RgJHQ  user     30   \n",
        "6           207      Beach           3.83  hryUDaRk7FLuDAYui2oldw  user     28   \n",
        "7             2  christine           3.00  2t6fZNLtiqsihVmeO7zggg  user      1   \n",
        "8             4      Denis           4.50  mn6F-eP5WU37b-iLTop2mQ  user      0   \n",
        "9            10      Shawn           3.90  myXq7PFXkD_yfXT580SXMw  user      5   \n",
        "\n",
        "   useful  cool  \n",
        "0       7     0  \n",
        "1       1     0  \n",
        "2       1     0  \n",
        "3       2     0  \n",
        "4       0     0  \n",
        "5      45    36  \n",
        "6     130    31  \n",
        "7       0     1  \n",
        "8       3     2  \n",
        "9      24     9  \n"
       ]
      }
     ],
     "prompt_number": 9
    },
    {
     "cell_type": "code",
     "collapsed": false,
     "input": [
      "print reviewsdu[0:10]"
     ],
     "language": "python",
     "metadata": {},
     "outputs": [
      {
       "output_type": "stream",
       "stream": "stdout",
       "text": [
        "                  user_id               review_id  \\\n",
        "0  rLtl8ZkDX5vH5nAx9C3q5Q  fWKvX83p0-ka4JS3dc6E5A   \n",
        "1  0a2KyEL0d3Yb1V6aivbIuQ  IjZ33sJrzXqU-0X6U8NwyA   \n",
        "2  0hT2KtfLiobPvh6cDC8JQg  IESLBzqUCLdSzSqm0eCSxQ   \n",
        "3  uZetl9T0NcROGOyFfughhg  G-WvGaISbqqaMHlNnByodA   \n",
        "4  vYmM4KTsC8ZfQBg-j5MWkw  1uJFq2r5QfJG_6ExMRCaGw   \n",
        "5  sqYN3lNgvPbPCTRsMFu27g  m2CKSsepBCoRYWxiRUsxAg   \n",
        "6  wFweIWhv2fREZV_dYkz_1g  riFQ3vxNpP4rWLk_CSri2A   \n",
        "7  1ieuYcKS7zeAv_U15AB13A  JL7GXJ9u4YMx7Rzs05NfiQ   \n",
        "8  Vh_DlizgGhSqQh4qfZ2h6A  XtnfnYmnJYi71yIuGsXIUA   \n",
        "9  sUNkXg8-KFtCMQDV6zRzQg  jJAIXA46pU1swYyRCdfXtQ   \n",
        "\n",
        "                                                text             business_id  \\\n",
        "0  My wife took me here on my birthday for breakf...  9yKzy9PApeiPPOUJEtnvkg   \n",
        "1  I have no idea why some people give bad review...  ZRJwVLyzEJq1VAihDhYiow   \n",
        "2  love the gyro plate. Rice is so good and I als...  6oRAC4uyJCsJl1X0WZpVSA   \n",
        "3  Rosie, Dakota, and I LOVE Chaparral Dog Park!!...  _1QQZuf4zZOyFCvXc0o6Vg   \n",
        "4  General Manager Scott Petello is a good egg!!!...  6ozycU1RpktNG2-1BroVtw   \n",
        "5  Quiessence is, simply put, beautiful.  Full wi...  -yxfBYGB6SEqszmxJxd97A   \n",
        "6  Drop what you're doing and drive here. After I...  zp713qNhx8d9KCJJnrw1xA   \n",
        "7  Luckily, I didn't have to travel far to make m...  hW0Ne_HTHEAgGF1rAdmR-g   \n",
        "8  Definitely come for Happy hour! Prices are ama...  wNUea3IXZWD63bbOQaOH-g   \n",
        "9  Nobuo shows his unique talents with everything...  nMHhuYan8e3cONo3PornJA   \n",
        "\n",
        "   stars        date    type  funny  useful  cool  \n",
        "0      5  2011-01-26  review      0       5     2  \n",
        "1      5  2011-07-27  review      0       0     0  \n",
        "2      4  2012-06-14  review      0       1     0  \n",
        "3      5  2010-05-27  review      0       2     1  \n",
        "4      5  2012-01-05  review      0       0     0  \n",
        "5      4  2007-12-13  review      1       3     4  \n",
        "6      5  2010-02-12  review      4       7     7  \n",
        "7      4  2012-07-12  review      0       1     0  \n",
        "8      4  2012-08-17  review      0       0     0  \n",
        "9      5  2010-08-11  review      0       1     0  \n"
       ]
      }
     ],
     "prompt_number": 5
    },
    {
     "cell_type": "code",
     "collapsed": false,
     "input": [
      "print businessesdu[0:10]"
     ],
     "language": "python",
     "metadata": {},
     "outputs": [
      {
       "output_type": "stream",
       "stream": "stdout",
       "text": [
        "          city  review_count                          name neighborhoods      type  \\\n",
        "0       Peoria             3     Peoria Income Tax Service            []  business   \n",
        "1      Phoenix             5                   Bike Doctor            []  business   \n",
        "2      Phoenix             4  Valley Permaculture Alliance            []  business   \n",
        "3      Phoenix             5                     Food City            []  business   \n",
        "4  Glendale Az            14             Hot Bagels & Deli            []  business   \n",
        "5     Glendale             6       Barney's New York Co-op            []  business   \n",
        "6      Phoenix            21           Zia Record Exchange            []  business   \n",
        "7      Phoenix             4             Reflections Bingo            []  business   \n",
        "8   Scottsdale            14                           Jam            []  business   \n",
        "9      Gilbert            10            Jersey Mike's Subs            []  business   \n",
        "\n",
        "              business_id                                       full_address  \\\n",
        "0  rncjoVoEFUJGCUoC1JgnUA         8466 W Peoria Ave\\nSte 6\\nPeoria, AZ 85345   \n",
        "1  0FNFSzCFP_rGUoJx8W7tJg                  2149 W Wood Dr\\nPhoenix, AZ 85029   \n",
        "2  3f_lyB6vFK48ukH6ScvLHg              1134 N Central Ave\\nPhoenix, AZ 85004   \n",
        "3  usAsSV36QmUej8--yvN-dg              845 W Southern Ave\\nPhoenix, AZ 85041   \n",
        "4  PzOqRohWw7F7YEPBz6AubA  6520 W Happy Valley Rd\\nSte 101\\nGlendale Az, ...   \n",
        "5  gtQzAiy7D-dPU8WzT3jX3Q  The Americana at Brand\\n869 Americana Way\\nGle...   \n",
        "6  FrBCYtCS_jydDjg1KsIgWQ      1850 W Camelback Rd\\nSte 1\\nPhoenix, AZ 85015   \n",
        "7  yaXAD-Mv2K2PEZobmqjIYA             3415 W Northern Ave\\nPhoenix, AZ 85051   \n",
        "8  o3ehs4ZEdsizbJyB9_j7uQ                6938 E 1st St\\nScottsdale, AZ 85251   \n",
        "9  qarobAbxGSHI7ygf1f7a_Q    891 E Baseline Rd\\nSuite 102\\nGilbert, AZ 85233   \n",
        "\n",
        "  state   longitude  stars   latitude  open  \\\n",
        "0    AZ -112.241596    5.0  33.581867  True   \n",
        "1    AZ -112.105933    5.0  33.604054  True   \n",
        "2    AZ -112.073933    5.0  33.460526  True   \n",
        "3    AZ -112.085377    3.5  33.392210  True   \n",
        "4    AZ -112.200264    3.5  33.712797  True   \n",
        "5    CA -112.481632    4.5  33.607766  True   \n",
        "6    AZ -112.098750    3.5  33.509658  True   \n",
        "7    AZ -112.132866    5.0  33.551903  True   \n",
        "8    AZ -111.931299    5.0  33.492195  True   \n",
        "9    AZ -111.812007    3.5  33.378839  True   \n",
        "\n",
        "                                          categories  \n",
        "0  [Accountants, Professional Services, Tax Servi...  \n",
        "1                  [Sporting Goods, Bikes, Shopping]  \n",
        "2                                                 []  \n",
        "3                                    [Food, Grocery]  \n",
        "4                 [Food, Bagels, Delis, Restaurants]  \n",
        "5              [Women's Clothing, Fashion, Shopping]  \n",
        "6  [Music & DVDs, Books, Mags, Music & Video, Vin...  \n",
        "7  [Event Planning & Services, Venues & Event Spa...  \n",
        "8  [Art Schools, Specialty Schools, Shopping, Jew...  \n",
        "9                          [Sandwiches, Restaurants]  \n"
       ]
      }
     ],
     "prompt_number": 6
    },
    {
     "cell_type": "code",
     "collapsed": false,
     "input": [
      "print checkinsdu[0:10]"
     ],
     "language": "python",
     "metadata": {},
     "outputs": [
      {
       "ename": "NameError",
       "evalue": "name 'checkinsdu' is not defined",
       "output_type": "pyerr",
       "traceback": [
        "\u001b[1;31m---------------------------------------------------------------------------\u001b[0m\n\u001b[1;31mNameError\u001b[0m                                 Traceback (most recent call last)",
        "\u001b[1;32m<ipython-input-7-b519683dc503>\u001b[0m in \u001b[0;36m<module>\u001b[1;34m()\u001b[0m\n\u001b[1;32m----> 1\u001b[1;33m \u001b[1;32mprint\u001b[0m \u001b[0mcheckinsdu\u001b[0m\u001b[1;33m[\u001b[0m\u001b[1;36m0\u001b[0m\u001b[1;33m:\u001b[0m\u001b[1;36m10\u001b[0m\u001b[1;33m]\u001b[0m\u001b[1;33m\u001b[0m\u001b[0m\n\u001b[0m",
        "\u001b[1;31mNameError\u001b[0m: name 'checkinsdu' is not defined"
       ]
      }
     ],
     "prompt_number": 7
    },
    {
     "cell_type": "code",
     "collapsed": false,
     "input": [
      "du.preview_json(f1)"
     ],
     "language": "python",
     "metadata": {},
     "outputs": [
      {
       "output_type": "stream",
       "stream": "stdout",
       "text": [
        "[u'votes', u'review_count', u'name', u'average_stars', u'user_id', u'type']\n"
       ]
      }
     ],
     "prompt_number": 7
    },
    {
     "cell_type": "code",
     "collapsed": false,
     "input": [
      "du.preview_json(f2)"
     ],
     "language": "python",
     "metadata": {},
     "outputs": [
      {
       "output_type": "stream",
       "stream": "stdout",
       "text": [
        "[u'votes', u'user_id', u'review_id', u'text', u'business_id', u'stars', u'date', u'type']\n"
       ]
      }
     ],
     "prompt_number": 10
    },
    {
     "cell_type": "code",
     "collapsed": false,
     "input": [
      "du.preview_json(f3)"
     ],
     "language": "python",
     "metadata": {},
     "outputs": [
      {
       "output_type": "stream",
       "stream": "stdout",
       "text": [
        "[u'city', u'review_count', u'name', u'neighborhoods', u'type', u'business_id', u'full_address', u'state', u'longitude', u'stars', u'latitude', u'open', u'categories']\n"
       ]
      }
     ],
     "prompt_number": 11
    },
    {
     "cell_type": "code",
     "collapsed": false,
     "input": [
      "du.preview_json(f4)"
     ],
     "language": "python",
     "metadata": {},
     "outputs": [
      {
       "output_type": "stream",
       "stream": "stdout",
       "text": [
        "[u'checkin_info', u'type', u'business_id']\n"
       ]
      }
     ],
     "prompt_number": 12
    },
    {
     "cell_type": "code",
     "collapsed": false,
     "input": [
      "reviewsdu['user_id']"
     ],
     "language": "python",
     "metadata": {},
     "outputs": [
      {
       "ename": "NameError",
       "evalue": "name 'set_option' is not defined",
       "output_type": "pyerr",
       "traceback": [
        "\u001b[1;31m---------------------------------------------------------------------------\u001b[0m\n\u001b[1;31mNameError\u001b[0m                                 Traceback (most recent call last)",
        "\u001b[1;32m<ipython-input-45-a4d7f1e2ee54>\u001b[0m in \u001b[0;36m<module>\u001b[1;34m()\u001b[0m\n\u001b[0;32m      1\u001b[0m \u001b[0mreviewsdu\u001b[0m\u001b[1;33m[\u001b[0m\u001b[1;34m'user_id'\u001b[0m\u001b[1;33m]\u001b[0m\u001b[1;33m\u001b[0m\u001b[0m\n\u001b[1;32m----> 2\u001b[1;33m \u001b[0mset_option\u001b[0m\u001b[1;33m(\u001b[0m\u001b[1;34m'line_width'\u001b[0m\u001b[1;33m,\u001b[0m\u001b[1;36m100\u001b[0m\u001b[1;33m)\u001b[0m\u001b[1;33m\u001b[0m\u001b[0m\n\u001b[0m",
        "\u001b[1;31mNameError\u001b[0m: name 'set_option' is not defined"
       ]
      }
     ],
     "prompt_number": 45
    },
    {
     "cell_type": "code",
     "collapsed": false,
     "input": [
      "usersdu['user_id'][0]"
     ],
     "language": "python",
     "metadata": {},
     "outputs": [
      {
       "output_type": "pyout",
       "prompt_number": 7,
       "text": [
        "u'CR2y7yEm4X035ZMzrTtN9Q'"
       ]
      }
     ],
     "prompt_number": 7
    },
    {
     "cell_type": "code",
     "collapsed": false,
     "input": [
      "type(reviewsdu.ix[1])"
     ],
     "language": "python",
     "metadata": {},
     "outputs": [
      {
       "output_type": "pyout",
       "prompt_number": 74,
       "text": [
        "pandas.core.series.Series"
       ]
      }
     ],
     "prompt_number": 74
    },
    {
     "cell_type": "code",
     "collapsed": false,
     "input": [
      "ReviewsPerUser = pd.DataFrame(columns=reviewsdu.columns)\n",
      "end = len(reviewsdu)\n",
      "count = 0\n",
      "total = 0\n",
      "user = 5\n",
      "\n",
      "while count != end:\n",
      "    if usersdu['user_id'][user] == reviewsdu['user_id'][count]:        \n",
      "        ReviewsPerUser = ReviewsPerUser.append(reviewsdu.ix[count],ignore_index=True)        \n",
      "        total +=1\n",
      "    count += 1\n",
      "print total,\"reviews found from user_id\",usersdu['user_id'][user]"
     ],
     "language": "python",
     "metadata": {},
     "outputs": [
      {
       "output_type": "stream",
       "stream": "stdout",
       "text": [
        "14 reviews found from user_id mWx5Sxt_dx-sYBZg6RgJHQ\n"
       ]
      }
     ],
     "prompt_number": 85
    },
    {
     "cell_type": "code",
     "collapsed": false,
     "input": [
      "print ReviewsPerUser.ix[0]"
     ],
     "language": "python",
     "metadata": {},
     "outputs": [
      {
       "output_type": "stream",
       "stream": "stdout",
       "text": [
        "user_id                                   mWx5Sxt_dx-sYBZg6RgJHQ\n",
        "review_id                                 VDraasggi_ncLKjSKGKrTg\n",
        "text           Two stars for the effort.  \\n\\nI'm a huge fan ...\n",
        "business_id                               rQ4z0EStSZE4acgkne6Hmg\n",
        "stars                                                          2\n",
        "date                                                  2009-11-11\n",
        "type                                                      review\n",
        "funny                                                          3\n",
        "useful                                                         6\n",
        "cool                                                           5\n",
        "Name: 0\n"
       ]
      }
     ],
     "prompt_number": 88
    },
    {
     "cell_type": "code",
     "collapsed": false,
     "input": [],
     "language": "python",
     "metadata": {},
     "outputs": []
    }
   ],
   "metadata": {}
  }
 ]
}