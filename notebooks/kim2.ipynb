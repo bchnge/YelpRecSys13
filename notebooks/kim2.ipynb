{
 "metadata": {
  "name": "kim2"
 },
 "nbformat": 3,
 "nbformat_minor": 0,
 "worksheets": [
  {
   "cells": [
    {
     "cell_type": "code",
     "collapsed": false,
     "input": [
      "import json\n",
      "import pandas as pd\n",
      "import YelpRecSys13.src.data_util as du\n",
      "import numpy\n",
      "userraw = '/home/aise/Downloads/yelp_training_set/yelp_training_set_user.json'\n",
      "reviewraw = '/home/aise/Downloads/yelp_training_set/yelp_training_set_review.json'\n",
      "businessraw = '/home/aise/Downloads/yelp_training_set/yelp_training_set_business.json'\n",
      "checkinraw = '/home/aise/Downloads/yelp_training_set/yelp_training_set_checkin.json'"
     ],
     "language": "python",
     "metadata": {},
     "outputs": [],
     "prompt_number": 1
    },
    {
     "cell_type": "code",
     "collapsed": false,
     "input": [
      "usersdu = du.json2dataframe(userraw,['review_count', 'type'])\n",
      "reviewsdu = du.json2dataframe(reviewraw,['text','type','review_id'])\n",
      "reviewsdu2 = du.json2dataframe(reviewraw,['text','type','review_id','user_id'])\n",
      "businessesdu = du.json2dataframe(businessraw)"
     ],
     "language": "python",
     "metadata": {},
     "outputs": [],
     "prompt_number": 2
    },
    {
     "cell_type": "code",
     "collapsed": false,
     "input": [
      "checkinsdu = du.json2dataframe(checkinraw)"
     ],
     "language": "python",
     "metadata": {},
     "outputs": [
      {
       "ename": "KeyError",
       "evalue": "u'0-5'",
       "output_type": "pyerr",
       "traceback": [
        "\u001b[1;31m---------------------------------------------------------------------------\u001b[0m\n\u001b[1;31mKeyError\u001b[0m                                  Traceback (most recent call last)",
        "\u001b[1;32m<ipython-input-7-dbe7175a17e9>\u001b[0m in \u001b[0;36m<module>\u001b[1;34m()\u001b[0m\n\u001b[1;32m----> 1\u001b[1;33m \u001b[0mcheckinsdu\u001b[0m \u001b[1;33m=\u001b[0m \u001b[0mdu\u001b[0m\u001b[1;33m.\u001b[0m\u001b[0mjson2dataframe\u001b[0m\u001b[1;33m(\u001b[0m\u001b[0mcheckinraw\u001b[0m\u001b[1;33m)\u001b[0m\u001b[1;33m\u001b[0m\u001b[0m\n\u001b[0m",
        "\u001b[1;32m/home/aise/YelpRecSys13/src/data_util.pyc\u001b[0m in \u001b[0;36mjson2dataframe\u001b[1;34m(file, exclude)\u001b[0m\n\u001b[0;32m     29\u001b[0m         \u001b[1;32mif\u001b[0m \u001b[0mcoltype\u001b[0m \u001b[1;33m==\u001b[0m \u001b[0mdict\u001b[0m\u001b[1;33m:\u001b[0m\u001b[1;33m\u001b[0m\u001b[0m\n\u001b[0;32m     30\u001b[0m             \u001b[1;32mfor\u001b[0m \u001b[0mcol2\u001b[0m \u001b[1;32min\u001b[0m \u001b[0mdata\u001b[0m\u001b[1;33m[\u001b[0m\u001b[1;36m1\u001b[0m\u001b[1;33m]\u001b[0m\u001b[1;33m[\u001b[0m\u001b[0mcol\u001b[0m\u001b[1;33m]\u001b[0m\u001b[1;33m.\u001b[0m\u001b[0mkeys\u001b[0m\u001b[1;33m(\u001b[0m\u001b[1;33m)\u001b[0m\u001b[1;33m:\u001b[0m\u001b[1;33m\u001b[0m\u001b[0m\n\u001b[1;32m---> 31\u001b[1;33m                 \u001b[0mfinaldata\u001b[0m\u001b[1;33m[\u001b[0m\u001b[0mcol2\u001b[0m\u001b[1;33m]\u001b[0m \u001b[1;33m=\u001b[0m \u001b[1;33m[\u001b[0m\u001b[0mv\u001b[0m\u001b[1;33m[\u001b[0m\u001b[0mcol\u001b[0m\u001b[1;33m]\u001b[0m\u001b[1;33m[\u001b[0m\u001b[0mcol2\u001b[0m\u001b[1;33m]\u001b[0m \u001b[1;32mfor\u001b[0m \u001b[0mv\u001b[0m \u001b[1;32min\u001b[0m \u001b[0mdata\u001b[0m\u001b[1;33m]\u001b[0m\u001b[1;33m\u001b[0m\u001b[0m\n\u001b[0m\u001b[0;32m     32\u001b[0m \u001b[1;33m\u001b[0m\u001b[0m\n\u001b[0;32m     33\u001b[0m     \u001b[1;31m# Delete variables to be excluded\u001b[0m\u001b[1;33m\u001b[0m\u001b[1;33m\u001b[0m\u001b[0m\n",
        "\u001b[1;31mKeyError\u001b[0m: u'0-5'"
       ]
      }
     ],
     "prompt_number": 7
    },
    {
     "cell_type": "code",
     "collapsed": false,
     "input": [
      "ReviewsPerUser = pd.DataFrame(columns=reviewsdu.columns)\n",
      "end = len(reviewsdu)\n",
      "count = 0\n",
      "total = 0\n",
      "user = 0\n",
      "\n",
      "while count != end:\n",
      "    if usersdu['user_id'][user] == reviewsdu['user_id'][count]:        \n",
      "        ReviewsPerUser = ReviewsPerUser.append(reviewsdu.ix[count],ignore_index=True)        \n",
      "        total +=1\n",
      "    count += 1\n",
      "print total,\"reviews found from user_id\",usersdu['user_id'][user]"
     ],
     "language": "python",
     "metadata": {},
     "outputs": [
      {
       "output_type": "stream",
       "stream": "stdout",
       "text": [
        "3 reviews found from user_id CR2y7yEm4X035ZMzrTtN9Q\n"
       ]
      }
     ],
     "prompt_number": 3
    },
    {
     "cell_type": "code",
     "collapsed": false,
     "input": [
      "ReviewsPerUser = pd.DataFrame(columns=['user_id','review_count','reviews'])\n",
      "reviewend = len(reviewsdu)\n",
      "\n",
      "\n",
      "user = 0\n",
      "usertotal = 10\n",
      "\n",
      "while user != usertotal:\n",
      "    \n",
      "    curuser = usersdu['user_id'][user]\n",
      "    ReviewsPerUser = ReviewsPerUser.append({'user_id' : curuser}, ignore_index = True)\n",
      "    tempdf = pd.DataFrame(columns=reviewsdu2.columns)\n",
      "    \"print ReviewsPerUser\"\n",
      "    \n",
      "    reviewtotal = 0\n",
      "    reviewcount = 0\n",
      "       \n",
      "    while reviewcount != reviewend:        \n",
      "        if curuser == reviewsdu['user_id'][reviewcount]:\n",
      "            tempdf = tempdf.append(reviewsdu2.ix[reviewcount], ignore_index = True)\n",
      "            reviewtotal +=1\n",
      "        reviewcount += 1        \n",
      "    \n",
      "    if reviewtotal == 1:\n",
      "        reviewtext = 'review'\n",
      "    else:\n",
      "        reviewtext = 'reviews'\n",
      "    print 'user',curuser,'has',reviewtotal,reviewtext,', user',user+1,'of',usertotal\n",
      "    \n",
      "    ReviewsPerUser['reviews'][user] = tempdf    \n",
      "    ReviewsPerUser['review_count'][user] = reviewtotal    \n",
      "    user +=1\n"
     ],
     "language": "python",
     "metadata": {},
     "outputs": [
      {
       "output_type": "stream",
       "stream": "stdout",
       "text": [
        "user CR2y7yEm4X035ZMzrTtN9Q has 3 reviews , user 1 of 10\n",
        "user"
       ]
      },
      {
       "output_type": "stream",
       "stream": "stdout",
       "text": [
        " _9GXoHhdxc30ujPaQwh6Ew has 2 reviews , user 2 of 10\n",
        "user"
       ]
      },
      {
       "output_type": "stream",
       "stream": "stdout",
       "text": [
        " 8mM-nqxjg6pT04kwcjMbsw has 1 review , user 3 of 10\n",
        "user"
       ]
      },
      {
       "output_type": "stream",
       "stream": "stdout",
       "text": [
        " Ch6CdTR2IVaVANr-RglMOg has 1 review , user 4 of 10\n",
        "user"
       ]
      },
      {
       "output_type": "stream",
       "stream": "stdout",
       "text": [
        " NZrLmHRyiHmyT1JrfzkCOA has 1 review , user 5 of 10\n",
        "user"
       ]
      },
      {
       "output_type": "stream",
       "stream": "stdout",
       "text": [
        " mWx5Sxt_dx-sYBZg6RgJHQ has 14 reviews , user 6 of 10\n",
        "user"
       ]
      },
      {
       "output_type": "stream",
       "stream": "stdout",
       "text": [
        " hryUDaRk7FLuDAYui2oldw has 2 reviews , user 7 of 10\n",
        "user"
       ]
      },
      {
       "output_type": "stream",
       "stream": "stdout",
       "text": [
        " 2t6fZNLtiqsihVmeO7zggg has 1 review , user 8 of 10\n",
        "user"
       ]
      },
      {
       "output_type": "stream",
       "stream": "stdout",
       "text": [
        " mn6F-eP5WU37b-iLTop2mQ has 3 reviews , user 9 of 10\n",
        "user"
       ]
      },
      {
       "output_type": "stream",
       "stream": "stdout",
       "text": [
        " myXq7PFXkD_yfXT580SXMw has 7 reviews , user 10 of 10\n"
       ]
      }
     ],
     "prompt_number": 88
    },
    {
     "cell_type": "code",
     "collapsed": false,
     "input": [
      "count = 0\n",
      "endlist = len(ReviewsPerUser)\n",
      "while count != endlist:\n",
      "    print ReviewsPerUser.ix[count][['user_id','review_count']]\n",
      "    print ReviewsPerUser['reviews'][count]\n",
      "    print '--------------------------------------------------------------'\n",
      "    count+=1"
     ],
     "language": "python",
     "metadata": {},
     "outputs": [
      {
       "output_type": "stream",
       "stream": "stdout",
       "text": [
        "user_id         CR2y7yEm4X035ZMzrTtN9Q\n",
        "review_count                         3\n",
        "Name: 0, dtype: object\n",
        "              business_id stars        date funny useful cool\n",
        "0  AvuWSAwTGWtW5zoD-pJLUQ     5  2012-06-15     0      0    0\n",
        "1  KJXi3s3rcKb1EcZUApL0Vg     5  2012-12-20     0      0    0\n",
        "2  KGX7O-_WqOIy9o7u9NOa9A     5  2012-05-22     0      2    0\n",
        "--------------------------------------------------------------\n",
        "user_id         _9GXoHhdxc30ujPaQwh6Ew\n",
        "review_count                         2\n",
        "Name: 1, dtype: object\n",
        "              business_id stars        date funny useful cool\n",
        "0  -yzbXeIf2QuN19kC-M-KFQ     1  2012-04-16     0      0    0\n",
        "1  Mq4W0508ZwUHN7nWND7dqw     1  2012-04-16     0      1    0\n",
        "--------------------------------------------------------------\n",
        "user_id         8mM-nqxjg6pT04kwcjMbsw\n",
        "review_count                         1\n",
        "Name: 2, dtype: object\n",
        "              business_id stars        date funny useful cool\n",
        "0  jQCeInIfLtuHTA33mlz9zw     5  2012-06-19     0      1    0"
       ]
      },
      {
       "output_type": "stream",
       "stream": "stdout",
       "text": [
        "\n",
        "--------------------------------------------------------------\n",
        "user_id         Ch6CdTR2IVaVANr-RglMOg\n",
        "review_count                         1\n",
        "Name: 3, dtype: object\n",
        "              business_id stars        date funny useful cool\n",
        "0  DcrM4hwDcU2G6vuh2cnaYQ     5  2012-04-05     0      1    0\n",
        "--------------------------------------------------------------\n",
        "user_id         NZrLmHRyiHmyT1JrfzkCOA\n",
        "review_count                         1\n",
        "Name: 4, dtype: object\n",
        "              business_id stars        date funny useful cool\n",
        "0  3oZcTGb_oDHGwZFiP-7kxQ     1  2011-12-07     0      0    0\n",
        "--------------------------------------------------------------\n",
        "user_id         mWx5Sxt_dx-sYBZg6RgJHQ\n",
        "review_count                        14\n",
        "Name: 5, dtype: object\n",
        "               business_id stars        date funny useful cool\n",
        "0   rQ4z0EStSZE4acgkne6Hmg     2  2009-11-11     3      6    5\n",
        "1   r7Ge8_c5Y2TXthb4CSjzaA     3  2009-07-07     2      4    3\n",
        "2   udmb-UuD3xoueQ55INQFRw     5  2009-06-24     3      3    3\n",
        "3   r3r_bAfa6pZKIhQB82FizQ     4  2009-08-05     2      3    3\n",
        "4   WPmamMTGAmNYXGoXW1mWyQ     4  2009-11-16     0      0    0\n",
        "5   zBl32GAjYcKNpsEGPXXuqg     4  2009-08-31     2      2    1\n",
        "6   qd1ajiZRCwqEQJqCgoN1wg     4  2009-11-16     0      0    0\n",
        "7   St3jS0PnF1lulH1ggA4Jgw     5  2009-11-16     0      0    0\n",
        "8   WS1z1OAR0tRl4FsjdTGUFQ     4  2010-07-30     0      0    0\n",
        "9   SDwYQ6eSu1htn8vHWv128g     5  2009-06-25     2      3    3\n",
        "10  pwpl-rxwNRQdgqFz_-qMPg     5  2009-05-22     2      5    5\n",
        "11  FeI75xIG8PF_XZ6P80gLBQ     2  2009-08-05     1      1    2\n",
        "12  YKOvlBNkF4KpUP9q7x862w     4  2009-11-11     1      1    1\n",
        "13  KBG28p3lGX17hOPoHhq5PQ     5  2009-08-05     1      1    1"
       ]
      },
      {
       "output_type": "stream",
       "stream": "stdout",
       "text": [
        "\n",
        "--------------------------------------------------------------\n",
        "user_id         hryUDaRk7FLuDAYui2oldw\n",
        "review_count                         2\n",
        "Name: 6, dtype: object\n",
        "              business_id stars        date funny useful cool\n",
        "0  czOxS1z2MGzPXNP3W1d0Yw     1  2010-10-30     0      0    0\n",
        "1  5GpvSL1tlAjpgdJKZ5eLpg     5  2006-07-24     0      0    1\n",
        "--------------------------------------------------------------\n",
        "user_id         2t6fZNLtiqsihVmeO7zggg\n",
        "review_count                         1\n",
        "Name: 7, dtype: object\n",
        "              business_id stars        date funny useful cool\n",
        "0  Bc4DoKgrKCtCuN-0O5He3A     5  2009-09-15     1      0    1\n",
        "--------------------------------------------------------------\n",
        "user_id         mn6F-eP5WU37b-iLTop2mQ\n",
        "review_count                         3\n",
        "Name: 8, dtype: object\n",
        "              business_id stars        date funny useful cool\n",
        "0  9ziO3NpoNTKHvIKCBFB_fQ     3  2011-09-25     0      1    0\n",
        "1  53YGfwmbW73JhFiemNeyzQ     5  2011-09-25     0      1    0\n",
        "2  l1kqHWtICTNk8TdCNisf5A     5  2011-09-25     0      1    1"
       ]
      },
      {
       "output_type": "stream",
       "stream": "stdout",
       "text": [
        "\n",
        "--------------------------------------------------------------\n",
        "user_id         myXq7PFXkD_yfXT580SXMw\n",
        "review_count                         7\n",
        "Name: 9, dtype: object\n",
        "              business_id stars        date funny useful cool\n",
        "0  d83_qJwcOYOojQsapu1Z4A     5  2010-06-27     1      0    0\n",
        "1  wN_wAXWg8W94v04eqijy6g     3  2011-07-27     0      0    0\n",
        "2  RT06SJHkloqMvNn1aXdpBw     3  2010-12-06     0      0    0\n",
        "3  VLRmecRseHP8ZLljlp7CFw     5  2009-12-03     0      2    1\n",
        "4  JMZfcwARQ68n7GGsqmtdaA     4  2010-09-08     0      0    0\n",
        "5  5kRug3bEienrpovtPRVVwg     2  2009-05-02     0      7    3\n",
        "6  UxvOXcoCRFRAVhRB0D9imw     4  2010-09-05     0      1    0\n",
        "--------------------------------------------------------------\n"
       ]
      }
     ],
     "prompt_number": 89
    },
    {
     "cell_type": "code",
     "collapsed": false,
     "input": [],
     "language": "python",
     "metadata": {},
     "outputs": []
    }
   ],
   "metadata": {}
  }
 ]
}