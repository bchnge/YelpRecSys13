{
 "metadata": {
  "name": "Untitled1"
 },
 "nbformat": 3,
 "nbformat_minor": 0,
 "worksheets": [
  {
   "cells": [
    {
     "cell_type": "code",
     "collapsed": false,
     "input": [
      "import json\n",
      "import pandas as pd"
     ],
     "language": "python",
     "metadata": {},
     "outputs": [],
     "prompt_number": 1
    },
    {
     "cell_type": "code",
     "collapsed": false,
     "input": [
      "import numpy"
     ],
     "language": "python",
     "metadata": {},
     "outputs": [],
     "prompt_number": 2
    },
    {
     "cell_type": "code",
     "collapsed": false,
     "input": [
      "users = []\n",
      "with open('/home/aise/Downloads/yelp_training_set/yelp_training_set_user.json','r') as f:\n",
      "    for line in f:\n",
      "        users.append(json.loads(line))"
     ],
     "language": "python",
     "metadata": {},
     "outputs": [],
     "prompt_number": 4
    },
    {
     "cell_type": "code",
     "collapsed": false,
     "input": [
      "reviews = []\n",
      "with open('/home/aise/Downloads/yelp_training_set/yelp_training_set_review.json','r') as f:\n",
      "    for line in f:\n",
      "        reviews.append(json.loads(line))"
     ],
     "language": "python",
     "metadata": {},
     "outputs": [],
     "prompt_number": 5
    },
    {
     "cell_type": "code",
     "collapsed": false,
     "input": [
      "businesses = []\n",
      "with open('/home/aise/Downloads/yelp_training_set/yelp_training_set_business.json','r') as f:\n",
      "    for line in f:\n",
      "        businesses.append(json.loads(line))"
     ],
     "language": "python",
     "metadata": {},
     "outputs": [],
     "prompt_number": 6
    },
    {
     "cell_type": "code",
     "collapsed": false,
     "input": [
      "checkins = []\n",
      "with open('/home/aise/Downloads/yelp_training_set/yelp_training_set_checkin.json','r') as f:\n",
      "    for line in f:\n",
      "        checkins.append(json.loads(line))"
     ],
     "language": "python",
     "metadata": {},
     "outputs": [],
     "prompt_number": 7
    },
    {
     "cell_type": "code",
     "collapsed": false,
     "input": [
      "teststr1 = json.dumps(users[4],indent=1,separators=(',',' : '))"
     ],
     "language": "python",
     "metadata": {},
     "outputs": [],
     "prompt_number": 8
    },
    {
     "cell_type": "code",
     "collapsed": false,
     "input": [
      "teststr2 = json.dumps(reviews[4],indent=1,separators=(',',' : '))"
     ],
     "language": "python",
     "metadata": {},
     "outputs": [],
     "prompt_number": 9
    },
    {
     "cell_type": "code",
     "collapsed": false,
     "input": [
      "teststr3 = json.dumps(businesses[4],indent=1,separators=(',',' : '))"
     ],
     "language": "python",
     "metadata": {},
     "outputs": [],
     "prompt_number": 10
    },
    {
     "cell_type": "code",
     "collapsed": false,
     "input": [
      "teststr4 = json.dumps(checkins[4],indent=1,separators=(',',' : '))"
     ],
     "language": "python",
     "metadata": {},
     "outputs": [],
     "prompt_number": 11
    },
    {
     "cell_type": "code",
     "collapsed": false,
     "input": [
      "print teststr1"
     ],
     "language": "python",
     "metadata": {},
     "outputs": [
      {
       "output_type": "stream",
       "stream": "stdout",
       "text": [
        "{\n",
        " \"votes\" : {\n",
        "  \"funny\" : 0,\n",
        "  \"useful\" : 0,\n",
        "  \"cool\" : 0\n",
        " },\n",
        " \"review_count\" : 1,\n",
        " \"name\" : \"Beth\",\n",
        " \"average_stars\" : 1.0,\n",
        " \"user_id\" : \"NZrLmHRyiHmyT1JrfzkCOA\",\n",
        " \"type\" : \"user\"\n",
        "}\n"
       ]
      }
     ],
     "prompt_number": 12
    },
    {
     "cell_type": "code",
     "collapsed": false,
     "input": [
      "print teststr2"
     ],
     "language": "python",
     "metadata": {},
     "outputs": [
      {
       "output_type": "stream",
       "stream": "stdout",
       "text": [
        "{\n",
        " \"votes\" : {\n",
        "  \"funny\" : 0,\n",
        "  \"useful\" : 0,\n",
        "  \"cool\" : 0\n",
        " },\n",
        " \"user_id\" : \"vYmM4KTsC8ZfQBg-j5MWkw\",\n",
        " \"review_id\" : \"1uJFq2r5QfJG_6ExMRCaGw\",\n",
        " \"text\" : \"General Manager Scott Petello is a good egg!!! Not to go into detail, but let me assure you if you have any issues (albeit rare) speak with Scott and treat the guy with some respect as you state your case and I'd be surprised if you don't walk out totally satisfied as I just did. Like I always say..... \\\"Mistakes are inevitable, it's how we recover from them that is important\\\"!!!\\n\\nThanks to Scott and his awesome staff. You've got a customer for life!! .......... :^)\",\n",
        " \"business_id\" : \"6ozycU1RpktNG2-1BroVtw\",\n",
        " \"stars\" : 5,\n",
        " \"date\" : \"2012-01-05\",\n",
        " \"type\" : \"review\"\n",
        "}\n"
       ]
      }
     ],
     "prompt_number": 13
    },
    {
     "cell_type": "code",
     "collapsed": false,
     "input": [
      "print teststr3"
     ],
     "language": "python",
     "metadata": {},
     "outputs": [
      {
       "output_type": "stream",
       "stream": "stdout",
       "text": [
        "{\n",
        " \"city\" : \"Glendale Az\",\n",
        " \"review_count\" : 14,\n",
        " \"name\" : \"Hot Bagels & Deli\",\n",
        " \"neighborhoods\" : [],\n",
        " \"type\" : \"business\",\n",
        " \"business_id\" : \"PzOqRohWw7F7YEPBz6AubA\",\n",
        " \"full_address\" : \"6520 W Happy Valley Rd\\nSte 101\\nGlendale Az, AZ 85310\",\n",
        " \"state\" : \"AZ\",\n",
        " \"longitude\" : -112.200264,\n",
        " \"stars\" : 3.5,\n",
        " \"latitude\" : 33.712797,\n",
        " \"open\" : true,\n",
        " \"categories\" : [\n",
        "  \"Food\",\n",
        "  \"Bagels\",\n",
        "  \"Delis\",\n",
        "  \"Restaurants\"\n",
        " ]\n",
        "}\n"
       ]
      }
     ],
     "prompt_number": 14
    },
    {
     "cell_type": "code",
     "collapsed": false,
     "input": [
      "print teststr4"
     ],
     "language": "python",
     "metadata": {},
     "outputs": [
      {
       "output_type": "stream",
       "stream": "stdout",
       "text": [
        "{\n",
        " \"checkin_info\" : {\n",
        "  \"16-2\" : 1,\n",
        "  \"14-5\" : 1,\n",
        "  \"12-5\" : 2,\n",
        "  \"15-4\" : 1,\n",
        "  \"13-4\" : 1\n",
        " },\n",
        " \"type\" : \"checkin\",\n",
        " \"business_id\" : \"HLQGo3EaYVvAv22bONGkIw\"\n",
        "}\n"
       ]
      }
     ],
     "prompt_number": 15
    },
    {
     "cell_type": "code",
     "collapsed": false,
     "input": [
      "type(teststr3)"
     ],
     "language": "python",
     "metadata": {},
     "outputs": [
      {
       "output_type": "pyout",
       "prompt_number": 16,
       "text": [
        "str"
       ]
      }
     ],
     "prompt_number": 16
    },
    {
     "cell_type": "code",
     "collapsed": false,
     "input": [
      "testjson = data[4]"
     ],
     "language": "python",
     "metadata": {},
     "outputs": [],
     "prompt_number": 18
    },
    {
     "cell_type": "code",
     "collapsed": false,
     "input": [
      "rint testjson"
     ],
     "language": "python",
     "metadata": {},
     "outputs": [],
     "prompt_number": 18
    },
    {
     "cell_type": "code",
     "collapsed": false,
     "input": [
      "type(testjson)"
     ],
     "language": "python",
     "metadata": {},
     "outputs": [],
     "prompt_number": 18
    },
    {
     "cell_type": "code",
     "collapsed": false,
     "input": [
      "type(data)"
     ],
     "language": "python",
     "metadata": {},
     "outputs": [],
     "prompt_number": 18
    },
    {
     "cell_type": "code",
     "collapsed": false,
     "input": [
      "testjson.items()"
     ],
     "language": "python",
     "metadata": {},
     "outputs": [],
     "prompt_number": 18
    },
    {
     "cell_type": "code",
     "collapsed": false,
     "input": [
      "testjson.keys()"
     ],
     "language": "python",
     "metadata": {},
     "outputs": [],
     "prompt_number": 18
    },
    {
     "cell_type": "code",
     "collapsed": false,
     "input": [
      "print \"data: \", users[0]['votes']['funny']"
     ],
     "language": "python",
     "metadata": {},
     "outputs": [
      {
       "output_type": "stream",
       "stream": "stdout",
       "text": [
        "data:  0\n"
       ]
      }
     ],
     "prompt_number": 66
    },
    {
     "cell_type": "code",
     "collapsed": false,
     "input": [
      "N = len(users)"
     ],
     "language": "python",
     "metadata": {},
     "outputs": [],
     "prompt_number": 19
    },
    {
     "cell_type": "code",
     "collapsed": false,
     "input": [
      "Users = pd.DataFrame(columns = users[1].keys()[1:],index = range(0,N))"
     ],
     "language": "python",
     "metadata": {},
     "outputs": [],
     "prompt_number": 20
    },
    {
     "cell_type": "code",
     "collapsed": false,
     "input": [
      "uservotes = []\n",
      "\n",
      "for line in users:\n",
      "    uservotes.append(line['votes'])\n",
      "    "
     ],
     "language": "python",
     "metadata": {},
     "outputs": [],
     "prompt_number": 21
    },
    {
     "cell_type": "code",
     "collapsed": false,
     "input": [
      "UserVotes = pd.DataFrame(columns = uservotes[1].keys(),index = range(0,N))"
     ],
     "language": "python",
     "metadata": {},
     "outputs": [],
     "prompt_number": 22
    },
    {
     "cell_type": "code",
     "collapsed": false,
     "input": [
      "for col in Users.columns:\n",
      "    Users[col] = [v[col] for v in users]\n",
      "\n",
      "for col in UserVotes.columns:\n",
      "        UserVotes[col] = [v[col] for v in uservotes]       \n",
      "        "
     ],
     "language": "python",
     "metadata": {},
     "outputs": [],
     "prompt_number": 23
    },
    {
     "cell_type": "code",
     "collapsed": false,
     "input": [
      "UserVotes[0:10]"
     ],
     "language": "python",
     "metadata": {},
     "outputs": [
      {
       "html": [
        "<div style=\"max-height:1000px;max-width:1500px;overflow:auto;\">\n",
        "<table border=\"1\" class=\"dataframe\">\n",
        "  <thead>\n",
        "    <tr style=\"text-align: right;\">\n",
        "      <th></th>\n",
        "      <th>funny</th>\n",
        "      <th>useful</th>\n",
        "      <th>cool</th>\n",
        "    </tr>\n",
        "  </thead>\n",
        "  <tbody>\n",
        "    <tr>\n",
        "      <td><strong>0</strong></td>\n",
        "      <td>  0</td>\n",
        "      <td>   7</td>\n",
        "      <td>  0</td>\n",
        "    </tr>\n",
        "    <tr>\n",
        "      <td><strong>1</strong></td>\n",
        "      <td>  0</td>\n",
        "      <td>   1</td>\n",
        "      <td>  0</td>\n",
        "    </tr>\n",
        "    <tr>\n",
        "      <td><strong>2</strong></td>\n",
        "      <td>  0</td>\n",
        "      <td>   1</td>\n",
        "      <td>  0</td>\n",
        "    </tr>\n",
        "    <tr>\n",
        "      <td><strong>3</strong></td>\n",
        "      <td>  0</td>\n",
        "      <td>   2</td>\n",
        "      <td>  0</td>\n",
        "    </tr>\n",
        "    <tr>\n",
        "      <td><strong>4</strong></td>\n",
        "      <td>  0</td>\n",
        "      <td>   0</td>\n",
        "      <td>  0</td>\n",
        "    </tr>\n",
        "    <tr>\n",
        "      <td><strong>5</strong></td>\n",
        "      <td> 30</td>\n",
        "      <td>  45</td>\n",
        "      <td> 36</td>\n",
        "    </tr>\n",
        "    <tr>\n",
        "      <td><strong>6</strong></td>\n",
        "      <td> 28</td>\n",
        "      <td> 130</td>\n",
        "      <td> 31</td>\n",
        "    </tr>\n",
        "    <tr>\n",
        "      <td><strong>7</strong></td>\n",
        "      <td>  1</td>\n",
        "      <td>   0</td>\n",
        "      <td>  1</td>\n",
        "    </tr>\n",
        "    <tr>\n",
        "      <td><strong>8</strong></td>\n",
        "      <td>  0</td>\n",
        "      <td>   3</td>\n",
        "      <td>  2</td>\n",
        "    </tr>\n",
        "    <tr>\n",
        "      <td><strong>9</strong></td>\n",
        "      <td>  5</td>\n",
        "      <td>  24</td>\n",
        "      <td>  9</td>\n",
        "    </tr>\n",
        "  </tbody>\n",
        "</table>\n",
        "</div>"
       ],
       "output_type": "pyout",
       "prompt_number": 24,
       "text": [
        "   funny  useful  cool\n",
        "0      0       7     0\n",
        "1      0       1     0\n",
        "2      0       1     0\n",
        "3      0       2     0\n",
        "4      0       0     0\n",
        "5     30      45    36\n",
        "6     28     130    31\n",
        "7      1       0     1\n",
        "8      0       3     2\n",
        "9      5      24     9"
       ]
      }
     ],
     "prompt_number": 24
    },
    {
     "cell_type": "code",
     "collapsed": false,
     "input": [
      "Users[0:10]"
     ],
     "language": "python",
     "metadata": {},
     "outputs": [
      {
       "html": [
        "<div style=\"max-height:1000px;max-width:1500px;overflow:auto;\">\n",
        "<table border=\"1\" class=\"dataframe\">\n",
        "  <thead>\n",
        "    <tr style=\"text-align: right;\">\n",
        "      <th></th>\n",
        "      <th>review_count</th>\n",
        "      <th>name</th>\n",
        "      <th>average_stars</th>\n",
        "      <th>user_id</th>\n",
        "      <th>type</th>\n",
        "      <th>funny</th>\n",
        "      <th>useful</th>\n",
        "      <th>cool</th>\n",
        "    </tr>\n",
        "  </thead>\n",
        "  <tbody>\n",
        "    <tr>\n",
        "      <td><strong>0</strong></td>\n",
        "      <td>   6</td>\n",
        "      <td>       Jim</td>\n",
        "      <td> 5.00</td>\n",
        "      <td> CR2y7yEm4X035ZMzrTtN9Q</td>\n",
        "      <td> user</td>\n",
        "      <td>  0</td>\n",
        "      <td>   7</td>\n",
        "      <td>  0</td>\n",
        "    </tr>\n",
        "    <tr>\n",
        "      <td><strong>1</strong></td>\n",
        "      <td>   2</td>\n",
        "      <td>     Kelle</td>\n",
        "      <td> 1.00</td>\n",
        "      <td> _9GXoHhdxc30ujPaQwh6Ew</td>\n",
        "      <td> user</td>\n",
        "      <td>  0</td>\n",
        "      <td>   1</td>\n",
        "      <td>  0</td>\n",
        "    </tr>\n",
        "    <tr>\n",
        "      <td><strong>2</strong></td>\n",
        "      <td>   2</td>\n",
        "      <td> Stephanie</td>\n",
        "      <td> 5.00</td>\n",
        "      <td> 8mM-nqxjg6pT04kwcjMbsw</td>\n",
        "      <td> user</td>\n",
        "      <td>  0</td>\n",
        "      <td>   1</td>\n",
        "      <td>  0</td>\n",
        "    </tr>\n",
        "    <tr>\n",
        "      <td><strong>3</strong></td>\n",
        "      <td>   2</td>\n",
        "      <td>         T</td>\n",
        "      <td> 5.00</td>\n",
        "      <td> Ch6CdTR2IVaVANr-RglMOg</td>\n",
        "      <td> user</td>\n",
        "      <td>  0</td>\n",
        "      <td>   2</td>\n",
        "      <td>  0</td>\n",
        "    </tr>\n",
        "    <tr>\n",
        "      <td><strong>4</strong></td>\n",
        "      <td>   1</td>\n",
        "      <td>      Beth</td>\n",
        "      <td> 1.00</td>\n",
        "      <td> NZrLmHRyiHmyT1JrfzkCOA</td>\n",
        "      <td> user</td>\n",
        "      <td>  0</td>\n",
        "      <td>   0</td>\n",
        "      <td>  0</td>\n",
        "    </tr>\n",
        "    <tr>\n",
        "      <td><strong>5</strong></td>\n",
        "      <td>  19</td>\n",
        "      <td>       Amy</td>\n",
        "      <td> 3.79</td>\n",
        "      <td> mWx5Sxt_dx-sYBZg6RgJHQ</td>\n",
        "      <td> user</td>\n",
        "      <td> 30</td>\n",
        "      <td>  45</td>\n",
        "      <td> 36</td>\n",
        "    </tr>\n",
        "    <tr>\n",
        "      <td><strong>6</strong></td>\n",
        "      <td> 207</td>\n",
        "      <td>     Beach</td>\n",
        "      <td> 3.83</td>\n",
        "      <td> hryUDaRk7FLuDAYui2oldw</td>\n",
        "      <td> user</td>\n",
        "      <td> 28</td>\n",
        "      <td> 130</td>\n",
        "      <td> 31</td>\n",
        "    </tr>\n",
        "    <tr>\n",
        "      <td><strong>7</strong></td>\n",
        "      <td>   2</td>\n",
        "      <td> christine</td>\n",
        "      <td> 3.00</td>\n",
        "      <td> 2t6fZNLtiqsihVmeO7zggg</td>\n",
        "      <td> user</td>\n",
        "      <td>  1</td>\n",
        "      <td>   0</td>\n",
        "      <td>  1</td>\n",
        "    </tr>\n",
        "    <tr>\n",
        "      <td><strong>8</strong></td>\n",
        "      <td>   4</td>\n",
        "      <td>     Denis</td>\n",
        "      <td> 4.50</td>\n",
        "      <td> mn6F-eP5WU37b-iLTop2mQ</td>\n",
        "      <td> user</td>\n",
        "      <td>  0</td>\n",
        "      <td>   3</td>\n",
        "      <td>  2</td>\n",
        "    </tr>\n",
        "    <tr>\n",
        "      <td><strong>9</strong></td>\n",
        "      <td>  10</td>\n",
        "      <td>     Shawn</td>\n",
        "      <td> 3.90</td>\n",
        "      <td> myXq7PFXkD_yfXT580SXMw</td>\n",
        "      <td> user</td>\n",
        "      <td>  5</td>\n",
        "      <td>  24</td>\n",
        "      <td>  9</td>\n",
        "    </tr>\n",
        "  </tbody>\n",
        "</table>\n",
        "</div>"
       ],
       "output_type": "pyout",
       "prompt_number": 29,
       "text": [
        "   review_count       name  average_stars                 user_id  type  funny  \\\n",
        "0             6        Jim           5.00  CR2y7yEm4X035ZMzrTtN9Q  user      0   \n",
        "1             2      Kelle           1.00  _9GXoHhdxc30ujPaQwh6Ew  user      0   \n",
        "2             2  Stephanie           5.00  8mM-nqxjg6pT04kwcjMbsw  user      0   \n",
        "3             2          T           5.00  Ch6CdTR2IVaVANr-RglMOg  user      0   \n",
        "4             1       Beth           1.00  NZrLmHRyiHmyT1JrfzkCOA  user      0   \n",
        "5            19        Amy           3.79  mWx5Sxt_dx-sYBZg6RgJHQ  user     30   \n",
        "6           207      Beach           3.83  hryUDaRk7FLuDAYui2oldw  user     28   \n",
        "7             2  christine           3.00  2t6fZNLtiqsihVmeO7zggg  user      1   \n",
        "8             4      Denis           4.50  mn6F-eP5WU37b-iLTop2mQ  user      0   \n",
        "9            10      Shawn           3.90  myXq7PFXkD_yfXT580SXMw  user      5   \n",
        "\n",
        "   useful  cool  \n",
        "0       7     0  \n",
        "1       1     0  \n",
        "2       1     0  \n",
        "3       2     0  \n",
        "4       0     0  \n",
        "5      45    36  \n",
        "6     130    31  \n",
        "7       0     1  \n",
        "8       3     2  \n",
        "9      24     9  "
       ]
      }
     ],
     "prompt_number": 29
    },
    {
     "cell_type": "code",
     "collapsed": false,
     "input": [
      "for col in UserVotes:\n",
      "    Users[col] = pd.Series(UserVotes[col],index=Users.index)"
     ],
     "language": "python",
     "metadata": {},
     "outputs": [],
     "prompt_number": 26
    },
    {
     "cell_type": "code",
     "collapsed": false,
     "input": [
      "print teststr2"
     ],
     "language": "python",
     "metadata": {},
     "outputs": [
      {
       "output_type": "stream",
       "stream": "stdout",
       "text": [
        "{\n",
        " \"votes\" : {\n",
        "  \"funny\" : 0,\n",
        "  \"useful\" : 0,\n",
        "  \"cool\" : 0\n",
        " },\n",
        " \"user_id\" : \"vYmM4KTsC8ZfQBg-j5MWkw\",\n",
        " \"review_id\" : \"1uJFq2r5QfJG_6ExMRCaGw\",\n",
        " \"text\" : \"General Manager Scott Petello is a good egg!!! Not to go into detail, but let me assure you if you have any issues (albeit rare) speak with Scott and treat the guy with some respect as you state your case and I'd be surprised if you don't walk out totally satisfied as I just did. Like I always say..... \\\"Mistakes are inevitable, it's how we recover from them that is important\\\"!!!\\n\\nThanks to Scott and his awesome staff. You've got a customer for life!! .......... :^)\",\n",
        " \"business_id\" : \"6ozycU1RpktNG2-1BroVtw\",\n",
        " \"stars\" : 5,\n",
        " \"date\" : \"2012-01-05\",\n",
        " \"type\" : \"review\"\n",
        "}\n"
       ]
      }
     ],
     "prompt_number": 30
    },
    {
     "cell_type": "code",
     "collapsed": false,
     "input": [
      "ReviewsPerUser = []\n",
      "end = len(reviews)\n",
      "count = 0\n",
      "print Users['user_id'][5]\n",
      "print end\n",
      "while count != end:\n",
      "    if Users['user_id'][5] == reviews[count]['user_id']:        \n",
      "        ReviewsPerUser.append(reviews[count])\n",
      "        print reviews[count]['user_id']        \n",
      "        print len(ReviewsPerUser)\n",
      "    count += 1      "
     ],
     "language": "python",
     "metadata": {},
     "outputs": [
      {
       "output_type": "stream",
       "stream": "stdout",
       "text": [
        "mWx5Sxt_dx-sYBZg6RgJHQ\n",
        "229907\n",
        "mWx5Sxt_dx-sYBZg6RgJHQ"
       ]
      },
      {
       "output_type": "stream",
       "stream": "stdout",
       "text": [
        "\n",
        "1\n",
        "mWx5Sxt_dx-sYBZg6RgJHQ"
       ]
      },
      {
       "output_type": "stream",
       "stream": "stdout",
       "text": [
        "\n",
        "2\n",
        "mWx5Sxt_dx-sYBZg6RgJHQ"
       ]
      },
      {
       "output_type": "stream",
       "stream": "stdout",
       "text": [
        "\n",
        "3\n",
        "mWx5Sxt_dx-sYBZg6RgJHQ"
       ]
      },
      {
       "output_type": "stream",
       "stream": "stdout",
       "text": [
        "\n",
        "4\n",
        "mWx5Sxt_dx-sYBZg6RgJHQ"
       ]
      },
      {
       "output_type": "stream",
       "stream": "stdout",
       "text": [
        "\n",
        "5\n",
        "mWx5Sxt_dx-sYBZg6RgJHQ"
       ]
      },
      {
       "output_type": "stream",
       "stream": "stdout",
       "text": [
        "\n",
        "6\n",
        "mWx5Sxt_dx-sYBZg6RgJHQ\n",
        "7\n",
        "mWx5Sxt_dx-sYBZg6RgJHQ"
       ]
      },
      {
       "output_type": "stream",
       "stream": "stdout",
       "text": [
        "\n",
        "8\n",
        "mWx5Sxt_dx-sYBZg6RgJHQ\n",
        "9\n",
        "mWx5Sxt_dx-sYBZg6RgJHQ"
       ]
      },
      {
       "output_type": "stream",
       "stream": "stdout",
       "text": [
        "\n",
        "10\n",
        "mWx5Sxt_dx-sYBZg6RgJHQ"
       ]
      },
      {
       "output_type": "stream",
       "stream": "stdout",
       "text": [
        "\n",
        "11\n",
        "mWx5Sxt_dx-sYBZg6RgJHQ\n",
        "12\n",
        "mWx5Sxt_dx-sYBZg6RgJHQ"
       ]
      },
      {
       "output_type": "stream",
       "stream": "stdout",
       "text": [
        "\n",
        "13\n",
        "mWx5Sxt_dx-sYBZg6RgJHQ"
       ]
      },
      {
       "output_type": "stream",
       "stream": "stdout",
       "text": [
        "\n",
        "14\n"
       ]
      }
     ],
     "prompt_number": 123
    },
    {
     "cell_type": "code",
     "collapsed": false,
     "input": [
      "print end"
     ],
     "language": "python",
     "metadata": {},
     "outputs": [
      {
       "output_type": "stream",
       "stream": "stdout",
       "text": [
        "229907\n"
       ]
      }
     ],
     "prompt_number": 101
    },
    {
     "cell_type": "code",
     "collapsed": false,
     "input": [
      "print Users['user_id'][5]"
     ],
     "language": "python",
     "metadata": {},
     "outputs": [
      {
       "output_type": "stream",
       "stream": "stdout",
       "text": [
        "mWx5Sxt_dx-sYBZg6RgJHQ\n"
       ]
      }
     ],
     "prompt_number": 125
    },
    {
     "cell_type": "code",
     "collapsed": false,
     "input": [
      "print reviews[0]['user_id']"
     ],
     "language": "python",
     "metadata": {},
     "outputs": [
      {
       "output_type": "stream",
       "stream": "stdout",
       "text": [
        "rLtl8ZkDX5vH5nAx9C3q5Q\n"
       ]
      }
     ],
     "prompt_number": 98
    },
    {
     "cell_type": "code",
     "collapsed": false,
     "input": [
      "print json.dumps(ReviewsPerUser,indent=1,separators=(',',' : '))"
     ],
     "language": "python",
     "metadata": {},
     "outputs": [
      {
       "output_type": "stream",
       "stream": "stdout",
       "text": [
        "[\n",
        " {\n",
        "  \"votes\" : {\n",
        "   \"funny\" : 3,\n",
        "   \"useful\" : 6,\n",
        "   \"cool\" : 5\n",
        "  },\n",
        "  \"user_id\" : \"mWx5Sxt_dx-sYBZg6RgJHQ\",\n",
        "  \"review_id\" : \"VDraasggi_ncLKjSKGKrTg\",\n",
        "  \"text\" : \"Two stars for the effort.  \\n\\nI'm a huge fan of re-use and love to get off the beaten track to find a hip little joint like the Tuck Shop.  And this is true-it's hip and homey.  But some of the little design tricks of deconstructionism came across as budgetary decisions rather than being based in design.  A little bit college architecture project.\\n\\nBut the food has to be great, too.  We ordered ceviche which was so tough and fishy, no one at the table ate it.  We ordered the waffles and chicken, which were delish, but the greens were bitter and tough.  \\n\\nAll excusable, if everything else was great, but our waiter was clueless.  He was interrupty and sort of arrogant.  I don't know-it just felt like we weren't cool enough to be there or something.  \\n\\nWe felt like they wanted us to hurry up and leave....To the extent that I actually looked at their hours to make sure we weren't staying past kitchen closing. \\n\\nI'll try it again, but not if I see that waiter working.\",\n",
        "  \"business_id\" : \"rQ4z0EStSZE4acgkne6Hmg\",\n",
        "  \"stars\" : 2,\n",
        "  \"date\" : \"2009-11-11\",\n",
        "  \"type\" : \"review\"\n",
        " },\n",
        " {\n",
        "  \"votes\" : {\n",
        "   \"funny\" : 2,\n",
        "   \"useful\" : 4,\n",
        "   \"cool\" : 3\n",
        "  },\n",
        "  \"user_id\" : \"mWx5Sxt_dx-sYBZg6RgJHQ\",\n",
        "  \"review_id\" : \"X33B894fbiRraTjQMHxiDg\",\n",
        "  \"text\" : \"I like cold Sapporo on tap, so for this reason, I like Shogun.  I do not order sushi, rather, gyoza are my menu pick, at the bar, in and out.  \\n\\nIt's quick, dark, and takes care of my 80's music quota for the month.\\n\\nA typical stop-in is for a beer and a snack in between shopping-always makes the errands much more enjoyable....\",\n",
        "  \"business_id\" : \"r7Ge8_c5Y2TXthb4CSjzaA\",\n",
        "  \"stars\" : 3,\n",
        "  \"date\" : \"2009-07-07\",\n",
        "  \"type\" : \"review\"\n",
        " },\n",
        " {\n",
        "  \"votes\" : {\n",
        "   \"funny\" : 3,\n",
        "   \"useful\" : 3,\n",
        "   \"cool\" : 3\n",
        "  },\n",
        "  \"user_id\" : \"mWx5Sxt_dx-sYBZg6RgJHQ\",\n",
        "  \"review_id\" : \"Qs0oBChzwEDa-PBruTBCTw\",\n",
        "  \"text\" : \"Yah, Rosatis is the bomb.  Home delivery:  Pepperoni with sausage and bell peppers, with a 2 liter of diet coke. \\n\\nIt's the perfect pedestrian pizza.   \\n\\nWe ask for light oregano, from time to time they overdo it with the sprinkles.\",\n",
        "  \"business_id\" : \"udmb-UuD3xoueQ55INQFRw\",\n",
        "  \"stars\" : 5,\n",
        "  \"date\" : \"2009-06-24\",\n",
        "  \"type\" : \"review\"\n",
        " },\n",
        " {\n",
        "  \"votes\" : {\n",
        "   \"funny\" : 2,\n",
        "   \"useful\" : 3,\n",
        "   \"cool\" : 3\n",
        "  },\n",
        "  \"user_id\" : \"mWx5Sxt_dx-sYBZg6RgJHQ\",\n",
        "  \"review_id\" : \"DFaB7tOtQoY9-mntlt0E0A\",\n",
        "  \"text\" : \"For some reason the name 'PastaBar' makes me think of a food court at a mall.  But don't let the name deter you from trying this place.  \\n\\nLots of comments about portion size here on yelp:  \\n\\nIF you rate Italian cuisine based on poundage then probably steer clear of pastabar, and head to Buca de Beppo.  \\n\\nIf you rate Italian food based on flavor, then DO come here, and know that you won't have to leave with the top button of your pants undone.\\n\\nNo, it's not cheap, but it's not that expensive, either...I tried some interesting and delicious specials that I would never attempt to cook at home.  Maybe it's about the menu selection.  If I ordered spaghetti and marinara sauce for 15 bucks, yah, I guess I know it costs about 5.00 to make enough for a family of four.  So order something unique and authentic?  \\n\\nWe had great service, a knowledgeable and friendly waiter who also suggested 2 wines that paired well with the meal.\",\n",
        "  \"business_id\" : \"r3r_bAfa6pZKIhQB82FizQ\",\n",
        "  \"stars\" : 4,\n",
        "  \"date\" : \"2009-08-05\",\n",
        "  \"type\" : \"review\"\n",
        " },\n",
        " {\n",
        "  \"votes\" : {\n",
        "   \"funny\" : 0,\n",
        "   \"useful\" : 0,\n",
        "   \"cool\" : 0\n",
        "  },\n",
        "  \"user_id\" : \"mWx5Sxt_dx-sYBZg6RgJHQ\",\n",
        "  \"review_id\" : \"vc-di4pCRDwObDL5gQlRmw\",\n",
        "  \"text\" : \"This is an excellent little Thai joint, great for takeout, excellent Tom Kha Gai, Pad Thai is OK, Love the fresh spring rolls.  \\n\\nI'm a huge fan.\",\n",
        "  \"business_id\" : \"WPmamMTGAmNYXGoXW1mWyQ\",\n",
        "  \"stars\" : 4,\n",
        "  \"date\" : \"2009-11-16\",\n",
        "  \"type\" : \"review\"\n",
        " },\n",
        " {\n",
        "  \"votes\" : {\n",
        "   \"funny\" : 2,\n",
        "   \"useful\" : 2,\n",
        "   \"cool\" : 1\n",
        "  },\n",
        "  \"user_id\" : \"mWx5Sxt_dx-sYBZg6RgJHQ\",\n",
        "  \"review_id\" : \"vh--IcCetlQhsMeHsL6sTg\",\n",
        "  \"text\" : \"Super stoked to see this shop open in the Civic Center Park.  Another step in the right direction, Phoenix!\\n\\nIt's a coffee shop, but I met up there for lunch and tried a veg and hummous salad which was just great.  Freshly made sandwich, homemade hummous, good stuff.  \\n\\nLimited menu, hope to see it grow, I'll be back for sure.  \\n\\nThe space was noisy, but it's so new I'm sure they are still working out the kinks.  \\n\\nCheck it out.  And the patio is going to be fab!\",\n",
        "  \"business_id\" : \"zBl32GAjYcKNpsEGPXXuqg\",\n",
        "  \"stars\" : 4,\n",
        "  \"date\" : \"2009-08-31\",\n",
        "  \"type\" : \"review\"\n",
        " },\n",
        " {\n",
        "  \"votes\" : {\n",
        "   \"funny\" : 0,\n",
        "   \"useful\" : 0,\n",
        "   \"cool\" : 0\n",
        "  },\n",
        "  \"user_id\" : \"mWx5Sxt_dx-sYBZg6RgJHQ\",\n",
        "  \"review_id\" : \"v32lzt8EjWRG30tmkm5bTw\",\n",
        "  \"text\" : \"I totally take my mom here when she is in town.  LOVES it.\\n\\nThe food is great.  The atmosphere is great, and I actually expect the bill to be higher than it is when it comes.  Great.\\n\\nI would give them 5 stars, but I have experienced some lesser service levels.  Went for sunday brunch, made the fatal error of arriving at 9 instead of 10, so we couldn't order bloody's...what a newby....\\n\\nWe were still there at 10.  The server, if he was good, would have had those bloody's ready.  But he didn't, he forgot.....oh, and they were on the bill.  So that did cost a star, I'm afraid.\\n\\nOtherwise. go and enjoy an excellent dining experience.\",\n",
        "  \"business_id\" : \"qd1ajiZRCwqEQJqCgoN1wg\",\n",
        "  \"stars\" : 4,\n",
        "  \"date\" : \"2009-11-16\",\n",
        "  \"type\" : \"review\"\n",
        " },\n",
        " {\n",
        "  \"votes\" : {\n",
        "   \"funny\" : 0,\n",
        "   \"useful\" : 0,\n",
        "   \"cool\" : 0\n",
        "  },\n",
        "  \"user_id\" : \"mWx5Sxt_dx-sYBZg6RgJHQ\",\n",
        "  \"review_id\" : \"CsrSWljY8hCABgrZSKN0wQ\",\n",
        "  \"text\" : \"Hooray for Luci's.  G-reat coffee, and I will specifically add great service as well.  I wanted a bagel breakfast sandwich with ham (not on the menu) and they actually made me feel like I WASN\\\"T being difficult. \\n\\nNow that's how you do it....\\n\\nI know it might not sound like a big deal---To go see if there is ham available in the kitchen, and then make up a custom egg bagel for a customer's picky breakfast, but it IS a big deal because it is so simple, and so possible, and so often the answer is just  'no, it's not on the menu', because that's just easier.  \\n\\nMy hat's off to Luci's for being awesome.  Made my day.\",\n",
        "  \"business_id\" : \"St3jS0PnF1lulH1ggA4Jgw\",\n",
        "  \"stars\" : 5,\n",
        "  \"date\" : \"2009-11-16\",\n",
        "  \"type\" : \"review\"\n",
        " },\n",
        " {\n",
        "  \"votes\" : {\n",
        "   \"funny\" : 0,\n",
        "   \"useful\" : 0,\n",
        "   \"cool\" : 0\n",
        "  },\n",
        "  \"user_id\" : \"mWx5Sxt_dx-sYBZg6RgJHQ\",\n",
        "  \"review_id\" : \"AV73UkBNYNgNkNbUBpDvTg\",\n",
        "  \"text\" : \"Ok, for starters, it's better than the Vig because it doesn't smell like the dumpster out back.  Sorry, Original Vig, but the incense just doesn't cut it and I know it's not your fault, but it is what it is....\\n\\nUptown Vig is appropriately Sheesh, a bit larger footprint, and the original construction elements of the bank building are tastefully complimented with modern design twist.  \\n\\nGreyhounds are the drink to beat.  Food is OK, mostly go there for the atmosphere and the booze....\\n\\nI'm in.\",\n",
        "  \"business_id\" : \"WS1z1OAR0tRl4FsjdTGUFQ\",\n",
        "  \"stars\" : 4,\n",
        "  \"date\" : \"2010-07-30\",\n",
        "  \"type\" : \"review\"\n",
        " },\n",
        " {\n",
        "  \"votes\" : {\n",
        "   \"funny\" : 2,\n",
        "   \"useful\" : 3,\n",
        "   \"cool\" : 3\n",
        "  },\n",
        "  \"user_id\" : \"mWx5Sxt_dx-sYBZg6RgJHQ\",\n",
        "  \"review_id\" : \"9PFmfxsEkN4XibdFcQIiGw\",\n",
        "  \"text\" : \"I take out-of-town-ers here for sure.  Always a hit.  I look forward to the growth of these types of establishments in phoenix.  IE: Renovation / reuse of historical phoenix architecture, combined with tasty, unique menu concepts.  It feels good to enjoy a nice meal in surroundings other than a strip mall.\\n\\nAnd they have 5 dollar glasses of wine even on the weekend, 11 - 4 pm.  \\n\\nWho can can argue with that.\",\n",
        "  \"business_id\" : \"SDwYQ6eSu1htn8vHWv128g\",\n",
        "  \"stars\" : 5,\n",
        "  \"date\" : \"2009-06-25\",\n",
        "  \"type\" : \"review\"\n",
        " },\n",
        " {\n",
        "  \"votes\" : {\n",
        "   \"funny\" : 2,\n",
        "   \"useful\" : 5,\n",
        "   \"cool\" : 5\n",
        "  },\n",
        "  \"user_id\" : \"mWx5Sxt_dx-sYBZg6RgJHQ\",\n",
        "  \"review_id\" : \"hTSF5BdnYyY7yBSyH_iRlA\",\n",
        "  \"text\" : \"It is so nice to visit a restaurant in Phoenix and feel like you are getting a little piece of the architectural history of this city-That is exactly what owner Aric has achieved in his reclamation of a well-known, historic beauty salon - now a pizza parlor and bar.  \\n\\nThe atmosphere scores 10 out of 10, with attention to design details and re-use of the original building components, including original salon chairs and artwork!\\n\\nThe food scores 11 out of 10.  Yes, one louder.  \\n\\nTry the roasted beet salad with walnut crusted goat cheese.  Trust me.\\n\\nThe yukon potato pizza is surprisingly my favorite, took several visits to order because it just sounded weird....carbs on top of carbs?  But, as I should have known, of course double carbs are delicious.  duh.\\n\\nEspecially to note is the herb/veggie garden along the entry-I don't know how they do it, but possibly they should consider gardening classes in the desert.  I would be first in line.\",\n",
        "  \"business_id\" : \"pwpl-rxwNRQdgqFz_-qMPg\",\n",
        "  \"stars\" : 5,\n",
        "  \"date\" : \"2009-05-22\",\n",
        "  \"type\" : \"review\"\n",
        " },\n",
        " {\n",
        "  \"votes\" : {\n",
        "   \"funny\" : 1,\n",
        "   \"useful\" : 1,\n",
        "   \"cool\" : 2\n",
        "  },\n",
        "  \"user_id\" : \"mWx5Sxt_dx-sYBZg6RgJHQ\",\n",
        "  \"review_id\" : \"A66CsH_QnJyyM2bkhcd6CQ\",\n",
        "  \"text\" : \"Mmyeh.....it was fine.  \\n\\nI don't have anything negative to say, but not really anything overly positive either.  At our table, fish'n'chips, corned beef and cabbage, and a teriyaki special.  They were all OK.  \\n\\nThere was a good selection of beers on tap.  To get a great review, a pub should have specific branded glasses for each type of beer.  That's just cool.  \\n\\nIt's not their fault, but if the lot is full, you have to pay for parking on the street until 8pm, and that's just annoying.  Boo, Phoenix.\",\n",
        "  \"business_id\" : \"FeI75xIG8PF_XZ6P80gLBQ\",\n",
        "  \"stars\" : 2,\n",
        "  \"date\" : \"2009-08-05\",\n",
        "  \"type\" : \"review\"\n",
        " },\n",
        " {\n",
        "  \"votes\" : {\n",
        "   \"funny\" : 1,\n",
        "   \"useful\" : 1,\n",
        "   \"cool\" : 1\n",
        "  },\n",
        "  \"user_id\" : \"mWx5Sxt_dx-sYBZg6RgJHQ\",\n",
        "  \"review_id\" : \"QX3OvTgSSsZWhWXM3a9nPQ\",\n",
        "  \"text\" : \"Great Ambiance.  Excellent service.  Take out of town guests here to create a lasting impression.\\n\\n4 of us shared all the taco varieties.  When our tacos arrived, they were about 3\\\" in diameter.  I'll admit that I had an internal check-didn't look like a lot of food there.   But once we started eating, those thoughts vanished.  Delicious, and there was plenty of food for all to share.  And anyway...here's a concept-leaving a spanish restaurant without being totally gorged on sides of refried beans and rice and melted cheese. \\n\\nOf particular note, Pork shoulder tacos for 2.  Tasty and tender.\\n\\nBe ready to spend a little dough, and take the time to enjoy the ambiance and cuisine.\",\n",
        "  \"business_id\" : \"YKOvlBNkF4KpUP9q7x862w\",\n",
        "  \"stars\" : 4,\n",
        "  \"date\" : \"2009-11-11\",\n",
        "  \"type\" : \"review\"\n",
        " },\n",
        " {\n",
        "  \"votes\" : {\n",
        "   \"funny\" : 1,\n",
        "   \"useful\" : 1,\n",
        "   \"cool\" : 1\n",
        "  },\n",
        "  \"user_id\" : \"mWx5Sxt_dx-sYBZg6RgJHQ\",\n",
        "  \"review_id\" : \"6eLrmKrkykkXOj2arFtj4g\",\n",
        "  \"text\" : \"Mmmmmmm......sushi.\\n\\nI wish the economy would turn back around for the specific reason that I would be able to increase my visits to Yasu.  \\n\\nThe blackened cod is friggin unbelievable.\\n\\nI pretty much order sashimi here, always fresh, delicious.  I rate a sushi restaurant based on the sashimi, and yasu is top notch.  \\n\\nDefinitely order 'chef's choice' for a delicious surprise treat.\\n\\nOne thing about Phoenix is that you can find a little gem like this tucked away in a strip mall between Circle K and the Army Recruitment office.  Totally weird if you're from a big city.  But totally awesome when you find one.\",\n",
        "  \"business_id\" : \"KBG28p3lGX17hOPoHhq5PQ\",\n",
        "  \"stars\" : 5,\n",
        "  \"date\" : \"2009-08-05\",\n",
        "  \"type\" : \"review\"\n",
        " }\n",
        "]\n"
       ]
      }
     ],
     "prompt_number": 124
    },
    {
     "cell_type": "code",
     "collapsed": false,
     "input": [],
     "language": "python",
     "metadata": {},
     "outputs": []
    }
   ],
   "metadata": {}
  }
 ]
}