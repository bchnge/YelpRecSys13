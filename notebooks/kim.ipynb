{
 "metadata": {
  "name": "Untitled1"
 },
 "nbformat": 3,
 "nbformat_minor": 0,
 "worksheets": [
  {
   "cells": [
    {
     "cell_type": "code",
     "collapsed": false,
     "input": [
      "import json\n",
      "import pandas as pd"
     ],
     "language": "python",
     "metadata": {},
     "outputs": [],
     "prompt_number": 1
    },
    {
     "cell_type": "code",
     "collapsed": false,
     "input": [
      "import numpy"
     ],
     "language": "python",
     "metadata": {},
     "outputs": [],
     "prompt_number": 2
    },
    {
     "cell_type": "code",
     "collapsed": false,
     "input": [
      "users = []\n",
      "with open('/home/aise/Downloads/yelp_training_set/yelp_training_set_user.json','r') as f:\n",
      "    for line in f:\n",
      "        users.append(json.loads(line))"
     ],
     "language": "python",
     "metadata": {},
     "outputs": [],
     "prompt_number": 4
    },
    {
     "cell_type": "code",
     "collapsed": false,
     "input": [
      "reviews = []\n",
      "with open('/home/aise/Downloads/yelp_training_set/yelp_training_set_review.json','r') as f:\n",
      "    for line in f:\n",
      "        reviews.append(json.loads(line))"
     ],
     "language": "python",
     "metadata": {},
     "outputs": [],
     "prompt_number": 5
    },
    {
     "cell_type": "code",
     "collapsed": false,
     "input": [
      "businesses = []\n",
      "with open('/home/aise/Downloads/yelp_training_set/yelp_training_set_business.json','r') as f:\n",
      "    for line in f:\n",
      "        businesses.append(json.loads(line))"
     ],
     "language": "python",
     "metadata": {},
     "outputs": [],
     "prompt_number": 6
    },
    {
     "cell_type": "code",
     "collapsed": false,
     "input": [
      "checkins = []\n",
      "with open('/home/aise/Downloads/yelp_training_set/yelp_training_set_checkin.json','r') as f:\n",
      "    for line in f:\n",
      "        checkins.append(json.loads(line))"
     ],
     "language": "python",
     "metadata": {},
     "outputs": [],
     "prompt_number": 7
    },
    {
     "cell_type": "code",
     "collapsed": false,
     "input": [
      "teststr1 = json.dumps(users[4],indent=1,separators=(',',' : '))"
     ],
     "language": "python",
     "metadata": {},
     "outputs": [],
     "prompt_number": 8
    },
    {
     "cell_type": "code",
     "collapsed": false,
     "input": [
      "teststr2 = json.dumps(reviews[4],indent=1,separators=(',',' : '))"
     ],
     "language": "python",
     "metadata": {},
     "outputs": [],
     "prompt_number": 9
    },
    {
     "cell_type": "code",
     "collapsed": false,
     "input": [
      "teststr3 = json.dumps(businesses[4],indent=1,separators=(',',' : '))"
     ],
     "language": "python",
     "metadata": {},
     "outputs": [],
     "prompt_number": 10
    },
    {
     "cell_type": "code",
     "collapsed": false,
     "input": [
      "teststr4 = json.dumps(checkins[4],indent=1,separators=(',',' : '))"
     ],
     "language": "python",
     "metadata": {},
     "outputs": [],
     "prompt_number": 11
    },
    {
     "cell_type": "code",
     "collapsed": false,
     "input": [
      "print teststr1"
     ],
     "language": "python",
     "metadata": {},
     "outputs": [
      {
       "output_type": "stream",
       "stream": "stdout",
       "text": [
        "{\n",
        " \"votes\" : {\n",
        "  \"funny\" : 0,\n",
        "  \"useful\" : 0,\n",
        "  \"cool\" : 0\n",
        " },\n",
        " \"review_count\" : 1,\n",
        " \"name\" : \"Beth\",\n",
        " \"average_stars\" : 1.0,\n",
        " \"user_id\" : \"NZrLmHRyiHmyT1JrfzkCOA\",\n",
        " \"type\" : \"user\"\n",
        "}\n"
       ]
      }
     ],
     "prompt_number": 12
    },
    {
     "cell_type": "code",
     "collapsed": false,
     "input": [
      "print teststr2"
     ],
     "language": "python",
     "metadata": {},
     "outputs": [
      {
       "output_type": "stream",
       "stream": "stdout",
       "text": [
        "{\n",
        " \"votes\" : {\n",
        "  \"funny\" : 0,\n",
        "  \"useful\" : 0,\n",
        "  \"cool\" : 0\n",
        " },\n",
        " \"user_id\" : \"vYmM4KTsC8ZfQBg-j5MWkw\",\n",
        " \"review_id\" : \"1uJFq2r5QfJG_6ExMRCaGw\",\n",
        " \"text\" : \"General Manager Scott Petello is a good egg!!! Not to go into detail, but let me assure you if you have any issues (albeit rare) speak with Scott and treat the guy with some respect as you state your case and I'd be surprised if you don't walk out totally satisfied as I just did. Like I always say..... \\\"Mistakes are inevitable, it's how we recover from them that is important\\\"!!!\\n\\nThanks to Scott and his awesome staff. You've got a customer for life!! .......... :^)\",\n",
        " \"business_id\" : \"6ozycU1RpktNG2-1BroVtw\",\n",
        " \"stars\" : 5,\n",
        " \"date\" : \"2012-01-05\",\n",
        " \"type\" : \"review\"\n",
        "}\n"
       ]
      }
     ],
     "prompt_number": 13
    },
    {
     "cell_type": "code",
     "collapsed": false,
     "input": [
      "print teststr3"
     ],
     "language": "python",
     "metadata": {},
     "outputs": [
      {
       "output_type": "stream",
       "stream": "stdout",
       "text": [
        "{\n",
        " \"city\" : \"Glendale Az\",\n",
        " \"review_count\" : 14,\n",
        " \"name\" : \"Hot Bagels & Deli\",\n",
        " \"neighborhoods\" : [],\n",
        " \"type\" : \"business\",\n",
        " \"business_id\" : \"PzOqRohWw7F7YEPBz6AubA\",\n",
        " \"full_address\" : \"6520 W Happy Valley Rd\\nSte 101\\nGlendale Az, AZ 85310\",\n",
        " \"state\" : \"AZ\",\n",
        " \"longitude\" : -112.200264,\n",
        " \"stars\" : 3.5,\n",
        " \"latitude\" : 33.712797,\n",
        " \"open\" : true,\n",
        " \"categories\" : [\n",
        "  \"Food\",\n",
        "  \"Bagels\",\n",
        "  \"Delis\",\n",
        "  \"Restaurants\"\n",
        " ]\n",
        "}\n"
       ]
      }
     ],
     "prompt_number": 14
    },
    {
     "cell_type": "code",
     "collapsed": false,
     "input": [
      "print teststr4"
     ],
     "language": "python",
     "metadata": {},
     "outputs": [
      {
       "output_type": "stream",
       "stream": "stdout",
       "text": [
        "{\n",
        " \"checkin_info\" : {\n",
        "  \"16-2\" : 1,\n",
        "  \"14-5\" : 1,\n",
        "  \"12-5\" : 2,\n",
        "  \"15-4\" : 1,\n",
        "  \"13-4\" : 1\n",
        " },\n",
        " \"type\" : \"checkin\",\n",
        " \"business_id\" : \"HLQGo3EaYVvAv22bONGkIw\"\n",
        "}\n"
       ]
      }
     ],
     "prompt_number": 15
    },
    {
     "cell_type": "code",
     "collapsed": false,
     "input": [
      "type(teststr3)"
     ],
     "language": "python",
     "metadata": {},
     "outputs": [
      {
       "output_type": "pyout",
       "prompt_number": 16,
       "text": [
        "str"
       ]
      }
     ],
     "prompt_number": 16
    },
    {
     "cell_type": "code",
     "collapsed": false,
     "input": [
      "testjson = data[4]"
     ],
     "language": "python",
     "metadata": {},
     "outputs": [],
     "prompt_number": 18
    },
    {
     "cell_type": "code",
     "collapsed": false,
     "input": [
      "rint testjson"
     ],
     "language": "python",
     "metadata": {},
     "outputs": [],
     "prompt_number": 18
    },
    {
     "cell_type": "code",
     "collapsed": false,
     "input": [
      "type(testjson)"
     ],
     "language": "python",
     "metadata": {},
     "outputs": [],
     "prompt_number": 18
    },
    {
     "cell_type": "code",
     "collapsed": false,
     "input": [
      "type(data)"
     ],
     "language": "python",
     "metadata": {},
     "outputs": [],
     "prompt_number": 18
    },
    {
     "cell_type": "code",
     "collapsed": false,
     "input": [
      "testjson.items()"
     ],
     "language": "python",
     "metadata": {},
     "outputs": [],
     "prompt_number": 18
    },
    {
     "cell_type": "code",
     "collapsed": false,
     "input": [
      "testjson.keys()"
     ],
     "language": "python",
     "metadata": {},
     "outputs": [],
     "prompt_number": 18
    },
    {
     "cell_type": "code",
     "collapsed": false,
     "input": [
      "print \"data: \", users[0]['votes']['funny']"
     ],
     "language": "python",
     "metadata": {},
     "outputs": [
      {
       "output_type": "stream",
       "stream": "stdout",
       "text": [
        "data:  0\n"
       ]
      }
     ],
     "prompt_number": 66
    },
    {
     "cell_type": "code",
     "collapsed": false,
     "input": [
      "N = len(users)"
     ],
     "language": "python",
     "metadata": {},
     "outputs": [],
     "prompt_number": 19
    },
    {
     "cell_type": "code",
     "collapsed": false,
     "input": [
      "Users = pd.DataFrame(columns = users[1].keys()[1:],index = range(0,N))"
     ],
     "language": "python",
     "metadata": {},
     "outputs": [],
     "prompt_number": 20
    },
    {
     "cell_type": "code",
     "collapsed": false,
     "input": [
      "uservotes = []\n",
      "\n",
      "for line in users:\n",
      "    uservotes.append(line['votes'])\n",
      "    "
     ],
     "language": "python",
     "metadata": {},
     "outputs": [],
     "prompt_number": 21
    },
    {
     "cell_type": "code",
     "collapsed": false,
     "input": [
      "UserVotes = pd.DataFrame(columns = uservotes[1].keys(),index = range(0,N))"
     ],
     "language": "python",
     "metadata": {},
     "outputs": [],
     "prompt_number": 22
    },
    {
     "cell_type": "code",
     "collapsed": false,
     "input": [
      "for col in Users.columns:\n",
      "    Users[col] = [v[col] for v in users]\n",
      "\n",
      "for col in UserVotes.columns:\n",
      "        UserVotes[col] = [v[col] for v in uservotes]       \n",
      "        "
     ],
     "language": "python",
     "metadata": {},
     "outputs": [],
     "prompt_number": 23
    },
    {
     "cell_type": "code",
     "collapsed": false,
     "input": [
      "UserVotes[0:10]"
     ],
     "language": "python",
     "metadata": {},
     "outputs": [
      {
       "html": [
        "<div style=\"max-height:1000px;max-width:1500px;overflow:auto;\">\n",
        "<table border=\"1\" class=\"dataframe\">\n",
        "  <thead>\n",
        "    <tr style=\"text-align: right;\">\n",
        "      <th></th>\n",
        "      <th>funny</th>\n",
        "      <th>useful</th>\n",
        "      <th>cool</th>\n",
        "    </tr>\n",
        "  </thead>\n",
        "  <tbody>\n",
        "    <tr>\n",
        "      <td><strong>0</strong></td>\n",
        "      <td>  0</td>\n",
        "      <td>   7</td>\n",
        "      <td>  0</td>\n",
        "    </tr>\n",
        "    <tr>\n",
        "      <td><strong>1</strong></td>\n",
        "      <td>  0</td>\n",
        "      <td>   1</td>\n",
        "      <td>  0</td>\n",
        "    </tr>\n",
        "    <tr>\n",
        "      <td><strong>2</strong></td>\n",
        "      <td>  0</td>\n",
        "      <td>   1</td>\n",
        "      <td>  0</td>\n",
        "    </tr>\n",
        "    <tr>\n",
        "      <td><strong>3</strong></td>\n",
        "      <td>  0</td>\n",
        "      <td>   2</td>\n",
        "      <td>  0</td>\n",
        "    </tr>\n",
        "    <tr>\n",
        "      <td><strong>4</strong></td>\n",
        "      <td>  0</td>\n",
        "      <td>   0</td>\n",
        "      <td>  0</td>\n",
        "    </tr>\n",
        "    <tr>\n",
        "      <td><strong>5</strong></td>\n",
        "      <td> 30</td>\n",
        "      <td>  45</td>\n",
        "      <td> 36</td>\n",
        "    </tr>\n",
        "    <tr>\n",
        "      <td><strong>6</strong></td>\n",
        "      <td> 28</td>\n",
        "      <td> 130</td>\n",
        "      <td> 31</td>\n",
        "    </tr>\n",
        "    <tr>\n",
        "      <td><strong>7</strong></td>\n",
        "      <td>  1</td>\n",
        "      <td>   0</td>\n",
        "      <td>  1</td>\n",
        "    </tr>\n",
        "    <tr>\n",
        "      <td><strong>8</strong></td>\n",
        "      <td>  0</td>\n",
        "      <td>   3</td>\n",
        "      <td>  2</td>\n",
        "    </tr>\n",
        "    <tr>\n",
        "      <td><strong>9</strong></td>\n",
        "      <td>  5</td>\n",
        "      <td>  24</td>\n",
        "      <td>  9</td>\n",
        "    </tr>\n",
        "  </tbody>\n",
        "</table>\n",
        "</div>"
       ],
       "output_type": "pyout",
       "prompt_number": 24,
       "text": [
        "   funny  useful  cool\n",
        "0      0       7     0\n",
        "1      0       1     0\n",
        "2      0       1     0\n",
        "3      0       2     0\n",
        "4      0       0     0\n",
        "5     30      45    36\n",
        "6     28     130    31\n",
        "7      1       0     1\n",
        "8      0       3     2\n",
        "9      5      24     9"
       ]
      }
     ],
     "prompt_number": 24
    },
    {
     "cell_type": "code",
     "collapsed": false,
     "input": [
      "Users[0:10]"
     ],
     "language": "python",
     "metadata": {},
     "outputs": [
      {
       "html": [
        "<div style=\"max-height:1000px;max-width:1500px;overflow:auto;\">\n",
        "<table border=\"1\" class=\"dataframe\">\n",
        "  <thead>\n",
        "    <tr style=\"text-align: right;\">\n",
        "      <th></th>\n",
        "      <th>review_count</th>\n",
        "      <th>name</th>\n",
        "      <th>average_stars</th>\n",
        "      <th>user_id</th>\n",
        "      <th>type</th>\n",
        "      <th>funny</th>\n",
        "      <th>useful</th>\n",
        "      <th>cool</th>\n",
        "    </tr>\n",
        "  </thead>\n",
        "  <tbody>\n",
        "    <tr>\n",
        "      <td><strong>0</strong></td>\n",
        "      <td>   6</td>\n",
        "      <td>       Jim</td>\n",
        "      <td> 5.00</td>\n",
        "      <td> CR2y7yEm4X035ZMzrTtN9Q</td>\n",
        "      <td> user</td>\n",
        "      <td>  0</td>\n",
        "      <td>   7</td>\n",
        "      <td>  0</td>\n",
        "    </tr>\n",
        "    <tr>\n",
        "      <td><strong>1</strong></td>\n",
        "      <td>   2</td>\n",
        "      <td>     Kelle</td>\n",
        "      <td> 1.00</td>\n",
        "      <td> _9GXoHhdxc30ujPaQwh6Ew</td>\n",
        "      <td> user</td>\n",
        "      <td>  0</td>\n",
        "      <td>   1</td>\n",
        "      <td>  0</td>\n",
        "    </tr>\n",
        "    <tr>\n",
        "      <td><strong>2</strong></td>\n",
        "      <td>   2</td>\n",
        "      <td> Stephanie</td>\n",
        "      <td> 5.00</td>\n",
        "      <td> 8mM-nqxjg6pT04kwcjMbsw</td>\n",
        "      <td> user</td>\n",
        "      <td>  0</td>\n",
        "      <td>   1</td>\n",
        "      <td>  0</td>\n",
        "    </tr>\n",
        "    <tr>\n",
        "      <td><strong>3</strong></td>\n",
        "      <td>   2</td>\n",
        "      <td>         T</td>\n",
        "      <td> 5.00</td>\n",
        "      <td> Ch6CdTR2IVaVANr-RglMOg</td>\n",
        "      <td> user</td>\n",
        "      <td>  0</td>\n",
        "      <td>   2</td>\n",
        "      <td>  0</td>\n",
        "    </tr>\n",
        "    <tr>\n",
        "      <td><strong>4</strong></td>\n",
        "      <td>   1</td>\n",
        "      <td>      Beth</td>\n",
        "      <td> 1.00</td>\n",
        "      <td> NZrLmHRyiHmyT1JrfzkCOA</td>\n",
        "      <td> user</td>\n",
        "      <td>  0</td>\n",
        "      <td>   0</td>\n",
        "      <td>  0</td>\n",
        "    </tr>\n",
        "    <tr>\n",
        "      <td><strong>5</strong></td>\n",
        "      <td>  19</td>\n",
        "      <td>       Amy</td>\n",
        "      <td> 3.79</td>\n",
        "      <td> mWx5Sxt_dx-sYBZg6RgJHQ</td>\n",
        "      <td> user</td>\n",
        "      <td> 30</td>\n",
        "      <td>  45</td>\n",
        "      <td> 36</td>\n",
        "    </tr>\n",
        "    <tr>\n",
        "      <td><strong>6</strong></td>\n",
        "      <td> 207</td>\n",
        "      <td>     Beach</td>\n",
        "      <td> 3.83</td>\n",
        "      <td> hryUDaRk7FLuDAYui2oldw</td>\n",
        "      <td> user</td>\n",
        "      <td> 28</td>\n",
        "      <td> 130</td>\n",
        "      <td> 31</td>\n",
        "    </tr>\n",
        "    <tr>\n",
        "      <td><strong>7</strong></td>\n",
        "      <td>   2</td>\n",
        "      <td> christine</td>\n",
        "      <td> 3.00</td>\n",
        "      <td> 2t6fZNLtiqsihVmeO7zggg</td>\n",
        "      <td> user</td>\n",
        "      <td>  1</td>\n",
        "      <td>   0</td>\n",
        "      <td>  1</td>\n",
        "    </tr>\n",
        "    <tr>\n",
        "      <td><strong>8</strong></td>\n",
        "      <td>   4</td>\n",
        "      <td>     Denis</td>\n",
        "      <td> 4.50</td>\n",
        "      <td> mn6F-eP5WU37b-iLTop2mQ</td>\n",
        "      <td> user</td>\n",
        "      <td>  0</td>\n",
        "      <td>   3</td>\n",
        "      <td>  2</td>\n",
        "    </tr>\n",
        "    <tr>\n",
        "      <td><strong>9</strong></td>\n",
        "      <td>  10</td>\n",
        "      <td>     Shawn</td>\n",
        "      <td> 3.90</td>\n",
        "      <td> myXq7PFXkD_yfXT580SXMw</td>\n",
        "      <td> user</td>\n",
        "      <td>  5</td>\n",
        "      <td>  24</td>\n",
        "      <td>  9</td>\n",
        "    </tr>\n",
        "  </tbody>\n",
        "</table>\n",
        "</div>"
       ],
       "output_type": "pyout",
       "prompt_number": 29,
       "text": [
        "   review_count       name  average_stars                 user_id  type  funny  \\\n",
        "0             6        Jim           5.00  CR2y7yEm4X035ZMzrTtN9Q  user      0   \n",
        "1             2      Kelle           1.00  _9GXoHhdxc30ujPaQwh6Ew  user      0   \n",
        "2             2  Stephanie           5.00  8mM-nqxjg6pT04kwcjMbsw  user      0   \n",
        "3             2          T           5.00  Ch6CdTR2IVaVANr-RglMOg  user      0   \n",
        "4             1       Beth           1.00  NZrLmHRyiHmyT1JrfzkCOA  user      0   \n",
        "5            19        Amy           3.79  mWx5Sxt_dx-sYBZg6RgJHQ  user     30   \n",
        "6           207      Beach           3.83  hryUDaRk7FLuDAYui2oldw  user     28   \n",
        "7             2  christine           3.00  2t6fZNLtiqsihVmeO7zggg  user      1   \n",
        "8             4      Denis           4.50  mn6F-eP5WU37b-iLTop2mQ  user      0   \n",
        "9            10      Shawn           3.90  myXq7PFXkD_yfXT580SXMw  user      5   \n",
        "\n",
        "   useful  cool  \n",
        "0       7     0  \n",
        "1       1     0  \n",
        "2       1     0  \n",
        "3       2     0  \n",
        "4       0     0  \n",
        "5      45    36  \n",
        "6     130    31  \n",
        "7       0     1  \n",
        "8       3     2  \n",
        "9      24     9  "
       ]
      }
     ],
     "prompt_number": 29
    },
    {
     "cell_type": "code",
     "collapsed": false,
     "input": [
      "for col in UserVotes:\n",
      "    Users[col] = pd.Series(UserVotes[col],index=Users.index)"
     ],
     "language": "python",
     "metadata": {},
     "outputs": [],
     "prompt_number": 26
    },
    {
     "cell_type": "code",
     "collapsed": false,
     "input": [
      "print teststr2"
     ],
     "language": "python",
     "metadata": {},
     "outputs": [
      {
       "output_type": "stream",
       "stream": "stdout",
       "text": [
        "{\n",
        " \"votes\" : {\n",
        "  \"funny\" : 0,\n",
        "  \"useful\" : 0,\n",
        "  \"cool\" : 0\n",
        " },\n",
        " \"user_id\" : \"vYmM4KTsC8ZfQBg-j5MWkw\",\n",
        " \"review_id\" : \"1uJFq2r5QfJG_6ExMRCaGw\",\n",
        " \"text\" : \"General Manager Scott Petello is a good egg!!! Not to go into detail, but let me assure you if you have any issues (albeit rare) speak with Scott and treat the guy with some respect as you state your case and I'd be surprised if you don't walk out totally satisfied as I just did. Like I always say..... \\\"Mistakes are inevitable, it's how we recover from them that is important\\\"!!!\\n\\nThanks to Scott and his awesome staff. You've got a customer for life!! .......... :^)\",\n",
        " \"business_id\" : \"6ozycU1RpktNG2-1BroVtw\",\n",
        " \"stars\" : 5,\n",
        " \"date\" : \"2012-01-05\",\n",
        " \"type\" : \"review\"\n",
        "}\n"
       ]
      }
     ],
     "prompt_number": 30
    },
    {
     "cell_type": "code",
     "collapsed": false,
     "input": [
      "ReviewsPerUser = []\n",
      "end = len(reviews)\n",
      "count = 0\n",
      "while count != end:\n",
      "    if reviews[count]['user_id'] ==  Users['user_id'][0]:\n",
      "        ReviewsPerUser.append(line)\n",
      "    count += 1\n",
      "      "
     ],
     "language": "python",
     "metadata": {},
     "outputs": [],
     "prompt_number": 85
    },
    {
     "cell_type": "code",
     "collapsed": false,
     "input": [
      "ReviewsPerUser[:]"
     ],
     "language": "python",
     "metadata": {},
     "outputs": [
      {
       "output_type": "pyout",
       "prompt_number": 86,
       "text": [
        "[{u'business_id': u'9yKzy9PApeiPPOUJEtnvkg',\n",
        "  u'date': u'2011-01-26',\n",
        "  u'review_id': u'fWKvX83p0-ka4JS3dc6E5A',\n",
        "  u'stars': 5,\n",
        "  u'text': u'My wife took me here on my birthday for breakfast and it was excellent.  The weather was perfect which made sitting outside overlooking their grounds an absolute pleasure.  Our waitress was excellent and our food arrived quickly on the semi-busy Saturday morning.  It looked like the place fills up pretty quickly so the earlier you get here the better.\\n\\nDo yourself a favor and get their Bloody Mary.  It was phenomenal and simply the best I\\'ve ever had.  I\\'m pretty sure they only use ingredients from their garden and blend them fresh when you order it.  It was amazing.\\n\\nWhile EVERYTHING on the menu looks excellent, I had the white truffle scrambled eggs vegetable skillet and it was tasty and delicious.  It came with 2 pieces of their griddled bread with was amazing and it absolutely made the meal complete.  It was the best \"toast\" I\\'ve ever had.\\n\\nAnyway, I can\\'t wait to go back!',\n",
        "  u'type': u'review',\n",
        "  u'user_id': u'rLtl8ZkDX5vH5nAx9C3q5Q',\n",
        "  u'votes': {u'cool': 2, u'funny': 0, u'useful': 5}},\n",
        " {u'business_id': u'9yKzy9PApeiPPOUJEtnvkg',\n",
        "  u'date': u'2011-01-26',\n",
        "  u'review_id': u'fWKvX83p0-ka4JS3dc6E5A',\n",
        "  u'stars': 5,\n",
        "  u'text': u'My wife took me here on my birthday for breakfast and it was excellent.  The weather was perfect which made sitting outside overlooking their grounds an absolute pleasure.  Our waitress was excellent and our food arrived quickly on the semi-busy Saturday morning.  It looked like the place fills up pretty quickly so the earlier you get here the better.\\n\\nDo yourself a favor and get their Bloody Mary.  It was phenomenal and simply the best I\\'ve ever had.  I\\'m pretty sure they only use ingredients from their garden and blend them fresh when you order it.  It was amazing.\\n\\nWhile EVERYTHING on the menu looks excellent, I had the white truffle scrambled eggs vegetable skillet and it was tasty and delicious.  It came with 2 pieces of their griddled bread with was amazing and it absolutely made the meal complete.  It was the best \"toast\" I\\'ve ever had.\\n\\nAnyway, I can\\'t wait to go back!',\n",
        "  u'type': u'review',\n",
        "  u'user_id': u'rLtl8ZkDX5vH5nAx9C3q5Q',\n",
        "  u'votes': {u'cool': 2, u'funny': 0, u'useful': 5}},\n",
        " {u'business_id': u'9yKzy9PApeiPPOUJEtnvkg',\n",
        "  u'date': u'2011-01-26',\n",
        "  u'review_id': u'fWKvX83p0-ka4JS3dc6E5A',\n",
        "  u'stars': 5,\n",
        "  u'text': u'My wife took me here on my birthday for breakfast and it was excellent.  The weather was perfect which made sitting outside overlooking their grounds an absolute pleasure.  Our waitress was excellent and our food arrived quickly on the semi-busy Saturday morning.  It looked like the place fills up pretty quickly so the earlier you get here the better.\\n\\nDo yourself a favor and get their Bloody Mary.  It was phenomenal and simply the best I\\'ve ever had.  I\\'m pretty sure they only use ingredients from their garden and blend them fresh when you order it.  It was amazing.\\n\\nWhile EVERYTHING on the menu looks excellent, I had the white truffle scrambled eggs vegetable skillet and it was tasty and delicious.  It came with 2 pieces of their griddled bread with was amazing and it absolutely made the meal complete.  It was the best \"toast\" I\\'ve ever had.\\n\\nAnyway, I can\\'t wait to go back!',\n",
        "  u'type': u'review',\n",
        "  u'user_id': u'rLtl8ZkDX5vH5nAx9C3q5Q',\n",
        "  u'votes': {u'cool': 2, u'funny': 0, u'useful': 5}}]"
       ]
      }
     ],
     "prompt_number": 86
    },
    {
     "cell_type": "code",
     "collapsed": false,
     "input": [
      "print Users['user_id'][0]"
     ],
     "language": "python",
     "metadata": {},
     "outputs": [
      {
       "output_type": "stream",
       "stream": "stdout",
       "text": [
        "CR2y7yEm4X035ZMzrTtN9Q\n"
       ]
      }
     ],
     "prompt_number": 70
    },
    {
     "cell_type": "code",
     "collapsed": false,
     "input": [
      "print reviews[0]['user_id']"
     ],
     "language": "python",
     "metadata": {},
     "outputs": [
      {
       "output_type": "stream",
       "stream": "stdout",
       "text": [
        "rLtl8ZkDX5vH5nAx9C3q5Q\n"
       ]
      }
     ],
     "prompt_number": 73
    },
    {
     "cell_type": "code",
     "collapsed": false,
     "input": [],
     "language": "python",
     "metadata": {},
     "outputs": []
    }
   ],
   "metadata": {}
  }
 ]
}