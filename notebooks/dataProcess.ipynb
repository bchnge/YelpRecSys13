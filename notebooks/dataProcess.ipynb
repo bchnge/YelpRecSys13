{
 "metadata": {
  "name": "dataProcess"
 },
 "nbformat": 3,
 "nbformat_minor": 0,
 "worksheets": [
  {
   "cells": [
    {
     "cell_type": "code",
     "collapsed": false,
     "input": [
      "import YelpRecSys13.src.data_util as du\n",
      "\n",
      "\n",
      "\"\"\"\n",
      "This workbook serves as an example of how to use data_util\n",
      "\n",
      "\n",
      "Note: In order to import properly, you need to edit your .bashrc\n",
      "\n",
      "In your terminal, do\n",
      "1. gedit ~/.bashrc\n",
      "2. add the following: export PYTHONPATH=/home/ben/projects:$PYTHONPATH\n",
      "NOTE: for me it is /home/ben/projects. for you it will be different.\n",
      "whatever folder you are working in that CONTAINS YelpRecSys13 repo, thats the path you want to insert\n",
      "In my case, the working directory is /home/ben/projects/YelpRecSys13, so I inserted /home/ben/projects\n"
     ],
     "language": "python",
     "metadata": {},
     "outputs": []
    },
    {
     "cell_type": "code",
     "collapsed": false,
     "input": [
      "f = \"../data/raw/yelp_training_set/yelp_training_set_user.json\""
     ],
     "language": "python",
     "metadata": {},
     "outputs": [],
     "prompt_number": 2
    },
    {
     "cell_type": "code",
     "collapsed": false,
     "input": [
      "users = du.json2dataframe(f)"
     ],
     "language": "python",
     "metadata": {},
     "outputs": [],
     "prompt_number": 3
    },
    {
     "cell_type": "code",
     "collapsed": false,
     "input": [
      "print users[0:10]"
     ],
     "language": "python",
     "metadata": {},
     "outputs": [
      {
       "output_type": "stream",
       "stream": "stdout",
       "text": [
        "   review_count       name  average_stars                 user_id  type  \\\n",
        "0             6        Jim           5.00  CR2y7yEm4X035ZMzrTtN9Q  user   \n",
        "1             2      Kelle           1.00  _9GXoHhdxc30ujPaQwh6Ew  user   \n",
        "2             2  Stephanie           5.00  8mM-nqxjg6pT04kwcjMbsw  user   \n",
        "3             2          T           5.00  Ch6CdTR2IVaVANr-RglMOg  user   \n",
        "4             1       Beth           1.00  NZrLmHRyiHmyT1JrfzkCOA  user   \n",
        "5            19        Amy           3.79  mWx5Sxt_dx-sYBZg6RgJHQ  user   \n",
        "6           207      Beach           3.83  hryUDaRk7FLuDAYui2oldw  user   \n",
        "7             2  christine           3.00  2t6fZNLtiqsihVmeO7zggg  user   \n",
        "8             4      Denis           4.50  mn6F-eP5WU37b-iLTop2mQ  user   \n",
        "9            10      Shawn           3.90  myXq7PFXkD_yfXT580SXMw  user   \n",
        "\n",
        "   funny  useful  cool  \n",
        "0      0       7     0  \n",
        "1      0       1     0  \n",
        "2      0       1     0  \n",
        "3      0       2     0  \n",
        "4      0       0     0  \n",
        "5     30      45    36  \n",
        "6     28     130    31  \n",
        "7      1       0     1  \n",
        "8      0       3     2  \n",
        "9      5      24     9  \n"
       ]
      }
     ],
     "prompt_number": 4
    },
    {
     "cell_type": "code",
     "collapsed": false,
     "input": [
      "# use preview_json to see what variables are available and what you may want to exclude"
     ],
     "language": "python",
     "metadata": {},
     "outputs": []
    },
    {
     "cell_type": "code",
     "collapsed": false,
     "input": [
      "du.preview_json(f)"
     ],
     "language": "python",
     "metadata": {},
     "outputs": [
      {
       "output_type": "stream",
       "stream": "stdout",
       "text": [
        "[u'votes', u'review_count', u'name', u'average_stars', u'user_id', u'type']\n"
       ]
      }
     ],
     "prompt_number": 6
    },
    {
     "cell_type": "code",
     "collapsed": false,
     "input": [
      "test2 = du.json2dataframe(f, ['review_count', 'type'])"
     ],
     "language": "python",
     "metadata": {},
     "outputs": [],
     "prompt_number": 7
    },
    {
     "cell_type": "code",
     "collapsed": false,
     "input": [
      "test2.columns # notice that we've excluded review_count and type"
     ],
     "language": "python",
     "metadata": {},
     "outputs": [
      {
       "output_type": "pyout",
       "prompt_number": 8,
       "text": [
        "Index([name, average_stars, user_id, funny, useful, cool], dtype=object)"
       ]
      }
     ],
     "prompt_number": 8
    },
    {
     "cell_type": "code",
     "collapsed": false,
     "input": [
      "f_businesses = \"../data/raw/yelp_training_set/yelp_training_set_business.json\""
     ],
     "language": "python",
     "metadata": {},
     "outputs": [],
     "prompt_number": 9
    },
    {
     "cell_type": "code",
     "collapsed": false,
     "input": [
      "businesses = du.json2dataframe(f_businesses)"
     ],
     "language": "python",
     "metadata": {},
     "outputs": [],
     "prompt_number": 13
    },
    {
     "cell_type": "code",
     "collapsed": false,
     "input": [
      "businesses.columns"
     ],
     "language": "python",
     "metadata": {},
     "outputs": [
      {
       "output_type": "pyout",
       "prompt_number": 14,
       "text": [
        "Index([city, review_count, name, neighborhoods, type, business_id, full_address, state, longitude, stars, latitude, open, categories], dtype=object)"
       ]
      }
     ],
     "prompt_number": 14
    },
    {
     "cell_type": "code",
     "collapsed": false,
     "input": [],
     "language": "python",
     "metadata": {},
     "outputs": []
    }
   ],
   "metadata": {}
  }
 ]
}