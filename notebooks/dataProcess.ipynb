{
 "metadata": {
  "name": "dataProcess"
 },
 "nbformat": 3,
 "nbformat_minor": 0,
 "worksheets": [
  {
   "cells": [
    {
     "cell_type": "code",
     "collapsed": false,
     "input": [
      "import json\n",
      "import YelpRecSys13.src.data_util as du\n",
      "import YelpRecSys13.src.regression_methods as rm\n",
      "import sklearn.linear_model as linear\n",
      "import sklearn.cross_validation as cv\n",
      "import sklearn.ensemble as ensemble\n",
      "import pandas as pd\n",
      "import numpy as np\n",
      "import sklearn.svm as svm\n"
     ],
     "language": "python",
     "metadata": {},
     "outputs": [],
     "prompt_number": 1
    },
    {
     "cell_type": "code",
     "collapsed": false,
     "input": [
      "TRAININGPATH = \"../data/raw/yelp_training_set/\"\n",
      "TESTPATH = \"../data/raw/yelp_test_set/\""
     ],
     "language": "python",
     "metadata": {},
     "outputs": [],
     "prompt_number": 2
    },
    {
     "cell_type": "heading",
     "level": 1,
     "metadata": {},
     "source": [
      "Read in data"
     ]
    },
    {
     "cell_type": "code",
     "collapsed": false,
     "input": [
      "train_users = du.json2dataframe(TRAININGPATH + \"yelp_training_set_user.json\")\n",
      "train_businesses = du.json2dataframe(TRAININGPATH + \"yelp_training_set_business.json\")\n",
      "train_reviews = du.json2dataframe(TRAININGPATH + \"yelp_training_set_review.json\")\n",
      "train_checkins = du.checkin2dataframe(TRAININGPATH + \"yelp_training_set_checkin.json\")\n",
      "\n",
      "test_users = du.json2dataframe(TESTPATH + \"yelp_test_set_user.json\")\n",
      "test_businesses = du.json2dataframe(TESTPATH + \"yelp_test_set_business.json\")\n",
      "test_reviews = du.json2dataframe(TESTPATH + \"yelp_test_set_review.json\")\n",
      "test_checkins = du.checkin2dataframe(TESTPATH + \"yelp_test_set_checkin.json\")\n",
      "\n",
      "test_reviews['key'] = pd.Series(arange(0,len(test_reviews)), index = test_reviews.index)"
     ],
     "language": "python",
     "metadata": {},
     "outputs": [],
     "prompt_number": 41
    },
    {
     "cell_type": "code",
     "collapsed": false,
     "input": [
      "training = pd.merge(left = train_reviews, right = train_users, on = 'user_id', how = 'left', suffixes = ('_rev', '_user'))\n",
      "training = pd.merge(left = training, right = train_businesses, on = 'business_id', how = 'left', suffixes = ('_rev', '_bus'))\n",
      "training = pd.merge(left = training, right = train_checkins, on = 'business_id', how = 'left', suffixes = ('_rev', '_buscheck'))\n",
      "\n",
      "test = pd.merge(left = test_reviews, right = test_users, on = 'user_id', how = 'left', suffixes = ('_rev', '_user'))\n",
      "test = pd.merge(left = test, right = test_businesses, on = 'business_id', how = 'left', suffixes = ('_rev', '_bus'))\n",
      "test = pd.merge(left = test, right = test_checkins, on = 'business_id', how = 'left', suffixes = ('_rev', '_buscheck'))\n"
     ],
     "language": "python",
     "metadata": {},
     "outputs": [],
     "prompt_number": 42
    },
    {
     "cell_type": "code",
     "collapsed": false,
     "input": [
      "test.sort(columns = 'key', inplace = True)"
     ],
     "language": "python",
     "metadata": {},
     "outputs": [],
     "prompt_number": 48
    },
    {
     "cell_type": "code",
     "collapsed": false,
     "input": [
      "training.columns"
     ],
     "language": "python",
     "metadata": {},
     "outputs": [
      {
       "output_type": "pyout",
       "prompt_number": 74,
       "text": [
        "Index([user_id, review_id, text, business_id, stars_rev, date, type_rev, funny_rev, useful_rev, cool_rev, review_count_rev, name_rev, average_stars, type_user, funny_user, useful_user, cool_user, city, review_count_bus, name_bus, neighborhoods, type_rev, full_address, state, longitude, stars_bus, latitude, open, categories, 0-0, 0-1, 0-2, 0-3, 0-4, 0-5, 0-6, 1-0, 1-1, 1-2, 1-3, 1-4, 1-5, 1-6, 2-0, 2-1, 2-2, 2-3, 2-4, 2-5, 2-6, 3-0, 3-1, 3-2, 3-3, 3-4, 3-5, 3-6, 4-0, 4-1, 4-2, 4-3, 4-4, 4-5, 4-6, 5-0, 5-1, 5-2, 5-3, 5-4, 5-5, 5-6, 6-0, 6-1, 6-2, 6-3, 6-4, 6-5, 6-6, 7-0, 7-1, 7-2, 7-3, 7-4, 7-5, 7-6, 8-0, 8-1, 8-2, 8-3, 8-4, 8-5, 8-6, 9-0, 9-1, 9-2, 9-3, 9-4, 9-5, 9-6, 10-0, 10-1, 10-2, 10-3, 10-4, 10-5, 10-6, 11-0, 11-1, 11-2, 11-3, 11-4, 11-5, 11-6, 12-0, 12-1, 12-2, 12-3, 12-4, 12-5, 12-6, 13-0, 13-1, 13-2, 13-3, 13-4, 13-5, 13-6, 14-0, 14-1, 14-2, 14-3, 14-4, 14-5, 14-6, 15-0, 15-1, 15-2, 15-3, 15-4, 15-5, 15-6, 16-0, 16-1, 16-2, 16-3, 16-4, 16-5, 16-6, 17-0, 17-1, 17-2, 17-3, 17-4, 17-5, 17-6, 18-0, 18-1, 18-2, 18-3, 18-4, 18-5, 18-6, 19-0, 19-1, 19-2, 19-3, 19-4, 19-5, 19-6, 20-0, 20-1, 20-2, 20-3, 20-4, 20-5, 20-6, 21-0, 21-1, 21-2, 21-3, 21-4, 21-5, 21-6, 22-0, 22-1, 22-2, 22-3, 22-4, 22-5, 22-6, 23-0, 23-1, 23-2, 23-3, 23-4, 23-5, 23-6, type_buscheck], dtype=object)"
       ]
      }
     ],
     "prompt_number": 74
    },
    {
     "cell_type": "code",
     "collapsed": false,
     "input": [
      "test.columns"
     ],
     "language": "python",
     "metadata": {},
     "outputs": [
      {
       "output_type": "pyout",
       "prompt_number": 73,
       "text": [
        "Index([type_rev, user_id, business_id, key, review_count_rev, name_rev, type_user, city, review_count_bus, name_bus, neighborhoods, type_rev, full_address, state, longitude, latitude, open, categories, 0-0, 0-1, 0-2, 0-3, 0-4, 0-5, 0-6, 1-0, 1-1, 1-2, 1-3, 1-4, 1-5, 1-6, 2-0, 2-1, 2-2, 2-3, 2-4, 2-5, 2-6, 3-0, 3-1, 3-2, 3-3, 3-4, 3-5, 3-6, 4-0, 4-1, 4-2, 4-3, 4-4, 4-5, 4-6, 5-0, 5-1, 5-2, 5-3, 5-4, 5-5, 5-6, 6-0, 6-1, 6-2, 6-3, 6-4, 6-5, 6-6, 7-0, 7-1, 7-2, 7-3, 7-4, 7-5, 7-6, 8-0, 8-1, 8-2, 8-3, 8-4, 8-5, 8-6, 9-0, 9-1, 9-2, 9-3, 9-4, 9-5, 9-6, 10-0, 10-1, 10-2, 10-3, 10-4, 10-5, 10-6, 11-0, 11-1, 11-2, 11-3, 11-4, 11-5, 11-6, 12-0, 12-1, 12-2, 12-3, 12-4, 12-5, 12-6, 13-0, 13-1, 13-2, 13-3, 13-4, 13-5, 13-6, 14-0, 14-1, 14-2, 14-3, 14-4, 14-5, 14-6, 15-0, 15-1, 15-2, 15-3, 15-4, 15-5, 15-6, 16-0, 16-1, 16-2, 16-3, 16-4, 16-5, 16-6, 17-0, 17-1, 17-2, 17-3, 17-4, 17-5, 17-6, 18-0, 18-1, 18-2, 18-3, 18-4, 18-5, 18-6, 19-0, 19-1, 19-2, 19-3, 19-4, 19-5, 19-6, 20-0, 20-1, 20-2, 20-3, 20-4, 20-5, 20-6, 21-0, 21-1, 21-2, 21-3, 21-4, 21-5, 21-6, 22-0, 22-1, 22-2, 22-3, 22-4, 22-5, 22-6, 23-0, 23-1, 23-2, 23-3, 23-4, 23-5, 23-6, type_buscheck], dtype=object)"
       ]
      }
     ],
     "prompt_number": 73
    },
    {
     "cell_type": "code",
     "collapsed": false,
     "input": [
      "train_feat, vect = du.text2featureArray(master = training, corpus = training.name_bus, y_var = training.stars_rev,max_features = 30)"
     ],
     "language": "python",
     "metadata": {},
     "outputs": [],
     "prompt_number": 90
    },
    {
     "cell_type": "code",
     "collapsed": false,
     "input": [
      "train_feat.columns"
     ],
     "language": "python",
     "metadata": {},
     "outputs": [
      {
       "output_type": "pyout",
       "prompt_number": 91,
       "text": [
        "Index([user_id, review_id, text, business_id, stars_rev, date, type_rev, funny_rev, useful_rev, cool_rev, review_count_rev, name_rev, average_stars, type_user, funny_user, useful_user, cool_user, city, review_count_bus, name_bus, neighborhoods, type_rev, full_address, state, longitude, stars_bus, latitude, open, categories, 0-0, 0-1, 0-2, 0-3, 0-4, 0-5, 0-6, 1-0, 1-1, 1-2, 1-3, 1-4, 1-5, 1-6, 2-0, 2-1, 2-2, 2-3, 2-4, 2-5, 2-6, 3-0, 3-1, 3-2, 3-3, 3-4, 3-5, 3-6, 4-0, 4-1, 4-2, 4-3, 4-4, 4-5, 4-6, 5-0, 5-1, 5-2, 5-3, 5-4, 5-5, 5-6, 6-0, 6-1, 6-2, 6-3, 6-4, 6-5, 6-6, 7-0, 7-1, 7-2, 7-3, 7-4, 7-5, 7-6, 8-0, 8-1, 8-2, 8-3, 8-4, 8-5, 8-6, 9-0, 9-1, 9-2, 9-3, 9-4, 9-5, 9-6, 10-0, 10-1, 10-2, 10-3, 10-4, 10-5, 10-6, 11-0, 11-1, 11-2, 11-3, 11-4, 11-5, 11-6, 12-0, 12-1, 12-2, 12-3, 12-4, 12-5, 12-6, 13-0, 13-1, 13-2, 13-3, 13-4, 13-5, 13-6, 14-0, 14-1, 14-2, 14-3, 14-4, 14-5, 14-6, 15-0, 15-1, 15-2, 15-3, 15-4, 15-5, 15-6, 16-0, 16-1, 16-2, 16-3, 16-4, 16-5, 16-6, 17-0, 17-1, 17-2, 17-3, 17-4, 17-5, 17-6, 18-0, 18-1, 18-2, 18-3, 18-4, 18-5, 18-6, 19-0, 19-1, 19-2, 19-3, 19-4, 19-5, 19-6, 20-0, 20-1, 20-2, 20-3, 20-4, 20-5, 20-6, 21-0, 21-1, 21-2, 21-3, 21-4, 21-5, 21-6, 22-0, 22-1, 22-2, 22-3, 22-4, 22-5, 22-6, 23-0, 23-1, 23-2, 23-3, 23-4, 23-5, 23-6, type_buscheck, f_bar, f_bistro, f_cafe, f_coffee, f_company, f_food, f_grill, f_house, f_kitchen, f_la, f_market, f_mexican, f_phoenix, f_pizza, f_pizzeria, f_restaurant, f_shop, f_sushi, f_thai, f_wine, f_arizona, f_asian, f_bakery, f_bbq, f_big, f_brewing, f_burger, f_italian, f_lounge, f_resort, f_scottsdale, f_spa, f_sports], dtype=object)"
       ]
      }
     ],
     "prompt_number": 91
    },
    {
     "cell_type": "code",
     "collapsed": false,
     "input": [
      "pd.merge(left = test, right = train_users, on = 'user_id', how = 'left', suffixes = ('_test', '_train'))"
     ],
     "language": "python",
     "metadata": {},
     "outputs": [
      {
       "ename": "Exception",
       "evalue": "Reindexing only valid with uniquely valued Index objects",
       "output_type": "pyerr",
       "traceback": [
        "\u001b[1;31m---------------------------------------------------------------------------\u001b[0m\n\u001b[1;31mException\u001b[0m                                 Traceback (most recent call last)",
        "\u001b[1;32m<ipython-input-98-27afb7d8236e>\u001b[0m in \u001b[0;36m<module>\u001b[1;34m()\u001b[0m\n\u001b[1;32m----> 1\u001b[1;33m \u001b[0mpd\u001b[0m\u001b[1;33m.\u001b[0m\u001b[0mmerge\u001b[0m\u001b[1;33m(\u001b[0m\u001b[0mleft\u001b[0m \u001b[1;33m=\u001b[0m \u001b[0mtest\u001b[0m\u001b[1;33m,\u001b[0m \u001b[0mright\u001b[0m \u001b[1;33m=\u001b[0m \u001b[0mtrain_users\u001b[0m\u001b[1;33m,\u001b[0m \u001b[0mon\u001b[0m \u001b[1;33m=\u001b[0m \u001b[1;34m'user_id'\u001b[0m\u001b[1;33m,\u001b[0m \u001b[0mhow\u001b[0m \u001b[1;33m=\u001b[0m \u001b[1;34m'left'\u001b[0m\u001b[1;33m,\u001b[0m \u001b[0msuffixes\u001b[0m \u001b[1;33m=\u001b[0m \u001b[1;33m(\u001b[0m\u001b[1;34m'_test'\u001b[0m\u001b[1;33m,\u001b[0m \u001b[1;34m'_train'\u001b[0m\u001b[1;33m)\u001b[0m\u001b[1;33m)\u001b[0m\u001b[1;33m\u001b[0m\u001b[0m\n\u001b[0m",
        "\u001b[1;32m/home/ben/anaconda/lib/python2.7/site-packages/pandas/tools/merge.pyc\u001b[0m in \u001b[0;36mmerge\u001b[1;34m(left, right, how, on, left_on, right_on, left_index, right_index, sort, suffixes, copy)\u001b[0m\n\u001b[0;32m     35\u001b[0m                          \u001b[0mright_index\u001b[0m\u001b[1;33m=\u001b[0m\u001b[0mright_index\u001b[0m\u001b[1;33m,\u001b[0m \u001b[0msort\u001b[0m\u001b[1;33m=\u001b[0m\u001b[0msort\u001b[0m\u001b[1;33m,\u001b[0m \u001b[0msuffixes\u001b[0m\u001b[1;33m=\u001b[0m\u001b[0msuffixes\u001b[0m\u001b[1;33m,\u001b[0m\u001b[1;33m\u001b[0m\u001b[0m\n\u001b[0;32m     36\u001b[0m                          copy=copy)\n\u001b[1;32m---> 37\u001b[1;33m     \u001b[1;32mreturn\u001b[0m \u001b[0mop\u001b[0m\u001b[1;33m.\u001b[0m\u001b[0mget_result\u001b[0m\u001b[1;33m(\u001b[0m\u001b[1;33m)\u001b[0m\u001b[1;33m\u001b[0m\u001b[0m\n\u001b[0m\u001b[0;32m     38\u001b[0m \u001b[1;32mif\u001b[0m \u001b[0m__debug__\u001b[0m\u001b[1;33m:\u001b[0m\u001b[1;33m\u001b[0m\u001b[0m\n\u001b[0;32m     39\u001b[0m     \u001b[0mmerge\u001b[0m\u001b[1;33m.\u001b[0m\u001b[0m__doc__\u001b[0m \u001b[1;33m=\u001b[0m \u001b[0m_merge_doc\u001b[0m \u001b[1;33m%\u001b[0m \u001b[1;34m'\\nleft : DataFrame'\u001b[0m\u001b[1;33m\u001b[0m\u001b[0m\n",
        "\u001b[1;32m/home/ben/anaconda/lib/python2.7/site-packages/pandas/tools/merge.pyc\u001b[0m in \u001b[0;36mget_result\u001b[1;34m(self)\u001b[0m\n\u001b[0;32m    184\u001b[0m \u001b[1;33m\u001b[0m\u001b[0m\n\u001b[0;32m    185\u001b[0m         \u001b[1;31m# this is a bit kludgy\u001b[0m\u001b[1;33m\u001b[0m\u001b[1;33m\u001b[0m\u001b[0m\n\u001b[1;32m--> 186\u001b[1;33m         \u001b[0mldata\u001b[0m\u001b[1;33m,\u001b[0m \u001b[0mrdata\u001b[0m \u001b[1;33m=\u001b[0m \u001b[0mself\u001b[0m\u001b[1;33m.\u001b[0m\u001b[0m_get_merge_data\u001b[0m\u001b[1;33m(\u001b[0m\u001b[1;33m)\u001b[0m\u001b[1;33m\u001b[0m\u001b[0m\n\u001b[0m\u001b[0;32m    187\u001b[0m \u001b[1;33m\u001b[0m\u001b[0m\n\u001b[0;32m    188\u001b[0m         \u001b[1;31m# TODO: more efficiently handle group keys to avoid extra\u001b[0m\u001b[1;33m\u001b[0m\u001b[1;33m\u001b[0m\u001b[0m\n",
        "\u001b[1;32m/home/ben/anaconda/lib/python2.7/site-packages/pandas/tools/merge.pyc\u001b[0m in \u001b[0;36m_get_merge_data\u001b[1;34m(self)\u001b[0m\n\u001b[0;32m    279\u001b[0m         \u001b[0mlsuf\u001b[0m\u001b[1;33m,\u001b[0m \u001b[0mrsuf\u001b[0m \u001b[1;33m=\u001b[0m \u001b[0mself\u001b[0m\u001b[1;33m.\u001b[0m\u001b[0msuffixes\u001b[0m\u001b[1;33m\u001b[0m\u001b[0m\n\u001b[0;32m    280\u001b[0m         ldata, rdata = ldata._maybe_rename_join(rdata, lsuf, rsuf,\n\u001b[1;32m--> 281\u001b[1;33m                                                 copydata=False)\n\u001b[0m\u001b[0;32m    282\u001b[0m         \u001b[1;32mreturn\u001b[0m \u001b[0mldata\u001b[0m\u001b[1;33m,\u001b[0m \u001b[0mrdata\u001b[0m\u001b[1;33m\u001b[0m\u001b[0m\n\u001b[0;32m    283\u001b[0m \u001b[1;33m\u001b[0m\u001b[0m\n",
        "\u001b[1;32m/home/ben/anaconda/lib/python2.7/site-packages/pandas/core/internals.pyc\u001b[0m in \u001b[0;36m_maybe_rename_join\u001b[1;34m(self, other, lsuffix, rsuffix, copydata)\u001b[0m\n\u001b[0;32m   1694\u001b[0m \u001b[1;33m\u001b[0m\u001b[0m\n\u001b[0;32m   1695\u001b[0m     \u001b[1;32mdef\u001b[0m \u001b[0m_maybe_rename_join\u001b[0m\u001b[1;33m(\u001b[0m\u001b[0mself\u001b[0m\u001b[1;33m,\u001b[0m \u001b[0mother\u001b[0m\u001b[1;33m,\u001b[0m \u001b[0mlsuffix\u001b[0m\u001b[1;33m,\u001b[0m \u001b[0mrsuffix\u001b[0m\u001b[1;33m,\u001b[0m \u001b[0mcopydata\u001b[0m\u001b[1;33m=\u001b[0m\u001b[0mTrue\u001b[0m\u001b[1;33m)\u001b[0m\u001b[1;33m:\u001b[0m\u001b[1;33m\u001b[0m\u001b[0m\n\u001b[1;32m-> 1696\u001b[1;33m         \u001b[0mto_rename\u001b[0m \u001b[1;33m=\u001b[0m \u001b[0mself\u001b[0m\u001b[1;33m.\u001b[0m\u001b[0mitems\u001b[0m\u001b[1;33m.\u001b[0m\u001b[0mintersection\u001b[0m\u001b[1;33m(\u001b[0m\u001b[0mother\u001b[0m\u001b[1;33m.\u001b[0m\u001b[0mitems\u001b[0m\u001b[1;33m)\u001b[0m\u001b[1;33m\u001b[0m\u001b[0m\n\u001b[0m\u001b[0;32m   1697\u001b[0m         \u001b[1;32mif\u001b[0m \u001b[0mlen\u001b[0m\u001b[1;33m(\u001b[0m\u001b[0mto_rename\u001b[0m\u001b[1;33m)\u001b[0m \u001b[1;33m>\u001b[0m \u001b[1;36m0\u001b[0m\u001b[1;33m:\u001b[0m\u001b[1;33m\u001b[0m\u001b[0m\n\u001b[0;32m   1698\u001b[0m             \u001b[1;32mif\u001b[0m \u001b[1;32mnot\u001b[0m \u001b[0mlsuffix\u001b[0m \u001b[1;32mand\u001b[0m \u001b[1;32mnot\u001b[0m \u001b[0mrsuffix\u001b[0m\u001b[1;33m:\u001b[0m\u001b[1;33m\u001b[0m\u001b[0m\n",
        "\u001b[1;32m/home/ben/anaconda/lib/python2.7/site-packages/pandas/core/index.pyc\u001b[0m in \u001b[0;36mintersection\u001b[1;34m(self, other)\u001b[0m\n\u001b[0;32m    698\u001b[0m                 \u001b[1;32mpass\u001b[0m\u001b[1;33m\u001b[0m\u001b[0m\n\u001b[0;32m    699\u001b[0m \u001b[1;33m\u001b[0m\u001b[0m\n\u001b[1;32m--> 700\u001b[1;33m         \u001b[0mindexer\u001b[0m \u001b[1;33m=\u001b[0m \u001b[0mself\u001b[0m\u001b[1;33m.\u001b[0m\u001b[0mget_indexer\u001b[0m\u001b[1;33m(\u001b[0m\u001b[0mother\u001b[0m\u001b[1;33m.\u001b[0m\u001b[0mvalues\u001b[0m\u001b[1;33m)\u001b[0m\u001b[1;33m\u001b[0m\u001b[0m\n\u001b[0m\u001b[0;32m    701\u001b[0m         \u001b[0mindexer\u001b[0m \u001b[1;33m=\u001b[0m \u001b[0mindexer\u001b[0m\u001b[1;33m.\u001b[0m\u001b[0mtake\u001b[0m\u001b[1;33m(\u001b[0m\u001b[1;33m(\u001b[0m\u001b[0mindexer\u001b[0m \u001b[1;33m!=\u001b[0m \u001b[1;33m-\u001b[0m\u001b[1;36m1\u001b[0m\u001b[1;33m)\u001b[0m\u001b[1;33m.\u001b[0m\u001b[0mnonzero\u001b[0m\u001b[1;33m(\u001b[0m\u001b[1;33m)\u001b[0m\u001b[1;33m[\u001b[0m\u001b[1;36m0\u001b[0m\u001b[1;33m]\u001b[0m\u001b[1;33m)\u001b[0m\u001b[1;33m\u001b[0m\u001b[0m\n\u001b[0;32m    702\u001b[0m         \u001b[1;32mreturn\u001b[0m \u001b[0mself\u001b[0m\u001b[1;33m.\u001b[0m\u001b[0mtake\u001b[0m\u001b[1;33m(\u001b[0m\u001b[0mindexer\u001b[0m\u001b[1;33m)\u001b[0m\u001b[1;33m\u001b[0m\u001b[0m\n",
        "\u001b[1;32m/home/ben/anaconda/lib/python2.7/site-packages/pandas/core/index.pyc\u001b[0m in \u001b[0;36mget_indexer\u001b[1;34m(self, target, method, limit)\u001b[0m\n\u001b[0;32m    847\u001b[0m \u001b[1;33m\u001b[0m\u001b[0m\n\u001b[0;32m    848\u001b[0m         \u001b[1;32mif\u001b[0m \u001b[1;32mnot\u001b[0m \u001b[0mself\u001b[0m\u001b[1;33m.\u001b[0m\u001b[0mis_unique\u001b[0m\u001b[1;33m:\u001b[0m\u001b[1;33m\u001b[0m\u001b[0m\n\u001b[1;32m--> 849\u001b[1;33m             raise Exception('Reindexing only valid with uniquely valued Index '\n\u001b[0m\u001b[0;32m    850\u001b[0m                             'objects')\n\u001b[0;32m    851\u001b[0m \u001b[1;33m\u001b[0m\u001b[0m\n",
        "\u001b[1;31mException\u001b[0m: Reindexing only valid with uniquely valued Index objects"
       ]
      }
     ],
     "prompt_number": 98
    },
    {
     "cell_type": "heading",
     "level": 1,
     "metadata": {},
     "source": [
      "Model selection - what variables and what method?"
     ]
    },
    {
     "cell_type": "code",
     "collapsed": false,
     "input": [
      "# data imputation 1\n",
      "training.state.fillna(value = \"Other\", inplace = True)\n",
      "training.city.fillna(value = \"Other\", inplace = True)\n",
      "\n",
      "training.review_count_bus.fillna(value = training.review_count_bus.median(), inplace = True)\n",
      "training.review_count_rev.fillna(value = training.review_count_rev.median(), inplace = True)\n",
      "\n",
      "test.state.fillna(value = \"Other\", inplace = True)\n",
      "test.city.fillna(value = \"Other\", inplace = True)\n",
      "\n",
      "test.review_count_bus.fillna(value = training.review_count_bus.median(), inplace = True)\n",
      "test.review_count_rev.fillna(value = training.review_count_rev.median(), inplace = True)\n"
     ],
     "language": "python",
     "metadata": {},
     "outputs": [],
     "prompt_number": 52
    },
    {
     "cell_type": "code",
     "collapsed": false,
     "input": [
      "# data imputation 2\n",
      "\n",
      "tr_states = training.state.value_counts()\n",
      "te_states = test.state.value_counts()\n",
      "\n",
      "tr_city = training.city.value_counts()\n",
      "te_city = test.city.value_counts()\n",
      "\n",
      "finallist = set(tr_states.index).intersection(set(te_states.index))\n",
      "te_drop = set(te_states.index) - finallist\n",
      "tr_drop = set(tr_states.index) - finallist\n",
      "\n",
      "for item in te_drop:\n",
      "    test.state.replace(to_replace = item, value = \"Other\", inplace = True)\n",
      "                       \n",
      "for item in tr_drop:\n",
      "    training.state.replace(to_replace = item, value = \"Other\", inplace = True)\n",
      "                                             \n",
      "        \n",
      "finallist = set(tr_city.index).intersection(set(te_city.index))\n",
      "te_drop = set(te_city.index) - finallist\n",
      "tr_drop = set(tr_city.index) - finallist\n",
      "\n",
      "for item in te_drop:\n",
      "    test.city.replace(to_replace = item, value = \"Other\", inplace = True)\n",
      "                       \n",
      "for item in tr_drop:\n",
      "    training.city.replace(to_replace = item, value = \"Other\", inplace = True)"
     ],
     "language": "python",
     "metadata": {},
     "outputs": [],
     "prompt_number": 53
    },
    {
     "cell_type": "code",
     "collapsed": false,
     "input": [
      "# Select variables\n",
      "\n",
      "y = du.constructData(training, include_list = ['stars_rev'])\n",
      "x = du.constructData(training, include_list = ['state','review_count_bus','review_count_rev','city'])\n",
      "x,y = du.combineIntersectXY(x,y)"
     ],
     "language": "python",
     "metadata": {},
     "outputs": [],
     "prompt_number": 54
    },
    {
     "cell_type": "code",
     "collapsed": false,
     "input": [
      "x_test = du.constructData(test, include_list = ['state','review_count_bus','review_count_rev','city'])"
     ],
     "language": "python",
     "metadata": {},
     "outputs": [],
     "prompt_number": 55
    },
    {
     "cell_type": "code",
     "collapsed": false,
     "input": [
      "# Select models\n",
      "\n",
      "ols = linear.LinearRegression()\n",
      "ols_ridge = linear.BayesianRidge()\n",
      "\n",
      "print rm.evaluateModel(x, y, ols_ridge)\n",
      "print rm.evaluateModel(x, y, ols)\n"
     ],
     "language": "python",
     "metadata": {},
     "outputs": [
      {
       "output_type": "stream",
       "stream": "stdout",
       "text": [
        "1.20562672217\n",
        "1.20594655541"
       ]
      },
      {
       "output_type": "stream",
       "stream": "stdout",
       "text": [
        "\n",
        "1.53443580413"
       ]
      },
      {
       "output_type": "stream",
       "stream": "stdout",
       "text": [
        "\n"
       ]
      }
     ],
     "prompt_number": 26
    },
    {
     "cell_type": "code",
     "collapsed": false,
     "input": [
      "greg = ensemble.GradientBoostingRegressor(learning_rate = 0.3, n_estimators=10)\n",
      "print rm.evaluateModel(x , y, greg)"
     ],
     "language": "python",
     "metadata": {},
     "outputs": [
      {
       "output_type": "stream",
       "stream": "stdout",
       "text": [
        "1.20553338463\n"
       ]
      }
     ],
     "prompt_number": 56
    },
    {
     "cell_type": "code",
     "collapsed": false,
     "input": [
      "submission = pd.DataFrame(index = test.index)\n",
      "submission['user_id'] = test['user_id']\n",
      "submission['business_id'] = test['business_id']"
     ],
     "language": "python",
     "metadata": {},
     "outputs": [],
     "prompt_number": 58
    },
    {
     "cell_type": "code",
     "collapsed": false,
     "input": [
      "trainedClassifer = greg.fit(x,y)"
     ],
     "language": "python",
     "metadata": {},
     "outputs": [],
     "prompt_number": 59
    },
    {
     "cell_type": "code",
     "collapsed": false,
     "input": [
      "y_hat = trainedClassifer.predict(x_test)"
     ],
     "language": "python",
     "metadata": {},
     "outputs": [],
     "prompt_number": 60
    },
    {
     "cell_type": "code",
     "collapsed": false,
     "input": [
      "y_hat.round(decimals = 1)"
     ],
     "language": "python",
     "metadata": {},
     "outputs": [
      {
       "output_type": "pyout",
       "prompt_number": 69,
       "text": [
        "array([ 3.8,  3.7,  3.7, ...,  3.7,  3.6,  3.8])"
       ]
      }
     ],
     "prompt_number": 69
    },
    {
     "cell_type": "code",
     "collapsed": false,
     "input": [
      "submission['stars'] = pd.Series(y_hat)"
     ],
     "language": "python",
     "metadata": {},
     "outputs": [],
     "prompt_number": 62
    },
    {
     "cell_type": "code",
     "collapsed": false,
     "input": [
      "submission.to_csv(\"../data/processed/submission_2013-06-24.csv\")\n"
     ],
     "language": "python",
     "metadata": {},
     "outputs": [],
     "prompt_number": 63
    },
    {
     "cell_type": "code",
     "collapsed": false,
     "input": [
      "a = pd.merge(left = test_reviews, right = train_users, how = 'left', on = ['user_id'], suffixes = ['_rev','_user'])\n",
      "a = pd.merge(left = a, right = train_businesses, how = 'left', on = ['business_id'], suffixes = ['_rev', '_bus'])"
     ],
     "language": "python",
     "metadata": {},
     "outputs": [],
     "prompt_number": 289
    },
    {
     "cell_type": "code",
     "collapsed": false,
     "input": [
      "a.columns"
     ],
     "language": "python",
     "metadata": {},
     "outputs": [
      {
       "output_type": "pyout",
       "prompt_number": 290,
       "text": [
        "Index([type_rev, user_id, business_id, key, review_count_rev, name_rev, average_stars, type_user, funny, useful, cool, city, review_count_bus, name_bus, neighborhoods, type, full_address, state, longitude, stars, latitude, open, categories], dtype=object)"
       ]
      }
     ],
     "prompt_number": 290
    },
    {
     "cell_type": "code",
     "collapsed": false,
     "input": [
      "a.type_user.unique()"
     ],
     "language": "python",
     "metadata": {},
     "outputs": [
      {
       "output_type": "pyout",
       "prompt_number": 292,
       "text": [
        "array([nan, u'user'], dtype=object)"
       ]
      }
     ],
     "prompt_number": 292
    },
    {
     "cell_type": "code",
     "collapsed": false,
     "input": [],
     "language": "python",
     "metadata": {},
     "outputs": []
    }
   ],
   "metadata": {}
  }
 ]
}