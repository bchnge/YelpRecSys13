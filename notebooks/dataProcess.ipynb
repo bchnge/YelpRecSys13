{
 "metadata": {
  "name": "dataProcess"
 },
 "nbformat": 3,
 "nbformat_minor": 0,
 "worksheets": [
  {
   "cells": [
    {
     "cell_type": "code",
     "collapsed": false,
     "input": [
      "import json"
     ],
     "language": "python",
     "metadata": {},
     "outputs": [],
     "prompt_number": 1
    },
    {
     "cell_type": "code",
     "collapsed": false,
     "input": [
      "import numpy as np"
     ],
     "language": "python",
     "metadata": {},
     "outputs": [],
     "prompt_number": 51
    },
    {
     "cell_type": "code",
     "collapsed": false,
     "input": [
      "f = open('../data/raw/yelp_training_set/yelp_training_set_user.json','r')"
     ],
     "language": "python",
     "metadata": {},
     "outputs": [],
     "prompt_number": 5
    },
    {
     "cell_type": "code",
     "collapsed": false,
     "input": [
      "print f"
     ],
     "language": "python",
     "metadata": {},
     "outputs": [
      {
       "output_type": "stream",
       "stream": "stdout",
       "text": [
        "<open file '../data/raw/yelp_training_set/yelp_training_set_user.json', mode 'r' at 0x207b4b0>\n"
       ]
      }
     ],
     "prompt_number": 6
    },
    {
     "cell_type": "code",
     "collapsed": false,
     "input": [
      "users = []\n",
      "with open('../data/raw/yelp_training_set/yelp_training_set_user.json','r') as f:\n",
      "    for line in f:\n",
      "        users.append(json.loads(line))"
     ],
     "language": "python",
     "metadata": {},
     "outputs": [],
     "prompt_number": 63
    },
    {
     "cell_type": "code",
     "collapsed": false,
     "input": [
      "import pandas as pd"
     ],
     "language": "python",
     "metadata": {},
     "outputs": [],
     "prompt_number": 52
    },
    {
     "cell_type": "code",
     "collapsed": false,
     "input": [
      "N = len(users)"
     ],
     "language": "python",
     "metadata": {},
     "outputs": [],
     "prompt_number": 64
    },
    {
     "cell_type": "code",
     "collapsed": false,
     "input": [
      "Users = pd.DataFrame(columns = users[1].keys()[1:],index = range(0,N))"
     ],
     "language": "python",
     "metadata": {},
     "outputs": [],
     "prompt_number": 82
    },
    {
     "cell_type": "code",
     "collapsed": false,
     "input": [
      "UserVotes = pd.DataFrame(columns = users[1]['votes'].keys())"
     ],
     "language": "python",
     "metadata": {},
     "outputs": [],
     "prompt_number": 100
    },
    {
     "cell_type": "code",
     "collapsed": false,
     "input": [
      "for col in Users.columns:\n",
      "    Users[col] = [v[col] for v in users]\n",
      "    \n",
      "for col in UserVotes.columns:\n",
      "    UserVotes[col] = [v[col] for v in "
     ],
     "language": "python",
     "metadata": {},
     "outputs": [],
     "prompt_number": 87
    },
    {
     "cell_type": "code",
     "collapsed": false,
     "input": [
      "Users[0:10]"
     ],
     "language": "python",
     "metadata": {},
     "outputs": [
      {
       "html": [
        "<div style=\"max-height:1000px;max-width:1500px;overflow:auto;\">\n",
        "<table border=\"1\" class=\"dataframe\">\n",
        "  <thead>\n",
        "    <tr style=\"text-align: right;\">\n",
        "      <th></th>\n",
        "      <th>review_count</th>\n",
        "      <th>name</th>\n",
        "      <th>average_stars</th>\n",
        "      <th>user_id</th>\n",
        "      <th>type</th>\n",
        "    </tr>\n",
        "  </thead>\n",
        "  <tbody>\n",
        "    <tr>\n",
        "      <th>0</th>\n",
        "      <td>   6</td>\n",
        "      <td>       Jim</td>\n",
        "      <td> 5.00</td>\n",
        "      <td> CR2y7yEm4X035ZMzrTtN9Q</td>\n",
        "      <td> user</td>\n",
        "    </tr>\n",
        "    <tr>\n",
        "      <th>1</th>\n",
        "      <td>   2</td>\n",
        "      <td>     Kelle</td>\n",
        "      <td> 1.00</td>\n",
        "      <td> _9GXoHhdxc30ujPaQwh6Ew</td>\n",
        "      <td> user</td>\n",
        "    </tr>\n",
        "    <tr>\n",
        "      <th>2</th>\n",
        "      <td>   2</td>\n",
        "      <td> Stephanie</td>\n",
        "      <td> 5.00</td>\n",
        "      <td> 8mM-nqxjg6pT04kwcjMbsw</td>\n",
        "      <td> user</td>\n",
        "    </tr>\n",
        "    <tr>\n",
        "      <th>3</th>\n",
        "      <td>   2</td>\n",
        "      <td>         T</td>\n",
        "      <td> 5.00</td>\n",
        "      <td> Ch6CdTR2IVaVANr-RglMOg</td>\n",
        "      <td> user</td>\n",
        "    </tr>\n",
        "    <tr>\n",
        "      <th>4</th>\n",
        "      <td>   1</td>\n",
        "      <td>      Beth</td>\n",
        "      <td> 1.00</td>\n",
        "      <td> NZrLmHRyiHmyT1JrfzkCOA</td>\n",
        "      <td> user</td>\n",
        "    </tr>\n",
        "    <tr>\n",
        "      <th>5</th>\n",
        "      <td>  19</td>\n",
        "      <td>       Amy</td>\n",
        "      <td> 3.79</td>\n",
        "      <td> mWx5Sxt_dx-sYBZg6RgJHQ</td>\n",
        "      <td> user</td>\n",
        "    </tr>\n",
        "    <tr>\n",
        "      <th>6</th>\n",
        "      <td> 207</td>\n",
        "      <td>     Beach</td>\n",
        "      <td> 3.83</td>\n",
        "      <td> hryUDaRk7FLuDAYui2oldw</td>\n",
        "      <td> user</td>\n",
        "    </tr>\n",
        "    <tr>\n",
        "      <th>7</th>\n",
        "      <td>   2</td>\n",
        "      <td> christine</td>\n",
        "      <td> 3.00</td>\n",
        "      <td> 2t6fZNLtiqsihVmeO7zggg</td>\n",
        "      <td> user</td>\n",
        "    </tr>\n",
        "    <tr>\n",
        "      <th>8</th>\n",
        "      <td>   4</td>\n",
        "      <td>     Denis</td>\n",
        "      <td> 4.50</td>\n",
        "      <td> mn6F-eP5WU37b-iLTop2mQ</td>\n",
        "      <td> user</td>\n",
        "    </tr>\n",
        "    <tr>\n",
        "      <th>9</th>\n",
        "      <td>  10</td>\n",
        "      <td>     Shawn</td>\n",
        "      <td> 3.90</td>\n",
        "      <td> myXq7PFXkD_yfXT580SXMw</td>\n",
        "      <td> user</td>\n",
        "    </tr>\n",
        "  </tbody>\n",
        "</table>\n",
        "</div>"
       ],
       "output_type": "pyout",
       "prompt_number": 90,
       "text": [
        "   review_count       name  average_stars                 user_id  type\n",
        "0             6        Jim           5.00  CR2y7yEm4X035ZMzrTtN9Q  user\n",
        "1             2      Kelle           1.00  _9GXoHhdxc30ujPaQwh6Ew  user\n",
        "2             2  Stephanie           5.00  8mM-nqxjg6pT04kwcjMbsw  user\n",
        "3             2          T           5.00  Ch6CdTR2IVaVANr-RglMOg  user\n",
        "4             1       Beth           1.00  NZrLmHRyiHmyT1JrfzkCOA  user\n",
        "5            19        Amy           3.79  mWx5Sxt_dx-sYBZg6RgJHQ  user\n",
        "6           207      Beach           3.83  hryUDaRk7FLuDAYui2oldw  user\n",
        "7             2  christine           3.00  2t6fZNLtiqsihVmeO7zggg  user\n",
        "8             4      Denis           4.50  mn6F-eP5WU37b-iLTop2mQ  user\n",
        "9            10      Shawn           3.90  myXq7PFXkD_yfXT580SXMw  user"
       ]
      }
     ],
     "prompt_number": 90
    },
    {
     "cell_type": "code",
     "collapsed": false,
     "input": [],
     "language": "python",
     "metadata": {},
     "outputs": []
    }
   ],
   "metadata": {}
  }
 ]
}