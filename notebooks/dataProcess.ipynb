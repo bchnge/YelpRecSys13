{
 "metadata": {
  "name": "dataProcess"
 },
 "nbformat": 3,
 "nbformat_minor": 0,
 "worksheets": [
  {
   "cells": [
    {
     "cell_type": "code",
     "collapsed": false,
     "input": [
      "import YelpRecSys13.src.data_util as du\n",
      "import sklearn.linear_model as linear\n",
      "import numpy as np\n",
      "import pandas as pd\n",
      "import YelpRecSys13.src.regression_methods as rm"
     ],
     "language": "python",
     "metadata": {},
     "outputs": [
      {
       "output_type": "pyout",
       "prompt_number": 1,
       "text": [
        "'\\nThis workbook serves as an example of how to use data_util\\n\\n\\nNote: In order to import properly, you need to edit your .bashrc\\n\\nIn your terminal, do\\n1. gedit ~/.bashrc\\n2. add the following: export PYTHONPATH=/home/ben/projects:$PYTHONPATH\\nNOTE: for me it is /home/ben/projects. for you it will be different.\\nwhatever folder you are working in that CONTAINS YelpRecSys13 repo, thats the path you want to insert\\nIn my case, the working directory is /home/ben/projects/YelpRecSys13, so I inserted /home/ben/projects\\n'"
       ]
      }
     ],
     "prompt_number": 1
    },
    {
     "cell_type": "heading",
     "level": 1,
     "metadata": {},
     "source": [
      "Read in data"
     ]
    },
    {
     "cell_type": "code",
     "collapsed": false,
     "input": [
      "f_users = \"../data/raw/yelp_training_set/yelp_training_set_user.json\"\n",
      "users = du.json2dataframe(f_users)"
     ],
     "language": "python",
     "metadata": {},
     "outputs": [],
     "prompt_number": 2
    },
    {
     "cell_type": "code",
     "collapsed": false,
     "input": [
      "f_businesses = \"../data/raw/yelp_training_set/yelp_training_set_business.json\"\n",
      "businesses = du.json2dataframe(f_businesses)"
     ],
     "language": "python",
     "metadata": {},
     "outputs": [],
     "prompt_number": 5
    },
    {
     "cell_type": "code",
     "collapsed": false,
     "input": [
      "f_reviews = \"../data/raw/yelp_training_set/yelp_training_set_review.json\"\n",
      "reviews = du.json2dataframe(f_reviews)"
     ],
     "language": "python",
     "metadata": {},
     "outputs": [],
     "prompt_number": 7
    },
    {
     "cell_type": "code",
     "collapsed": false,
     "input": [
      "f_checkin = \"../data/raw/yelp_training_set/yelp_training_set_checkin.json\"\n",
      "checkins = du.checkin2dataframe(f_checkin)"
     ],
     "language": "python",
     "metadata": {},
     "outputs": [],
     "prompt_number": 9
    },
    {
     "cell_type": "code",
     "collapsed": false,
     "input": [
      "# merge reviews with businesses\n",
      "master = pd.merge(left = reviews, right = users, on = 'user_id', how = 'left', suffixes = ('_rev', '_user'))\n",
      "master = pd.merge(left = master, right = businesses, on = 'business_id', how = 'left', suffixes = ('_rev', '_bus'))\n",
      "master = pd.merge(left = master, right = checkins, on = 'business_id', how = 'left', suffixes = ('_rev', '_buscheck'))"
     ],
     "language": "python",
     "metadata": {},
     "outputs": [],
     "prompt_number": 14
    },
    {
     "cell_type": "code",
     "collapsed": false,
     "input": [
      "master['stars_rev'].hist() # our \"Dependent\" variable"
     ],
     "language": "python",
     "metadata": {},
     "outputs": [
      {
       "output_type": "pyout",
       "prompt_number": 16,
       "text": [
        "<matplotlib.axes.AxesSubplot at 0x17fd0f10>"
       ]
      },
      {
       "output_type": "display_data",
       "png": "[encoded data removed]"
      }
     ],
     "prompt_number": 16
    },
    {
     "cell_type": "heading",
     "level": 1,
     "metadata": {},
     "source": [
      "Model selection - what variables and what method?"
     ]
    },
    {
     "cell_type": "code",
     "collapsed": false,
     "input": [
      "master.columns # the variables at our disposal"
     ],
     "language": "python",
     "metadata": {},
     "outputs": [
      {
       "output_type": "pyout",
       "prompt_number": 21,
       "text": [
        "Index([user_id, review_id, text, business_id, stars_rev, date, type_rev, funny_rev, useful_rev, cool_rev, review_count_rev, name_rev, average_stars, type_user, funny_user, useful_user, cool_user, city, review_count_bus, name_bus, neighborhoods, type_rev, full_address, state, longitude, stars_bus, latitude, open, categories, 0-0, 0-1, 0-2, 0-3, 0-4, 0-5, 0-6, 1-0, 1-1, 1-2, 1-3, 1-4, 1-5, 1-6, 2-0, 2-1, 2-2, 2-3, 2-4, 2-5, 2-6, 3-0, 3-1, 3-2, 3-3, 3-4, 3-5, 3-6, 4-0, 4-1, 4-2, 4-3, 4-4, 4-5, 4-6, 5-0, 5-1, 5-2, 5-3, 5-4, 5-5, 5-6, 6-0, 6-1, 6-2, 6-3, 6-4, 6-5, 6-6, 7-0, 7-1, 7-2, 7-3, 7-4, 7-5, 7-6, 8-0, 8-1, 8-2, 8-3, 8-4, 8-5, 8-6, 9-0, 9-1, 9-2, 9-3, 9-4, 9-5, 9-6, 10-0, 10-1, 10-2, 10-3, 10-4, 10-5, 10-6, 11-0, 11-1, 11-2, 11-3, 11-4, 11-5, 11-6, 12-0, 12-1, 12-2, 12-3, 12-4, 12-5, 12-6, 13-0, 13-1, 13-2, 13-3, 13-4, 13-5, 13-6, 14-0, 14-1, 14-2, 14-3, 14-4, 14-5, 14-6, 15-0, 15-1, 15-2, 15-3, 15-4, 15-5, 15-6, 16-0, 16-1, 16-2, 16-3, 16-4, 16-5, 16-6, 17-0, 17-1, 17-2, 17-3, 17-4, 17-5, 17-6, 18-0, 18-1, 18-2, 18-3, 18-4, 18-5, 18-6, 19-0, 19-1, 19-2, 19-3, 19-4, 19-5, 19-6, 20-0, 20-1, 20-2, 20-3, 20-4, 20-5, 20-6, 21-0, 21-1, 21-2, 21-3, 21-4, 21-5, 21-6, 22-0, 22-1, 22-2, 22-3, 22-4, 22-5, 22-6, 23-0, 23-1, 23-2, 23-3, 23-4, 23-5, 23-6, type_buscheck], dtype=object)"
       ]
      }
     ],
     "prompt_number": 21
    },
    {
     "cell_type": "code",
     "collapsed": false,
     "input": [
      "# Select variables\n",
      "\n",
      "y = du.constructData(master, include_list = ['stars_rev'])\n",
      "x = du.constructData(master, include_list = ['state','average_stars','review_count_bus','funny_rev'])\n",
      "x,y = du.combineIntersectXY(x,y)"
     ],
     "language": "python",
     "metadata": {},
     "outputs": [],
     "prompt_number": 24
    },
    {
     "cell_type": "code",
     "collapsed": false,
     "input": [
      "# Select models\n",
      "\n",
      "ols = linear.LinearRegression()\n",
      "ols_ridge = linear.BayesianRidge()"
     ],
     "language": "python",
     "metadata": {},
     "outputs": [],
     "prompt_number": 35
    },
    {
     "cell_type": "code",
     "collapsed": false,
     "input": [
      "# Compare RMSE metric. The lower the better.\n",
      "\n",
      "print rm.evaluateModel(x, y, ols_ridge)\n",
      "print rm.evaluateModel(x, y, ols)"
     ],
     "language": "python",
     "metadata": {},
     "outputs": [
      {
       "output_type": "stream",
       "stream": "stdout",
       "text": [
        "1.06149973904\n",
        "1.06523303024"
       ]
      },
      {
       "output_type": "stream",
       "stream": "stdout",
       "text": [
        "\n"
       ]
      }
     ],
     "prompt_number": 39
    }
   ],
   "metadata": {}
  }
 ]
}