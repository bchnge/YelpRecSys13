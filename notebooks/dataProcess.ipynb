{
 "metadata": {
  "name": "dataProcess"
 },
 "nbformat": 3,
 "nbformat_minor": 0,
 "worksheets": [
  {
   "cells": [
    {
     "cell_type": "code",
     "collapsed": false,
     "input": [
      "import YelpRecSys13.src.data_util as du\n",
      "\n",
      "\n",
      "\"\"\"\n",
      "This workbook serves as an example of how to use data_util\n",
      "\n",
      "\n",
      "Note: In order to import properly, you need to edit your .bashrc\n",
      "\n",
      "In your terminal, do\n",
      "1. gedit ~/.bashrc\n",
      "2. add the following: export PYTHONPATH=/home/ben/projects:$PYTHONPATH\n",
      "NOTE: for me it is /home/ben/projects. for you it will be different.\n",
      "whatever folder you are working in that CONTAINS YelpRecSys13 repo, thats the path you want to insert\n",
      "In my case, the working directory is /home/ben/projects/YelpRecSys13, so I inserted /home/ben/projects\n",
      "\"\"\"\n"
     ],
     "language": "python",
     "metadata": {},
     "outputs": [
      {
       "output_type": "pyout",
       "prompt_number": 1,
       "text": [
        "'\\nThis workbook serves as an example of how to use data_util\\n\\n\\nNote: In order to import properly, you need to edit your .bashrc\\n\\nIn your terminal, do\\n1. gedit ~/.bashrc\\n2. add the following: export PYTHONPATH=/home/ben/projects:$PYTHONPATH\\nNOTE: for me it is /home/ben/projects. for you it will be different.\\nwhatever folder you are working in that CONTAINS YelpRecSys13 repo, thats the path you want to insert\\nIn my case, the working directory is /home/ben/projects/YelpRecSys13, so I inserted /home/ben/projects\\n'"
       ]
      }
     ],
     "prompt_number": 1
    },
    {
     "cell_type": "code",
     "collapsed": false,
     "input": [
      "f = \"../data/raw/yelp_training_set/yelp_training_set_user.json\""
     ],
     "language": "python",
     "metadata": {},
     "outputs": [],
     "prompt_number": 2
    },
    {
     "cell_type": "code",
     "collapsed": false,
     "input": [
      "users = du.json2dataframe(f)"
     ],
     "language": "python",
     "metadata": {},
     "outputs": [],
     "prompt_number": 3
    },
    {
     "cell_type": "code",
     "collapsed": false,
     "input": [
      "print users[0:10]"
     ],
     "language": "python",
     "metadata": {},
     "outputs": [
      {
       "output_type": "stream",
       "stream": "stdout",
       "text": [
        "   review_count       name  average_stars                 user_id  type  \\\n",
        "0             6        Jim           5.00  CR2y7yEm4X035ZMzrTtN9Q  user   \n",
        "1             2      Kelle           1.00  _9GXoHhdxc30ujPaQwh6Ew  user   \n",
        "2             2  Stephanie           5.00  8mM-nqxjg6pT04kwcjMbsw  user   \n",
        "3             2          T           5.00  Ch6CdTR2IVaVANr-RglMOg  user   \n",
        "4             1       Beth           1.00  NZrLmHRyiHmyT1JrfzkCOA  user   \n",
        "5            19        Amy           3.79  mWx5Sxt_dx-sYBZg6RgJHQ  user   \n",
        "6           207      Beach           3.83  hryUDaRk7FLuDAYui2oldw  user   \n",
        "7             2  christine           3.00  2t6fZNLtiqsihVmeO7zggg  user   \n",
        "8             4      Denis           4.50  mn6F-eP5WU37b-iLTop2mQ  user   \n",
        "9            10      Shawn           3.90  myXq7PFXkD_yfXT580SXMw  user   \n",
        "\n",
        "   funny  useful  cool  \n",
        "0      0       7     0  \n",
        "1      0       1     0  \n",
        "2      0       1     0  \n",
        "3      0       2     0  \n",
        "4      0       0     0  \n",
        "5     30      45    36  \n",
        "6     28     130    31  \n",
        "7      1       0     1  \n",
        "8      0       3     2  \n",
        "9      5      24     9  \n"
       ]
      }
     ],
     "prompt_number": 4
    },
    {
     "cell_type": "code",
     "collapsed": false,
     "input": [
      "# use preview_json to see what variables are available and what you may want to exclude"
     ],
     "language": "python",
     "metadata": {},
     "outputs": [],
     "prompt_number": 5
    },
    {
     "cell_type": "code",
     "collapsed": false,
     "input": [
      "du.preview_json(f)"
     ],
     "language": "python",
     "metadata": {},
     "outputs": [
      {
       "output_type": "stream",
       "stream": "stdout",
       "text": [
        "[u'votes', u'review_count', u'name', u'average_stars', u'user_id', u'type']\n"
       ]
      }
     ],
     "prompt_number": 6
    },
    {
     "cell_type": "code",
     "collapsed": false,
     "input": [
      "test2 = du.json2dataframe(f, ['review_count', 'type'])"
     ],
     "language": "python",
     "metadata": {},
     "outputs": [],
     "prompt_number": 7
    },
    {
     "cell_type": "code",
     "collapsed": false,
     "input": [
      "test2.columns # notice that we've excluded review_count and type"
     ],
     "language": "python",
     "metadata": {},
     "outputs": [
      {
       "output_type": "pyout",
       "prompt_number": 8,
       "text": [
        "Index([name, average_stars, user_id, funny, useful, cool], dtype=object)"
       ]
      }
     ],
     "prompt_number": 8
    },
    {
     "cell_type": "code",
     "collapsed": false,
     "input": [
      "f_businesses = \"../data/raw/yelp_training_set/yelp_training_set_business.json\""
     ],
     "language": "python",
     "metadata": {},
     "outputs": [],
     "prompt_number": 9
    },
    {
     "cell_type": "code",
     "collapsed": false,
     "input": [
      "businesses = du.json2dataframe(f_businesses)"
     ],
     "language": "python",
     "metadata": {},
     "outputs": [],
     "prompt_number": 10
    },
    {
     "cell_type": "code",
     "collapsed": false,
     "input": [
      "businesses.columns"
     ],
     "language": "python",
     "metadata": {},
     "outputs": [
      {
       "output_type": "pyout",
       "prompt_number": 11,
       "text": [
        "Index([city, review_count, name, neighborhoods, type, business_id, full_address, state, longitude, stars, latitude, open, categories], dtype=object)"
       ]
      }
     ],
     "prompt_number": 11
    },
    {
     "cell_type": "code",
     "collapsed": false,
     "input": [
      "f_reviews = \"../data/raw/yelp_training_set/yelp_training_set_review.json\""
     ],
     "language": "python",
     "metadata": {},
     "outputs": [],
     "prompt_number": 12
    },
    {
     "cell_type": "code",
     "collapsed": false,
     "input": [
      "du.preview_json(f_reviews)"
     ],
     "language": "python",
     "metadata": {},
     "outputs": [
      {
       "output_type": "stream",
       "stream": "stdout",
       "text": [
        "[u'votes', u'user_id', u'review_id', u'text', u'business_id', u'stars', u'date', u'type']\n"
       ]
      }
     ],
     "prompt_number": 13
    },
    {
     "cell_type": "code",
     "collapsed": false,
     "input": [
      "reviews = du.json2dataframe(f_reviews)"
     ],
     "language": "python",
     "metadata": {},
     "outputs": [],
     "prompt_number": 14
    },
    {
     "cell_type": "code",
     "collapsed": false,
     "input": [
      "reviews[0:10].values"
     ],
     "language": "python",
     "metadata": {},
     "outputs": [
      {
       "output_type": "pyout",
       "prompt_number": 15,
       "text": [
        "array([[u'rLtl8ZkDX5vH5nAx9C3q5Q', u'fWKvX83p0-ka4JS3dc6E5A',\n",
        "        u'My wife took me here on my birthday for breakfast and it was excellent.  The weather was perfect which made sitting outside overlooking their grounds an absolute pleasure.  Our waitress was excellent and our food arrived quickly on the semi-busy Saturday morning.  It looked like the place fills up pretty quickly so the earlier you get here the better.\\n\\nDo yourself a favor and get their Bloody Mary.  It was phenomenal and simply the best I\\'ve ever had.  I\\'m pretty sure they only use ingredients from their garden and blend them fresh when you order it.  It was amazing.\\n\\nWhile EVERYTHING on the menu looks excellent, I had the white truffle scrambled eggs vegetable skillet and it was tasty and delicious.  It came with 2 pieces of their griddled bread with was amazing and it absolutely made the meal complete.  It was the best \"toast\" I\\'ve ever had.\\n\\nAnyway, I can\\'t wait to go back!',\n",
        "        u'9yKzy9PApeiPPOUJEtnvkg', 5, u'2011-01-26', u'review', 0, 5, 2],\n",
        "       [u'0a2KyEL0d3Yb1V6aivbIuQ', u'IjZ33sJrzXqU-0X6U8NwyA',\n",
        "        u'I have no idea why some people give bad reviews about this place. It goes to show you, you can please everyone. They are probably griping about something that their own fault...there are many people like that.\\n\\nIn any case, my friend and I arrived at about 5:50 PM this past Sunday. It was pretty crowded, more than I thought for a Sunday evening and thought we would have to wait forever to get a seat but they said we\\'ll be seated when the girl comes back from seating someone else. We were seated at 5:52 and the waiter came and got our drink orders. Everyone was very pleasant from the host that seated us to the waiter to the server. The prices were very good as well. We placed our orders once we decided what we wanted at 6:02. We shared the baked spaghetti calzone and the small \"Here\\'s The Beef\" pizza so we can both try them. The calzone was huge and we got the smallest one (personal) and got the small 11\" pizza. Both were awesome! My friend liked the pizza better and I liked the calzone better. The calzone does have a sweetish sauce but that\\'s how I like my sauce!\\n\\nWe had to box part of the pizza to take it home and we were out the door by 6:42. So, everything was great and not like these bad reviewers. That goes to show you that  you have to try these things yourself because all these bad reviewers have some serious issues.',\n",
        "        u'ZRJwVLyzEJq1VAihDhYiow', 5, u'2011-07-27', u'review', 0, 0, 0],\n",
        "       [u'0hT2KtfLiobPvh6cDC8JQg', u'IESLBzqUCLdSzSqm0eCSxQ',\n",
        "        u'love the gyro plate. Rice is so good and I also dig their candy selection :)',\n",
        "        u'6oRAC4uyJCsJl1X0WZpVSA', 4, u'2012-06-14', u'review', 0, 1, 0],\n",
        "       [u'uZetl9T0NcROGOyFfughhg', u'G-WvGaISbqqaMHlNnByodA',\n",
        "        u\"Rosie, Dakota, and I LOVE Chaparral Dog Park!!! It's very convenient and surrounded by a lot of paths, a desert xeriscape, baseball fields, ballparks, and a lake with ducks.\\n\\nThe Scottsdale Park and Rec Dept. does a wonderful job of keeping the park clean and shaded.  You can find trash cans and poopy-pick up mitts located all over the park and paths.\\n\\nThe fenced in area is huge to let the dogs run, play, and sniff!\",\n",
        "        u'_1QQZuf4zZOyFCvXc0o6Vg', 5, u'2010-05-27', u'review', 0, 2, 1],\n",
        "       [u'vYmM4KTsC8ZfQBg-j5MWkw', u'1uJFq2r5QfJG_6ExMRCaGw',\n",
        "        u'General Manager Scott Petello is a good egg!!! Not to go into detail, but let me assure you if you have any issues (albeit rare) speak with Scott and treat the guy with some respect as you state your case and I\\'d be surprised if you don\\'t walk out totally satisfied as I just did. Like I always say..... \"Mistakes are inevitable, it\\'s how we recover from them that is important\"!!!\\n\\nThanks to Scott and his awesome staff. You\\'ve got a customer for life!! .......... :^)',\n",
        "        u'6ozycU1RpktNG2-1BroVtw', 5, u'2012-01-05', u'review', 0, 0, 0],\n",
        "       [u'sqYN3lNgvPbPCTRsMFu27g', u'm2CKSsepBCoRYWxiRUsxAg',\n",
        "        u\"Quiessence is, simply put, beautiful.  Full windows and earthy wooden walls give a feeling of warmth inside this restaurant perched in the middle of a farm.  The restaurant seemed fairly full even on a Tuesday evening; we had secured reservations just a couple days before.\\n\\nMy friend and I had sampled sandwiches at the Farm Kitchen earlier that week, and were impressed enough to want to eat at the restaurant.  The crisp, fresh veggies didn't disappoint: we ordered the salad with orange and grapefruit slices and the crudites to start.  Both were very good; I didn't even know how much I liked raw radishes and turnips until I tried them with their pesto and aioli sauces.\\n\\nFor entrees, I ordered the lamb and my friend ordered the pork shoulder.  Service started out very good, but trailed off quickly.  Waiting for our food took a very long time (a couple seated after us received and finished their entrees before we received our's), and no one bothered to explain the situation until the maitre'd apologized almost 45 minutes later.  Apparently the chef was unhappy with the sauce on my entree, so he started anew.  This isn't really a problem, but they should have communicated this to us earlier.  For our troubles, they comped me the glass of wine I ordered, but they forgot to bring out with my entree  as I had requested.  Also, they didn't offer us bread, but I will echo the lady who whispered this to us on her way out: ask for the bread.  We received warm foccacia, apple walnut, and pomegranate slices of wonder with honey and butter.  YUM.\\n\\nThe entrees were both solid, but didn't quite live up to the innovation and freshness of the vegetables.  My lamb's sauce was delicious, but the meat was tough.  Maybe the vegetarian entrees are the way to go?  But our dessert, the gingerbread pear cake, was yet another winner.\\n\\nIf the entrees were tad more inspired, or the service weren't so spotty, this place definitely would have warranted five stars.  If I return, I'd like to try the 75$ tasting menu.  Our bill came out to about 100$ for two people, including tip, no drinks.\",\n",
        "        u'-yxfBYGB6SEqszmxJxd97A', 4, u'2007-12-13', u'review', 1, 3, 4],\n",
        "       [u'wFweIWhv2fREZV_dYkz_1g', u'riFQ3vxNpP4rWLk_CSri2A',\n",
        "        u'Drop what you\\'re doing and drive here. After I ate here I had to go back the next day for more.  The food is that good.\\n\\nThis cute little green building may have gone competely unoticed if I hadn\\'t been driving down Palm Rd to avoid construction.  While waiting to turn onto 16th Street the \"Grand Opening\" sign caught my eye and my little yelping soul leaped for joy!  A new place to try!\\n\\nIt looked desolate from the outside but when I opened the door I was put at easy by the decor, smell and cleanliness inside.  I ordered dinner for two, to go.  The menu was awesome.  I loved seeing all the variety: poblano peppers, mole, mahi mahi, mushrooms...something wrapped in banana leaves.  It made it difficult to choose something.  Here\\'s what I\\'ve had so far: La Condesa Shrimp Burro and Baja Sur Dogfish Shark Taco.  They are both were very delicious meals but the shrimp burro stole the show.  So much flavor.  I snagged some bites from my hubbys mole and mahi mahi burros- mmmm such a delight.  The salsa bar is endless.  I really stocked up.  I was excited to try the strawberry salsa but it was too hot, in fact it all was, but I\\'m a big wimp when it comes to hot peppers. The horchata is handmade and delicious.  They throw pecans and some fruit in there too which is a yummy bonus!\\n\\nAs if the good food wasn\\'t enough to win me over the art in this restaurant sho did!  I\\'m a sucker for Mexican folk art and Frida Kahlo is my Oprah.  There\\'s a painting of her and Diego hanging over the salsa bar, it\\'s amazing.  All the paintings are great, love the artist.',\n",
        "        u'zp713qNhx8d9KCJJnrw1xA', 5, u'2010-02-12', u'review', 4, 7, 7],\n",
        "       [u'1ieuYcKS7zeAv_U15AB13A', u'JL7GXJ9u4YMx7Rzs05NfiQ',\n",
        "        u\"Luckily, I didn't have to travel far to make my connecting flight. And for this, I thank you, Phoenix.\\n\\nMy brief layover was pleasant as the employees were kind and the flight was on time.  Hopefully, next time I can grace Phoenix with my presence for a little while longer.\",\n",
        "        u'hW0Ne_HTHEAgGF1rAdmR-g', 4, u'2012-07-12', u'review', 0, 1, 0],\n",
        "       [u'Vh_DlizgGhSqQh4qfZ2h6A', u'XtnfnYmnJYi71yIuGsXIUA',\n",
        "        u\"Definitely come for Happy hour! Prices are amazing, sake bombers for $3...Great atmosphere and wait staff was incredibly nice and right on to all of our needs, didn't have to ask for a thing They were always spot on...Place gets crowded in the evening especially if you plan on sitting outside. I only wish there were one in Apollo Beach or Brandon!\",\n",
        "        u'wNUea3IXZWD63bbOQaOH-g', 4, u'2012-08-17', u'review', 0, 0, 0],\n",
        "       [u'sUNkXg8-KFtCMQDV6zRzQg', u'jJAIXA46pU1swYyRCdfXtQ',\n",
        "        u'Nobuo shows his unique talents with everything on the menu. Carefully crafted features with much to drink. Start with the pork belly buns and a stout. Then go on until you can no longer.',\n",
        "        u'nMHhuYan8e3cONo3PornJA', 5, u'2010-08-11', u'review', 0, 1, 0]], dtype=object)"
       ]
      }
     ],
     "prompt_number": 15
    },
    {
     "cell_type": "code",
     "collapsed": false,
     "input": [
      "f_checkin = \"../data/raw/yelp_training_set/yelp_training_set_checkin.json\""
     ],
     "language": "python",
     "metadata": {},
     "outputs": [],
     "prompt_number": 16
    },
    {
     "cell_type": "code",
     "collapsed": false,
     "input": [
      "test3 = du.checkin2dataframe(f_checkin)"
     ],
     "language": "python",
     "metadata": {},
     "outputs": [],
     "prompt_number": 17
    },
    {
     "cell_type": "code",
     "collapsed": false,
     "input": [
      "test3[0:10]"
     ],
     "language": "python",
     "metadata": {},
     "outputs": [
      {
       "html": [
        "<pre>\n",
        "&ltclass 'pandas.core.frame.DataFrame'&gt\n",
        "Int64Index: 10 entries, 0 to 9\n",
        "Columns: 170 entries, 0-0 to business_id\n",
        "dtypes: float64(168), object(2)\n",
        "</pre>"
       ],
       "output_type": "pyout",
       "prompt_number": 18,
       "text": [
        "<class 'pandas.core.frame.DataFrame'>\n",
        "Int64Index: 10 entries, 0 to 9\n",
        "Columns: 170 entries, 0-0 to business_id\n",
        "dtypes: float64(168), object(2)"
       ]
      }
     ],
     "prompt_number": 18
    },
    {
     "cell_type": "code",
     "collapsed": false,
     "input": [
      "test3.columns"
     ],
     "language": "python",
     "metadata": {},
     "outputs": [
      {
       "output_type": "pyout",
       "prompt_number": 19,
       "text": [
        "Index([0-0, 0-1, 0-2, 0-3, 0-4, 0-5, 0-6, 1-0, 1-1, 1-2, 1-3, 1-4, 1-5, 1-6, 2-0, 2-1, 2-2, 2-3, 2-4, 2-5, 2-6, 3-0, 3-1, 3-2, 3-3, 3-4, 3-5, 3-6, 4-0, 4-1, 4-2, 4-3, 4-4, 4-5, 4-6, 5-0, 5-1, 5-2, 5-3, 5-4, 5-5, 5-6, 6-0, 6-1, 6-2, 6-3, 6-4, 6-5, 6-6, 7-0, 7-1, 7-2, 7-3, 7-4, 7-5, 7-6, 8-0, 8-1, 8-2, 8-3, 8-4, 8-5, 8-6, 9-0, 9-1, 9-2, 9-3, 9-4, 9-5, 9-6, 10-0, 10-1, 10-2, 10-3, 10-4, 10-5, 10-6, 11-0, 11-1, 11-2, 11-3, 11-4, 11-5, 11-6, 12-0, 12-1, 12-2, 12-3, 12-4, 12-5, 12-6, 13-0, 13-1, 13-2, 13-3, 13-4, 13-5, 13-6, 14-0, 14-1, 14-2, 14-3, 14-4, 14-5, 14-6, 15-0, 15-1, 15-2, 15-3, 15-4, 15-5, 15-6, 16-0, 16-1, 16-2, 16-3, 16-4, 16-5, 16-6, 17-0, 17-1, 17-2, 17-3, 17-4, 17-5, 17-6, 18-0, 18-1, 18-2, 18-3, 18-4, 18-5, 18-6, 19-0, 19-1, 19-2, 19-3, 19-4, 19-5, 19-6, 20-0, 20-1, 20-2, 20-3, 20-4, 20-5, 20-6, 21-0, 21-1, 21-2, 21-3, 21-4, 21-5, 21-6, 22-0, 22-1, 22-2, 22-3, 22-4, 22-5, 22-6, 23-0, 23-1, 23-2, 23-3, 23-4, 23-5, 23-6, type, business_id], dtype=object)"
       ]
      }
     ],
     "prompt_number": 19
    },
    {
     "cell_type": "code",
     "collapsed": false,
     "input": [],
     "language": "python",
     "metadata": {},
     "outputs": []
    }
   ],
   "metadata": {}
  }
 ]
}