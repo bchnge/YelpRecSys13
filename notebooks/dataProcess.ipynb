{
 "metadata": {
  "name": "dataProcess"
 },
 "nbformat": 3,
 "nbformat_minor": 0,
 "worksheets": [
  {
   "cells": [
    {
     "cell_type": "code",
     "collapsed": false,
     "input": [
      "import YelpRecSys13.src.data_util as du\n",
      "\n",
      "\n",
      "\"\"\"\n",
      "This workbook serves as an example of how to use data_util\n",
      "\n",
      "\n",
      "Note: In order to import properly, you need to edit your .bashrc\n",
      "\n",
      "In your terminal, do\n",
      "1. gedit ~/.bashrc\n",
      "2. add the following: export PYTHONPATH=/home/ben/projects:$PYTHONPATH\n",
      "NOTE: for me it is /home/ben/projects. for you it will be different.\n",
      "whatever folder you are working in that CONTAINS YelpRecSys13 repo, thats the path you want to insert\n",
      "In my case, the working directory is /home/ben/projects/YelpRecSys13, so I inserted /home/ben/projects\n",
      "\"\"\"\n"
     ],
     "language": "python",
     "metadata": {},
     "outputs": [
      {
       "output_type": "pyout",
       "prompt_number": 3,
       "text": [
        "'\\nThis workbook serves as an example of how to use data_util\\n\\n\\nNote: In order to import properly, you need to edit your .bashrc\\n\\nIn your terminal, do\\n1. gedit ~/.bashrc\\n2. add the following: export PYTHONPATH=/home/ben/projects:$PYTHONPATH\\nNOTE: for me it is /home/ben/projects. for you it will be different.\\nwhatever folder you are working in that CONTAINS YelpRecSys13 repo, thats the path you want to insert\\nIn my case, the working directory is /home/ben/projects/YelpRecSys13, so I inserted /home/ben/projects\\n'"
       ]
      }
     ],
     "prompt_number": 3
    },
    {
     "cell_type": "code",
     "collapsed": false,
     "input": [
      "f_users = \"../data/raw/yelp_training_set/yelp_training_set_user.json\""
     ],
     "language": "python",
     "metadata": {},
     "outputs": [],
     "prompt_number": 4
    },
    {
     "cell_type": "code",
     "collapsed": false,
     "input": [
      "users = du.json2dataframe(f_users)"
     ],
     "language": "python",
     "metadata": {},
     "outputs": [],
     "prompt_number": 10
    },
    {
     "cell_type": "code",
     "collapsed": false,
     "input": [
      "# use preview_json to see what variables are available and what you may want to exclude"
     ],
     "language": "python",
     "metadata": {},
     "outputs": [],
     "prompt_number": 11
    },
    {
     "cell_type": "code",
     "collapsed": false,
     "input": [
      "f_businesses = \"../data/raw/yelp_training_set/yelp_training_set_business.json\""
     ],
     "language": "python",
     "metadata": {},
     "outputs": [],
     "prompt_number": 12
    },
    {
     "cell_type": "code",
     "collapsed": false,
     "input": [
      "businesses = du.json2dataframe(f_businesses)"
     ],
     "language": "python",
     "metadata": {},
     "outputs": [],
     "prompt_number": 13
    },
    {
     "cell_type": "code",
     "collapsed": false,
     "input": [
      "f_reviews = \"../data/raw/yelp_training_set/yelp_training_set_review.json\""
     ],
     "language": "python",
     "metadata": {},
     "outputs": [],
     "prompt_number": 14
    },
    {
     "cell_type": "code",
     "collapsed": false,
     "input": [
      "reviews = du.json2dataframe(f_reviews)"
     ],
     "language": "python",
     "metadata": {},
     "outputs": [],
     "prompt_number": 15
    },
    {
     "cell_type": "code",
     "collapsed": false,
     "input": [
      "f_checkin = \"../data/raw/yelp_training_set/yelp_training_set_checkin.json\""
     ],
     "language": "python",
     "metadata": {},
     "outputs": [],
     "prompt_number": 16
    },
    {
     "cell_type": "code",
     "collapsed": false,
     "input": [
      "checkins = du.checkin2dataframe(f_checkin)"
     ],
     "language": "python",
     "metadata": {},
     "outputs": [],
     "prompt_number": 17
    },
    {
     "cell_type": "code",
     "collapsed": false,
     "input": [
      "reviews.columns"
     ],
     "language": "python",
     "metadata": {},
     "outputs": [
      {
       "output_type": "pyout",
       "prompt_number": 18,
       "text": [
        "Index([user_id, review_id, text, business_id, stars, date, type, funny, useful, cool], dtype=object)"
       ]
      }
     ],
     "prompt_number": 18
    },
    {
     "cell_type": "code",
     "collapsed": false,
     "input": [
      "reviews"
     ],
     "language": "python",
     "metadata": {},
     "outputs": [
      {
       "html": [
        "<pre>\n",
        "&ltclass 'pandas.core.frame.DataFrame'&gt\n",
        "Int64Index: 229907 entries, 0 to 229906\n",
        "Data columns (total 10 columns):\n",
        "user_id        229907  non-null values\n",
        "review_id      229907  non-null values\n",
        "text           229907  non-null values\n",
        "business_id    229907  non-null values\n",
        "stars          229907  non-null values\n",
        "date           229907  non-null values\n",
        "type           229907  non-null values\n",
        "funny          229907  non-null values\n",
        "useful         229907  non-null values\n",
        "cool           229907  non-null values\n",
        "dtypes: int64(4), object(6)\n",
        "</pre>"
       ],
       "output_type": "pyout",
       "prompt_number": 20,
       "text": [
        "<class 'pandas.core.frame.DataFrame'>\n",
        "Int64Index: 229907 entries, 0 to 229906\n",
        "Data columns (total 10 columns):\n",
        "user_id        229907  non-null values\n",
        "review_id      229907  non-null values\n",
        "text           229907  non-null values\n",
        "business_id    229907  non-null values\n",
        "stars          229907  non-null values\n",
        "date           229907  non-null values\n",
        "type           229907  non-null values\n",
        "funny          229907  non-null values\n",
        "useful         229907  non-null values\n",
        "cool           229907  non-null values\n",
        "dtypes: int64(4), object(6)"
       ]
      }
     ],
     "prompt_number": 20
    },
    {
     "cell_type": "code",
     "collapsed": false,
     "input": [
      "merge(left, right, how='left', on=None, left_on=None, right_on=None,\n",
      "      left_index=False, right_index=False, sort=True,\n",
      "      suffixes=('_x', '_y'), copy=True)"
     ],
     "language": "python",
     "metadata": {},
     "outputs": []
    },
    {
     "cell_type": "code",
     "collapsed": false,
     "input": [
      "import pandas as pd"
     ],
     "language": "python",
     "metadata": {},
     "outputs": [],
     "prompt_number": 23
    },
    {
     "cell_type": "code",
     "collapsed": false,
     "input": [
      "# merge reviews with users\n",
      "master = pd.merge(left = reviews, right = users, on = 'user_id', how = 'left', suffixes = ('_rev', '_user'))"
     ],
     "language": "python",
     "metadata": {},
     "outputs": [],
     "prompt_number": 44
    },
    {
     "cell_type": "code",
     "collapsed": false,
     "input": [
      "# merge reviews with businesses\n",
      "master = pd.merge(left = master, right = businesses, on = 'business_id', how = 'left', suffixes = ('_rev', '_bus'))"
     ],
     "language": "python",
     "metadata": {},
     "outputs": [],
     "prompt_number": 45
    },
    {
     "cell_type": "code",
     "collapsed": false,
     "input": [
      "# merge reviews with checkins\n",
      "master = pd.merge(left = master, right = checkins, on = 'business_id', how = 'left', suffixes = ('_rev', '_buscheck'))"
     ],
     "language": "python",
     "metadata": {},
     "outputs": [],
     "prompt_number": 50
    },
    {
     "cell_type": "code",
     "collapsed": false,
     "input": [
      "master.columns"
     ],
     "language": "python",
     "metadata": {},
     "outputs": [
      {
       "output_type": "pyout",
       "prompt_number": 51,
       "text": [
        "Index([user_id, review_id, text, business_id, stars_rev, date, type_rev, funny_rev, useful_rev, cool_rev, review_count_rev, name_rev, average_stars, type_user, funny_user, useful_user, cool_user, city, review_count_bus, name_bus, neighborhoods, type_rev, full_address, state, longitude, stars_bus, latitude, open, categories, 0-0, 0-1, 0-2, 0-3, 0-4, 0-5, 0-6, 1-0, 1-1, 1-2, 1-3, 1-4, 1-5, 1-6, 2-0, 2-1, 2-2, 2-3, 2-4, 2-5, 2-6, 3-0, 3-1, 3-2, 3-3, 3-4, 3-5, 3-6, 4-0, 4-1, 4-2, 4-3, 4-4, 4-5, 4-6, 5-0, 5-1, 5-2, 5-3, 5-4, 5-5, 5-6, 6-0, 6-1, 6-2, 6-3, 6-4, 6-5, 6-6, 7-0, 7-1, 7-2, 7-3, 7-4, 7-5, 7-6, 8-0, 8-1, 8-2, 8-3, 8-4, 8-5, 8-6, 9-0, 9-1, 9-2, 9-3, 9-4, 9-5, 9-6, 10-0, 10-1, 10-2, 10-3, 10-4, 10-5, 10-6, 11-0, 11-1, 11-2, 11-3, 11-4, 11-5, 11-6, 12-0, 12-1, 12-2, 12-3, 12-4, 12-5, 12-6, 13-0, 13-1, 13-2, 13-3, 13-4, 13-5, 13-6, 14-0, 14-1, 14-2, 14-3, 14-4, 14-5, 14-6, 15-0, 15-1, 15-2, 15-3, 15-4, 15-5, 15-6, 16-0, 16-1, 16-2, 16-3, 16-4, 16-5, 16-6, 17-0, 17-1, 17-2, 17-3, 17-4, 17-5, 17-6, 18-0, 18-1, 18-2, 18-3, 18-4, 18-5, 18-6, 19-0, 19-1, 19-2, 19-3, 19-4, 19-5, 19-6, 20-0, 20-1, 20-2, 20-3, 20-4, 20-5, 20-6, 21-0, 21-1, 21-2, 21-3, 21-4, 21-5, 21-6, 22-0, 22-1, 22-2, 22-3, 22-4, 22-5, 22-6, 23-0, 23-1, 23-2, 23-3, 23-4, 23-5, 23-6, type_buscheck], dtype=object)"
       ]
      }
     ],
     "prompt_number": 51
    },
    {
     "cell_type": "code",
     "collapsed": false,
     "input": [
      "master.ix[3]"
     ],
     "language": "python",
     "metadata": {},
     "outputs": [
      {
       "output_type": "pyout",
       "prompt_number": 65,
       "text": [
        "user_id                                        0bNXP9quoJEgyVZu9ipGgQ\n",
        "review_id                                      nYVQiPGeiwr7g5BSX7WDJg\n",
        "text                09/30/12\\n\\nHad brunch here with my aunts and ...\n",
        "business_id                                    9yKzy9PApeiPPOUJEtnvkg\n",
        "stars_rev                                                           3\n",
        "date                                                       2012-10-10\n",
        "type_rev                                                     business\n",
        "funny_rev                                                           7\n",
        "useful_rev                                                          9\n",
        "cool_rev                                                            8\n",
        "review_count_rev                                                  620\n",
        "name_rev                                                       Aileen\n",
        "average_stars                                                    3.34\n",
        "type_user                                                        user\n",
        "funny_user                                                       2672\n",
        "...\n",
        "22-0                   0\n",
        "22-1                   0\n",
        "22-2                   0\n",
        "22-3                   0\n",
        "22-4                   0\n",
        "22-5                   0\n",
        "22-6                   0\n",
        "23-0                   0\n",
        "23-1                   0\n",
        "23-2                   0\n",
        "23-3                   0\n",
        "23-4                   0\n",
        "23-5                   0\n",
        "23-6                   0\n",
        "type_buscheck    checkin\n",
        "Name: 3, Length: 198, dtype: object"
       ]
      }
     ],
     "prompt_number": 65
    },
    {
     "cell_type": "code",
     "collapsed": false,
     "input": [],
     "language": "python",
     "metadata": {},
     "outputs": []
    }
   ],
   "metadata": {}
  }
 ]
}