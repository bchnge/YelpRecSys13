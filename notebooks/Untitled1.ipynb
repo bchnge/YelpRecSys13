{
 "metadata": {
  "name": "Untitled1"
 },
 "nbformat": 3,
 "nbformat_minor": 0,
 "worksheets": [
  {
   "cells": [
    {
     "cell_type": "code",
     "collapsed": false,
     "input": [
      "import json\n",
      "import pandas as pd"
     ],
     "language": "python",
     "metadata": {},
     "outputs": [],
     "prompt_number": 67
    },
    {
     "cell_type": "code",
     "collapsed": false,
     "input": [
      "import numpy"
     ],
     "language": "python",
     "metadata": {},
     "outputs": [],
     "prompt_number": 40
    },
    {
     "cell_type": "code",
     "collapsed": false,
     "input": [
      "users = []\n",
      "with open('/home/paul/Downloads/yelp_training_set/yelp_training_set_user.json','r') as f:\n",
      "    for line in f:\n",
      "        users.append(json.loads(line))"
     ],
     "language": "python",
     "metadata": {},
     "outputs": [],
     "prompt_number": 40
    },
    {
     "cell_type": "code",
     "collapsed": false,
     "input": [
      "reviews = []\n",
      "with open('/home/paul/Downloads/yelp_training_set/yelp_training_set_review.json','r') as f:\n",
      "    for line in f:\n",
      "        reviews.append(json.loads(line))"
     ],
     "language": "python",
     "metadata": {},
     "outputs": [],
     "prompt_number": 41
    },
    {
     "cell_type": "code",
     "collapsed": false,
     "input": [
      "businesses = []\n",
      "with open('/home/paul/Downloads/yelp_training_set/yelp_training_set_business.json','r') as f:\n",
      "    for line in f:\n",
      "        businesses.append(json.loads(line))"
     ],
     "language": "python",
     "metadata": {},
     "outputs": [],
     "prompt_number": 43
    },
    {
     "cell_type": "code",
     "collapsed": false,
     "input": [
      "checkins = []\n",
      "with open('/home/paul/Downloads/yelp_training_set/yelp_training_set_checkin.json','r') as f:\n",
      "    for line in f:\n",
      "        checkins.append(json.loads(line))"
     ],
     "language": "python",
     "metadata": {},
     "outputs": [],
     "prompt_number": 44
    },
    {
     "cell_type": "code",
     "collapsed": false,
     "input": [
      "teststr1 = json.dumps(users[4],indent=1,separators=(',',' : '))"
     ],
     "language": "python",
     "metadata": {},
     "outputs": [],
     "prompt_number": 106
    },
    {
     "cell_type": "code",
     "collapsed": false,
     "input": [
      "teststr2 = json.dumps(reviews[4],indent=1,separators=(',',' : '))"
     ],
     "language": "python",
     "metadata": {},
     "outputs": [],
     "prompt_number": 46
    },
    {
     "cell_type": "code",
     "collapsed": false,
     "input": [
      "teststr3 = json.dumps(businesses[4],indent=1,separators=(',',' : '))"
     ],
     "language": "python",
     "metadata": {},
     "outputs": [],
     "prompt_number": 47
    },
    {
     "cell_type": "code",
     "collapsed": false,
     "input": [
      "teststr4 = json.dumps(checkins[4],indent=1,separators=(',',' : '))"
     ],
     "language": "python",
     "metadata": {},
     "outputs": [],
     "prompt_number": 45
    },
    {
     "cell_type": "code",
     "collapsed": false,
     "input": [
      "print teststr1"
     ],
     "language": "python",
     "metadata": {},
     "outputs": [
      {
       "output_type": "stream",
       "stream": "stdout",
       "text": [
        "{\n",
        " \"votes\" : {\n",
        "  \"funny\" : 0,\n",
        "  \"useful\" : 0,\n",
        "  \"cool\" : 0\n",
        " },\n",
        " \"review_count\" : 1,\n",
        " \"name\" : \"Beth\",\n",
        " \"average_stars\" : 1.0,\n",
        " \"user_id\" : \"NZrLmHRyiHmyT1JrfzkCOA\",\n",
        " \"type\" : \"user\"\n",
        "}\n"
       ]
      }
     ],
     "prompt_number": 52
    },
    {
     "cell_type": "code",
     "collapsed": false,
     "input": [
      "print teststr2"
     ],
     "language": "python",
     "metadata": {},
     "outputs": [
      {
       "output_type": "stream",
       "stream": "stdout",
       "text": [
        "{\n",
        " \"votes\" : {\n",
        "  \"funny\" : 0,\n",
        "  \"useful\" : 0,\n",
        "  \"cool\" : 0\n",
        " },\n",
        " \"user_id\" : \"vYmM4KTsC8ZfQBg-j5MWkw\",\n",
        " \"review_id\" : \"1uJFq2r5QfJG_6ExMRCaGw\",\n",
        " \"text\" : \"General Manager Scott Petello is a good egg!!! Not to go into detail, but let me assure you if you have any issues (albeit rare) speak with Scott and treat the guy with some respect as you state your case and I'd be surprised if you don't walk out totally satisfied as I just did. Like I always say..... \\\"Mistakes are inevitable, it's how we recover from them that is important\\\"!!!\\n\\nThanks to Scott and his awesome staff. You've got a customer for life!! .......... :^)\",\n",
        " \"business_id\" : \"6ozycU1RpktNG2-1BroVtw\",\n",
        " \"stars\" : 5,\n",
        " \"date\" : \"2012-01-05\",\n",
        " \"type\" : \"review\"\n",
        "}\n"
       ]
      }
     ],
     "prompt_number": 51
    },
    {
     "cell_type": "code",
     "collapsed": false,
     "input": [
      "print teststr3"
     ],
     "language": "python",
     "metadata": {},
     "outputs": [
      {
       "output_type": "stream",
       "stream": "stdout",
       "text": [
        "{\n",
        " \"city\" : \"Glendale Az\",\n",
        " \"review_count\" : 14,\n",
        " \"name\" : \"Hot Bagels & Deli\",\n",
        " \"neighborhoods\" : [],\n",
        " \"type\" : \"business\",\n",
        " \"business_id\" : \"PzOqRohWw7F7YEPBz6AubA\",\n",
        " \"full_address\" : \"6520 W Happy Valley Rd\\nSte 101\\nGlendale Az, AZ 85310\",\n",
        " \"state\" : \"AZ\",\n",
        " \"longitude\" : -112.200264,\n",
        " \"stars\" : 3.5,\n",
        " \"latitude\" : 33.712797,\n",
        " \"open\" : true,\n",
        " \"categories\" : [\n",
        "  \"Food\",\n",
        "  \"Bagels\",\n",
        "  \"Delis\",\n",
        "  \"Restaurants\"\n",
        " ]\n",
        "}\n"
       ]
      }
     ],
     "prompt_number": 50
    },
    {
     "cell_type": "code",
     "collapsed": false,
     "input": [
      "print teststr4"
     ],
     "language": "python",
     "metadata": {},
     "outputs": [
      {
       "output_type": "stream",
       "stream": "stdout",
       "text": [
        "{\n",
        " \"checkin_info\" : {\n",
        "  \"16-2\" : 1,\n",
        "  \"14-5\" : 1,\n",
        "  \"12-5\" : 2,\n",
        "  \"15-4\" : 1,\n",
        "  \"13-4\" : 1\n",
        " },\n",
        " \"type\" : \"checkin\",\n",
        " \"business_id\" : \"HLQGo3EaYVvAv22bONGkIw\"\n",
        "}\n"
       ]
      }
     ],
     "prompt_number": 49
    },
    {
     "cell_type": "code",
     "collapsed": false,
     "input": [
      "type(teststr3)"
     ],
     "language": "python",
     "metadata": {},
     "outputs": [
      {
       "output_type": "pyout",
       "prompt_number": 57,
       "text": [
        "str"
       ]
      },
      {
       "output_type": "stream",
       "stream": "stdout",
       "text": [
        "\n"
       ]
      }
     ],
     "prompt_number": 57
    },
    {
     "cell_type": "code",
     "collapsed": false,
     "input": [
      "testjson = data[4]"
     ],
     "language": "python",
     "metadata": {},
     "outputs": [],
     "prompt_number": 110
    },
    {
     "cell_type": "code",
     "collapsed": false,
     "input": [
      "print testjson"
     ],
     "language": "python",
     "metadata": {},
     "outputs": [
      {
       "output_type": "stream",
       "stream": "stdout",
       "text": [
        "{u'votes': {u'funny': 0, u'useful': 0, u'cool': 0}, u'review_count': 1, u'name': u'Beth', u'average_stars': 1.0, u'user_id': u'NZrLmHRyiHmyT1JrfzkCOA', u'type': u'user'}\n"
       ]
      }
     ],
     "prompt_number": 111
    },
    {
     "cell_type": "code",
     "collapsed": false,
     "input": [
      "type(testjson)"
     ],
     "language": "python",
     "metadata": {},
     "outputs": [
      {
       "output_type": "pyout",
       "prompt_number": 112,
       "text": [
        "dict"
       ]
      }
     ],
     "prompt_number": 112
    },
    {
     "cell_type": "code",
     "collapsed": false,
     "input": [
      "type(data)"
     ],
     "language": "python",
     "metadata": {},
     "outputs": [
      {
       "output_type": "pyout",
       "prompt_number": 115,
       "text": [
        "list"
       ]
      }
     ],
     "prompt_number": 115
    },
    {
     "cell_type": "code",
     "collapsed": false,
     "input": [
      "testjson.items()"
     ],
     "language": "python",
     "metadata": {},
     "outputs": [
      {
       "output_type": "pyout",
       "prompt_number": 114,
       "text": [
        "[(u'votes', {u'cool': 0, u'funny': 0, u'useful': 0}),\n",
        " (u'review_count', 1),\n",
        " (u'name', u'Beth'),\n",
        " (u'average_stars', 1.0),\n",
        " (u'user_id', u'NZrLmHRyiHmyT1JrfzkCOA'),\n",
        " (u'type', u'user')]"
       ]
      }
     ],
     "prompt_number": 114
    },
    {
     "cell_type": "code",
     "collapsed": false,
     "input": [
      "testjson.keys()"
     ],
     "language": "python",
     "metadata": {},
     "outputs": [
      {
       "output_type": "pyout",
       "prompt_number": 119,
       "text": [
        "[u'votes', u'review_count', u'name', u'average_stars', u'user_id', u'type']"
       ]
      }
     ],
     "prompt_number": 119
    },
    {
     "cell_type": "code",
     "collapsed": false,
     "input": [
      "print \"data: \", users[0]['votes']['funny']"
     ],
     "language": "python",
     "metadata": {},
     "outputs": [
      {
       "output_type": "stream",
       "stream": "stdout",
       "text": [
        "data:  0\n"
       ]
      }
     ],
     "prompt_number": 66
    },
    {
     "cell_type": "code",
     "collapsed": false,
     "input": [
      "N = len(users)"
     ],
     "language": "python",
     "metadata": {},
     "outputs": [],
     "prompt_number": 71
    },
    {
     "cell_type": "code",
     "collapsed": false,
     "input": [
      "Users = pd.DataFrame(columns = users[1].keys()[1:],index = range(0,N))"
     ],
     "language": "python",
     "metadata": {},
     "outputs": [],
     "prompt_number": 161
    },
    {
     "cell_type": "code",
     "collapsed": false,
     "input": [
      "uservotes = []\n",
      "\n",
      "for line in users:\n",
      "    uservotes.append(line['votes'])\n",
      "    "
     ],
     "language": "python",
     "metadata": {},
     "outputs": [],
     "prompt_number": 104
    },
    {
     "cell_type": "code",
     "collapsed": false,
     "input": [
      "UserVotes = pd.DataFrame(columns = uservotes[1].keys(),index = range(0,N))"
     ],
     "language": "python",
     "metadata": {},
     "outputs": [],
     "prompt_number": 107
    },
    {
     "cell_type": "code",
     "collapsed": false,
     "input": [
      "for col in Users.columns:\n",
      "    Users[col] = [v[col] for v in users]\n",
      "\n",
      "for col in UserVotes.columns:\n",
      "        UserVotes[col] = [v[col] for v in uservotes]       \n",
      "        "
     ],
     "language": "python",
     "metadata": {},
     "outputs": [],
     "prompt_number": 162
    },
    {
     "cell_type": "code",
     "collapsed": false,
     "input": [
      "UserVotes[0:10]"
     ],
     "language": "python",
     "metadata": {},
     "outputs": [
      {
       "html": [
        "<div style=\"max-height:1000px;max-width:1500px;overflow:auto;\">\n",
        "<table border=\"1\" class=\"dataframe\">\n",
        "  <thead>\n",
        "    <tr style=\"text-align: right;\">\n",
        "      <th></th>\n",
        "      <th>funny</th>\n",
        "      <th>useful</th>\n",
        "      <th>cool</th>\n",
        "    </tr>\n",
        "  </thead>\n",
        "  <tbody>\n",
        "    <tr>\n",
        "      <th>0</th>\n",
        "      <td>  0</td>\n",
        "      <td>   7</td>\n",
        "      <td>  0</td>\n",
        "    </tr>\n",
        "    <tr>\n",
        "      <th>1</th>\n",
        "      <td>  0</td>\n",
        "      <td>   1</td>\n",
        "      <td>  0</td>\n",
        "    </tr>\n",
        "    <tr>\n",
        "      <th>2</th>\n",
        "      <td>  0</td>\n",
        "      <td>   1</td>\n",
        "      <td>  0</td>\n",
        "    </tr>\n",
        "    <tr>\n",
        "      <th>3</th>\n",
        "      <td>  0</td>\n",
        "      <td>   2</td>\n",
        "      <td>  0</td>\n",
        "    </tr>\n",
        "    <tr>\n",
        "      <th>4</th>\n",
        "      <td>  0</td>\n",
        "      <td>   0</td>\n",
        "      <td>  0</td>\n",
        "    </tr>\n",
        "    <tr>\n",
        "      <th>5</th>\n",
        "      <td> 30</td>\n",
        "      <td>  45</td>\n",
        "      <td> 36</td>\n",
        "    </tr>\n",
        "    <tr>\n",
        "      <th>6</th>\n",
        "      <td> 28</td>\n",
        "      <td> 130</td>\n",
        "      <td> 31</td>\n",
        "    </tr>\n",
        "    <tr>\n",
        "      <th>7</th>\n",
        "      <td>  1</td>\n",
        "      <td>   0</td>\n",
        "      <td>  1</td>\n",
        "    </tr>\n",
        "    <tr>\n",
        "      <th>8</th>\n",
        "      <td>  0</td>\n",
        "      <td>   3</td>\n",
        "      <td>  2</td>\n",
        "    </tr>\n",
        "    <tr>\n",
        "      <th>9</th>\n",
        "      <td>  5</td>\n",
        "      <td>  24</td>\n",
        "      <td>  9</td>\n",
        "    </tr>\n",
        "  </tbody>\n",
        "</table>\n",
        "</div>"
       ],
       "output_type": "pyout",
       "prompt_number": 116,
       "text": [
        "   funny  useful  cool\n",
        "0      0       7     0\n",
        "1      0       1     0\n",
        "2      0       1     0\n",
        "3      0       2     0\n",
        "4      0       0     0\n",
        "5     30      45    36\n",
        "6     28     130    31\n",
        "7      1       0     1\n",
        "8      0       3     2\n",
        "9      5      24     9"
       ]
      }
     ],
     "prompt_number": 116
    },
    {
     "cell_type": "code",
     "collapsed": false,
     "input": [
      "Users[0:10]"
     ],
     "language": "python",
     "metadata": {},
     "outputs": [
      {
       "html": [
        "<div style=\"max-height:1000px;max-width:1500px;overflow:auto;\">\n",
        "<table border=\"1\" class=\"dataframe\">\n",
        "  <thead>\n",
        "    <tr style=\"text-align: right;\">\n",
        "      <th></th>\n",
        "      <th>review_count</th>\n",
        "      <th>name</th>\n",
        "      <th>average_stars</th>\n",
        "      <th>user_id</th>\n",
        "      <th>type</th>\n",
        "      <th>funny</th>\n",
        "      <th>useful</th>\n",
        "      <th>cool</th>\n",
        "    </tr>\n",
        "  </thead>\n",
        "  <tbody>\n",
        "    <tr>\n",
        "      <th>0</th>\n",
        "      <td>   6</td>\n",
        "      <td>       Jim</td>\n",
        "      <td> 5.00</td>\n",
        "      <td> CR2y7yEm4X035ZMzrTtN9Q</td>\n",
        "      <td> user</td>\n",
        "      <td> funny</td>\n",
        "      <td> useful</td>\n",
        "      <td> cool</td>\n",
        "    </tr>\n",
        "    <tr>\n",
        "      <th>1</th>\n",
        "      <td>   2</td>\n",
        "      <td>     Kelle</td>\n",
        "      <td> 1.00</td>\n",
        "      <td> _9GXoHhdxc30ujPaQwh6Ew</td>\n",
        "      <td> user</td>\n",
        "      <td> funny</td>\n",
        "      <td> useful</td>\n",
        "      <td> cool</td>\n",
        "    </tr>\n",
        "    <tr>\n",
        "      <th>2</th>\n",
        "      <td>   2</td>\n",
        "      <td> Stephanie</td>\n",
        "      <td> 5.00</td>\n",
        "      <td> 8mM-nqxjg6pT04kwcjMbsw</td>\n",
        "      <td> user</td>\n",
        "      <td> funny</td>\n",
        "      <td> useful</td>\n",
        "      <td> cool</td>\n",
        "    </tr>\n",
        "    <tr>\n",
        "      <th>3</th>\n",
        "      <td>   2</td>\n",
        "      <td>         T</td>\n",
        "      <td> 5.00</td>\n",
        "      <td> Ch6CdTR2IVaVANr-RglMOg</td>\n",
        "      <td> user</td>\n",
        "      <td> funny</td>\n",
        "      <td> useful</td>\n",
        "      <td> cool</td>\n",
        "    </tr>\n",
        "    <tr>\n",
        "      <th>4</th>\n",
        "      <td>   1</td>\n",
        "      <td>      Beth</td>\n",
        "      <td> 1.00</td>\n",
        "      <td> NZrLmHRyiHmyT1JrfzkCOA</td>\n",
        "      <td> user</td>\n",
        "      <td> funny</td>\n",
        "      <td> useful</td>\n",
        "      <td> cool</td>\n",
        "    </tr>\n",
        "    <tr>\n",
        "      <th>5</th>\n",
        "      <td>  19</td>\n",
        "      <td>       Amy</td>\n",
        "      <td> 3.79</td>\n",
        "      <td> mWx5Sxt_dx-sYBZg6RgJHQ</td>\n",
        "      <td> user</td>\n",
        "      <td> funny</td>\n",
        "      <td> useful</td>\n",
        "      <td> cool</td>\n",
        "    </tr>\n",
        "    <tr>\n",
        "      <th>6</th>\n",
        "      <td> 207</td>\n",
        "      <td>     Beach</td>\n",
        "      <td> 3.83</td>\n",
        "      <td> hryUDaRk7FLuDAYui2oldw</td>\n",
        "      <td> user</td>\n",
        "      <td> funny</td>\n",
        "      <td> useful</td>\n",
        "      <td> cool</td>\n",
        "    </tr>\n",
        "    <tr>\n",
        "      <th>7</th>\n",
        "      <td>   2</td>\n",
        "      <td> christine</td>\n",
        "      <td> 3.00</td>\n",
        "      <td> 2t6fZNLtiqsihVmeO7zggg</td>\n",
        "      <td> user</td>\n",
        "      <td> funny</td>\n",
        "      <td> useful</td>\n",
        "      <td> cool</td>\n",
        "    </tr>\n",
        "    <tr>\n",
        "      <th>8</th>\n",
        "      <td>   4</td>\n",
        "      <td>     Denis</td>\n",
        "      <td> 4.50</td>\n",
        "      <td> mn6F-eP5WU37b-iLTop2mQ</td>\n",
        "      <td> user</td>\n",
        "      <td> funny</td>\n",
        "      <td> useful</td>\n",
        "      <td> cool</td>\n",
        "    </tr>\n",
        "    <tr>\n",
        "      <th>9</th>\n",
        "      <td>  10</td>\n",
        "      <td>     Shawn</td>\n",
        "      <td> 3.90</td>\n",
        "      <td> myXq7PFXkD_yfXT580SXMw</td>\n",
        "      <td> user</td>\n",
        "      <td> funny</td>\n",
        "      <td> useful</td>\n",
        "      <td> cool</td>\n",
        "    </tr>\n",
        "  </tbody>\n",
        "</table>\n",
        "</div>"
       ],
       "output_type": "pyout",
       "prompt_number": 172,
       "text": [
        "   review_count       name  average_stars                 user_id  type  funny  \\\n",
        "0             6        Jim           5.00  CR2y7yEm4X035ZMzrTtN9Q  user  funny   \n",
        "1             2      Kelle           1.00  _9GXoHhdxc30ujPaQwh6Ew  user  funny   \n",
        "2             2  Stephanie           5.00  8mM-nqxjg6pT04kwcjMbsw  user  funny   \n",
        "3             2          T           5.00  Ch6CdTR2IVaVANr-RglMOg  user  funny   \n",
        "4             1       Beth           1.00  NZrLmHRyiHmyT1JrfzkCOA  user  funny   \n",
        "5            19        Amy           3.79  mWx5Sxt_dx-sYBZg6RgJHQ  user  funny   \n",
        "6           207      Beach           3.83  hryUDaRk7FLuDAYui2oldw  user  funny   \n",
        "7             2  christine           3.00  2t6fZNLtiqsihVmeO7zggg  user  funny   \n",
        "8             4      Denis           4.50  mn6F-eP5WU37b-iLTop2mQ  user  funny   \n",
        "9            10      Shawn           3.90  myXq7PFXkD_yfXT580SXMw  user  funny   \n",
        "\n",
        "   useful  cool  \n",
        "0  useful  cool  \n",
        "1  useful  cool  \n",
        "2  useful  cool  \n",
        "3  useful  cool  \n",
        "4  useful  cool  \n",
        "5  useful  cool  \n",
        "6  useful  cool  \n",
        "7  useful  cool  \n",
        "8  useful  cool  \n",
        "9  useful  cool  "
       ]
      }
     ],
     "prompt_number": 172
    },
    {
     "cell_type": "code",
     "collapsed": false,
     "input": [
      "for col in UserVotes:\n",
      "    Users[col] = pd.Series(UserVotes,index=['funny'])"
     ],
     "language": "python",
     "metadata": {},
     "outputs": [
      {
       "ename": "AssertionError",
       "evalue": "Index length did not match values",
       "output_type": "pyerr",
       "traceback": [
        "\u001b[0;31m---------------------------------------------------------------------------\u001b[0m\n\u001b[0;31mAssertionError\u001b[0m                            Traceback (most recent call last)",
        "\u001b[0;32m<ipython-input-176-a0e147bedb8f>\u001b[0m in \u001b[0;36m<module>\u001b[0;34m()\u001b[0m\n\u001b[1;32m      1\u001b[0m \u001b[0;32mfor\u001b[0m \u001b[0mcol\u001b[0m \u001b[0;32min\u001b[0m \u001b[0mUserVotes\u001b[0m\u001b[0;34m:\u001b[0m\u001b[0;34m\u001b[0m\u001b[0m\n\u001b[0;32m----> 2\u001b[0;31m     \u001b[0mUsers\u001b[0m\u001b[0;34m[\u001b[0m\u001b[0mcol\u001b[0m\u001b[0;34m]\u001b[0m \u001b[0;34m=\u001b[0m \u001b[0mpd\u001b[0m\u001b[0;34m.\u001b[0m\u001b[0mSeries\u001b[0m\u001b[0;34m(\u001b[0m\u001b[0mUserVotes\u001b[0m\u001b[0;34m,\u001b[0m\u001b[0mindex\u001b[0m\u001b[0;34m=\u001b[0m\u001b[0mUserVotes\u001b[0m\u001b[0;34m.\u001b[0m\u001b[0mindex\u001b[0m\u001b[0;34m)\u001b[0m\u001b[0;34m\u001b[0m\u001b[0m\n\u001b[0m",
        "\u001b[0;32m/usr/lib/python2.7/dist-packages/pandas/core/series.pyc\u001b[0m in \u001b[0;36m__new__\u001b[0;34m(cls, data, index, dtype, name, copy)\u001b[0m\n\u001b[1;32m    385\u001b[0m         \u001b[0;32melse\u001b[0m\u001b[0;34m:\u001b[0m\u001b[0;34m\u001b[0m\u001b[0m\n\u001b[1;32m    386\u001b[0m             \u001b[0msubarr\u001b[0m \u001b[0;34m=\u001b[0m \u001b[0msubarr\u001b[0m\u001b[0;34m.\u001b[0m\u001b[0mview\u001b[0m\u001b[0;34m(\u001b[0m\u001b[0mSeries\u001b[0m\u001b[0;34m)\u001b[0m\u001b[0;34m\u001b[0m\u001b[0m\n\u001b[0;32m--> 387\u001b[0;31m         \u001b[0msubarr\u001b[0m\u001b[0;34m.\u001b[0m\u001b[0mindex\u001b[0m \u001b[0;34m=\u001b[0m \u001b[0mindex\u001b[0m\u001b[0;34m\u001b[0m\u001b[0m\n\u001b[0m\u001b[1;32m    388\u001b[0m         \u001b[0msubarr\u001b[0m\u001b[0;34m.\u001b[0m\u001b[0mname\u001b[0m \u001b[0;34m=\u001b[0m \u001b[0mname\u001b[0m\u001b[0;34m\u001b[0m\u001b[0m\n\u001b[1;32m    389\u001b[0m \u001b[0;34m\u001b[0m\u001b[0m\n",
        "\u001b[0;32m/usr/lib/python2.7/dist-packages/pandas/lib.so\u001b[0m in \u001b[0;36mpandas.lib.SeriesIndex.__set__ (pandas/lib.c:27864)\u001b[0;34m()\u001b[0m\n",
        "\u001b[0;31mAssertionError\u001b[0m: Index length did not match values"
       ]
      }
     ],
     "prompt_number": 176
    },
    {
     "cell_type": "code",
     "collapsed": false,
     "input": [],
     "language": "python",
     "metadata": {},
     "outputs": []
    }
   ],
   "metadata": {}
  }
 ]
}